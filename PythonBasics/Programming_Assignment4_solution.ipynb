{
  "nbformat": 4,
  "nbformat_minor": 0,
  "metadata": {
    "colab": {
      "provenance": [],
      "collapsed_sections": []
    },
    "kernelspec": {
      "name": "python3",
      "display_name": "Python 3"
    },
    "language_info": {
      "name": "python"
    }
  },
  "cells": [
    {
      "cell_type": "markdown",
      "source": [
        "### 1. Write a Python Program to Find the Factorial of a Number?\n"
      ],
      "metadata": {
        "id": "kLNdX8gt0CPr"
      }
    },
    {
      "cell_type": "code",
      "source": [
        "## Program to find the Factorial of a number\n",
        "\n",
        "def find_factorial(num):\n",
        "  if num <= 1:\n",
        "    return 1\n",
        "  return num * find_factorial(num - 1)\n",
        "\n",
        "print(\"Program to Print Factorial of Number\")\n",
        "print('----------------------------------')  \n",
        "\n",
        "user_num = int(input(\"Enter a number: \"))\n",
        "\n",
        "num_fact = find_factorial(user_num)\n",
        "\n",
        "print(f\"Factorial of {user_num} is {num_fact}\")"
      ],
      "metadata": {
        "colab": {
          "base_uri": "https://localhost:8080/"
        },
        "id": "7ojKoHN70Qss",
        "outputId": "ecab6ad8-62a9-45d4-b827-2d63319c4159"
      },
      "execution_count": 33,
      "outputs": [
        {
          "output_type": "stream",
          "name": "stdout",
          "text": [
            "Program to Print Factorial of Number\n",
            "----------------------------------\n",
            "Enter a number: 5\n",
            "Factorial of 5 is 120\n"
          ]
        }
      ]
    },
    {
      "cell_type": "markdown",
      "source": [
        "### 2. Write a Python Program to Display the multiplication Table?\n"
      ],
      "metadata": {
        "id": "sWHlJreY0C70"
      }
    },
    {
      "cell_type": "code",
      "source": [
        "## Program to dispplay multiplication Table\n",
        "\n",
        "def show_table(num):\n",
        "  for i in range(1,11):\n",
        "    print(f\"{num} X {i} = {num * i}\")\n",
        "\n",
        "print(\"Program to Print Table of a Number\")\n",
        "print('----------------------------------')  \n",
        "\n",
        "user_num = int(input(\"Enter a number: \"))\n",
        "show_table(user_num)"
      ],
      "metadata": {
        "colab": {
          "base_uri": "https://localhost:8080/"
        },
        "id": "Ed5NT9kgJ1mV",
        "outputId": "7d034eb1-c751-4765-a38f-9caf23b710e4"
      },
      "execution_count": 34,
      "outputs": [
        {
          "output_type": "stream",
          "name": "stdout",
          "text": [
            "Program to Print Table of a Number\n",
            "----------------------------------\n",
            "Enter a number: 5\n",
            "5 X 1 = 5\n",
            "5 X 2 = 10\n",
            "5 X 3 = 15\n",
            "5 X 4 = 20\n",
            "5 X 5 = 25\n",
            "5 X 6 = 30\n",
            "5 X 7 = 35\n",
            "5 X 8 = 40\n",
            "5 X 9 = 45\n",
            "5 X 10 = 50\n"
          ]
        }
      ]
    },
    {
      "cell_type": "markdown",
      "source": [
        "### 3. Write a Python Program to Print the Fibonacci sequence?\n"
      ],
      "metadata": {
        "id": "rHM9djFk0C-l"
      }
    },
    {
      "cell_type": "code",
      "source": [
        "## Program to print Fibonacci sequence\n",
        "def fibo(num):\n",
        "  x = -1\n",
        "  y = 1\n",
        "  s = 0\n",
        "  for i in range(0, num):\n",
        "    \n",
        "    s = x + y\n",
        "    print(s, end = \" \")\n",
        "    x = y\n",
        "    y = s\n",
        "\n",
        "print(\"Program to Print Fibonacci Numbers\")\n",
        "print('----------------------------------')    \n",
        "user_num = int(input(\"Enter a number: \"))\n",
        "\n",
        "print(f\"First {user_num} Fibonacci numbers are :\")\n",
        "fibo(user_num)\n"
      ],
      "metadata": {
        "colab": {
          "base_uri": "https://localhost:8080/"
        },
        "id": "MvK5tHkBKrvn",
        "outputId": "4930cae2-ac10-4a76-c2b3-07ee214cc15d"
      },
      "execution_count": 32,
      "outputs": [
        {
          "output_type": "stream",
          "name": "stdout",
          "text": [
            "Program to Print Fibonacci Numbers\n",
            "----------------------------------\n",
            "Enter a number: 10\n",
            "First 10 Fibonacci numbers are :\n",
            "0 1 1 2 3 5 8 13 21 34 "
          ]
        }
      ]
    },
    {
      "cell_type": "markdown",
      "source": [
        "### 4. Write a Python Program to Check Armstrong Number?\n"
      ],
      "metadata": {
        "id": "qwgqhKFI0DBb"
      }
    },
    {
      "cell_type": "code",
      "source": [
        "## Program to check Armstrong Number\n",
        "\n",
        "def check_armstrong(num):\n",
        "  \n",
        "  num_of_digits = len(str(num))  \n",
        "  print(f\"Number of digits in {num} are {num_of_digits}\")\n",
        "  s = 0\n",
        "  temp_num = num\n",
        "\n",
        "  for i in range(num_of_digits):\n",
        "    dig = temp_num % 10\n",
        "    s = s + dig ** num_of_digits\n",
        "    temp_num = int(temp_num / 10)  \n",
        "\n",
        "  print(f\"Sum of digits of {num} raised to the power {num_of_digits}: {s}\")\n",
        "  if s == num:\n",
        "    print(\"It is an Armstrong Number.\")\n",
        "  else:\n",
        "    print(\"It is not an Armstrong Number.\") \n",
        "\n",
        "print(\"Program to Check Armstrong Number\")\n",
        "print('----------------------------------')  \n",
        "\n",
        "user_num = int(input(\"Enter a number: \"))\n",
        "check_armstrong(user_num)"
      ],
      "metadata": {
        "colab": {
          "base_uri": "https://localhost:8080/"
        },
        "id": "3ec9tfKPbjiS",
        "outputId": "78aa4dd6-2dd4-4e5a-89d8-eb4a37ae6af3"
      },
      "execution_count": 50,
      "outputs": [
        {
          "output_type": "stream",
          "name": "stdout",
          "text": [
            "Program to Check Armstrong Number\n",
            "----------------------------------\n",
            "Enter a number: 1634\n",
            "Number of digits in 1634 are 4\n",
            "Sum of digits of 1634 raised to the power 4: 1634\n",
            "It is an Armstrong Number.\n"
          ]
        }
      ]
    },
    {
      "cell_type": "markdown",
      "source": [
        "### 5. Write a Python Program to Find Armstrong Number in an Interval?\n"
      ],
      "metadata": {
        "id": "9k5ufRrr0DEE"
      }
    },
    {
      "cell_type": "code",
      "source": [
        "## Program to find Armstrong number in an interval\n",
        "\n",
        "def check_armstrong(start_num, end_num):\n",
        "  \n",
        "  for num in range(start_num, end_num):\n",
        "\n",
        "    num_of_digits = len(str(num))  \n",
        "    s = 0\n",
        "    temp_num = num\n",
        "\n",
        "    for i in range(num_of_digits):\n",
        "      dig = temp_num % 10\n",
        "      s = s + dig ** num_of_digits\n",
        "      temp_num = int(temp_num / 10)  \n",
        "\n",
        "    if s == num:\n",
        "      print(num, end = \" \")\n",
        "    \n",
        "print(\"Program to find Armstrong number in an interval\")\n",
        "print('----------------------------------')  \n",
        "\n",
        "s_num = int(input(\"Enter start number: \"))\n",
        "e_num = int(input(\"Enter end number: \"))\n",
        "\n",
        "check_armstrong(s_num, e_num)"
      ],
      "metadata": {
        "colab": {
          "base_uri": "https://localhost:8080/"
        },
        "id": "ffbqTKuGl3qS",
        "outputId": "257c7858-eabe-4237-8b34-4f372031b128"
      },
      "execution_count": 66,
      "outputs": [
        {
          "output_type": "stream",
          "name": "stdout",
          "text": [
            "Program to find Armstrong number in an interval\n",
            "----------------------------------\n",
            "Enter start number: 1\n",
            "Enter end number: 500\n",
            "1 2 3 4 5 6 7 8 9 153 370 371 407 "
          ]
        }
      ]
    },
    {
      "cell_type": "markdown",
      "source": [
        "### 6. Write a Python Program to Find the Sum of Natural Numbers?"
      ],
      "metadata": {
        "id": "VTzyxl550Osv"
      }
    },
    {
      "cell_type": "code",
      "execution_count": 64,
      "metadata": {
        "colab": {
          "base_uri": "https://localhost:8080/"
        },
        "id": "YNREvwG5yyh1",
        "outputId": "ba95fdd3-01fd-4a00-ed44-4e648376b59a"
      },
      "outputs": [
        {
          "output_type": "stream",
          "name": "stdout",
          "text": [
            "Program to find Sum of Natural Numbers\n",
            "----------------------------------\n",
            "Enter a number: 7\n",
            "Sum of all Natural numbers till 7: 28\n"
          ]
        }
      ],
      "source": [
        "## Program to find sum of natural numbers\n",
        "\n",
        "def sum_of_nn(num):\n",
        "  if num < 1:\n",
        "    print(\"Not a Natural Number.\")\n",
        "  else:  \n",
        "    s = 0\n",
        "    for i in range(1,num + 1):\n",
        "      s = s + i\n",
        "    print(f\"Sum of all Natural numbers till {num}: {s}\")  \n",
        "  \n",
        "print(\"Program to find Sum of Natural Numbers\")\n",
        "print('----------------------------------')  \n",
        "\n",
        "user_num = int(input(\"Enter a number: \"))\n",
        "sum_of_nn(user_num)\n",
        "\n"
      ]
    },
    {
      "cell_type": "code",
      "source": [],
      "metadata": {
        "id": "Z7pT7vIflnym"
      },
      "execution_count": null,
      "outputs": []
    }
  ]
}