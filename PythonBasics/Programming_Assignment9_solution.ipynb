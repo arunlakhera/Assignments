{
  "nbformat": 4,
  "nbformat_minor": 0,
  "metadata": {
    "colab": {
      "provenance": [],
      "collapsed_sections": []
    },
    "kernelspec": {
      "name": "python3",
      "display_name": "Python 3"
    },
    "language_info": {
      "name": "python"
    }
  },
  "cells": [
    {
      "cell_type": "markdown",
      "source": [
        "### 1. Write a Python program to check if the given number is a Disarium Number?\n"
      ],
      "metadata": {
        "id": "FxnQ-vw0YDvo"
      }
    },
    {
      "cell_type": "code",
      "source": [
        "## Program to check if the given number is Disarium Number\n",
        "def check_disarium(user_num):\n",
        "  num = user_num\n",
        "  if num < 10:\n",
        "    return True\n",
        "  # to find the number of digits\n",
        "  N = len(str(num))\n",
        "  sum_of_digits = 0\n",
        "\n",
        "  while num:\n",
        "    digit = num % 10\n",
        "    sum_of_digits = sum_of_digits + digit**N \n",
        "    N = N - 1\n",
        "    num = int(num / 10)\n",
        "\n",
        "  if sum_of_digits == user_num:\n",
        "    return True\n",
        "  else:\n",
        "    return False \n",
        "\n",
        "print(\"Program to check if the given number is Disarium Number\")\n",
        "print(\"-------------------------------------------------------\")\n",
        "\n",
        "user_num = int(input(\"Enter a number: \"))\n",
        "\n",
        "print(f\"{user_num} is a Disarium Numbers: {check_disarium(user_num)}\")\n"
      ],
      "metadata": {
        "colab": {
          "base_uri": "https://localhost:8080/"
        },
        "id": "8979AVUeYUhW",
        "outputId": "c6e37e85-d423-4445-9df7-68031f3fa6d0"
      },
      "execution_count": 19,
      "outputs": [
        {
          "output_type": "stream",
          "name": "stdout",
          "text": [
            "Program to check if the given number is Disarium Number\n",
            "-------------------------------------------------------\n",
            "Enter a number: 175\n",
            "175 is a Disarium Numbers: True\n"
          ]
        }
      ]
    },
    {
      "cell_type": "markdown",
      "source": [
        "### 2. Write a Python program to print all disarium numbers between 1 to 100?\n"
      ],
      "metadata": {
        "id": "24__XF-xYEHR"
      }
    },
    {
      "cell_type": "code",
      "source": [
        "## Program to print all disarium numbers between 1 to 100\n",
        "def show_disarium(u_num):\n",
        "  num = u_num\n",
        "  if num < 10:\n",
        "    print(u_num, end = \" \")\n",
        "  else:\n",
        "      \n",
        "    # to find the number of digits\n",
        "    N = len(str(num))\n",
        "    sum_of_digits = 0\n",
        "\n",
        "    while num:\n",
        "      digit = num % 10\n",
        "      sum_of_digits = sum_of_digits + digit**N \n",
        "      N = N - 1\n",
        "      num = int(num / 10)\n",
        "\n",
        "    if sum_of_digits == u_num:\n",
        "      print(u_num, end = \" \")\n",
        "  \n",
        "\n",
        "print(\"Program to print all disarium numbers between 1 to 100\")\n",
        "print(\"-------------------------------------------------------\")\n",
        "\n",
        "for n in range(1, 101):\n",
        "  show_disarium(n)"
      ],
      "metadata": {
        "colab": {
          "base_uri": "https://localhost:8080/"
        },
        "id": "WOVjH9XoeHPk",
        "outputId": "635da69f-58b6-4ded-9fbc-f9f2b3e05ae7"
      },
      "execution_count": 1,
      "outputs": [
        {
          "output_type": "stream",
          "name": "stdout",
          "text": [
            "Program to print all disarium numbers between 1 to 100\n",
            "-------------------------------------------------------\n",
            "1 2 3 4 5 6 7 8 9 89 "
          ]
        }
      ]
    },
    {
      "cell_type": "markdown",
      "source": [
        "### 3. Write a Python program to check if the given number is Happy Number?\n"
      ],
      "metadata": {
        "id": "is6AjR1ZYEML"
      }
    },
    {
      "cell_type": "code",
      "source": [
        "## Program to check if given number is happy number\n",
        "def sum_of_squares(x):\n",
        "  sum_of_sq = 0\n",
        "  while x:\n",
        "    digit = x % 10\n",
        "    sum_of_sq += digit**2\n",
        "    x = x // 10\n",
        "  return sum_of_sq\n",
        "\n",
        "def check_happy(num):\n",
        "  set_of_sq = set()\n",
        "  \n",
        "  while num:\n",
        "    \n",
        "    if num == 1:\n",
        "      return True\n",
        "\n",
        "    # if number already added to set of squares then cycle completed, break the loop\n",
        "    if num in set_of_sq:\n",
        "      return False\n",
        "    else:\n",
        "      set_of_sq.add(num)\n",
        "      num = sum_of_squares(num)\n",
        "      \n",
        "  return False\n",
        "  \n",
        "\n",
        "print(\"Program to check if given number is happy number\")\n",
        "print(\"-------------------------------------------------------\")\n",
        "\n",
        "user_num = int(input(\"Enter a number: \"))\n",
        "\n",
        "print(f\"\\nIs {user_num} a happy number..... {check_happy(user_num)} \")"
      ],
      "metadata": {
        "colab": {
          "base_uri": "https://localhost:8080/"
        },
        "id": "CWY_xqv9haRn",
        "outputId": "f6c9ab8e-10df-4736-9767-77d0f8d1a1f2"
      },
      "execution_count": 57,
      "outputs": [
        {
          "output_type": "stream",
          "name": "stdout",
          "text": [
            "Program to check if given number is happy number\n",
            "-------------------------------------------------------\n",
            "Enter a number: 23\n",
            "\n",
            "Is 23 a happy number..... True \n"
          ]
        }
      ]
    },
    {
      "cell_type": "markdown",
      "source": [
        "### 4. Write a Python program to print all happy numbers between 1 and 100?\n"
      ],
      "metadata": {
        "id": "75ED98cDYEPk"
      }
    },
    {
      "cell_type": "code",
      "source": [
        "## Program to print all happy numbers between 1 and 100\n",
        "def sum_of_squares(x):\n",
        "  sum_of_sq = 0\n",
        "  while x:\n",
        "    digit = x % 10\n",
        "    sum_of_sq += digit**2\n",
        "    x = x // 10\n",
        "  return sum_of_sq\n",
        "\n",
        "def check_happy(num):\n",
        "  set_of_sq = set()\n",
        "  \n",
        "  while num:\n",
        "    \n",
        "    if num == 1:\n",
        "      return True\n",
        "      \n",
        "    # if number already added to set of squares then cycle completed, break the loop\n",
        "    if num in set_of_sq:\n",
        "      return False\n",
        "    else:\n",
        "      set_of_sq.add(num)\n",
        "      num = sum_of_squares(num)\n",
        "      \n",
        "  return False\n",
        "  \n",
        "\n",
        "print(\"Program to print all happy numbers between 1 to 100\")\n",
        "print(\"---------------------------------------------------\")\n",
        "\n",
        "for i in range(1, 101):\n",
        "  if check_happy(i):\n",
        "    print(i, end = \" \")\n"
      ],
      "metadata": {
        "colab": {
          "base_uri": "https://localhost:8080/"
        },
        "id": "DXOKDyjUkETE",
        "outputId": "d1b4efef-b264-4fd0-9ce9-d1e1b619c512"
      },
      "execution_count": 56,
      "outputs": [
        {
          "output_type": "stream",
          "name": "stdout",
          "text": [
            "Program to print all happy numbers between 1 to 100\n",
            "---------------------------------------------------\n",
            "1 7 10 13 19 23 28 31 32 44 49 68 70 79 82 86 91 94 97 100 "
          ]
        }
      ]
    },
    {
      "cell_type": "markdown",
      "source": [
        "### 5. Write a Python program to determine whether the given number is a Harshad Number?\n"
      ],
      "metadata": {
        "id": "7oJj87ZxYETH"
      }
    },
    {
      "cell_type": "code",
      "source": [
        "## Program to determine whether the given number is a Harshad Number\n",
        "\n",
        "def sum_of_digits(n):\n",
        "  s = 0\n",
        "\n",
        "  while n:\n",
        "    digit = n % 10\n",
        "    s += digit  \n",
        "    n = n // 10\n",
        "  return s\n",
        "\n",
        "def check_harshad(num):\n",
        "  \n",
        "  s = sum_of_digits(num)\n",
        "\n",
        "  if num % s == 0:\n",
        "    return True\n",
        "\n",
        "  return False\n",
        "\n",
        "print(\"Program to determine whether the given number is a Harshad Number\")\n",
        "print(\"-----------------------------------------------------------------\")\n",
        "\n",
        "user_num = int(input(\"Enter a number: \"))\n",
        "\n",
        "print(f\"Is {user_num} is a Harshad Number..... {check_harshad(user_num)}\")"
      ],
      "metadata": {
        "colab": {
          "base_uri": "https://localhost:8080/"
        },
        "id": "QNipglBqlPAi",
        "outputId": "7c1a82e2-535a-4a9c-abc3-4ce26b017abb"
      },
      "execution_count": 68,
      "outputs": [
        {
          "output_type": "stream",
          "name": "stdout",
          "text": [
            "Program to determine whether the given number is a Harshad Number\n",
            "-----------------------------------------------------------------\n",
            "Enter a number: 120\n",
            "Is 120 is a Harshad Number..... True\n"
          ]
        }
      ]
    },
    {
      "cell_type": "markdown",
      "source": [
        "### 6. Write a Python program to print all pronic numbers between 1 and 100?\n"
      ],
      "metadata": {
        "id": "EGjPHXJcYEWl"
      }
    },
    {
      "cell_type": "code",
      "execution_count": 69,
      "metadata": {
        "colab": {
          "base_uri": "https://localhost:8080/"
        },
        "id": "5MquEIn7X8Ne",
        "outputId": "b403b7f1-96b4-450e-a62f-a94b65afbfa4"
      },
      "outputs": [
        {
          "output_type": "stream",
          "name": "stdout",
          "text": [
            "Program to print all pronic numbers between 1 and 100\n",
            "-----------------------------------------------------\n",
            "2 * 3 = 6\n",
            "3 * 4 = 12\n",
            "4 * 5 = 20\n",
            "5 * 6 = 30\n",
            "6 * 7 = 42\n",
            "7 * 8 = 56\n",
            "8 * 9 = 72\n",
            "9 * 10 = 90\n"
          ]
        }
      ],
      "source": [
        "## Program to print all pronic numbers between 1 and 100\n",
        "\n",
        "def check_pronic(num):\n",
        "  for n in range(1, num // 2):\n",
        "    if num == (n * (n+1)):\n",
        "      print(f\"{n} * {n+1} = {num}\")\n",
        "  \n",
        "print(\"Program to print all pronic numbers between 1 and 100\")\n",
        "print(\"-----------------------------------------------------\")\n",
        "\n",
        "for i in range(1, 101):\n",
        "  check_pronic(i)\n",
        "\n"
      ]
    },
    {
      "cell_type": "code",
      "source": [],
      "metadata": {
        "id": "935kQs0PWn17"
      },
      "execution_count": null,
      "outputs": []
    }
  ]
}