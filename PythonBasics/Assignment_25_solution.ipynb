{
 "cells": [
  {
   "cell_type": "markdown",
   "id": "cd04a004",
   "metadata": {},
   "source": [
    "## 1) . What is the difference between enclosing a list comprehension in square brackets and parentheses?\n"
   ]
  },
  {
   "cell_type": "markdown",
   "id": "9043e606",
   "metadata": {},
   "source": [
    "In Python, enclosing a list comprehension in square brackets [] creates a list object, while enclosing it in parentheses () creates a generator object."
   ]
  },
  {
   "cell_type": "markdown",
   "id": "c4ca99e1",
   "metadata": {},
   "source": [
    "## 2) What is the relationship between generators and iterators?\n"
   ]
  },
  {
   "cell_type": "markdown",
   "id": "101fc33b",
   "metadata": {},
   "source": [
    "The generators and iterators are closely related concepts. A generator is a special type of iterator that generates values on-the-fly using a function or expression, while an iterator is an object that can be iterated over to produce a sequence of values.\n"
   ]
  },
  {
   "cell_type": "markdown",
   "id": "d5b19939",
   "metadata": {},
   "source": [
    "## 3) What are the signs that a function is a generator function?\n"
   ]
  },
  {
   "cell_type": "markdown",
   "id": "25cdee18",
   "metadata": {},
   "source": [
    "A  function is a generator function if it contains the yield keyword. The yield keyword is used to produce a sequence of values on-the-fly, and is a key feature that distinguishes generator functions from regular functions."
   ]
  },
  {
   "cell_type": "code",
   "execution_count": 6,
   "id": "b97774ee",
   "metadata": {},
   "outputs": [],
   "source": [
    "def square_gen(limit):\n",
    "    for i in range(limit):\n",
    "        yield i**2"
   ]
  },
  {
   "cell_type": "markdown",
   "id": "3f324f47",
   "metadata": {},
   "source": [
    "## 4) What is the purpose of a yield statement?\n"
   ]
  },
  {
   "cell_type": "markdown",
   "id": "38169b81",
   "metadata": {},
   "source": [
    "The yield statement is used in generator functions to produce a sequence of values on-the-fly, rather than generating all values at once. The yield statement suspends the execution of the generator function and returns a value to the caller. When the generator function is called again, it resumes execution from where it left off, and continues producing values."
   ]
  },
  {
   "cell_type": "markdown",
   "id": "d77ecdeb",
   "metadata": {},
   "source": [
    "## 5) What is the relationship between map calls and list comprehensions? Make a comparison and contrast between the two.\n"
   ]
  },
  {
   "cell_type": "markdown",
   "id": "4cb0074d",
   "metadata": {},
   "source": [
    "map() calls and list comprehensions are both used to apply a transformation to each element of an iterable and produce a new iterable as a result. List comprehensions are generally more concise and readable, while map() calls can be faster in some cases. The choice between the two approaches depends on the specific requirements and constraints of the problem at hand."
   ]
  },
  {
   "cell_type": "code",
   "execution_count": null,
   "id": "bf6eee74",
   "metadata": {},
   "outputs": [],
   "source": []
  }
 ],
 "metadata": {
  "kernelspec": {
   "display_name": "Python 3 (ipykernel)",
   "language": "python",
   "name": "python3"
  },
  "language_info": {
   "codemirror_mode": {
    "name": "ipython",
    "version": 3
   },
   "file_extension": ".py",
   "mimetype": "text/x-python",
   "name": "python",
   "nbconvert_exporter": "python",
   "pygments_lexer": "ipython3",
   "version": "3.10.9"
  }
 },
 "nbformat": 4,
 "nbformat_minor": 5
}
