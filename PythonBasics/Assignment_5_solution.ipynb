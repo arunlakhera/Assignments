{
  "nbformat": 4,
  "nbformat_minor": 0,
  "metadata": {
    "colab": {
      "provenance": []
    },
    "kernelspec": {
      "name": "python3",
      "display_name": "Python 3"
    },
    "language_info": {
      "name": "python"
    }
  },
  "cells": [
    {
      "cell_type": "markdown",
      "source": [
        "## 1. What does an empty dictionary's code look like?\n",
        "\n",
        "Sol: Empty dictionary can be declared by either two curly brackets {} or by using dict()\n"
      ],
      "metadata": {
        "id": "BTM44-gCsqO0"
      }
    },
    {
      "cell_type": "code",
      "source": [
        "## Solution\n",
        "new_dict1 = {}\n",
        "new_dict2 = dict()\n",
        "\n",
        "if new_dict1:\n",
        "  print(\"new_dict1 is not empty\")\n",
        "else:\n",
        "  print(\"new_dict1 is empty\")\n",
        "\n",
        "if new_dict2:\n",
        "  print(\"new_dict2 is not empty\")\n",
        "else:\n",
        "  print(\"new_dict2 is empty\")"
      ],
      "metadata": {
        "colab": {
          "base_uri": "https://localhost:8080/"
        },
        "id": "TgAjXzGSsqz4",
        "outputId": "1e4f38b4-ea73-484d-b496-e00707db5c09"
      },
      "execution_count": 2,
      "outputs": [
        {
          "output_type": "stream",
          "name": "stdout",
          "text": [
            "new_dict1 is empty\n",
            "new_dict2 is empty\n"
          ]
        }
      ]
    },
    {
      "cell_type": "markdown",
      "source": [
        "## 2. What is the value of a dictionary value with the key 'foo' and the value 42?"
      ],
      "metadata": {
        "id": "s6w66wSouPuV"
      }
    },
    {
      "cell_type": "code",
      "source": [
        "new_dict = {'foo':42}\n",
        "\n",
        "print(f\"The dictionary: {new_dict}\")"
      ],
      "metadata": {
        "colab": {
          "base_uri": "https://localhost:8080/"
        },
        "id": "Z-k-6eDQuB-h",
        "outputId": "16900c75-5f8f-414f-e22c-98f859d608b2"
      },
      "execution_count": 17,
      "outputs": [
        {
          "output_type": "stream",
          "name": "stdout",
          "text": [
            "The dictionary: {'foo': 42}\n"
          ]
        }
      ]
    },
    {
      "cell_type": "markdown",
      "source": [
        "## 3. What is the most significant distinction between a dictionary and a list?\n",
        "\n",
        "Sol: In Dictionary items are stored as key,value pairs in an unordered way whereas in lists items are stored in an order. "
      ],
      "metadata": {
        "id": "JXEEwkUcuQmd"
      }
    },
    {
      "cell_type": "markdown",
      "source": [
        "## 4. What happens if you try to access spam['foo'] if spam is {'bar': 100}?\n",
        "\n",
        "Sol: We will get a key error"
      ],
      "metadata": {
        "id": "DnYVfWU2wk_T"
      }
    },
    {
      "cell_type": "code",
      "source": [
        "## Solution\n",
        "\n",
        "spam = {'bar': 100}\n",
        "\n",
        "spam['foo']"
      ],
      "metadata": {
        "colab": {
          "base_uri": "https://localhost:8080/",
          "height": 201
        },
        "id": "NdGJFL21uQvl",
        "outputId": "02990fb5-0733-4c67-ecb5-26a5bf991408"
      },
      "execution_count": 19,
      "outputs": [
        {
          "output_type": "error",
          "ename": "KeyError",
          "evalue": "ignored",
          "traceback": [
            "\u001b[0;31m---------------------------------------------------------------------------\u001b[0m",
            "\u001b[0;31mKeyError\u001b[0m                                  Traceback (most recent call last)",
            "\u001b[0;32m<ipython-input-19-d799cc599e21>\u001b[0m in \u001b[0;36m<module>\u001b[0;34m\u001b[0m\n\u001b[1;32m      2\u001b[0m \u001b[0mspam\u001b[0m \u001b[0;34m=\u001b[0m \u001b[0;34m{\u001b[0m\u001b[0;34m'bar'\u001b[0m\u001b[0;34m:\u001b[0m \u001b[0;36m100\u001b[0m\u001b[0;34m}\u001b[0m\u001b[0;34m\u001b[0m\u001b[0;34m\u001b[0m\u001b[0m\n\u001b[1;32m      3\u001b[0m \u001b[0;34m\u001b[0m\u001b[0m\n\u001b[0;32m----> 4\u001b[0;31m \u001b[0mspam\u001b[0m\u001b[0;34m[\u001b[0m\u001b[0;34m'foo'\u001b[0m\u001b[0;34m]\u001b[0m\u001b[0;34m\u001b[0m\u001b[0;34m\u001b[0m\u001b[0m\n\u001b[0m",
            "\u001b[0;31mKeyError\u001b[0m: 'foo'"
          ]
        }
      ]
    },
    {
      "cell_type": "markdown",
      "source": [
        "## 5. If a dictionary is stored in spam, what is the difference between the expressions 'cat' in spam and 'cat' in spam.keys()?\n",
        "\n",
        "Sol: They both are same"
      ],
      "metadata": {
        "id": "EvgkhpB4uQ4K"
      }
    },
    {
      "cell_type": "code",
      "source": [
        "## Solution\n",
        "\n",
        "spam = {'cat': 100}\n",
        "\n",
        "print(f\"'cat' in spam : {'cat' in spam}\")\n",
        "print(f\"'cat' in spam.keys() : {'cat' in spam.keys()}\")"
      ],
      "metadata": {
        "colab": {
          "base_uri": "https://localhost:8080/"
        },
        "id": "-ibI_R7vuRAe",
        "outputId": "3031b78a-f591-46c3-ab12-ed5008037c2c"
      },
      "execution_count": 21,
      "outputs": [
        {
          "output_type": "stream",
          "name": "stdout",
          "text": [
            "'cat' in spam : True\n",
            "'cat' in spam.keys() : True\n"
          ]
        }
      ]
    },
    {
      "cell_type": "markdown",
      "source": [
        "## 6. If a dictionary is stored in spam, what is the difference between the expressions 'cat' in spam and 'cat' in spam.values()?\n",
        "\n",
        "Sol: 'cat' in spam checks if there is a 'cat' key in the dictionary whereas 'cat' in spam.values() checks if any value 'cat' exists for any of the keys in the dictionary. "
      ],
      "metadata": {
        "id": "8mdBMDY_uRH5"
      }
    },
    {
      "cell_type": "code",
      "source": [
        "## Solution\n",
        "\n",
        "spam = {'cat': 100}\n",
        "\n",
        "print(f\"'cat' in spam : {'cat' in spam}\")\n",
        "print(f\"'cat' in spam.values() : {'cat' in spam.values()}\")"
      ],
      "metadata": {
        "colab": {
          "base_uri": "https://localhost:8080/"
        },
        "id": "gDxz65gquRQg",
        "outputId": "15a4658e-2433-42ba-a7ad-d329be4ca1dc"
      },
      "execution_count": 22,
      "outputs": [
        {
          "output_type": "stream",
          "name": "stdout",
          "text": [
            "'cat' in spam : True\n",
            "'cat' in spam.values() : False\n"
          ]
        }
      ]
    },
    {
      "cell_type": "markdown",
      "source": [
        "## 7. What is a shortcut for the following code?\n",
        "\n",
        "```\n",
        "if 'color' not in spam:\n",
        "  spam['color&'] = 'black'\n",
        "```\n",
        "\n",
        "Sol: It can be written by using setdefault() function\n",
        "spam.setdefault('color':'black')\n"
      ],
      "metadata": {
        "id": "UyF6B0LquRYn"
      }
    },
    {
      "cell_type": "markdown",
      "source": [
        "## 8. How do you &quot;pretty print&quot; dictionary values using which module and function?\n",
        "\n",
        "Sol: pprint.pprint()"
      ],
      "metadata": {
        "id": "_DNTtX5luRxS"
      }
    },
    {
      "cell_type": "code",
      "source": [],
      "metadata": {
        "id": "KB0aOB_guR6R"
      },
      "execution_count": null,
      "outputs": []
    }
  ]
}