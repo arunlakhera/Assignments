{
 "cells": [
  {
   "cell_type": "markdown",
   "id": "8a77f58b",
   "metadata": {},
   "source": [
    "## 1.How many seconds are in an hour? Use the interactive interpreter as a calculator and multiply the number of seconds in a minute (60) by the number of minutes in an hour (also 60).\n",
    "\n"
   ]
  },
  {
   "cell_type": "markdown",
   "id": "ae3d7514",
   "metadata": {},
   "source": [
    "There are 3600 seconds in an hour. To calculate this using the interactive interpreter as a calculator, you can multiply the number of seconds in a minute (60) by the number of minutes in an hour (also 60) as follows:\n",
    "\n",
    "### >>> 60 * 60\n",
    "\n",
    "### 3600"
   ]
  },
  {
   "cell_type": "markdown",
   "id": "477a63f3",
   "metadata": {},
   "source": [
    "## 2. Assign the result from the previous task (seconds in an hour) to a variable called seconds_per_hour."
   ]
  },
  {
   "cell_type": "markdown",
   "id": "f8a76134",
   "metadata": {},
   "source": [
    "seconds_per_hour = 60 * 60"
   ]
  },
  {
   "cell_type": "markdown",
   "id": "d915181d",
   "metadata": {},
   "source": [
    "## 3. How many seconds do you think there are in a day? Make use of the variables seconds per hour and minutes per hour."
   ]
  },
  {
   "cell_type": "markdown",
   "id": "d5496a15",
   "metadata": {},
   "source": [
    "seconds_per_hour = 60 * 60\n",
    "\n",
    "minutes_per_hour = 60\n",
    "\n",
    "24 * minutes_per_hour * seconds_per_hour"
   ]
  },
  {
   "cell_type": "markdown",
   "id": "1888cc7e",
   "metadata": {},
   "source": [
    "## 4. Calculate seconds per day again, but this time save the result in a variable called seconds_per_day"
   ]
  },
  {
   "cell_type": "markdown",
   "id": "20737d59",
   "metadata": {},
   "source": [
    "seconds_per_hour = 60 * 60\n",
    "\n",
    "minutes_per_hour = 60\n",
    "\n",
    "seconds_per_day = 24 * minutes_per_hour * seconds_per_hour"
   ]
  },
  {
   "cell_type": "markdown",
   "id": "e4d18ebe",
   "metadata": {},
   "source": [
    "## 5. Divide seconds_per_day by seconds_per_hour. Use floating-point (/) division."
   ]
  },
  {
   "cell_type": "markdown",
   "id": "eb6531ee",
   "metadata": {},
   "source": [
    "seconds_per_hour = 60 * 60\n",
    "\n",
    "minutes_per_hour = 60\n",
    "\n",
    "seconds_per_day = 24 * minutes_per_hour * seconds_per_hour\n",
    "\n",
    "\n",
    "seconds_per_day / seconds_per_hour"
   ]
  },
  {
   "cell_type": "markdown",
   "id": "1b530118",
   "metadata": {},
   "source": [
    "## 6. Divide seconds_per_day by seconds_per_hour, using integer (//) division. Did this number agree with the floating-point value from the previous question, aside from the final .0?"
   ]
  },
  {
   "cell_type": "markdown",
   "id": "432677a8",
   "metadata": {},
   "source": [
    "seconds_per_hour = 60 * 60\n",
    "\n",
    "minutes_per_hour = 60\n",
    "\n",
    "seconds_per_day = 24 * minutes_per_hour * seconds_per_hour\n",
    "\n",
    "seconds_per_day // seconds_per_hour\n",
    "\n",
    "Yes it agrees as result is same aside the decimal .0"
   ]
  },
  {
   "cell_type": "markdown",
   "id": "13cf5129",
   "metadata": {},
   "source": [
    "## 7. Write a generator, genPrimes, that returns the sequence of prime numbers on successive calls to its next() method: 2, 3, 5, 7, 11, ..."
   ]
  },
  {
   "cell_type": "code",
   "execution_count": 22,
   "id": "015cbac4",
   "metadata": {},
   "outputs": [],
   "source": [
    "def genPrimes():\n",
    "    \"\"\"\n",
    "    Generator that yields the sequence of prime numbers on successive calls to its next() method.\n",
    "    \"\"\"\n",
    "    # Initialize the first prime number\n",
    "    prime = 2\n",
    "    \n",
    "    while True:\n",
    "        # Check if the current number is prime\n",
    "        is_prime = True\n",
    "        for i in range(2, int(prime**(0.5))+1):\n",
    "            if prime % i == 0:\n",
    "                is_prime = False\n",
    "                break\n",
    "        if is_prime:\n",
    "            # If the current number is prime, yield it\n",
    "            yield prime\n",
    "        # Move on to the next number\n",
    "        prime += 1"
   ]
  },
  {
   "cell_type": "code",
   "execution_count": 23,
   "id": "66faa881",
   "metadata": {},
   "outputs": [],
   "source": [
    "g=genPrimes()"
   ]
  },
  {
   "cell_type": "code",
   "execution_count": 24,
   "id": "cd2d435b",
   "metadata": {},
   "outputs": [
    {
     "data": {
      "text/plain": [
       "2"
      ]
     },
     "execution_count": 24,
     "metadata": {},
     "output_type": "execute_result"
    }
   ],
   "source": [
    "next(g)"
   ]
  },
  {
   "cell_type": "code",
   "execution_count": 25,
   "id": "4dc8dbdd",
   "metadata": {},
   "outputs": [
    {
     "data": {
      "text/plain": [
       "3"
      ]
     },
     "execution_count": 25,
     "metadata": {},
     "output_type": "execute_result"
    }
   ],
   "source": [
    "next(g)"
   ]
  },
  {
   "cell_type": "code",
   "execution_count": 26,
   "id": "c839353e",
   "metadata": {},
   "outputs": [
    {
     "data": {
      "text/plain": [
       "5"
      ]
     },
     "execution_count": 26,
     "metadata": {},
     "output_type": "execute_result"
    }
   ],
   "source": [
    "next(g)"
   ]
  },
  {
   "cell_type": "code",
   "execution_count": null,
   "id": "b70b0d8a",
   "metadata": {},
   "outputs": [],
   "source": []
  }
 ],
 "metadata": {
  "kernelspec": {
   "display_name": "Python 3 (ipykernel)",
   "language": "python",
   "name": "python3"
  },
  "language_info": {
   "codemirror_mode": {
    "name": "ipython",
    "version": 3
   },
   "file_extension": ".py",
   "mimetype": "text/x-python",
   "name": "python",
   "nbconvert_exporter": "python",
   "pygments_lexer": "ipython3",
   "version": "3.10.9"
  }
 },
 "nbformat": 4,
 "nbformat_minor": 5
}
