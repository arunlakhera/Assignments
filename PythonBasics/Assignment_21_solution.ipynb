{
 "cells": [
  {
   "cell_type": "markdown",
   "id": "40bfab58",
   "metadata": {},
   "source": [
    "## 1. Add the current date to the text file today.txt as a string.\n"
   ]
  },
  {
   "cell_type": "code",
   "execution_count": 1,
   "id": "b1f31deb",
   "metadata": {},
   "outputs": [],
   "source": [
    "from datetime import date\n",
    "\n",
    "# Get the current date\n",
    "today = date.today()\n",
    "\n",
    "# Convert the date to a string\n",
    "today_str = today.strftime('%Y-%m-%d')\n",
    "\n",
    "# Write the string to the file\n",
    "with open('today.txt', 'w') as file:\n",
    "    file.write(today_str)"
   ]
  },
  {
   "cell_type": "markdown",
   "id": "cb0d4a7e",
   "metadata": {},
   "source": [
    "## 2. Read the text file today.txt into the string today_string\n"
   ]
  },
  {
   "cell_type": "code",
   "execution_count": 2,
   "id": "8b1de031",
   "metadata": {},
   "outputs": [
    {
     "name": "stdout",
     "output_type": "stream",
     "text": [
      "2023-07-16\n"
     ]
    }
   ],
   "source": [
    "# Read the file into a string\n",
    "with open('today.txt', 'r') as file:\n",
    "    today_string = file.read()\n",
    "\n",
    "# Print the string\n",
    "print(today_string)"
   ]
  },
  {
   "cell_type": "markdown",
   "id": "00920a02",
   "metadata": {},
   "source": [
    "## 3. Parse the date from today_string.\n"
   ]
  },
  {
   "cell_type": "code",
   "execution_count": 6,
   "id": "63b8d37d",
   "metadata": {},
   "outputs": [],
   "source": [
    "from datetime import datetime\n",
    "\n",
    "# Parse the date string into a datetime.date object\n",
    "date_obj = datetime.strptime(today_string, '%Y-%m-%d').date()\n"
   ]
  },
  {
   "cell_type": "markdown",
   "id": "1841d6f9",
   "metadata": {},
   "source": [
    "## 4. List the files in your current directory\n"
   ]
  },
  {
   "cell_type": "code",
   "execution_count": 7,
   "id": "1d52ea31",
   "metadata": {},
   "outputs": [
    {
     "name": "stdout",
     "output_type": "stream",
     "text": [
      "['.ipynb_checkpoints', 'Assignment_15_solution.ipynb', 'Assignment_16_solution.ipynb', 'Assignment_17_solution.ipynb', 'Assignment_18_solution.ipynb', 'Assignment_19_solution.ipynb', 'Assignment_20_solution.ipynb', 'Assignment_21_solution.ipynb', 'books.csv', 'books.db', 'test.txt', 'today.txt']\n"
     ]
    }
   ],
   "source": [
    "import os\n",
    "\n",
    "# Get the list of files in the current directory\n",
    "files = os.listdir()\n",
    "\n",
    "# Print the list of files\n",
    "print(files)"
   ]
  },
  {
   "cell_type": "markdown",
   "id": "361da0a3",
   "metadata": {},
   "source": [
    "## 5. Create a list of all of the files in your parent directory (minimum five files should be available).\n"
   ]
  },
  {
   "cell_type": "code",
   "execution_count": 8,
   "id": "6d78649f",
   "metadata": {},
   "outputs": [
    {
     "name": "stdout",
     "output_type": "stream",
     "text": [
      "['Assignment_15.docx', 'Assignment_16.docx', 'Assignment_17.docx', 'Assignment_18.docx', 'Assignment_19.docx', 'Assignment_20.docx', 'Assignment_21.docx', 'Assignment_22.docx', 'Assignment_23.docx', 'Assignment_24.docx', 'Assignment_25.docx', 'Programming_Assingment13.docx', 'Programming_Assingment14.docx', 'Programming_Assingment15.docx', 'Programming_Assingment16.docx', 'Programming_Assingment17.docx', 'Programming_Assingment18.docx', 'Programming_Assingment19.docx', 'Programming_Assingment20.docx', 'Programming_Assingment21.docx', 'Programming_Assingment22.docx', 'Programming_Assingment23.docx', 'Programming_Assingment24.docx', 'Programming_Assingment25.docx']\n"
     ]
    }
   ],
   "source": [
    "import os\n",
    "\n",
    "# Get the path of the parent directory\n",
    "parent_dir = os.path.abspath(os.path.join(os.getcwd(), os.pardir))\n",
    "\n",
    "# Get the list of files in the parent directory\n",
    "files = os.listdir(parent_dir)\n",
    "\n",
    "# Filter out directories and hidden files\n",
    "files = [file for file in files if os.path.isfile(os.path.join(parent_dir, file)) and not file.startswith('.')]\n",
    "\n",
    "# Print the list of files\n",
    "print(files)\n"
   ]
  },
  {
   "cell_type": "markdown",
   "id": "37c11f51",
   "metadata": {},
   "source": [
    "## 6. Use multiprocessing to create three separate processes. Make each one wait a random number of seconds between one and five, print the current time, and then exit.\n"
   ]
  },
  {
   "cell_type": "code",
   "execution_count": 9,
   "id": "0420c5ea",
   "metadata": {},
   "outputs": [],
   "source": [
    "import multiprocessing\n",
    "import random\n",
    "import time\n",
    "from datetime import datetime\n",
    "\n",
    "# Define a worker function\n",
    "def worker():\n",
    "    # Generate a random sleep time between 1 and 5 seconds\n",
    "    sleep_time = random.randint(1, 5)\n",
    "    # Sleep for the random amount of time\n",
    "    time.sleep(sleep_time)\n",
    "    # Get the current time\n",
    "    current_time = datetime.now().strftime(\"%H:%M:%S\")\n",
    "    # Print the current time\n",
    "    print(f\"Process {multiprocessing.current_process().name}: Current time is {current_time}\")\n",
    "    # Exit the process\n",
    "    multiprocessing.current_process().close()\n",
    "\n",
    "# Create three separate processes\n",
    "processes = []\n",
    "for i in range(3):\n",
    "    p = multiprocessing.Process(target=worker, name=f\"Worker-{i}\")\n",
    "    p.start()\n",
    "    processes.append(p)\n",
    "\n",
    "# Wait for all processes to complete\n",
    "for p in processes:\n",
    "    p.join()"
   ]
  },
  {
   "cell_type": "markdown",
   "id": "08820cdd",
   "metadata": {},
   "source": [
    "## 7. Create a date object of your day of birth.\n"
   ]
  },
  {
   "cell_type": "code",
   "execution_count": 10,
   "id": "4e3891ee",
   "metadata": {},
   "outputs": [
    {
     "name": "stdout",
     "output_type": "stream",
     "text": [
      "1979-04-11\n"
     ]
    }
   ],
   "source": [
    "from datetime import date\n",
    "\n",
    "# Create a date object for Apr 11, 1979\n",
    "birthdate = date(1979, 4, 11)\n",
    "\n",
    "# Print the date object\n",
    "print(birthdate)"
   ]
  },
  {
   "cell_type": "markdown",
   "id": "eb465aa7",
   "metadata": {},
   "source": [
    "## 8. What day of the week was your day of birth?\n"
   ]
  },
  {
   "cell_type": "code",
   "execution_count": 11,
   "id": "f907a869",
   "metadata": {},
   "outputs": [
    {
     "name": "stdout",
     "output_type": "stream",
     "text": [
      "2\n"
     ]
    }
   ],
   "source": [
    "day_of_week = birthdate.weekday()\n",
    "\n",
    "print(day_of_week)"
   ]
  },
  {
   "cell_type": "markdown",
   "id": "f7126405",
   "metadata": {},
   "source": [
    "## 9. When will you be (or when were you) 10,000 days old?\n"
   ]
  },
  {
   "cell_type": "code",
   "execution_count": 14,
   "id": "50cf7b6b",
   "metadata": {},
   "outputs": [
    {
     "name": "stdout",
     "output_type": "stream",
     "text": [
      "2006-08-26\n"
     ]
    }
   ],
   "source": [
    "from datetime import date, timedelta\n",
    "\n",
    "days_until_10000 = 10000 - 1  # Subtract 1 to account for the birthdate itself\n",
    "delta = timedelta(days=days_until_10000)\n",
    "\n",
    "# Calculate the date when the person will be 10,000 days old\n",
    "ten_thousand_days_old = birthdate + delta\n",
    "\n",
    "print(ten_thousand_days_old)"
   ]
  }
 ],
 "metadata": {
  "kernelspec": {
   "display_name": "Python 3 (ipykernel)",
   "language": "python",
   "name": "python3"
  },
  "language_info": {
   "codemirror_mode": {
    "name": "ipython",
    "version": 3
   },
   "file_extension": ".py",
   "mimetype": "text/x-python",
   "name": "python",
   "nbconvert_exporter": "python",
   "pygments_lexer": "ipython3",
   "version": "3.10.9"
  }
 },
 "nbformat": 4,
 "nbformat_minor": 5
}
