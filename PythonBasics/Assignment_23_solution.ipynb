{
 "cells": [
  {
   "cell_type": "markdown",
   "id": "7a137f7e",
   "metadata": {},
   "source": [
    "## 1. What is the result of the code, and why?\n",
    "### >>> def func(a, b=6, c=8):\n",
    "### print(a, b, c)\n",
    "### >>> func(1, 2)"
   ]
  },
  {
   "cell_type": "code",
   "execution_count": 1,
   "id": "859ccd18",
   "metadata": {},
   "outputs": [
    {
     "name": "stdout",
     "output_type": "stream",
     "text": [
      "1 2 8\n"
     ]
    }
   ],
   "source": [
    "def func(a, b=6, c=8):\n",
    "    print(a, b, c)\n",
    "\n",
    "func(1, 2)"
   ]
  },
  {
   "cell_type": "markdown",
   "id": "a85df997",
   "metadata": {},
   "source": [
    "Since default value is provided in function definiton for b and c argument they take default value if not provided in the function call. Since in function call we have not provided value for c argument, its default value 8 is printed."
   ]
  },
  {
   "cell_type": "markdown",
   "id": "ef413f95",
   "metadata": {},
   "source": [
    "## 2. What is the result of this code, and why?\n",
    "### >>> def func(a, b, c=5):\n",
    "### print(a, b, c)\n",
    "### >>> func(1, c=3, b=2)"
   ]
  },
  {
   "cell_type": "code",
   "execution_count": 2,
   "id": "953099af",
   "metadata": {},
   "outputs": [
    {
     "name": "stdout",
     "output_type": "stream",
     "text": [
      "1 2 3\n"
     ]
    }
   ],
   "source": [
    "def func(a, b, c=5):\n",
    "    print(a, b, c)\n",
    "\n",
    "func(1, c=3, b=2)"
   ]
  },
  {
   "cell_type": "markdown",
   "id": "67da5ee6",
   "metadata": {},
   "source": [
    "Since default value is provided in function definiton for c argument it takes default value if not provided in the function call. Since in function call we have provided value for c argument as 3 and for b as 2 these values are printed for them."
   ]
  },
  {
   "cell_type": "markdown",
   "id": "7b265eb4",
   "metadata": {},
   "source": [
    "## 3. How about this code: what is its result, and why?\n",
    "### >>> def func(a, *pargs):\n",
    "### print(a, pargs)\n",
    "### >>> func(1, 2, 3)"
   ]
  },
  {
   "cell_type": "code",
   "execution_count": 6,
   "id": "8b31e5d5",
   "metadata": {},
   "outputs": [
    {
     "name": "stdout",
     "output_type": "stream",
     "text": [
      "1 (2, 3)\n"
     ]
    }
   ],
   "source": [
    "def func(a, *pargs):\n",
    "    print(a, pargs)\n",
    "\n",
    "func(1, 2, 3)"
   ]
  },
  {
   "cell_type": "markdown",
   "id": "50421d5d",
   "metadata": {},
   "source": [
    "We have defined a function that takes a required argument and any number of additional positional arguments. The * argument is used to collect multiple arguments into a tuple."
   ]
  },
  {
   "cell_type": "markdown",
   "id": "2ea2f7c5",
   "metadata": {},
   "source": [
    "## 4. What does this code print, and why?\n",
    "### >>> def func(a, **kargs):\n",
    "### print(a, kargs)\n",
    "### >>> func(a=1, c=3, b=2)"
   ]
  },
  {
   "cell_type": "code",
   "execution_count": 7,
   "id": "b59543c1",
   "metadata": {},
   "outputs": [
    {
     "name": "stdout",
     "output_type": "stream",
     "text": [
      "1 {'c': 3, 'b': 2}\n"
     ]
    }
   ],
   "source": [
    "def func(a, **kargs):\n",
    "    print(a, kargs)\n",
    "    \n",
    "func(a=1, c=3, b=2)"
   ]
  },
  {
   "cell_type": "markdown",
   "id": "ee450877",
   "metadata": {},
   "source": [
    "We defined a function that takes a required argument and any number of additional keyword arguments. The ** syntax in the function definition allows any additional keyword arguments to be collected into the kargs dictionary, which is why the {'c': 3, 'b': 2} dictionary is printed as the value of kargs."
   ]
  },
  {
   "cell_type": "markdown",
   "id": "47ba528b",
   "metadata": {},
   "source": [
    "## 5. What gets printed by this, and explain?\n",
    "### >>> def func(a, b, c=8, d=5): print(a, b, c, d)\n",
    "### >>> func(1, *(5, 6))"
   ]
  },
  {
   "cell_type": "code",
   "execution_count": 8,
   "id": "aa84db0a",
   "metadata": {},
   "outputs": [
    {
     "name": "stdout",
     "output_type": "stream",
     "text": [
      "1 5 6 5\n"
     ]
    }
   ],
   "source": [
    "def func(a, b, c=8, d=5): \n",
    "    print(a, b, c, d)\n",
    "\n",
    "func(1, *(5, 6))"
   ]
  },
  {
   "cell_type": "markdown",
   "id": "692aa8f0",
   "metadata": {},
   "source": [
    "the code defines a function that takes four parameters, and demonstrates how the *(tuple) syntax can be used to unpack a tuple into multiple positional arguments when calling a function. This output shows that the func() function was called with the argument a set to 1, the argument b set to 5, the argument c set to 6, and the argument d set to 5. The *(5, 6) syntax unpacks the tuple (5, 6) into two separate positional arguments, which are assigned to b and c, respectively"
   ]
  },
  {
   "cell_type": "markdown",
   "id": "ad145577",
   "metadata": {},
   "source": [
    "## 6. what is the result of this, and explain?\n",
    "### >>> def func(a, b, c): a = 2; b[0] = 'x'; c['a'] = 'y'\n",
    "### >>> l=1; m=[1]; n={'a':0}\n",
    "### >>> func(l, m, n)\n",
    "### >>> l, m, n"
   ]
  },
  {
   "cell_type": "code",
   "execution_count": 16,
   "id": "ab396003",
   "metadata": {},
   "outputs": [
    {
     "data": {
      "text/plain": [
       "(1, ['x'], {'a': 'y'})"
      ]
     },
     "execution_count": 16,
     "metadata": {},
     "output_type": "execute_result"
    }
   ],
   "source": [
    "def func(a, b, c): a = 2; b[0] = 'x'; c['a'] = 'y'\n",
    "l=1; m=[1]; n={'a':0}\n",
    "func(l, m, n)\n",
    "l, m, n"
   ]
  },
  {
   "cell_type": "markdown",
   "id": "33436277",
   "metadata": {},
   "source": [
    "This output shows that the value of l is still 1, but the value of m has changed to ['x'], and the value of n has changed to {'a': 'y'}. This is because l is an integer, which is immutable, so changing the value of a inside the func() function doesn't affect the value of l outside the function. However, m is a list, which is mutable, so changing the first element of b inside the func() function changes the value of m outside the function. Similarly, n is a dictionary, which is also mutable, so changing the value of the key 'a' inside the c dictionary inside the func() function changes the value of n outside the function."
   ]
  },
  {
   "cell_type": "code",
   "execution_count": null,
   "id": "728dd440",
   "metadata": {},
   "outputs": [],
   "source": []
  }
 ],
 "metadata": {
  "kernelspec": {
   "display_name": "Python 3 (ipykernel)",
   "language": "python",
   "name": "python3"
  },
  "language_info": {
   "codemirror_mode": {
    "name": "ipython",
    "version": 3
   },
   "file_extension": ".py",
   "mimetype": "text/x-python",
   "name": "python",
   "nbconvert_exporter": "python",
   "pygments_lexer": "ipython3",
   "version": "3.10.9"
  }
 },
 "nbformat": 4,
 "nbformat_minor": 5
}
