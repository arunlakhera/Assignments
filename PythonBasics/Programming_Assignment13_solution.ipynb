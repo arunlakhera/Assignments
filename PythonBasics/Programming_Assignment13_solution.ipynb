{
 "cells": [
  {
   "cell_type": "markdown",
   "id": "99e1eed4",
   "metadata": {},
   "source": [
    "## Question 1:\n",
    "\n",
    "Write a program that calculates and prints the value according to the given formula:\n",
    "\n",
    "Q = Square root of [(2 * C * D)/H]\n",
    "\n",
    "Following are the fixed values of C and H:\n",
    "\n",
    "C is 50. H is 30.\n",
    "\n",
    "D is the variable whose values should be input to your program in a comma-separated sequence.\n",
    "\n",
    "Example\n",
    "\n",
    "Let us assume the following comma separated input sequence is given to the program:\n",
    "\n",
    "100,150,180\n",
    "\n",
    "The output of the program should be:\n",
    "\n",
    "18,22,24\n"
   ]
  },
  {
   "cell_type": "code",
   "execution_count": 2,
   "id": "ebe020b9",
   "metadata": {},
   "outputs": [
    {
     "name": "stdout",
     "output_type": "stream",
     "text": [
      "Enter comma-separated values of D: 100,150,180\n",
      "18,22,24,"
     ]
    }
   ],
   "source": [
    "import math\n",
    "\n",
    "# Define constants\n",
    "C = 50\n",
    "H = 30\n",
    "\n",
    "# Get input sequence\n",
    "input_str = input(\"Enter comma-separated values of D: \")\n",
    "D_list = input_str.split(\",\")\n",
    "\n",
    "# Calculate and print values for each D\n",
    "for D in D_list:\n",
    "    Q = math.sqrt((2 * C * int(D)) / H)\n",
    "    print(round(Q), end=\",\")"
   ]
  },
  {
   "cell_type": "markdown",
   "id": "0f36b6a7",
   "metadata": {},
   "source": [
    "## Question 2:\n",
    "Write a program which takes 2 digits, X,Y as input and generates a 2-dimensional array. The element value in the i-th row and j-th column of the array should be i*j.\n",
    "\n",
    "Note: i=0,1.., X-1; j=0,1,¡¬Y-1.\n",
    "\n",
    "Example\n",
    "\n",
    "Suppose the following inputs are given to the program:\n",
    "\n",
    "3,5\n",
    "\n",
    "Then, the output of the program should be:\n",
    "\n",
    "[[0, 0, 0, 0, 0], [0, 1, 2, 3, 4], [0, 2, 4, 6, 8]] \n",
    "\n",
    "\n"
   ]
  },
  {
   "cell_type": "code",
   "execution_count": 3,
   "id": "89b02795",
   "metadata": {},
   "outputs": [
    {
     "name": "stdout",
     "output_type": "stream",
     "text": [
      "Enter two digits separated by a comma: 3,5\n",
      "[[0, 0, 0, 0, 0], [0, 1, 2, 3, 4], [0, 2, 4, 6, 8]]\n"
     ]
    }
   ],
   "source": [
    "# Get input values of X and Y\n",
    "X, Y = map(int, input(\"Enter two digits separated by a comma: \").split(\",\"))\n",
    "\n",
    "# Initialize 2-dimensional array with zeros\n",
    "array_2d = [[0 for j in range(Y)] for i in range(X)]\n",
    "\n",
    "# Fill array with values i*j\n",
    "for i in range(X):\n",
    "    for j in range(Y):\n",
    "        array_2d[i][j] = i*j\n",
    "\n",
    "# Print the 2-dimensional array\n",
    "print(array_2d)"
   ]
  },
  {
   "cell_type": "markdown",
   "id": "5efa84e2",
   "metadata": {},
   "source": [
    "## Question 3:\n",
    "Write a program that accepts a comma separated sequence of words as input and prints the words in a comma-separated sequence after sorting them alphabetically.\n",
    "\n",
    "Suppose the following input is supplied to the program:\n",
    "\n",
    "without,hello,bag,world\n",
    "\n",
    "Then, the output should be:\n",
    "\n",
    "bag,hello,without,world\n",
    "\n",
    "\n",
    "\n",
    "\n"
   ]
  },
  {
   "cell_type": "code",
   "execution_count": 4,
   "id": "4517763a",
   "metadata": {},
   "outputs": [
    {
     "name": "stdout",
     "output_type": "stream",
     "text": [
      "Enter comma-separated sequence of words: without,hello,bag,world\n",
      "bag,hello,without,world\n"
     ]
    }
   ],
   "source": [
    "# Get input sequence of words\n",
    "words = input(\"Enter comma-separated sequence of words: \")\n",
    "\n",
    "# Split the input sequence into a list of individual words\n",
    "word_list = words.split(\",\")\n",
    "\n",
    "# Sort the list of words alphabetically\n",
    "sorted_words = sorted(word_list)\n",
    "\n",
    "# Join the sorted words into a comma-separated string\n",
    "result = \",\".join(sorted_words)\n",
    "\n",
    "# Print the result\n",
    "print(result)"
   ]
  },
  {
   "cell_type": "markdown",
   "id": "c3aa89a2",
   "metadata": {},
   "source": [
    "## Question 4:\n",
    "Write a program that accepts a sequence of whitespace separated words as input and prints the words after removing all duplicate words and sorting them alphanumerically.\n",
    "\n",
    "Suppose the following input is supplied to the program:\n",
    "\n",
    "hello world and practice makes perfect and hello world again\n",
    "\n",
    "Then, the output should be:\n",
    "\n",
    "again and hello makes perfect practice world\n",
    "\n"
   ]
  },
  {
   "cell_type": "code",
   "execution_count": 6,
   "id": "8f8a2a7e",
   "metadata": {},
   "outputs": [
    {
     "name": "stdout",
     "output_type": "stream",
     "text": [
      "Enter a sequence of whitespace separated words: hello world and practice makes perfect and hello world again\n",
      "again and hello makes perfect practice world\n"
     ]
    }
   ],
   "source": [
    "# Get input sequence of words\n",
    "words = input(\"Enter a sequence of whitespace separated words: \")\n",
    "\n",
    "# Split the input sequence into a list of individual words\n",
    "word_list = words.split()\n",
    "\n",
    "# Remove duplicates from the list of words\n",
    "word_list = list(set(word_list))\n",
    "\n",
    "# Sort the list of words alphabetically\n",
    "word_list.sort()\n",
    "\n",
    "# Join the sorted words into a whitespace-separated string\n",
    "result = \" \".join(word_list)\n",
    "\n",
    "# Print the result\n",
    "print(result)"
   ]
  },
  {
   "cell_type": "markdown",
   "id": "c6b03d54",
   "metadata": {},
   "source": [
    "## Question 5:\n",
    "Write a program that accepts a sentence and calculate the number of letters and digits.\n",
    "\n",
    "Suppose the following input is supplied to the program:\n",
    "\n",
    "hello world! 123\n",
    "\n",
    "Then, the output should be:\n",
    "\n",
    "LETTERS 10\n",
    "\n",
    "DIGITS 3\n",
    "\n"
   ]
  },
  {
   "cell_type": "code",
   "execution_count": 7,
   "id": "246632e9",
   "metadata": {},
   "outputs": [
    {
     "name": "stdout",
     "output_type": "stream",
     "text": [
      "Enter a sentence: hello world! 123\n",
      "LETTERS 10\n",
      "DIGITS 3\n"
     ]
    }
   ],
   "source": [
    "# Get input sentence\n",
    "sentence = input(\"Enter a sentence: \")\n",
    "\n",
    "# Initialize counters for letters and digits\n",
    "letter_count = 0\n",
    "digit_count = 0\n",
    "\n",
    "# Loop through each character in the sentence\n",
    "for char in sentence:\n",
    "    # Check if character is a letter\n",
    "    if char.isalpha():\n",
    "        letter_count += 1\n",
    "    # Check if character is a digit\n",
    "    elif char.isdigit():\n",
    "        digit_count += 1\n",
    "\n",
    "# Print the letter and digit counts\n",
    "print(\"LETTERS\", letter_count)\n",
    "print(\"DIGITS\", digit_count)"
   ]
  },
  {
   "cell_type": "markdown",
   "id": "1784f265",
   "metadata": {},
   "source": [
    "## Question 6:\n",
    "A website requires the users to input username and password to register. Write a program to check the validity of password input by users.\n",
    "\n",
    "Following are the criteria for checking the password:\n",
    "\n",
    "1. At least 1 letter between [a-z]\n",
    "\n",
    "2. At least 1 number between [0-9]\n",
    "\n",
    "1. At least 1 letter between [A-Z]\n",
    "\n",
    "3. At least 1 character from [$#@]\n",
    "\n",
    "4. Minimum length of transaction password: 6\n",
    "\n",
    "5. Maximum length of transaction password: 12\n",
    "\n",
    "Your program should accept a sequence of comma separated passwords and will check them according to the above criteria. Passwords that match the criteria are to be printed, each separated by a comma.\n",
    "\n",
    "Example\n",
    "\n",
    "If the following passwords are given as input to the program:\n",
    "\n",
    "ABd1234@1,a F1#,2w3E*,2We3345\n",
    "\n",
    "Then, the output of the program should be:\n",
    "\n",
    "ABd1234@1\n"
   ]
  },
  {
   "cell_type": "code",
   "execution_count": 8,
   "id": "207eb7c1",
   "metadata": {},
   "outputs": [
    {
     "name": "stdout",
     "output_type": "stream",
     "text": [
      "Enter comma-separated passwords: ABd1234@1,a F1#,2w3E*,2We3345\n",
      "ABd1234@1\n"
     ]
    }
   ],
   "source": [
    "import re\n",
    "\n",
    "# Get input sequence of passwords\n",
    "passwords = input(\"Enter comma-separated passwords: \")\n",
    "\n",
    "# Split the input sequence into a list of individual passwords\n",
    "password_list = passwords.split(\",\")\n",
    "\n",
    "# Define the password criteria using regular expressions\n",
    "pattern = \"^(?=.*[a-z])(?=.*[A-Z])(?=.*\\\\d)(?=.*[$#@])[A-Za-z\\\\d$#@]{6,12}$\"\n",
    "\n",
    "# Loop through each password in the list\n",
    "valid_passwords = []\n",
    "for password in password_list:\n",
    "    # Check if password matches the criteria\n",
    "    if re.match(pattern, password):\n",
    "        valid_passwords.append(password)\n",
    "\n",
    "# Join the valid passwords into a comma-separated string\n",
    "result = \",\".join(valid_passwords)\n",
    "\n",
    "# Print the result\n",
    "print(result)"
   ]
  },
  {
   "cell_type": "markdown",
   "id": "fcac7e20",
   "metadata": {},
   "source": []
  },
  {
   "cell_type": "markdown",
   "id": "e43612af",
   "metadata": {},
   "source": []
  },
  {
   "cell_type": "markdown",
   "id": "b97e7fe1",
   "metadata": {},
   "source": []
  },
  {
   "cell_type": "markdown",
   "id": "5480f957",
   "metadata": {},
   "source": []
  },
  {
   "cell_type": "markdown",
   "id": "5c3f0edd",
   "metadata": {},
   "source": []
  },
  {
   "cell_type": "markdown",
   "id": "fecad182",
   "metadata": {},
   "source": []
  },
  {
   "cell_type": "markdown",
   "id": "9cc2b4ae",
   "metadata": {},
   "source": []
  },
  {
   "cell_type": "markdown",
   "id": "1fa6264f",
   "metadata": {},
   "source": []
  }
 ],
 "metadata": {
  "kernelspec": {
   "display_name": "Python 3 (ipykernel)",
   "language": "python",
   "name": "python3"
  },
  "language_info": {
   "codemirror_mode": {
    "name": "ipython",
    "version": 3
   },
   "file_extension": ".py",
   "mimetype": "text/x-python",
   "name": "python",
   "nbconvert_exporter": "python",
   "pygments_lexer": "ipython3",
   "version": "3.10.9"
  }
 },
 "nbformat": 4,
 "nbformat_minor": 5
}
