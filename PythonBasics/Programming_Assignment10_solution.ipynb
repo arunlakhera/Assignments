{
  "nbformat": 4,
  "nbformat_minor": 0,
  "metadata": {
    "colab": {
      "provenance": [],
      "collapsed_sections": []
    },
    "kernelspec": {
      "name": "python3",
      "display_name": "Python 3"
    },
    "language_info": {
      "name": "python"
    }
  },
  "cells": [
    {
      "cell_type": "markdown",
      "source": [
        "### 1. Write a Python program to find sum of elements in list?\n"
      ],
      "metadata": {
        "id": "kS7hXp3Vo-jD"
      }
    },
    {
      "cell_type": "code",
      "source": [
        "## Program to find sum of elements in list\n",
        "\n",
        "def sum_of_elements(num_list):\n",
        "  sum_ele = 0\n",
        "  for num in num_list:\n",
        "    sum_ele += num\n",
        "  return sum_ele\n",
        "\n",
        "print(\"Program to find sum of elements in list\")\n",
        "print(\"---------------------------------------\")\n",
        "\n",
        "list_of_num = [23,45,67,89,12,4,671,173]\n",
        "\n",
        "print(f\"List of Numbers: {list_of_num}\")\n",
        "print(f\"Sum of Elements in List [For loop]: {sum_of_elements(list_of_num)}\")\n",
        "print(f\"Sum of Elements in List [sum() function]: {sum(list_of_num)}\")"
      ],
      "metadata": {
        "colab": {
          "base_uri": "https://localhost:8080/"
        },
        "id": "Cw6EuI6HpVW1",
        "outputId": "73e99e8e-1cb6-40f2-b880-57e807d953bf"
      },
      "execution_count": 15,
      "outputs": [
        {
          "output_type": "stream",
          "name": "stdout",
          "text": [
            "Program to find sum of elements in list\n",
            "---------------------------------------\n",
            "List of Numbers: [23, 45, 67, 89, 12, 4, 671, 173]\n",
            "Sum of Elements in List [For loop]: 1084\n",
            "Sum of Elements in List [sum() function]: 1084\n"
          ]
        }
      ]
    },
    {
      "cell_type": "markdown",
      "source": [
        "### 2. Write a Python program to Multiply all numbers in the list?\n"
      ],
      "metadata": {
        "id": "HTlFhxL6o-tC"
      }
    },
    {
      "cell_type": "code",
      "source": [
        "## Program to multiply all numbers in the list\n",
        "def prod_of_elements(num_list):\n",
        "  prod_ele = 1\n",
        "  for num in num_list:\n",
        "    prod_ele *= num\n",
        "  return prod_ele\n",
        "\n",
        "print(\"Program to multiply all numbers in the list\")\n",
        "print(\"-------------------------------------------\")\n",
        "\n",
        "list_of_num = [5,9,10,4,8]\n",
        "\n",
        "print(f\"List of Numbers: {list_of_num}\")\n",
        "print(f\"Product of Elements: {prod_of_elements(list_of_num)}\")\n"
      ],
      "metadata": {
        "colab": {
          "base_uri": "https://localhost:8080/"
        },
        "id": "NEZjVUCtqzcV",
        "outputId": "5a0abb99-7d73-4a6c-c132-45cea646a924"
      },
      "execution_count": 16,
      "outputs": [
        {
          "output_type": "stream",
          "name": "stdout",
          "text": [
            "Program to multiply all numbers in the list\n",
            "-------------------------------------------\n",
            "List of Numbers: [5, 9, 10, 4, 8]\n",
            "Product of Elements: 14400\n"
          ]
        }
      ]
    },
    {
      "cell_type": "markdown",
      "source": [
        "### 3. Write a Python program to find smallest number in a list?\n"
      ],
      "metadata": {
        "id": "kPBhpLOFo-1G"
      }
    },
    {
      "cell_type": "code",
      "source": [
        "## Program to find smallest number in a list\n",
        "def find_smallest(num_list):\n",
        "  smallest = num_list[0]\n",
        "  for num in num_list:\n",
        "    if num < smallest:\n",
        "      smallest = num\n",
        "  return smallest\n",
        "print(\"Program to find smallest number in a list\")\n",
        "print(\"-------------------------------------------\")\n",
        "\n",
        "list_of_num = [5,9,10,4,8]\n",
        "\n",
        "print(f\"List of Numbers: {list_of_num}\")\n",
        "print(f\"Smallest Number [For Loop]: {find_smallest(list_of_num)}\")\n",
        "print(f\"Smallest Number [min() function]: {min(list_of_num)}\")"
      ],
      "metadata": {
        "colab": {
          "base_uri": "https://localhost:8080/"
        },
        "id": "GsBFEK0kuZmW",
        "outputId": "65638a64-e711-42ce-9a80-56227f309dee"
      },
      "execution_count": 18,
      "outputs": [
        {
          "output_type": "stream",
          "name": "stdout",
          "text": [
            "Program to find smallest number in a list\n",
            "-------------------------------------------\n",
            "List of Numbers: [5, 9, 10, 4, 8]\n",
            "Smallest Number [For Loop]: 4\n",
            "Smallest Number [min() function]: 4\n"
          ]
        }
      ]
    },
    {
      "cell_type": "markdown",
      "source": [
        "### 4. Write a Python program to find largest number in a list?\n"
      ],
      "metadata": {
        "id": "Dp40vah7o-9O"
      }
    },
    {
      "cell_type": "code",
      "source": [
        "## Program to find the largest number in a list\n",
        "def find_largest(num_list):\n",
        "  largest = num_list[0]\n",
        "  for num in num_list:\n",
        "    if num > largest:\n",
        "      largest = num\n",
        "  return largest\n",
        "print(\"Program to find largest number in a list\")\n",
        "print(\"-------------------------------------------\")\n",
        "\n",
        "list_of_num = [5,9,10,4,8]\n",
        "\n",
        "print(f\"List of Numbers: {list_of_num}\")\n",
        "print(f\"Largest Number [For Loop]: {find_largest(list_of_num)}\")\n",
        "print(f\"Largest Number [max() function]: {max(list_of_num)}\")\n"
      ],
      "metadata": {
        "colab": {
          "base_uri": "https://localhost:8080/"
        },
        "id": "0e6RrSf35CcF",
        "outputId": "6ed8b0ee-c77a-44b2-91c9-672eb79c11ea"
      },
      "execution_count": 20,
      "outputs": [
        {
          "output_type": "stream",
          "name": "stdout",
          "text": [
            "Program to find largest number in a list\n",
            "-------------------------------------------\n",
            "List of Numbers: [5, 9, 10, 4, 8]\n",
            "Largest Number [For Loop]: 10\n",
            "Largest Number [max() function]: 10\n"
          ]
        }
      ]
    },
    {
      "cell_type": "markdown",
      "source": [
        "### 5. Write a Python program to find second largest number in a list?\n"
      ],
      "metadata": {
        "id": "oNWKEsa_o_Ew"
      }
    },
    {
      "cell_type": "code",
      "source": [
        "## Program to find second largest number in a list\n",
        "\n",
        "def find_sec_largest(num_list):\n",
        "  largest_num = max(num_list)\n",
        "  second_largest = min(num_list)\n",
        "  for num in num_list:\n",
        "    if num == largest_num:\n",
        "      continue\n",
        "    if num > second_largest:\n",
        "      second_largest = num\n",
        "  return second_largest\n",
        "    \n",
        "print(\"Program to find second largest number in a list\")\n",
        "print(\"-----------------------------------------------\")\n",
        "\n",
        "list_of_num = [5,9,10,4,8]\n",
        "\n",
        "print(f\"List of Numbers: {list_of_num}\")\n",
        "print(f\"Second Largest Number [For Loop]: {find_sec_largest(list_of_num)}\")"
      ],
      "metadata": {
        "colab": {
          "base_uri": "https://localhost:8080/"
        },
        "id": "90DlTl4t5dn-",
        "outputId": "7d401092-23d3-4a43-c937-5e09e3dfa991"
      },
      "execution_count": 12,
      "outputs": [
        {
          "output_type": "stream",
          "name": "stdout",
          "text": [
            "Program to find second largest number in a list\n",
            "-----------------------------------------------\n",
            "List of Numbers: [5, 9, 10, 4, 8]\n",
            "Second Largest Number [For Loop]: 9\n"
          ]
        }
      ]
    },
    {
      "cell_type": "markdown",
      "source": [
        "### 6. Write a Python program to find N largest elements from a list?\n"
      ],
      "metadata": {
        "id": "CsS2Hjtqo_NM"
      }
    },
    {
      "cell_type": "code",
      "source": [
        "## Program to find N largest elements from a list\n",
        "\n",
        "def find_N_largest(num_list, N):\n",
        "  largest_N_list = []\n",
        "  \n",
        "  for i in range(0,N):\n",
        "    largest = max(num_list)\n",
        "    largest_N_list.append(largest)\n",
        "    num_list.remove(largest)\n",
        "  return largest_N_list\n",
        "\n",
        "print(\"Program to find N largest number in a list\")\n",
        "print(\"-----------------------------------------------\")\n",
        "\n",
        "# Using For Loops\n",
        "list_of_num = [5,9,10,4,8,45,11,45,189,231,10,343,134,241,46,742,12]\n",
        "print(f\"List of Numbers: {list_of_num}\")\n",
        "N = int(input(\"How many largest elements you want....\"))\n",
        "print(f\"List of largest {N} elements [For Loops] {find_N_largest(list_of_num, N)}\")\n",
        "\n",
        "# Using List Comprehension\n",
        "list_of_num = [5,9,10,4,8,45,11,45,189,231,10,343,134,241,46,742,12]\n",
        "largest_N_list = sorted(list_of_num)[::-1][:N]\n",
        "print(f\"List of Largest {N} elements [List Comprehension]: {largest_N_list}\")\n",
        "  "
      ],
      "metadata": {
        "colab": {
          "base_uri": "https://localhost:8080/"
        },
        "id": "iobyzB0OzRaX",
        "outputId": "44de7685-6762-42d1-8ed0-55d71b28c41a"
      },
      "execution_count": 33,
      "outputs": [
        {
          "output_type": "stream",
          "name": "stdout",
          "text": [
            "Program to find N largest number in a list\n",
            "-----------------------------------------------\n",
            "List of Numbers: [5, 9, 10, 4, 8, 45, 11, 45, 189, 231, 10, 343, 134, 241, 46, 742, 12]\n",
            "How many largest elements you want....5\n",
            "List of largest 5 elements [For Loops] [742, 343, 241, 231, 189]\n",
            "List of Largest 5 elements [List Comprehension]: [742, 343, 241, 231, 189]\n"
          ]
        }
      ]
    },
    {
      "cell_type": "markdown",
      "source": [
        "### 7. Write a Python program to print even numbers in a list?\n"
      ],
      "metadata": {
        "id": "tRDvPNG3o_Vo"
      }
    },
    {
      "cell_type": "code",
      "source": [
        "## Program to print even numbers in a list\n",
        "def show_even(num_list):\n",
        "  even_list = []\n",
        "  for num in num_list:\n",
        "    if num % 2 == 0:\n",
        "      even_list.append(num)\n",
        "  return even_list\n",
        "\n",
        "print(\"Program to print even numbers in a list\")\n",
        "print(\"---------------------------------------\")\n",
        "\n",
        "list_of_num = [5,9,10,4,8,16,18,92,23,15]\n",
        "\n",
        "print(f\"List of Numbers: {list_of_num}\")\n",
        "# Using For Loop\n",
        "print(f\"Even Numbers in List [For Loop]: {show_even(list_of_num)}\")\n",
        "\n",
        "# Using List Comprehension\n",
        "even_list = [num for num in list_of_num if num % 2 ==0] \n",
        "print(f\"Even Numbers in List [List Comprehension]: {even_list}\")\n"
      ],
      "metadata": {
        "colab": {
          "base_uri": "https://localhost:8080/"
        },
        "id": "9UYopxZY0l9n",
        "outputId": "d5b9b6a7-0b8d-4376-fdda-201ac980f2cb"
      },
      "execution_count": 16,
      "outputs": [
        {
          "output_type": "stream",
          "name": "stdout",
          "text": [
            "Program to print even numbers in a list\n",
            "---------------------------------------\n",
            "List of Numbers: [5, 9, 10, 4, 8, 16, 18, 92, 23, 15]\n",
            "Even Numbers in List [For Loop]: [10, 4, 8, 16, 18, 92]\n",
            "Even Numbers in List [List Comprehension]: [10, 4, 8, 16, 18, 92]\n"
          ]
        }
      ]
    },
    {
      "cell_type": "markdown",
      "source": [
        "### 8. Write a Python program to print odd numbers in a List?\n"
      ],
      "metadata": {
        "id": "fK0BcLnuo_eW"
      }
    },
    {
      "cell_type": "code",
      "source": [
        "## Program to print Odd numbers in a list\n",
        "def show_odd(num_list):\n",
        "  odd_list = []\n",
        "  for num in num_list:\n",
        "    if num % 2 != 0:\n",
        "      odd_list.append(num)\n",
        "  return odd_list\n",
        "\n",
        "print(\"Program to print odd numbers in a list\")\n",
        "print(\"--------------------------------------\")\n",
        "\n",
        "list_of_num = [5,9,10,4,8,16,18,92,23,15]\n",
        "\n",
        "# Using For Loops\n",
        "print(f\"List of Numbers: {list_of_num}\")\n",
        "print(f\"Odd Numbers in List [For Loop]: {show_odd(list_of_num)}\")\n",
        "\n",
        "#Using List Comprehension\n",
        "odd_list = [num for num in list_of_num if num % 2 !=0]\n",
        "print(f\"Odd Numbers in List [List Comprehension]: {show_odd(list_of_num)}\")\n"
      ],
      "metadata": {
        "colab": {
          "base_uri": "https://localhost:8080/"
        },
        "id": "vCBszIl96wLQ",
        "outputId": "48f726cd-ea30-4ff2-fd88-d934fd7934b3"
      },
      "execution_count": 36,
      "outputs": [
        {
          "output_type": "stream",
          "name": "stdout",
          "text": [
            "Program to print odd numbers in a list\n",
            "--------------------------------------\n",
            "List of Numbers: [5, 9, 10, 4, 8, 16, 18, 92, 23, 15]\n",
            "Odd Numbers in List [For Loop]: [5, 9, 23, 15]\n",
            "Odd Numbers in List [List Comprehension]: [5, 9, 23, 15]\n"
          ]
        }
      ]
    },
    {
      "cell_type": "markdown",
      "source": [
        "### 9. Write a Python program to Remove empty List from List?\n"
      ],
      "metadata": {
        "id": "seOqdhehpN8p"
      }
    },
    {
      "cell_type": "code",
      "source": [
        "## Program to remove empty list from list\n",
        "def remove_empty(num_list):\n",
        "  new_list = []\n",
        "  for item in num_list:\n",
        "    if item != []:\n",
        "      new_list.append(item)\n",
        "  return new_list\n",
        "\n",
        "print(\"Program to remove empty list from list\")\n",
        "print(\"--------------------------------------\")\n",
        "\n",
        "# Using For Loop\n",
        "list_of_num = [2, 3, 5, [], 9, [], 12, 55, [], 3, 77]\n",
        "print(f\"Original List: {list_of_num}\")\n",
        "print(f\"New List [For Loop] {remove_empty(list_of_num)}\")\n",
        "\n",
        "# Using List Comprehension\n",
        "list_of_num = [2, 3, 5, [], 9, [], 12, 55, [], 3, 77]\n",
        "print(f\"Original List: {list_of_num}\")\n",
        "new_list = [i for i in list_of_num if i != [] ]\n",
        "print(f\"New List [List Comprehension] {new_list}\")\n",
        "\n",
        "# Using Filter\n",
        "list_of_num = [2, 3, 5, [], 9, [], 12, 55, [], 3, 77]\n",
        "print(f\"Original List: {list_of_num}\")\n",
        "new_list = list(filter(None, list_of_num))\n",
        "print(f\"New List [List Comprehension] {new_list}\")"
      ],
      "metadata": {
        "colab": {
          "base_uri": "https://localhost:8080/"
        },
        "id": "9i8EmHLn7y_k",
        "outputId": "3cae7bfd-fe88-42df-b8ff-689da9cc318d"
      },
      "execution_count": 9,
      "outputs": [
        {
          "output_type": "stream",
          "name": "stdout",
          "text": [
            "Program to remove empty list from list\n",
            "--------------------------------------\n",
            "Original List: [2, 3, 5, [], 9, [], 12, 55, [], 3, 77]\n",
            "New List [For Loop] [2, 3, 5, 9, 12, 55, 3, 77]\n",
            "Original List: [2, 3, 5, [], 9, [], 12, 55, [], 3, 77]\n",
            "New List [List Comprehension] [2, 3, 5, 9, 12, 55, 3, 77]\n",
            "Original List: [2, 3, 5, [], 9, [], 12, 55, [], 3, 77]\n",
            "New List [List Comprehension] [2, 3, 5, 9, 12, 55, 3, 77]\n"
          ]
        }
      ]
    },
    {
      "cell_type": "markdown",
      "source": [
        "### 10. Write a Python program to Cloning or Copying a list?\n"
      ],
      "metadata": {
        "id": "JIEXHIcApOEq"
      }
    },
    {
      "cell_type": "code",
      "source": [
        "## PRogram to clone or copy a list\n",
        "def copy_list(X):\n",
        "  new_list = []\n",
        "  for ele in X:\n",
        "    new_list.append(ele)\n",
        "  return new_list\n",
        "\n",
        "print(\"Program to clone or copy a list\")\n",
        "print(\"-------------------------------\")\n",
        "\n",
        "# Using For Loop\n",
        "list_of_num = [2, 3, 5, 9, 12, 55, 3, 77]\n",
        "print(f\"Original List: {list_of_num}\")\n",
        "print(f\"New List [For Loop] {copy_list(list_of_num)}\")\n",
        "\n",
        "# Using List Comprehension\n",
        "list_of_num = [2, 3, 5, 9, 12, 55, 3, 77]\n",
        "print(f\"Original List: {list_of_num}\")\n",
        "new_list = [ele for ele in list_of_num]\n",
        "print(f\"New List [List Comprehension] {new_list}\")\n",
        "\n",
        "# Using Copy method\n",
        "list_of_num = [2, 3, 5, 9, 12, 55, 3, 77]\n",
        "print(f\"Original List: {list_of_num}\")\n",
        "new_list = []\n",
        "new_list = list_of_num.copy()\n",
        "print(f\"New List [Copy()] {new_list}\")\n"
      ],
      "metadata": {
        "colab": {
          "base_uri": "https://localhost:8080/"
        },
        "id": "EKhVLiS2hA1W",
        "outputId": "3820f66b-a9ab-45a8-cf4d-90deba673d3e"
      },
      "execution_count": 13,
      "outputs": [
        {
          "output_type": "stream",
          "name": "stdout",
          "text": [
            "Program to clone or copy a list\n",
            "-------------------------------\n",
            "Original List: [2, 3, 5, 9, 12, 55, 3, 77]\n",
            "New List [For Loop] [2, 3, 5, 9, 12, 55, 3, 77]\n",
            "Original List: [2, 3, 5, 9, 12, 55, 3, 77]\n",
            "New List [List Comprehension] [2, 3, 5, 9, 12, 55, 3, 77]\n",
            "Original List: [2, 3, 5, 9, 12, 55, 3, 77]\n",
            "New List [Copy] [2, 3, 5, 9, 12, 55, 3, 77]\n"
          ]
        }
      ]
    },
    {
      "cell_type": "markdown",
      "source": [
        "### 11. Write a Python program to Count occurrences of an element in a list?\n"
      ],
      "metadata": {
        "id": "pndn5eGypOKr"
      }
    },
    {
      "cell_type": "code",
      "execution_count": 23,
      "metadata": {
        "colab": {
          "base_uri": "https://localhost:8080/"
        },
        "id": "P_pCjcHgo39f",
        "outputId": "3ae8bfc8-0fa3-489f-982c-5dc040b86df2"
      },
      "outputs": [
        {
          "output_type": "stream",
          "name": "stdout",
          "text": [
            "Program to count occurences of an element in a list\n",
            "---------------------------------------------------\n",
            "Original List: [2, 3, 5, 3, 9, 3, 12, 5, 55, 1, 2, 55, 77, 3, 3, 2, 2, 5, 77]\n",
            "Enter number to find occurence from the list: 3\n",
            "[For Loop] 3 occurs 5 times\n",
            "[Count() Function] 3 occurs 5 times\n"
          ]
        }
      ],
      "source": [
        "## Program to count occurences of an element in a list\n",
        "\n",
        "def count_num(item_list, item):\n",
        "  item_count = 0\n",
        "  for list_item in item_list:\n",
        "    if item == list_item:\n",
        "      item_count += 1\n",
        "  return item_count\n",
        "\n",
        "print(\"Program to count occurences of an element in a list\")\n",
        "print(\"---------------------------------------------------\")\n",
        "\n",
        "# Using For Loop\n",
        "list_of_num = [2, 3, 5, 3, 9, 3, 12, 5 ,55,1,2,55 ,77,3,3,2,2, 5, 77]\n",
        "print(f\"Original List: {list_of_num}\")\n",
        "n = int(input(\"Enter number to find occurence from the list: \"))\n",
        "print(f\"[For Loop] {n} occurs {count_num(list_of_num, n)} times\")\n",
        "\n",
        "# Using Copy function\n",
        "print(f\"[Count() Function] {n} occurs {list_of_num.count(n)} times\")"
      ]
    },
    {
      "cell_type": "code",
      "source": [],
      "metadata": {
        "id": "x0gi4odrkGhU"
      },
      "execution_count": null,
      "outputs": []
    }
  ]
}