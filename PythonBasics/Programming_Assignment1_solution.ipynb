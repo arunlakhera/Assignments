{
  "nbformat": 4,
  "nbformat_minor": 0,
  "metadata": {
    "colab": {
      "provenance": []
    },
    "kernelspec": {
      "name": "python3",
      "display_name": "Python 3"
    },
    "language_info": {
      "name": "python"
    }
  },
  "cells": [
    {
      "cell_type": "markdown",
      "source": [
        "### 1. Write a Python program to print &quot;Hello Python&quot;?"
      ],
      "metadata": {
        "id": "QIqKWUT7Rpvn"
      }
    },
    {
      "cell_type": "code",
      "source": [
        "## Program to print Hello Python\n",
        "\n",
        "def print_msg(my_msg = \"Hello Python\"):\n",
        "  print(my_msg)\n",
        "\n",
        "print_msg()"
      ],
      "metadata": {
        "colab": {
          "base_uri": "https://localhost:8080/"
        },
        "id": "JlGrnya2ROTm",
        "outputId": "5ed21964-ba46-4b6d-dc69-e8eb838498d8"
      },
      "execution_count": 10,
      "outputs": [
        {
          "output_type": "stream",
          "name": "stdout",
          "text": [
            "Hello Python\n"
          ]
        }
      ]
    },
    {
      "cell_type": "markdown",
      "source": [
        "### 2. Write a Python program to do arithmetical operations addition and division.?"
      ],
      "metadata": {
        "id": "4SbAi0DoRtrV"
      }
    },
    {
      "cell_type": "code",
      "source": [
        "## Program to do arithmetical operations addition and division\n",
        "def add_op(num1, num2):\n",
        "  return num1 + num2\n",
        "\n",
        "def div_op(num1, num2):\n",
        "  return num1 / num2\n",
        "\n",
        "num1 = int(input(\"Enter number 1: \"))\n",
        "num2 = int(input(\"Enter number 2: \"))\n",
        "\n",
        "print(f\"{num1} + {num2} = {add_op(num1, num2)}\")\n",
        "\n",
        "if num2 != 0:\n",
        "  print(f\"{num1} / {num2} = {div_op(num1, num2)}\")\n",
        "else:\n",
        "  print(f\"{num1} / {num2} = Division by zero not allowed.\")"
      ],
      "metadata": {
        "colab": {
          "base_uri": "https://localhost:8080/"
        },
        "id": "lsBmqk7bRt0c",
        "outputId": "77e1a88d-66bc-428e-a262-3c87861db2fc"
      },
      "execution_count": 18,
      "outputs": [
        {
          "output_type": "stream",
          "name": "stdout",
          "text": [
            "Enter number 1: 2\n",
            "Enter number 2: 0\n",
            "2 + 0 = 2\n",
            "2 / 0 = Division by zero not allowed.\n"
          ]
        }
      ]
    },
    {
      "cell_type": "markdown",
      "source": [
        "### 3. Write a Python program to find the area of a triangle?"
      ],
      "metadata": {
        "id": "HPKEFsNxRt_O"
      }
    },
    {
      "cell_type": "code",
      "source": [
        "def area_of_triangle(base, height):\n",
        "  return 0.5 * base * height\n",
        "\n",
        "base = int(input(\"Enter base value of Triangle: \"))\n",
        "height = int(input(\"Enter height value of Triangle: \"))\n",
        "\n",
        "print(f\"Area of triangle with base {base} & height {height} = {area_of_triangle(base, height)}\")"
      ],
      "metadata": {
        "colab": {
          "base_uri": "https://localhost:8080/"
        },
        "id": "lX2IarT9RuLj",
        "outputId": "839f057f-8600-4f55-dd21-478924c153c5"
      },
      "execution_count": 20,
      "outputs": [
        {
          "output_type": "stream",
          "name": "stdout",
          "text": [
            "Enter base value of Triangle: 3\n",
            "Enter height value of Triangle: 5\n",
            "Area of triangle with base 3 & height 5 = 7.5\n"
          ]
        }
      ]
    },
    {
      "cell_type": "markdown",
      "source": [
        "### 4. Write a Python program to swap two variables?"
      ],
      "metadata": {
        "id": "K_IUymn4RuXd"
      }
    },
    {
      "cell_type": "code",
      "source": [
        "def swap_value(A, B):\n",
        "  temp = A\n",
        "  A = B\n",
        "  B = temp\n",
        "  return A, B\n",
        "\n",
        "var_A = input(\"Enter value for A: \")\n",
        "var_B = input(\"Enter value for B: \")\n",
        "\n",
        "swap_A,swap_B = swap_value(var_A, var_B)\n",
        "\n",
        "print(f\"Original values for A is {var_A} & for B is {var_B}\")\n",
        "print(f\"Swapped values for A is {swap_A} & for B is {swap_B}\")"
      ],
      "metadata": {
        "colab": {
          "base_uri": "https://localhost:8080/"
        },
        "id": "oagGwbhuRui8",
        "outputId": "81b3ec7e-ee11-4a73-b614-f870a0154094"
      },
      "execution_count": 22,
      "outputs": [
        {
          "output_type": "stream",
          "name": "stdout",
          "text": [
            "Enter value for A: 4\n",
            "Enter value for B: 9\n",
            "Original values for A is 4 & for B is 9\n",
            "Swapped values for A is 9 & for B is 4\n"
          ]
        }
      ]
    },
    {
      "cell_type": "markdown",
      "source": [
        "### 5. Write a Python program to generate a random number?9"
      ],
      "metadata": {
        "id": "RBdSm2NnRsa6"
      }
    },
    {
      "cell_type": "code",
      "source": [
        "## Program to generate random number between 0 & 9\n",
        "import random \n",
        "\n",
        "def generate_num():\n",
        "  return random.randint(0,9)\n",
        "\n",
        "print(f\"Random number between 0 & 9 is {generate_num()}\")\n"
      ],
      "metadata": {
        "colab": {
          "base_uri": "https://localhost:8080/"
        },
        "id": "o2LYSAZ7RslU",
        "outputId": "d0ae3434-e08a-4639-ac17-cc522850e9e1"
      },
      "execution_count": 26,
      "outputs": [
        {
          "output_type": "stream",
          "name": "stdout",
          "text": [
            "Random number between 0 & 9 is 6\n"
          ]
        }
      ]
    },
    {
      "cell_type": "code",
      "source": [],
      "metadata": {
        "id": "-2g2NExFW9SZ"
      },
      "execution_count": null,
      "outputs": []
    }
  ]
}