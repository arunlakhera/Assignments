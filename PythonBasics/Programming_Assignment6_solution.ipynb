{
  "nbformat": 4,
  "nbformat_minor": 0,
  "metadata": {
    "colab": {
      "provenance": []
    },
    "kernelspec": {
      "name": "python3",
      "display_name": "Python 3"
    },
    "language_info": {
      "name": "python"
    }
  },
  "cells": [
    {
      "cell_type": "markdown",
      "source": [
        "### 1. Write a Python Program to Display Fibonacci Sequence Using Recursion?\n"
      ],
      "metadata": {
        "id": "02BuCVA4noXC"
      }
    },
    {
      "cell_type": "code",
      "source": [
        "## Program to Display Fibonacci Sequence using recursion\n",
        "\n",
        "def find_fibo(user_num):\n",
        "  if user_num <= 1:\n",
        "    return 1\n",
        "  else:\n",
        "    return (find_fibo(user_num - 1) + find_fibo(user_num - 2))\n",
        "\n",
        "print(\"Program to Display Fibonacci Sequence using recursion\")\n",
        "print(\"-----------------------------------------------------\")\n",
        "\n",
        "user_num = int(input(\"Enter a number: \"))\n",
        "\n",
        "if user_num <= 0:\n",
        "  print(\"Please enter positive number\")\n",
        "else:\n",
        "  print(f\"{user_num} Fibonacci Sequence:\")\n",
        "  for i in range(user_num):\n",
        "    print(find_fibo(i), end = \" \")\n"
      ],
      "metadata": {
        "colab": {
          "base_uri": "https://localhost:8080/"
        },
        "id": "qR3ndN0qzGZz",
        "outputId": "88745abf-e77c-499f-82b9-1c8fa6611621"
      },
      "execution_count": 14,
      "outputs": [
        {
          "output_type": "stream",
          "name": "stdout",
          "text": [
            "Program to Display Fibonacci Sequence using recursion\n",
            "-----------------------------------------------------\n",
            "Enter a number: 10\n",
            "10 Fibonacci Sequence:\n",
            "1 1 2 3 5 8 13 21 34 55 "
          ]
        }
      ]
    },
    {
      "cell_type": "markdown",
      "source": [
        "### 2. Write a Python Program to Find Factorial of Number Using Recursion?\n"
      ],
      "metadata": {
        "id": "K8hfM6Clnr_c"
      }
    },
    {
      "cell_type": "code",
      "source": [
        "## Program to Find Factorial of Number Using Recursion\n",
        "\n",
        "def find_fact(user_num):\n",
        "  if user_num == 1:\n",
        "    return 1\n",
        "  return user_num * find_fact(user_num - 1)\n",
        "\n",
        "print(\"Program to Find Factorial of Number Using Recursion\")\n",
        "print(\"---------------------------------------------------\")\n",
        "\n",
        "user_num = int(input(\"Enter a number: \"))\n",
        "\n",
        "print(f\"Factorial of {user_num} is {find_fact(user_num)}\")"
      ],
      "metadata": {
        "colab": {
          "base_uri": "https://localhost:8080/"
        },
        "id": "oDjcQPtWzNrS",
        "outputId": "69213158-a25a-424c-b996-a95fe1ecb0f1"
      },
      "execution_count": 2,
      "outputs": [
        {
          "output_type": "stream",
          "name": "stdout",
          "text": [
            "Program to Find Factorial of Number Using Recursion\n",
            "---------------------------------------------------\n",
            "Enter a number: 6\n",
            "Factorial of 6 is 720\n"
          ]
        }
      ]
    },
    {
      "cell_type": "markdown",
      "source": [
        "### 3. Write a Python Program to calculate your Body Mass Index?\n"
      ],
      "metadata": {
        "id": "cNQdHJE8nsDR"
      }
    },
    {
      "cell_type": "code",
      "source": [
        "## Program to calculate Body Mass Index\n",
        "def calculate_BMI(weight, height):\n",
        "  return float(weight / height**2)\n",
        "\n",
        "print(\"Program to calculate Body Mass Index\")\n",
        "print(\"------------------------------------\")\n",
        "\n",
        "w = int(input(\"Enter weight in kg: \"))\n",
        "h = float(input(\"Enter height in meters: \"))\n",
        "\n",
        "print(f\"BMI is {calculate_BMI(w, h)}\")"
      ],
      "metadata": {
        "colab": {
          "base_uri": "https://localhost:8080/"
        },
        "id": "thh5OMN8N8gI",
        "outputId": "2bcbe7fa-f2ff-4226-a76a-86e754f60a43"
      },
      "execution_count": 17,
      "outputs": [
        {
          "output_type": "stream",
          "name": "stdout",
          "text": [
            "Program to calculate Body Mass Index\n",
            "------------------------------------\n",
            "Enter weight in kg: 72\n",
            "Enter height in meters: 1.76\n",
            "BMI is 23.243801652892564\n"
          ]
        }
      ]
    },
    {
      "cell_type": "markdown",
      "source": [
        "### 4. Write a Python Program to calculate the natural logarithm of any number?\n"
      ],
      "metadata": {
        "id": "CqtecJmxnsHY"
      }
    },
    {
      "cell_type": "code",
      "source": [
        "## Program to calculate Natural Logarithm of any number\n",
        "import math\n",
        "\n",
        "def calc_log(x):\n",
        "  return math.log(x)\n",
        "print(\"Program to calculate Natural Logarithm of any number\")\n",
        "print(\"----------------------------------------------------\")\n",
        "\n",
        "user_num = int(input(\"Enter any number: \"))\n",
        "\n",
        "print(f\"Natural Logarithm of {user_num} is {calc_log(user_num)}\")"
      ],
      "metadata": {
        "colab": {
          "base_uri": "https://localhost:8080/"
        },
        "id": "wnm0WAPOPfMK",
        "outputId": "3af27998-2182-4631-aa01-44472848883e"
      },
      "execution_count": 21,
      "outputs": [
        {
          "output_type": "stream",
          "name": "stdout",
          "text": [
            "Program to calculate Natural Logarithm of any number\n",
            "----------------------------------------------------\n",
            "Enter any number: 14\n",
            "Natural Logarithm of 14 is 2.6390573296152584\n"
          ]
        }
      ]
    },
    {
      "cell_type": "markdown",
      "source": [
        "### 5. Write a Python Program for cube sum of first n natural numbers?"
      ],
      "metadata": {
        "id": "t7XbbFOLnsPe"
      }
    },
    {
      "cell_type": "code",
      "execution_count": 20,
      "metadata": {
        "colab": {
          "base_uri": "https://localhost:8080/"
        },
        "id": "LH8lA3XinkJS",
        "outputId": "1314fd1b-3a72-4a0a-e283-cd4df16f6ce6"
      },
      "outputs": [
        {
          "output_type": "stream",
          "name": "stdout",
          "text": [
            "Program for cube sum of first n natural numbers\n",
            "-----------------------------------------------\n",
            "Enter any number: 3\n",
            "Cube Sum of all Natural Numbers till 3 is 36\n"
          ]
        }
      ],
      "source": [
        "## Program for cube sum of first n natural numbers\n",
        "\n",
        "def cube_sum(x):\n",
        "  c_sum = 0\n",
        "  for i in range(1, x + 1):\n",
        "    c_sum = c_sum + (i*i*i)\n",
        "  return c_sum\n",
        "  \n",
        "print(\"Program for cube sum of first n natural numbers\")\n",
        "print(\"-----------------------------------------------\")\n",
        "\n",
        "user_num = int(input(\"Enter any number: \"))\n",
        "\n",
        "print(f\"Cube Sum of all Natural Numbers till {user_num} is {cube_sum(user_num)}\")"
      ]
    },
    {
      "cell_type": "code",
      "source": [],
      "metadata": {
        "id": "I1LI9RduReG1"
      },
      "execution_count": null,
      "outputs": []
    }
  ]
}