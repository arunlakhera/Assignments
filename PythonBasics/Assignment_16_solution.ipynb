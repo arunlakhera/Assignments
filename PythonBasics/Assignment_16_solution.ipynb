{
 "cells": [
  {
   "cell_type": "markdown",
   "id": "d469ee02",
   "metadata": {},
   "source": [
    "## 1. Create a list called years_list, starting with the year of your birth, and each year thereafter until the year of your fifth birthday. For example, if you were born in 1980. the list would be years_list = [1980, 1981, 1982, 1983, 1984, 1985]."
   ]
  },
  {
   "cell_type": "code",
   "execution_count": 14,
   "id": "e828bf73",
   "metadata": {},
   "outputs": [
    {
     "data": {
      "text/plain": [
       "[1980, 1981, 1982, 1983, 1984]"
      ]
     },
     "execution_count": 14,
     "metadata": {},
     "output_type": "execute_result"
    }
   ],
   "source": [
    "birth_year = 1980\n",
    "years_list = [y for y in range(birth_year, birth_year + 5)]\n",
    "years_list"
   ]
  },
  {
   "cell_type": "markdown",
   "id": "03b8333b",
   "metadata": {},
   "source": [
    "## 2. In which year in years_list was your third birthday? Remember, you were 0 years of age for your first year.\n"
   ]
  },
  {
   "cell_type": "code",
   "execution_count": 15,
   "id": "31e1506f",
   "metadata": {},
   "outputs": [
    {
     "name": "stdout",
     "output_type": "stream",
     "text": [
      "My Third Birthday was in the year: 1982\n"
     ]
    }
   ],
   "source": [
    "print(f\"My Third Birthday was in the year: {years_list[2]}\")"
   ]
  },
  {
   "cell_type": "markdown",
   "id": "a0e20f80",
   "metadata": {},
   "source": [
    "## 3.In the years list, which year were you the oldest?\n"
   ]
  },
  {
   "cell_type": "code",
   "execution_count": 16,
   "id": "f7845b75",
   "metadata": {},
   "outputs": [
    {
     "name": "stdout",
     "output_type": "stream",
     "text": [
      "1984\n"
     ]
    }
   ],
   "source": [
    "print(max(years_list))"
   ]
  },
  {
   "cell_type": "markdown",
   "id": "a1bb7ceb",
   "metadata": {},
   "source": [
    "## 4. Make a list called things with these three strings as elements: \"mozzarella\", \"cinderella\", \"salmonella\".\n"
   ]
  },
  {
   "cell_type": "code",
   "execution_count": 17,
   "id": "cc400a46",
   "metadata": {},
   "outputs": [],
   "source": [
    "things = [\"mozzarella\", \"cinderella\", \"salmonella\"]"
   ]
  },
  {
   "cell_type": "markdown",
   "id": "5c85049e",
   "metadata": {},
   "source": [
    "## 5. Capitalize the element in things that refers to a person and then print the list. Did it change the element in the list?"
   ]
  },
  {
   "cell_type": "code",
   "execution_count": 23,
   "id": "847ca709",
   "metadata": {},
   "outputs": [
    {
     "name": "stdout",
     "output_type": "stream",
     "text": [
      "CINDERELLA\n",
      "['mozzarella', 'cinderella', 'salmonella']\n"
     ]
    }
   ],
   "source": [
    "print(things[1].upper())\n",
    "\n",
    "print(things)"
   ]
  },
  {
   "cell_type": "markdown",
   "id": "ea2381e9",
   "metadata": {},
   "source": [
    "No it did not change the element in the list"
   ]
  },
  {
   "cell_type": "markdown",
   "id": "c808bdb4",
   "metadata": {},
   "source": [
    "## 6. Make a surprise list with the elements \"Groucho,\" \"Chico,\" and \"Harpo.\""
   ]
  },
  {
   "cell_type": "code",
   "execution_count": 26,
   "id": "76e76ec3",
   "metadata": {},
   "outputs": [],
   "source": [
    "surprise = [\"Groucho\",\"Chico,\", \"Harpo\"]"
   ]
  },
  {
   "cell_type": "markdown",
   "id": "efb31377",
   "metadata": {},
   "source": [
    "## 7. Lowercase the last element of the surprise list, reverse it, and then capitalize it."
   ]
  },
  {
   "cell_type": "code",
   "execution_count": 33,
   "id": "f81773a8",
   "metadata": {},
   "outputs": [
    {
     "name": "stdout",
     "output_type": "stream",
     "text": [
      "harpo\n",
      "oprah\n",
      "OPRAH\n"
     ]
    }
   ],
   "source": [
    "print(surprise[2].lower())\n",
    "print(surprise[2].lower()[::-1])\n",
    "print(surprise[2].lower()[::-1].upper())"
   ]
  },
  {
   "cell_type": "markdown",
   "id": "dd90acee",
   "metadata": {},
   "source": [
    "## 8. Make an English-to-French dictionary called e2f and print it. Here are your starter words: dog is chien, cat is chat, and walrus is morse."
   ]
  },
  {
   "cell_type": "code",
   "execution_count": 41,
   "id": "e3ea0c4c",
   "metadata": {},
   "outputs": [],
   "source": [
    "e2f = {'dog':'chien', 'cat':'chat','walrus': 'morse'}"
   ]
  },
  {
   "cell_type": "markdown",
   "id": "76ade5d4",
   "metadata": {},
   "source": [
    "## 9. Write the French word for walrus in your three-word dictionary e2f."
   ]
  },
  {
   "cell_type": "code",
   "execution_count": 42,
   "id": "cf89a9dd",
   "metadata": {},
   "outputs": [
    {
     "name": "stdout",
     "output_type": "stream",
     "text": [
      "French word for walrus is morse\n"
     ]
    }
   ],
   "source": [
    "print(f\"French word for walrus is {e2f['walrus']}\")"
   ]
  },
  {
   "cell_type": "markdown",
   "id": "898b868d",
   "metadata": {},
   "source": [
    "## 10. Make a French-to-English dictionary called f2e from e2f. Use the items method."
   ]
  },
  {
   "cell_type": "code",
   "execution_count": 45,
   "id": "529bfb1d",
   "metadata": {},
   "outputs": [
    {
     "data": {
      "text/plain": [
       "{'chien': 'dog', 'chat': 'cat', 'morse': 'walrus'}"
      ]
     },
     "execution_count": 45,
     "metadata": {},
     "output_type": "execute_result"
    }
   ],
   "source": [
    "f2e = dict()\n",
    "for k,v in e2f.items():\n",
    "    f2e[v] = k\n",
    "\n",
    "f2e"
   ]
  },
  {
   "cell_type": "markdown",
   "id": "cda420b0",
   "metadata": {},
   "source": [
    "## 11. Print the English version of the French word chien using f2e."
   ]
  },
  {
   "cell_type": "code",
   "execution_count": 46,
   "id": "a03a158c",
   "metadata": {},
   "outputs": [
    {
     "data": {
      "text/plain": [
       "'dog'"
      ]
     },
     "execution_count": 46,
     "metadata": {},
     "output_type": "execute_result"
    }
   ],
   "source": [
    "f2e['chien']"
   ]
  },
  {
   "cell_type": "markdown",
   "id": "01f5059d",
   "metadata": {},
   "source": [
    "## 12. Make and print a set of English words from the keys in e2f."
   ]
  },
  {
   "cell_type": "code",
   "execution_count": 54,
   "id": "9cfb8b52",
   "metadata": {},
   "outputs": [
    {
     "data": {
      "text/plain": [
       "{'cat', 'dog', 'walrus'}"
      ]
     },
     "execution_count": 54,
     "metadata": {},
     "output_type": "execute_result"
    }
   ],
   "source": [
    "e2f_set = set()\n",
    "for k in e2f.keys():\n",
    "    e2f_set.add(k)\n",
    "e2f_set"
   ]
  },
  {
   "cell_type": "markdown",
   "id": "59bc0603",
   "metadata": {},
   "source": [
    "## 13. Make a multilevel dictionary called life. Use these strings for the topmost keys: 'animals', 'plants', and 'other'. Make the 'animals' key refer to another dictionary with the keys 'cats', 'octopi', and 'emus'. Make the 'cats' key refer to a list of strings with the values 'Henri', 'Grumpy', and 'Lucy'. Make all the other keys refer to empty dictionaries."
   ]
  },
  {
   "cell_type": "code",
   "execution_count": 55,
   "id": "9bc32ffe",
   "metadata": {},
   "outputs": [],
   "source": [
    "life = {'animals': {'cats':['Henri', 'Grumpy', 'Lucy'],'octopi':{}, 'emus':{}},'plants':{},'other':{}}"
   ]
  },
  {
   "cell_type": "markdown",
   "id": "73b7623a",
   "metadata": {},
   "source": [
    "## 14. Print the top-level keys of life."
   ]
  },
  {
   "cell_type": "code",
   "execution_count": 56,
   "id": "b4c61dde",
   "metadata": {},
   "outputs": [
    {
     "name": "stdout",
     "output_type": "stream",
     "text": [
      "animals\n",
      "plants\n",
      "other\n"
     ]
    }
   ],
   "source": [
    "for k in life.keys():\n",
    "    print(k)"
   ]
  },
  {
   "cell_type": "markdown",
   "id": "e0b9105c",
   "metadata": {},
   "source": [
    "## 15. Print the keys for life['animals']."
   ]
  },
  {
   "cell_type": "code",
   "execution_count": 57,
   "id": "50ea40fa",
   "metadata": {},
   "outputs": [
    {
     "name": "stdout",
     "output_type": "stream",
     "text": [
      "cats\n",
      "octopi\n",
      "emus\n"
     ]
    }
   ],
   "source": [
    "for k in life['animals'].keys():\n",
    "    print(k)"
   ]
  },
  {
   "cell_type": "markdown",
   "id": "4617c95b",
   "metadata": {},
   "source": [
    "## 16. Print the values for life['animals']['cats']"
   ]
  },
  {
   "cell_type": "code",
   "execution_count": 67,
   "id": "2f9c71d3",
   "metadata": {},
   "outputs": [
    {
     "name": "stdout",
     "output_type": "stream",
     "text": [
      "['Henri', 'Grumpy', 'Lucy']\n"
     ]
    }
   ],
   "source": [
    "print(life['animals']['cats'])"
   ]
  }
 ],
 "metadata": {
  "kernelspec": {
   "display_name": "Python 3 (ipykernel)",
   "language": "python",
   "name": "python3"
  },
  "language_info": {
   "codemirror_mode": {
    "name": "ipython",
    "version": 3
   },
   "file_extension": ".py",
   "mimetype": "text/x-python",
   "name": "python",
   "nbconvert_exporter": "python",
   "pygments_lexer": "ipython3",
   "version": "3.10.9"
  }
 },
 "nbformat": 4,
 "nbformat_minor": 5
}
