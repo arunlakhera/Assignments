{
  "nbformat": 4,
  "nbformat_minor": 0,
  "metadata": {
    "colab": {
      "provenance": []
    },
    "kernelspec": {
      "name": "python3",
      "display_name": "Python 3"
    },
    "language_info": {
      "name": "python"
    }
  },
  "cells": [
    {
      "cell_type": "markdown",
      "source": [
        "### 1. Write a Python program to Extract Unique values dictionary values?\n"
      ],
      "metadata": {
        "id": "1_69Omxs8YKW"
      }
    },
    {
      "cell_type": "code",
      "source": [
        "## Program to Extract unique values dictionary values\n",
        "def uniq_values(x_dict):\n",
        "  value_list = []\n",
        "  for v in my_dict.values():\n",
        "    value_list.extend(v)\n",
        "  return set(value_list)\n",
        "\n",
        "my_dict = {'key1': [1,2,3,4],'key2': [30,3,9],'key3':[10,4,12,5],'key4':[4,8,12,109],'key5':[130,12,8],'key6':[80,1,3,9]}\n",
        "\n",
        "print(\"Program to Extract unique values dictionary values\")\n",
        "print(\"--------------------------------------------------\")\n",
        "print(f\"Original Dictionary: {my_dict}\")\n",
        "print(f\"Unique Values: {uniq_values(my_dict)}\")\n"
      ],
      "metadata": {
        "colab": {
          "base_uri": "https://localhost:8080/"
        },
        "id": "Ve0usR-l8qXn",
        "outputId": "be8d4a0d-d2f4-4d42-a62c-9f74e13c50cd"
      },
      "execution_count": 3,
      "outputs": [
        {
          "output_type": "stream",
          "name": "stdout",
          "text": [
            "Program to Extract unique values dictionary values\n",
            "--------------------------------------------------\n",
            "Original Dictionary: {'key1': [1, 2, 3, 4], 'key2': [30, 3, 9], 'key3': [10, 4, 12, 5], 'key4': [4, 8, 12, 109], 'key5': [130, 12, 8], 'key6': [80, 1, 3, 9]}\n",
            "Unique Values: {1, 2, 3, 4, 5, 130, 8, 9, 10, 12, 109, 80, 30}\n"
          ]
        }
      ]
    },
    {
      "cell_type": "markdown",
      "source": [
        "### 2. Write a Python program to find the sum of all items in a dictionary?\n"
      ],
      "metadata": {
        "id": "aOHiGuax8YrM"
      }
    },
    {
      "cell_type": "code",
      "source": [
        "## Program to find the sum of all items in a dictionary\n",
        "def dict_sum(dict):\n",
        "  dict_sum = 0\n",
        "  for v in dict.values():\n",
        "    dict_sum += v\n",
        "  return dict_sum\n",
        "  \n",
        "my_dict = {'a': 10, 'b': 20, 'c': 15, 'd': 12, 'e':23}\n",
        "\n",
        "print(\"Program to Extract unique values dictionary values\")\n",
        "print(\"--------------------------------------------------\")\n",
        "\n",
        "print(f\"Dictionary : {my_dict}\")\n",
        "print(f\"Sum of Dictionary [For Loop]: {dict_sum(my_dict)}\")\n",
        "\n",
        "print(f\"Sum of Dictionary [sum() function]: {sum(my_dict.values())}\")"
      ],
      "metadata": {
        "colab": {
          "base_uri": "https://localhost:8080/"
        },
        "id": "Jm1ssZW4Uga4",
        "outputId": "7e174b0a-d681-4540-f38d-b38c596ece67"
      },
      "execution_count": 23,
      "outputs": [
        {
          "output_type": "stream",
          "name": "stdout",
          "text": [
            "Program to Extract unique values dictionary values\n",
            "--------------------------------------------------\n",
            "Dictionary : {'a': 10, 'b': 20, 'c': 15, 'd': 12, 'e': 23}\n",
            "Sum of Dictionary [For Loop]: 80\n",
            "Sum of Dictionary [sum() function]: 80\n"
          ]
        }
      ]
    },
    {
      "cell_type": "markdown",
      "source": [
        "### 3. Write a Python program to Merging two Dictionaries?\n"
      ],
      "metadata": {
        "id": "f2uLxelC8Ytt"
      }
    },
    {
      "cell_type": "code",
      "source": [
        "## Program to Merge two dictionaries\n",
        "def merge_dict(x_dict, y_dict):\n",
        "  x_dict.update(y_dict)\n",
        "  return x_dict\n",
        "    \n",
        "print(\"Program to Merge two dictionaries\")\n",
        "print(\"---------------------------------\")\n",
        "\n",
        "d1 = {\"Name\": \"Damian Joe\", \"Age\":35, \"City\":\"Kottayam\"}\n",
        "d2 = {\"Eng\": 78, \"Math\": 85, \"Science\":77}\n",
        "\n",
        "m_dict = merge_dict(d1.copy(), d2)\n",
        "\n",
        "print(f\"Dictionary 1: {d1}\")\n",
        "print(f\"Dictionary 2: {d2}\")\n",
        "print(f\"Merged Dictionary: {m_dict}\")"
      ],
      "metadata": {
        "colab": {
          "base_uri": "https://localhost:8080/"
        },
        "id": "82fct_mS4B8m",
        "outputId": "22f75f86-ad0f-4b2e-84ba-873e26d2d776"
      },
      "execution_count": 24,
      "outputs": [
        {
          "output_type": "stream",
          "name": "stdout",
          "text": [
            "Program to Merge two dictionaries\n",
            "---------------------------------\n",
            "Dictionary 1: {'Name': 'Damian Joe', 'Age': 35, 'City': 'Kottayam'}\n",
            "Dictionary 2: {'Eng': 78, 'Math': 85, 'Science': 77}\n",
            "Merged Dictionary: {'Name': 'Damian Joe', 'Age': 35, 'City': 'Kottayam', 'Eng': 78, 'Math': 85, 'Science': 77}\n"
          ]
        }
      ]
    },
    {
      "cell_type": "markdown",
      "source": [
        "### 4. Write a Python program to convert key-values list to flat dictionary?\n"
      ],
      "metadata": {
        "id": "c5mZNfLq8YwV"
      }
    },
    {
      "cell_type": "code",
      "source": [
        "## Program to convert key-values list to flat dictionary\n",
        "def flat_dict(x_dict):\n",
        "  flat_dict = dict(zip(x_dict['Names'], x_dict['Age']))\n",
        "  print(flat_dict)\n",
        "\n",
        "print(\"Program to convert key-values list to flat dictionary\")\n",
        "print(\"-----------------------------------------------------\")\n",
        "\n",
        "my_dict = {\"Names\":[\"Amit\",\"Nishant\",\"Sachin\"], \"Age\":[20,19,16]}\n",
        "\n",
        "flat_dict(my_dict)\n",
        "\n"
      ],
      "metadata": {
        "colab": {
          "base_uri": "https://localhost:8080/"
        },
        "id": "W9cTAlga9GTj",
        "outputId": "49c6d501-b3db-493f-bab7-1b51efb5ad6b"
      },
      "execution_count": 24,
      "outputs": [
        {
          "output_type": "stream",
          "name": "stdout",
          "text": [
            "Program to convert key-values list to flat dictionary\n",
            "-----------------------------------------------------\n",
            "{'Amit': 20, 'Nishant': 19, 'Sachin': 16}\n"
          ]
        }
      ]
    },
    {
      "cell_type": "markdown",
      "source": [
        "### 5. Write a Python program to insertion at the beginning in OrderedDict?\n"
      ],
      "metadata": {
        "id": "GchOFIZw8Yyn"
      }
    },
    {
      "cell_type": "code",
      "source": [
        "## Program to insert at the beginning in OrderedDict\n",
        "from collections import OrderedDict\n",
        "\n",
        "print(\"Program to insert at the beginning in OrderedDict\")\n",
        "print(\"-------------------------------------------------\")\n",
        "\n",
        "orig_dict = OrderedDict({\"b\":2, \"c\":3, \"d\":4})\n",
        "\n",
        "print(\"Original Dictionary:\")\n",
        "for k,v in orig_dict.items():\n",
        "  print(f\"{k} --> {v}\")\n",
        "\n",
        "print(\"\\nAfter Insert & Moving to Beginning\")\n",
        "orig_dict.update({\"a\":1})\n",
        "orig_dict.move_to_end(\"a\", last=False)\n",
        "\n",
        "for k,v in orig_dict.items():\n",
        "  print(f\"{k} --> {v}\")\n"
      ],
      "metadata": {
        "colab": {
          "base_uri": "https://localhost:8080/"
        },
        "id": "prY4v_XGVM5u",
        "outputId": "d67fe862-858c-43c7-f14a-ae9aae9448de"
      },
      "execution_count": 11,
      "outputs": [
        {
          "output_type": "stream",
          "name": "stdout",
          "text": [
            "Original Dictionary:\n",
            "b --> 2\n",
            "c --> 3\n",
            "d --> 4\n",
            "\n",
            "After Insert & Moving to Beginning\n",
            "a --> 1\n",
            "b --> 2\n",
            "c --> 3\n",
            "d --> 4\n"
          ]
        }
      ]
    },
    {
      "cell_type": "markdown",
      "source": [
        "### 6. Write a Python program to check order of character in string using OrderedDict()?\n"
      ],
      "metadata": {
        "id": "Hn2mMVlw8lUT"
      }
    },
    {
      "cell_type": "code",
      "source": [
        "## Program to check order of character in string using OrderedDict()\n",
        "from collections import OrderedDict\n",
        "\n",
        "def checkOrder(input_str, pattern_str):\n",
        "  dict = OrderedDict.fromkeys(input_str)\n",
        "  len_of_pattern = len(pattern_str)\n",
        "  pattern_count = 0\n",
        "  for key in dict.keys():\n",
        "    if key == pattern_str[pattern_count]:\n",
        "      pattern_count += 1\n",
        "    \n",
        "    if pattern_count == len_of_pattern:\n",
        "      return True\n",
        "  \n",
        "  return False\n",
        "    \n",
        "\n",
        "print(\"Program to check order of character in string using OrderedDict()\")\n",
        "print(\"-----------------------------------------------------------------\")\n",
        "\n",
        "input_str = \"great to hear news\"\n",
        "patrn_str = \"go\"\n",
        "\n",
        "print(f\"Does {patrn_str} exists in {input_str} : {checkOrder(input_str, patrn_str)}\")"
      ],
      "metadata": {
        "colab": {
          "base_uri": "https://localhost:8080/"
        },
        "id": "8zPpR6D1QehF",
        "outputId": "2f4d5b00-f1cf-4d63-cc48-7f5a4e6bf8e8"
      },
      "execution_count": 4,
      "outputs": [
        {
          "output_type": "stream",
          "name": "stdout",
          "text": [
            "Program to check order of character in string using OrderedDict()\n",
            "-----------------------------------------------------------------\n",
            "Does go exists in great to hear news : True\n"
          ]
        }
      ]
    },
    {
      "cell_type": "markdown",
      "source": [
        "### 7. Write a Python program to sort Python Dictionaries by Key or Value?"
      ],
      "metadata": {
        "id": "i9Kys_b-8lag"
      }
    },
    {
      "cell_type": "code",
      "execution_count": 3,
      "metadata": {
        "colab": {
          "base_uri": "https://localhost:8080/"
        },
        "id": "YEzBsLB38VhS",
        "outputId": "81afc289-d4a1-4c8b-8eac-669b3e314ae2"
      },
      "outputs": [
        {
          "output_type": "stream",
          "name": "stdout",
          "text": [
            "Program to sort Python Dictionaries by key or value\n",
            "---------------------------------------------------\n",
            "Original Dictionary: {2: 'b', 1: 'a', 3: 'c', 4: 'e', 5: 'd'}\n",
            "Sorted Dictionary [key]: [(1, 'a'), (2, 'b'), (3, 'c'), (4, 'e'), (5, 'd')]\n",
            "Sorted Dictionary [value]: [('a', 1), ('b', 2), ('c', 3), ('d', 5), ('e', 4)]\n"
          ]
        }
      ],
      "source": [
        "## Program to sort Python Dictionaries by key or value\n",
        "def sort_dict(x_dict):\n",
        "  sorted_dict_key = sorted((k,v) for k,v in x_dict.items())\n",
        "  sorted_dict_value = sorted((v,k) for k,v in x_dict.items())\n",
        "\n",
        "  print(f\"Original Dictionary: {x_dict}\")\n",
        "  print(f\"Sorted Dictionary [key]: {sorted_dict_key}\")\n",
        "  print(f\"Sorted Dictionary [value]: {sorted_dict_value}\")\n",
        "\n",
        "print(\"Program to sort Python Dictionaries by key or value\")\n",
        "print(\"---------------------------------------------------\")\n",
        "\n",
        "my_dict = {2: \"b\", 1: \"a\", 3: \"c\", 4: \"e\", 5: \"d\"}\n",
        "sort_dict(my_dict)\n"
      ]
    },
    {
      "cell_type": "code",
      "source": [],
      "metadata": {
        "id": "qN0G84eFDQ1g"
      },
      "execution_count": null,
      "outputs": []
    }
  ]
}