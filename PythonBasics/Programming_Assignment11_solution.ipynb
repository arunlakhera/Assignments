{
  "nbformat": 4,
  "nbformat_minor": 0,
  "metadata": {
    "colab": {
      "provenance": []
    },
    "kernelspec": {
      "name": "python3",
      "display_name": "Python 3"
    },
    "language_info": {
      "name": "python"
    }
  },
  "cells": [
    {
      "cell_type": "markdown",
      "source": [
        "### 1. Write a Python program to find words which are greater than given length k?\n"
      ],
      "metadata": {
        "id": "sFODlIIco11t"
      }
    },
    {
      "cell_type": "code",
      "source": [
        "## Program to find words which are greater than given length k\n",
        "def show_words(word_list, k):\n",
        "  for word in word_list:\n",
        "    if len(word) > k:\n",
        "      print(word)\n",
        "\n",
        "print(\"Program to find words which are greater than given length k\")\n",
        "print(\"-----------------------------------------------------------\")\n",
        "\n",
        "input_string = input(\"Enter a sentence: \")\n",
        "word_length = int(input(\"Enter minimum length of word you want to see: \"))\n",
        "\n",
        "words_list = input_string.split()\n",
        "\n",
        "print(f\"Words that have length greter than {word_length}\")\n",
        "show_words(words_list, word_length)\n"
      ],
      "metadata": {
        "colab": {
          "base_uri": "https://localhost:8080/"
        },
        "id": "xY2a-Hh8ImYq",
        "outputId": "9d54348f-a700-44f7-97ef-84515ebe5f50"
      },
      "execution_count": 9,
      "outputs": [
        {
          "output_type": "stream",
          "name": "stdout",
          "text": [
            "Program to find words which are greater than given length k\n",
            "-----------------------------------------------------------\n",
            "Enter a sentence: python is future embrace it\n",
            "Enter minimum length of word you want to see: 2\n",
            "Words that have length greter than 2\n",
            "python\n",
            "future\n",
            "embrace\n"
          ]
        }
      ]
    },
    {
      "cell_type": "markdown",
      "source": [
        "### 2. Write a Python program for removing i-th character from a string?\n"
      ],
      "metadata": {
        "id": "905N8lF3o1zI"
      }
    },
    {
      "cell_type": "code",
      "source": [
        "## Program for removing i-th chracter from a string\n",
        "\n",
        "def remove_char(input_str, pos):\n",
        "  new_str = \"\"\n",
        "  for i in range(len(input_str)):\n",
        "    if (pos - 1) != (i):\n",
        "      new_str += input_str[i]\n",
        "  return new_str\n",
        "\n",
        "print(\"Program for removing i-th chracter from a string\")\n",
        "print(\"------------------------------------------------\")\n",
        "\n",
        "input_string = input(\"Enter a string: \")\n",
        "pos = int(input(\"Enter position of character you want to remove: \"))\n",
        "\n",
        "# For loop\n",
        "print(f\"After Removal of {pos}th character [For Loop]: {remove_char(input_string, pos)}\")\n",
        "\n",
        "# List Comprehension\n",
        "new_str = input_string[:pos-1] + input_string[(pos):]\n",
        "print(f\"After Removal of {pos}th character [List Comprehension]: {new_str}\")\n"
      ],
      "metadata": {
        "colab": {
          "base_uri": "https://localhost:8080/"
        },
        "id": "7xp459PALYJG",
        "outputId": "3cd6779c-6703-4170-d84e-c2b08e67da1e"
      },
      "execution_count": 21,
      "outputs": [
        {
          "output_type": "stream",
          "name": "stdout",
          "text": [
            "Program for removing i-th chracter from a string\n",
            "------------------------------------------------\n",
            "Enter a string: this is working\n",
            "Enter position of character you want to remove: 9\n",
            "After Removal of 9th character [For Loop]: this is orking\n",
            "After Removal of 9th character [List Comprehension]: this is orking\n"
          ]
        }
      ]
    },
    {
      "cell_type": "markdown",
      "source": [
        "### 3. Write a Python program to split and join a string?\n"
      ],
      "metadata": {
        "id": "AvjTOl9ao1wP"
      }
    },
    {
      "cell_type": "code",
      "source": [
        "# Program to split and join a string\n",
        "def split_join(input_str):\n",
        "  split_string = input_str.split()\n",
        "  join_string = '-'.join(split_string)\n",
        "  return split_string, join_string\n",
        "\n",
        "print(\"Program to split and join a string\")\n",
        "print(\"----------------------------------\")\n",
        "\n",
        "input_str = input(\"Enter a string: \")\n",
        "\n",
        "split_str, join_str = split_join(input_str)\n",
        "\n",
        "print(f\"Split String: {split_str}\")\n",
        "print(f\"Join String: {join_str}\")"
      ],
      "metadata": {
        "colab": {
          "base_uri": "https://localhost:8080/"
        },
        "id": "ZQ8-HSuBbJ7w",
        "outputId": "16246932-f466-454b-efe9-d4e088342a11"
      },
      "execution_count": 24,
      "outputs": [
        {
          "output_type": "stream",
          "name": "stdout",
          "text": [
            "Program to split and join a string\n",
            "----------------------------------\n",
            "Enter a string: this is spilt and join\n",
            "Split String: ['this', 'is', 'spilt', 'and', 'join']\n",
            "Join String: this-is-spilt-and-join\n"
          ]
        }
      ]
    },
    {
      "cell_type": "markdown",
      "source": [
        "### 4. Write a Python to check if a given string is binary string or not?\n"
      ],
      "metadata": {
        "id": "vpV3q-iSo1tb"
      }
    },
    {
      "cell_type": "code",
      "source": [
        "# Program to check if a given string is binary string or not\n",
        "def check_binary(input_str):\n",
        "  binary_set = {'0','1'}\n",
        "  input_str_set = set(input_str)\n",
        "  if input_str_set == binary_set or input_str_set == {'0'} or input_str_set == {'1'}:\n",
        "    print(f\"{input_str} is a binary string\")\n",
        "  else:\n",
        "    print(f\"{input_str} is not a binary string\")\n",
        "\n",
        "print(\"Program to check if a given string is binary string or not\")\n",
        "print(\"----------------------------------------------------------\")\n",
        "\n",
        "input_str = input(\"Enter a string: \")\n",
        "check_binary(input_str)"
      ],
      "metadata": {
        "colab": {
          "base_uri": "https://localhost:8080/"
        },
        "id": "ixqDUFlpc-tk",
        "outputId": "5ddb34f0-8bbc-4b74-a511-08a2e4a148de"
      },
      "execution_count": 3,
      "outputs": [
        {
          "output_type": "stream",
          "name": "stdout",
          "text": [
            "Program to check if a given string is binary string or not\n",
            "----------------------------------------------------------\n",
            "Enter a string: 010120010\n",
            "010120010 is not a binary string\n"
          ]
        }
      ]
    },
    {
      "cell_type": "markdown",
      "source": [
        "### 5. Write a Python program to find uncommon words from two Strings?\n"
      ],
      "metadata": {
        "id": "v1_iL52lo1qi"
      }
    },
    {
      "cell_type": "code",
      "source": [
        "## Program to find uncommon words from two strings\n",
        "def find_uncommon(str1, str2):\n",
        "  str1_set = set(str1)\n",
        "  str2_set = set(str2)\n",
        "\n",
        "  set1_diff = str1_set - str2_set\n",
        "  set2_diff = str2_set - str1_set\n",
        "\n",
        "  return set(list(set1_diff) + list(set2_diff))\n",
        "  \n",
        "print(\"Program to find uncommon words from two strings\")\n",
        "print(\"-----------------------------------------------\")\n",
        "\n",
        "input_str1 = input(\"Enter String 1: \")\n",
        "input_str2 = input(\"Enter String 2: \")\n",
        "\n",
        "uncommon_words = find_uncommon(input_str1.split(), input_str2.split())\n",
        "\n",
        "print(f\"String 1 {input_str1}\")\n",
        "print(f\"String 2 {input_str2}\")\n",
        "print(f\"Uncommon Words {uncommon_words}\")\n"
      ],
      "metadata": {
        "colab": {
          "base_uri": "https://localhost:8080/"
        },
        "id": "nxuRAQHJFisA",
        "outputId": "47c3eaae-b84b-4ea9-e9c5-785fbb4c7285"
      },
      "execution_count": 26,
      "outputs": [
        {
          "output_type": "stream",
          "name": "stdout",
          "text": [
            "Program to find uncommon words from two strings\n",
            "-----------------------------------------------\n",
            "Enter String 1: he is in great form\n",
            "Enter String 2: great form always works\n",
            "String 1 he is in great form\n",
            "String 2 great form always works\n",
            "Uncommon Words {'he', 'is', 'always', 'works', 'in'}\n"
          ]
        }
      ]
    },
    {
      "cell_type": "markdown",
      "source": [
        "### 6. Write a Python to find all duplicate characters in string?\n"
      ],
      "metadata": {
        "id": "YV9IhohUo1no"
      }
    },
    {
      "cell_type": "code",
      "source": [
        "## Program to find duplicate characters in string\n",
        "def find_duplicate(input_str):\n",
        "  char_count = 0\n",
        "  char_set = set(input_str)\n",
        "  for char in char_set:\n",
        "    char_count = input_str.count(char)\n",
        "    if char_count > 1:\n",
        "      print(f\"{char} occurs {char_count} times.\")\n",
        "\n",
        "print(\"Program to find duplicate characters in string\")\n",
        "print(\"----------------------------------------------\")\n",
        "\n",
        "user_string = input(\"Enter a string: \")\n",
        "find_duplicate(user_string)\n"
      ],
      "metadata": {
        "colab": {
          "base_uri": "https://localhost:8080/"
        },
        "id": "RWTjEUKv_f-w",
        "outputId": "336cc4f9-6844-4a81-d097-5e98f7532069"
      },
      "execution_count": 3,
      "outputs": [
        {
          "output_type": "stream",
          "name": "stdout",
          "text": [
            "Program to find duplicate characters in string\n",
            "----------------------------------------------\n",
            "Enter a string: introduction\n",
            "n occurs 2\n",
            "o occurs 2\n",
            "i occurs 2\n",
            "t occurs 2\n"
          ]
        }
      ]
    },
    {
      "cell_type": "markdown",
      "source": [
        "### 7. Write a Python Program to check if a string contains any special character?"
      ],
      "metadata": {
        "id": "0n5h58M4o1kf"
      }
    },
    {
      "cell_type": "code",
      "execution_count": 12,
      "metadata": {
        "colab": {
          "base_uri": "https://localhost:8080/"
        },
        "id": "SrslGEQSoCXN",
        "outputId": "1055d996-425d-4826-bf6a-776ca8094002"
      },
      "outputs": [
        {
          "output_type": "stream",
          "name": "stdout",
          "text": [
            "Program to check if a string contains any special character\n",
            "-----------------------------------------------------------\n",
            "Enter a string: this}contains#\n",
            "String contains special character: }\n"
          ]
        }
      ],
      "source": [
        "## Program to check if a string contains any special character\n",
        "def check_special(input_str):\n",
        "  special_char_list = '[@_!#$%^&*()<>?/\\|}{~:]'\n",
        "  \n",
        "  for char in input_str:\n",
        "    if char in special_char_list:\n",
        "      return char\n",
        "  return False\n",
        "\n",
        "print(\"Program to check if a string contains any special character\")\n",
        "print(\"-----------------------------------------------------------\")\n",
        "\n",
        "user_string = input(\"Enter a string: \")\n",
        "spl_char = check_special(user_string)\n",
        "if spl_char:\n",
        "  print(f\"String contains special character: {spl_char}\")\n",
        "else:\n",
        "  print(\"No Special Character found.\")"
      ]
    },
    {
      "cell_type": "code",
      "source": [],
      "metadata": {
        "id": "JPL_zO0vDrac"
      },
      "execution_count": null,
      "outputs": []
    }
  ]
}