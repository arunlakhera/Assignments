{
 "cells": [
  {
   "cell_type": "markdown",
   "id": "88da1c4e",
   "metadata": {},
   "source": [
    "## 1. What is the result of the code, and explain?\n",
    "\n",
    "\n",
    "### >>> X = 'iNeuron'\n",
    "### >>> def func():\n",
    "### print(X)\n",
    "\n",
    "\n",
    "### >>> func()\n"
   ]
  },
  {
   "cell_type": "code",
   "execution_count": 4,
   "id": "1d25c849",
   "metadata": {},
   "outputs": [
    {
     "name": "stdout",
     "output_type": "stream",
     "text": [
      "iNeuron\n"
     ]
    }
   ],
   "source": [
    "X = 'iNeuron'\n",
    "\n",
    "def func():\n",
    "    print(X)\n",
    "\n",
    "func()"
   ]
  },
  {
   "cell_type": "markdown",
   "id": "f610a385",
   "metadata": {},
   "source": [
    "As X has instance created outside the function its value is printed as soon as function call is made where the value of X is being printed."
   ]
  },
  {
   "cell_type": "markdown",
   "id": "105a7357",
   "metadata": {},
   "source": [
    "## 2. What is the result of the code, and explain?\n",
    "\n",
    "\n",
    "### >>> X = 'iNeuron'\n",
    "### >>> def func():\n",
    "### X = 'NI!'\n",
    "\n",
    "\n",
    "### >>> func()\n",
    "### >>> print(X)\n",
    "\n",
    "\n",
    "\n"
   ]
  },
  {
   "cell_type": "code",
   "execution_count": 6,
   "id": "176177ad",
   "metadata": {},
   "outputs": [
    {
     "name": "stdout",
     "output_type": "stream",
     "text": [
      "iNeuron\n"
     ]
    }
   ],
   "source": [
    "X = 'iNeuron'\n",
    "\n",
    "def func():\n",
    "    X = 'NI!'\n",
    "\n",
    "func()\n",
    "print(X)"
   ]
  },
  {
   "cell_type": "markdown",
   "id": "358ca1c5",
   "metadata": {},
   "source": [
    "Value of X defined inside the function has scope only within the function and not outside and hence the value of X defined outside is printed."
   ]
  },
  {
   "cell_type": "markdown",
   "id": "4cde0385",
   "metadata": {},
   "source": [
    "## 3. What does this code print, and why?\n",
    "\n",
    "\n",
    "### >>> X = 'iNeuron'\n",
    "### >>> def func():\n",
    "### X = 'NI'\n",
    "### print(X)\n",
    "\n",
    "\n",
    "### >>> func()\n",
    "### >>> print(X)\n",
    "\n",
    "\n"
   ]
  },
  {
   "cell_type": "code",
   "execution_count": 7,
   "id": "57c14472",
   "metadata": {},
   "outputs": [
    {
     "name": "stdout",
     "output_type": "stream",
     "text": [
      "NI!\n",
      "iNeuron\n"
     ]
    }
   ],
   "source": [
    "X = 'iNeuron'\n",
    "\n",
    "def func():\n",
    "    X = 'NI!'\n",
    "    print(X)\n",
    "\n",
    "func()\n",
    "print(X)"
   ]
  },
  {
   "cell_type": "markdown",
   "id": "c0049889",
   "metadata": {},
   "source": [
    "Value of X defined inside the function has scope only within the function so when the function is called the value of X inside the function is printed and when X is printed outside the function, the value of X defined outside the function is taken."
   ]
  },
  {
   "cell_type": "markdown",
   "id": "7f6f9194",
   "metadata": {},
   "source": [
    "## 4. What output does this code produce? Why?\n",
    "\n",
    "\n",
    "### >>> X = 'iNeuron'\n",
    "### >>> def func():\n",
    "### global X\n",
    "### X = 'NI'\n",
    "\n",
    "\n",
    "### >>> func()\n",
    "### >>> print(X)\n",
    "\n",
    "\n"
   ]
  },
  {
   "cell_type": "code",
   "execution_count": 8,
   "id": "1b5a7382",
   "metadata": {},
   "outputs": [
    {
     "name": "stdout",
     "output_type": "stream",
     "text": [
      "NI\n"
     ]
    }
   ],
   "source": [
    "X = 'iNeuron'\n",
    "\n",
    "def func():\n",
    "    global X\n",
    "    X = 'NI'\n",
    "\n",
    "func()\n",
    "print(X)"
   ]
  },
  {
   "cell_type": "markdown",
   "id": "6ef65947",
   "metadata": {},
   "source": [
    "As within function the X is declared gloabal so now when the value is changed for X, the change relfects in the original varable X as well"
   ]
  },
  {
   "cell_type": "markdown",
   "id": "286a3c1f",
   "metadata": {},
   "source": [
    "## 5. What about this code—what’s the output, and why?\n",
    "\n",
    "\n",
    "### >>> X = 'iNeuron'\n",
    "### >>> def func():\n",
    "### X = 'NI'\n",
    "### def nested():\n",
    "### print(X)\n",
    "### nested()\n",
    "\n",
    "\n",
    "### >>> func()\n",
    "### >>> X\n",
    "\n",
    "\n"
   ]
  },
  {
   "cell_type": "code",
   "execution_count": 9,
   "id": "cc05f393",
   "metadata": {},
   "outputs": [
    {
     "name": "stdout",
     "output_type": "stream",
     "text": [
      "NI\n"
     ]
    },
    {
     "data": {
      "text/plain": [
       "'iNeuron'"
      ]
     },
     "execution_count": 9,
     "metadata": {},
     "output_type": "execute_result"
    }
   ],
   "source": [
    "X = 'iNeuron'\n",
    "\n",
    "def func():\n",
    "    X = 'NI'\n",
    "    def nested():\n",
    "        print(X)\n",
    "    nested()\n",
    "\n",
    "func()\n",
    "X"
   ]
  },
  {
   "cell_type": "markdown",
   "id": "6ef8ac22",
   "metadata": {},
   "source": [
    "When func() is called the local variable X is printed which has scope within the execution of this function and since it has nested function within it, the nested function can access this value of X. The value of X defined outside the function fun() remains same and hence it is printed when we mention X"
   ]
  },
  {
   "cell_type": "markdown",
   "id": "68d90851",
   "metadata": {},
   "source": [
    "## 6. How about this code: what is its output in Python 3, and explain?\n",
    "\n",
    "\n",
    "### >>> def func():\n",
    "### X = 'NI'\n",
    "### def nested():\n",
    "### nonlocal X\n",
    "### X = 'Spam'\n",
    "### nested()\n",
    "### print(X)\n",
    "\n",
    "\n",
    "### >>> func()"
   ]
  },
  {
   "cell_type": "code",
   "execution_count": 10,
   "id": "2d8bfd79",
   "metadata": {},
   "outputs": [
    {
     "name": "stdout",
     "output_type": "stream",
     "text": [
      "Spam\n"
     ]
    }
   ],
   "source": [
    "def func():\n",
    "    X = 'NI'\n",
    "    def nested():\n",
    "        nonlocal X\n",
    "        X = 'Spam'\n",
    "    nested()\n",
    "    print(X)\n",
    "\n",
    "func()"
   ]
  },
  {
   "cell_type": "markdown",
   "id": "64321b75",
   "metadata": {},
   "source": [
    "Since we use nonlocal keyword we can access variable of parent and change its value. As a result the value is printed as s'spam' and not NI."
   ]
  },
  {
   "cell_type": "markdown",
   "id": "0c4e4efd",
   "metadata": {},
   "source": []
  },
  {
   "cell_type": "markdown",
   "id": "3a3b66bf",
   "metadata": {},
   "source": []
  },
  {
   "cell_type": "markdown",
   "id": "7343ba24",
   "metadata": {},
   "source": []
  }
 ],
 "metadata": {
  "kernelspec": {
   "display_name": "Python 3 (ipykernel)",
   "language": "python",
   "name": "python3"
  },
  "language_info": {
   "codemirror_mode": {
    "name": "ipython",
    "version": 3
   },
   "file_extension": ".py",
   "mimetype": "text/x-python",
   "name": "python",
   "nbconvert_exporter": "python",
   "pygments_lexer": "ipython3",
   "version": "3.10.9"
  }
 },
 "nbformat": 4,
 "nbformat_minor": 5
}
