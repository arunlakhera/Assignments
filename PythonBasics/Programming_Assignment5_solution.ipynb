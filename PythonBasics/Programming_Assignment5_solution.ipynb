{
  "nbformat": 4,
  "nbformat_minor": 0,
  "metadata": {
    "colab": {
      "provenance": [],
      "collapsed_sections": []
    },
    "kernelspec": {
      "name": "python3",
      "display_name": "Python 3"
    },
    "language_info": {
      "name": "python"
    }
  },
  "cells": [
    {
      "cell_type": "markdown",
      "source": [
        "### 1. Write a Python Program to Find LCM?\n"
      ],
      "metadata": {
        "id": "_5gKID5dn9Ip"
      }
    },
    {
      "cell_type": "code",
      "source": [
        "## Program to find LCM\n",
        "def find_hcf(x, y):\n",
        "  while(y):\n",
        "    x, y = y, x % y\n",
        "  return x\n",
        "\n",
        "def find_lcm(n1, n2):\n",
        "  lcm = int((n1 * n2)/ find_hcf(n1, n2))\n",
        "  return lcm\n",
        "\n",
        "print(\"Program to find LCM\")\n",
        "print(\"---------------------\")\n",
        "num1 = int(input(\"Enter a number: \"))\n",
        "num2 = int(input(\"Enter a number: \"))\n",
        "\n",
        "print(f\"For numbers {num1} & {num2}, LCM is {find_lcm(num1, num2)}\")"
      ],
      "metadata": {
        "colab": {
          "base_uri": "https://localhost:8080/"
        },
        "id": "Qd4sEgJmoJ58",
        "outputId": "d17f68fb-92fe-4870-e3fc-3b8e3e651ca2"
      },
      "execution_count": 19,
      "outputs": [
        {
          "output_type": "stream",
          "name": "stdout",
          "text": [
            "Program to find LCM\n",
            "---------------------\n",
            "Enter a number: 45\n",
            "Enter a number: 60\n",
            "For numbers 45 & 60, LCM is 180\n"
          ]
        }
      ]
    },
    {
      "cell_type": "markdown",
      "source": [
        "### 2. Write a Python Program to Find HCF?\n"
      ],
      "metadata": {
        "id": "biQRmXSRn9py"
      }
    },
    {
      "cell_type": "code",
      "source": [
        "## Program to find HCF\n",
        "def find_hcf(x, y):\n",
        "  while(y):\n",
        "    x, y = y, x % y\n",
        "  return x\n",
        "\n",
        "\n",
        "print(\"Program to find HCF\")\n",
        "print(\"---------------------\")\n",
        "\n",
        "num1 = int(input(\"Enter a number: \"))\n",
        "num2 = int(input(\"Enter a number: \"))\n",
        "\n",
        "print(f\"For numbers {num1} & {num2}, HCF is {find_hcf(num1, num2)}\")"
      ],
      "metadata": {
        "colab": {
          "base_uri": "https://localhost:8080/"
        },
        "id": "HMY9frcsoKex",
        "outputId": "9195519f-ca4b-4405-ddd4-04a94c525a51"
      },
      "execution_count": 20,
      "outputs": [
        {
          "output_type": "stream",
          "name": "stdout",
          "text": [
            "Program to find HCF\n",
            "---------------------\n",
            "Enter a number: 30\n",
            "Enter a number: 45\n",
            "For numbers 30 & 45, HCF is 15\n"
          ]
        }
      ]
    },
    {
      "cell_type": "markdown",
      "source": [
        "### 3. Write a Python Program to Convert Decimal to Binary, Octal and Hexadecimal?\n"
      ],
      "metadata": {
        "id": "KhjpcKMin95g"
      }
    },
    {
      "cell_type": "code",
      "source": [
        "## Program to convert Decimal to Binary, Octal and Hexadecimal\n",
        "\n",
        "def convert_number(x, convert_type):\n",
        "  convert_list = []\n",
        "  while(x > 0):\n",
        "    d = x % convert_type\n",
        "    convert_list.append(str(d))\n",
        "    x = int(x / convert_type)\n",
        "    if x < convert_type:  \n",
        "      convert_list.append(str(x))\n",
        "      x = 0\n",
        "  return ''.join(convert_list)[::-1]\n",
        "\n",
        "print(\"Program to convert Decimal to Binary, Octal and Hexadecimal\")\n",
        "print(\"-----------------------------------------------------------\")\n",
        "user_num = int(input(\"Enter a number: \"))\n",
        "\n",
        "print(f\"Binary Equivalent is: {convert_number(user_num, 2)}\")\n",
        "print(f\"Octal Equivalent is: {convert_number(user_num, 8)}\")\n",
        "print(f\"Hexadecimal Equivalent is: {convert_number(user_num, 16)}\")"
      ],
      "metadata": {
        "colab": {
          "base_uri": "https://localhost:8080/"
        },
        "id": "BIRcMN9QoLKa",
        "outputId": "c10a51f2-baf9-4150-faa9-4f9392c86ac1"
      },
      "execution_count": 71,
      "outputs": [
        {
          "output_type": "stream",
          "name": "stdout",
          "text": [
            "Program to convert Decimal to Binary, Octal and Hexadecimal\n",
            "-----------------------------------------------------------\n",
            "Enter a number: 55\n",
            "Binary Equivalent is: 110111\n",
            "Octal Equivalent is: 67\n",
            "Hexadecimal Equivalent is: 37\n"
          ]
        }
      ]
    },
    {
      "cell_type": "markdown",
      "source": [
        "### 4. Write a Python Program To Find ASCII value of a character?\n"
      ],
      "metadata": {
        "id": "2WDXzwtzn-Ew"
      }
    },
    {
      "cell_type": "code",
      "source": [
        "## Program to find ASCII value of character\n",
        "\n",
        "def find_ASCII(x):\n",
        "  return ord(x)\n",
        "\n",
        "print(\"Program to find ASCII value of character\")\n",
        "print(\"-----------------------------------------------------------\")\n",
        "\n",
        "user_char = input(\"Enter a character: \")\n",
        "\n",
        "print(f\"The ASCII value of character {user_char} is {find_ASCII(user_char)}\")"
      ],
      "metadata": {
        "colab": {
          "base_uri": "https://localhost:8080/"
        },
        "id": "nnt9fzh1oLqu",
        "outputId": "07f77fd5-8bd2-4c45-90a9-24236c2248f8"
      },
      "execution_count": 76,
      "outputs": [
        {
          "output_type": "stream",
          "name": "stdout",
          "text": [
            "Program to find ASCII value of character\n",
            "-----------------------------------------------------------\n",
            "Enter a character: F\n",
            "The ASCII value of character F is 70\n"
          ]
        }
      ]
    },
    {
      "cell_type": "markdown",
      "source": [
        "### 5. Write a Python Program to Make a Simple Calculator with 4 basic mathematical operations?"
      ],
      "metadata": {
        "id": "RV1O61Pvn-Ot"
      }
    },
    {
      "cell_type": "code",
      "source": [
        "## Program to make a simple Calculator with 4 basic mathematical operations\n",
        "\n",
        "def add_num(x, y):\n",
        "   result = x + y\n",
        "   print(result)\n",
        "\n",
        "def sub_num(x, y):\n",
        "  result = x - y\n",
        "  print(result)\n",
        "\n",
        "def mul_num(x, y):\n",
        "  result = x * y\n",
        "  print(result)\n",
        "  \n",
        "def div_num(x, y):\n",
        "  if y == 0:\n",
        "    print(\"Division by is not allowed.\")\n",
        "  else:\n",
        "    result = x + y\n",
        "    print(result)\n",
        "\n",
        "print(\"Program to make a simple Calculator with 4 basic mathematical operations\")\n",
        "print(\"------------------------------------------------------------------------\")\n",
        "\n",
        "num1 = int(input(\"Enter a number: \"))\n",
        "num2 = int(input(\"Enter a number: \"))\n",
        "\n",
        "print('''\n",
        "Select operation to perform: \n",
        "To ADD numbers type 1\n",
        "To SUBTRACT numbers type 2\n",
        "To MULTIPLY numbers type 3\n",
        "To DIVIDE numbers type 4\n",
        "''')\n",
        "choice = int(input(\"Enter your choide: \"))\n",
        "\n",
        "if choice == 1:\n",
        "  add_num(num1, num2)\n",
        "elif choice == 2:\n",
        "  sub_num(num1, num2)  \n",
        "elif choice == 3:\n",
        "  mul_num(num1, num2)\n",
        "elif choice == 4:\n",
        "  div_num(num1, num2)\n",
        "else:\n",
        "  print(\"Invalid Choice.\")"
      ],
      "metadata": {
        "colab": {
          "base_uri": "https://localhost:8080/"
        },
        "id": "hp6qC8L6oMkf",
        "outputId": "8815c96e-70e7-4810-df4d-0fb8a6dfbe46"
      },
      "execution_count": 79,
      "outputs": [
        {
          "output_type": "stream",
          "name": "stdout",
          "text": [
            "Program to make a simple Calculator with 4 basic mathematical operations\n",
            "------------------------------------------------------------------------\n",
            "Enter a number: 15\n",
            "Enter a number: 23\n",
            "\n",
            "Select operation to perform: \n",
            "To ADD numbers type 1\n",
            "To SUBTRACT numbers type 2\n",
            "To MULTIPLY numbers type 3\n",
            "To DIVIDE numbers type 4\n",
            "\n",
            "Enter your choide: 1\n",
            "38\n"
          ]
        }
      ]
    },
    {
      "cell_type": "code",
      "source": [],
      "metadata": {
        "id": "WV4tpSHDGmjW"
      },
      "execution_count": null,
      "outputs": []
    }
  ]
}