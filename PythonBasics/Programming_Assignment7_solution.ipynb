{
  "nbformat": 4,
  "nbformat_minor": 0,
  "metadata": {
    "colab": {
      "provenance": [],
      "collapsed_sections": []
    },
    "kernelspec": {
      "name": "python3",
      "display_name": "Python 3"
    },
    "language_info": {
      "name": "python"
    }
  },
  "cells": [
    {
      "cell_type": "markdown",
      "source": [
        "### 1. Write a Python Program to find sum of array?\n"
      ],
      "metadata": {
        "id": "JsC_Xh7Eheg9"
      }
    },
    {
      "cell_type": "code",
      "source": [
        "## Program to find sum of array\n",
        "\n",
        "def sum_of_array(cost_list):\n",
        "  total_cost = 0\n",
        "  for cost in cost_list:\n",
        "    total_cost = total_cost + cost\n",
        "  return total_cost\n",
        "\n",
        "item_cost = [34,56,67,98,56]\n",
        "\n",
        "print(\"Program to find sum of array\")\n",
        "print(\"----------------------------\")\n",
        "\n",
        "print(f\"Cost of items: {item_cost}\")\n",
        "print(f\"Total Cost: {sum_of_array(item_cost)}\")\n"
      ],
      "metadata": {
        "colab": {
          "base_uri": "https://localhost:8080/"
        },
        "id": "JrkJpApDhp7t",
        "outputId": "31ec6cfd-f8d7-428b-825e-77a48418aed2"
      },
      "execution_count": 2,
      "outputs": [
        {
          "output_type": "stream",
          "name": "stdout",
          "text": [
            "Program to find sum of array\n",
            "----------------------------\n",
            "Cost of items: [34, 56, 67, 98, 56]\n",
            "Total Cost: 311\n"
          ]
        }
      ]
    },
    {
      "cell_type": "markdown",
      "source": [
        "### 2. Write a Python Program to find largest element in an array?\n"
      ],
      "metadata": {
        "id": "RGi1w1yFhe5u"
      }
    },
    {
      "cell_type": "code",
      "source": [
        "## Program to find the largest element in an array\n",
        "def find_largest(num_list):\n",
        "  largest_num = num_list[0]\n",
        "  for num in num_list:\n",
        "    if num > largest_num:\n",
        "      largest_num = num \n",
        "  return largest_num\n",
        "\n",
        "list_of_num = [23000,56000,67000,9800,56000]\n",
        "\n",
        "print(\"Program to find the largest element in an array\")\n",
        "print(\"-----------------------------------------------\")\n",
        "\n",
        "print(f\"List of numbers: {list_of_num}\")\n",
        "print(f\"Largest Number: {find_largest(list_of_num)}\")"
      ],
      "metadata": {
        "colab": {
          "base_uri": "https://localhost:8080/"
        },
        "id": "KKGD3KdbhqhZ",
        "outputId": "b6d71ca6-c466-4aa3-c074-22e691185c50"
      },
      "execution_count": 4,
      "outputs": [
        {
          "output_type": "stream",
          "name": "stdout",
          "text": [
            "Program to find the largest element in an array\n",
            "-----------------------------------------------\n",
            "List of numbers: [23000, 56000, 67000, 9800, 56000]\n",
            "Largest Number: 67000\n"
          ]
        }
      ]
    },
    {
      "cell_type": "markdown",
      "source": [
        "### 3. Write a Python Program for array rotation?\n"
      ],
      "metadata": {
        "id": "rtDL1W1zhfB6"
      }
    },
    {
      "cell_type": "code",
      "source": [
        "# Program for array rotation\n",
        "def rotate(rotate_list, rotate_by, N):\n",
        "  rotated_list = rotate_list[rotate_by: N] + rotate_list[0:rotate_by]\n",
        "  return rotated_list\n",
        "  \n",
        "list_of_num = [123,5,70,45,63,56,32,16]\n",
        "\n",
        "print(\"Program for array rotation\")\n",
        "print(\"--------------------------\")\n",
        "\n",
        "print(f\"List of numbers: {list_of_num}\")\n",
        "print(f\"Rotated List by 2: {rotate(list_of_num, 2, len(list_of_num))}\")"
      ],
      "metadata": {
        "colab": {
          "base_uri": "https://localhost:8080/"
        },
        "id": "PMgyyjn0hrGO",
        "outputId": "ba7d0c65-a03c-4d64-c3e6-fc7175ab8e1a"
      },
      "execution_count": 5,
      "outputs": [
        {
          "output_type": "stream",
          "name": "stdout",
          "text": [
            "Program for array rotation\n",
            "--------------------------\n",
            "List of numbers: [123, 5, 70, 45, 63, 56, 32, 16]\n",
            "Rotated List by 2: [70, 45, 63, 56, 32, 16, 123, 5]\n"
          ]
        }
      ]
    },
    {
      "cell_type": "markdown",
      "source": [
        "### 4. Write a Python Program to Split the array and add the first part to the end?\n"
      ],
      "metadata": {
        "id": "4OYLKG_phfEx"
      }
    },
    {
      "cell_type": "code",
      "source": [
        "## Program to split the array and add the first part to the end\n",
        "\n",
        "def split_arr(num_list, n):\n",
        "  split_list1 = num_list[:n]\n",
        "  split_list2 = num_list[n:]\n",
        "  return (split_list2[:] + split_list1[:])\n",
        "\n",
        "print(\"Program to split the array and add the first part to the end\")\n",
        "print(\"------------------------------------------------------------\")\n",
        "\n",
        "list_of_num = [34,90,67,45,123,846,170,4,78,234]\n",
        "\n",
        "print(f\"List of Numbers: {list_of_num}\")\n",
        "split_num = int(input(f\"Enter number between 0-{len(list_of_num)} you want to split list with: \"))\n",
        "\n",
        "if (split_num < 0 or split_num > len(list_of_num)):\n",
        "  print(\"Invalid Number\")\n",
        "else:\n",
        "  print(f\"New List: {split_arr(list_of_num, split_num)}\")"
      ],
      "metadata": {
        "colab": {
          "base_uri": "https://localhost:8080/"
        },
        "id": "2UA8C5nRhrvv",
        "outputId": "75c24ce8-7a85-418e-a22a-49337b6a9917"
      },
      "execution_count": 14,
      "outputs": [
        {
          "output_type": "stream",
          "name": "stdout",
          "text": [
            "Program to split the array and add the first part to the end\n",
            "------------------------------------------------------------\n",
            "List of Numbers: [34, 90, 67, 45, 123, 846, 170, 4, 78, 234]\n",
            "Enter number between 0-10 you want to split list with: 4\n",
            "New List: [123, 846, 170, 4, 78, 234, 34, 90, 67, 45]\n"
          ]
        }
      ]
    },
    {
      "cell_type": "markdown",
      "source": [
        "### 5. Write a Python Program to check if given array is Monotonic?"
      ],
      "metadata": {
        "id": "Obv0Q7AShfIF"
      }
    },
    {
      "cell_type": "code",
      "execution_count": 20,
      "metadata": {
        "colab": {
          "base_uri": "https://localhost:8080/"
        },
        "id": "UHBxkxv2hZjJ",
        "outputId": "b2d8f275-caec-4bfd-b1d4-35b807d00a88"
      },
      "outputs": [
        {
          "output_type": "stream",
          "name": "stdout",
          "text": [
            "Program to check if given array is Monotonic\n",
            "--------------------------------------------\n",
            "List 1 with elements [1, 2, 3, 4, 5, 6] is Monotonic: True\n",
            "List 2 with elements [7, 6, 5, 4, 3, 2, 1] is Monotonic: True\n",
            "List 3 with elements [1, 2, 3, 16, 7] is Monotonic: False\n"
          ]
        }
      ],
      "source": [
        "## Program to check if given array is Monotonic\n",
        "\n",
        "def check_monotonic(X):\n",
        "  N = len(X)\n",
        "  monotonic_flag = (all(X[i] >= X[i + 1] for i in range(N - 1))) or (all(X[i + 1] >= X[i] for i in range(N - 1)))\n",
        "  return monotonic_flag\n",
        "\n",
        "print(\"Program to check if given array is Monotonic\")\n",
        "print(\"--------------------------------------------\")\n",
        "\n",
        "list_1 = [1,2,3,4,5,6]\n",
        "list_2 = [7,6,5,4,3,2,1]\n",
        "list_3 = [1,2,3,16,7]\n",
        "\n",
        "print(f\"List 1 with elements {list_1} is Monotonic: {check_monotonic(list_1)}\")\n",
        "print(f\"List 2 with elements {list_2} is Monotonic: {check_monotonic(list_2)}\")\n",
        "print(f\"List 3 with elements {list_3} is Monotonic: {check_monotonic(list_3)}\")"
      ]
    },
    {
      "cell_type": "code",
      "source": [],
      "metadata": {
        "id": "Sx_dvnPsrgxT"
      },
      "execution_count": null,
      "outputs": []
    }
  ]
}