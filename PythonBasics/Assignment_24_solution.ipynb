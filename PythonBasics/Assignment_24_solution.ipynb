{
 "cells": [
  {
   "cell_type": "markdown",
   "id": "784a4f03",
   "metadata": {},
   "source": [
    "## 1. What is the relationship between def statements and lambda expressions ?\n"
   ]
  },
  {
   "cell_type": "markdown",
   "id": "8bec52f3",
   "metadata": {},
   "source": [
    "def statements and lambda expressions are used to define functions in Python, but def statements create named functions with a block of statements, while lambda expressions create anonymous functions with a single expression. def statements are more versatile and can be used to create more complex functions, while lambda expressions are often used for simple functions or as arguments to other functions."
   ]
  },
  {
   "cell_type": "markdown",
   "id": "0ca4df15",
   "metadata": {},
   "source": [
    "## 2. What is the benefit of lambda?\n"
   ]
  },
  {
   "cell_type": "markdown",
   "id": "996e2dba",
   "metadata": {},
   "source": [
    "Lambda expressions provide several benefits in Python:\n",
    "\n",
    "Conciseness: Lambda expressions are usually shorter and more concise than regular named functions. This makes them easier to read and write, and can reduce code clutter.\n",
    "\n",
    "Anonymity: Lambda expressions are anonymous functions, which means they don't have a name that takes up space in the code. This is useful when you only need to define a function once and use it in a single context, such as passing it as an argument to another function.\n",
    "\n",
    "Flexibility: Lambda expressions can be used wherever a function object is expected, such as in higher-order functions like map(), filter(), and reduce(). This provides more flexibility and allows for more concise code than defining a separate named function for each use case.\n",
    "\n",
    "Readability: Lambda expressions can make code more readable when used appropriately, since they can make the intent of the code more clear by eliminating the need for a separate function definition that may be far from the context of its use."
   ]
  },
  {
   "cell_type": "markdown",
   "id": "64a73a57",
   "metadata": {},
   "source": [
    "## 3. Compare and contrast map, filter, and reduce.\n"
   ]
  },
  {
   "cell_type": "markdown",
   "id": "2ce34e16",
   "metadata": {},
   "source": [
    "map(), filter(), and reduce() are built-in functions in Python that operate on iterables and return new iterables or values based on the input, while function annotations are a feature that allows developers to attach metadata about the types of function arguments and return values. They serve different purposes, but can both be used to write more concise and readable code in Python."
   ]
  },
  {
   "cell_type": "markdown",
   "id": "95b59bbf",
   "metadata": {},
   "source": [
    "## 4. What are function annotations, and how are they used?\n"
   ]
  },
  {
   "cell_type": "markdown",
   "id": "efe81849",
   "metadata": {},
   "source": [
    "function annotations in Python allow developers to attach metadata to the parameters and return value of a function definition. Annotations can be used to indicate the expected types of function arguments and return values, and can be accessed through the __annotations__ attribute of the function object."
   ]
  },
  {
   "cell_type": "code",
   "execution_count": 1,
   "id": "9e2a6b02",
   "metadata": {},
   "outputs": [
    {
     "data": {
      "text/plain": [
       "{'name': str, 'age': int, 'return': str}"
      ]
     },
     "execution_count": 1,
     "metadata": {},
     "output_type": "execute_result"
    }
   ],
   "source": [
    "def greet(name: str, age: int) -> str:\n",
    "    return f\"Hello, {name}! You are {age} years old.\"\n",
    "\n",
    "greet.__annotations__"
   ]
  },
  {
   "cell_type": "markdown",
   "id": "2ce4922a",
   "metadata": {},
   "source": [
    "## 5. What are recursive functions, and how are they used?\n"
   ]
  },
  {
   "cell_type": "markdown",
   "id": "b7506271",
   "metadata": {},
   "source": [
    "Recursive functions are functions that call themselves as a part of their execution. A recursive function typically consists of two parts: a base case and a recursive case. The base case is a special case that is used to terminate the recursion, while the recursive case is the part of the function that calls itself with a modified argument."
   ]
  },
  {
   "cell_type": "code",
   "execution_count": 3,
   "id": "06160296",
   "metadata": {},
   "outputs": [
    {
     "data": {
      "text/plain": [
       "5040"
      ]
     },
     "execution_count": 3,
     "metadata": {},
     "output_type": "execute_result"
    }
   ],
   "source": [
    "def factorial(n):\n",
    "    if n == 0:\n",
    "        return 1\n",
    "    else:\n",
    "        return n * factorial(n - 1)\n",
    "\n",
    "factorial(7)"
   ]
  },
  {
   "cell_type": "markdown",
   "id": "4b3dab2a",
   "metadata": {},
   "source": [
    "## 6. What are some general design guidelines for coding functions?\n"
   ]
  },
  {
   "cell_type": "markdown",
   "id": "e0c8e5af",
   "metadata": {},
   "source": [
    "Function names should be descriptive and reflect the purpose of the function. A good function name should make it clear what the function does and what it is used for.\n",
    "\n",
    "Functions should be modular and focused on a single task. A function should have a clear purpose and should not try to do too many things at once. If a function is too long or complex, it may be better to split it into smaller, more focused functions.\n",
    "\n",
    "Functions should be easy to read and understand. A function should be designed with readability in mind, so that other developers can easily understand what the function does and how it works.\n",
    "\n",
    "Functions should have clear input and output. A function should clearly define its input parameters and return values, so that other developers can easily understand how to call the function and what to expect from it.\n",
    "\n",
    "Functions should handle errors and edge cases gracefully. A function should be designed to handle unexpected input and edge cases, and should raise clear and informative error messages if an error occurs."
   ]
  },
  {
   "cell_type": "markdown",
   "id": "91e13a11",
   "metadata": {},
   "source": [
    "## 7. Name three or more ways that functions can communicate results to a caller.\n"
   ]
  },
  {
   "cell_type": "markdown",
   "id": "56b6b0f4",
   "metadata": {},
   "source": [
    "functions can communicate results to a caller through return values, output parameters, exceptions, global variables, or standard output. Each approach has its own advantages and disadvantages, and the choice of which approach to use depends on the specific requirements and constraints of the problem at hand.\n",
    "\n",
    "Return values: Functions can return a value or multiple values using the return statement. The returned value can be of any data type, including numbers, strings, lists, or custom objects.\n",
    "\n",
    "Output parameters: Functions can modify the value of an output parameter provided by the caller. This is done by passing the parameter as a mutable object, such as a list or dictionary, and modifying its contents within the function.\n",
    "\n",
    "Exceptions: Functions can raise exceptions to signal errors or exceptional conditions. This allows the caller to handle the error or exception in a structured way, such as by catching and handling the exception using a try/except block."
   ]
  },
  {
   "cell_type": "markdown",
   "id": "211a6acb",
   "metadata": {},
   "source": []
  },
  {
   "cell_type": "markdown",
   "id": "0288bbc4",
   "metadata": {},
   "source": []
  },
  {
   "cell_type": "markdown",
   "id": "39b4f9dd",
   "metadata": {},
   "source": []
  },
  {
   "cell_type": "markdown",
   "id": "a4b7fee1",
   "metadata": {},
   "source": []
  },
  {
   "cell_type": "markdown",
   "id": "52234d73",
   "metadata": {},
   "source": []
  },
  {
   "cell_type": "markdown",
   "id": "777e6e8c",
   "metadata": {},
   "source": []
  },
  {
   "cell_type": "markdown",
   "id": "0759c64d",
   "metadata": {},
   "source": []
  }
 ],
 "metadata": {
  "kernelspec": {
   "display_name": "Python 3 (ipykernel)",
   "language": "python",
   "name": "python3"
  },
  "language_info": {
   "codemirror_mode": {
    "name": "ipython",
    "version": 3
   },
   "file_extension": ".py",
   "mimetype": "text/x-python",
   "name": "python",
   "nbconvert_exporter": "python",
   "pygments_lexer": "ipython3",
   "version": "3.10.9"
  }
 },
 "nbformat": 4,
 "nbformat_minor": 5
}
