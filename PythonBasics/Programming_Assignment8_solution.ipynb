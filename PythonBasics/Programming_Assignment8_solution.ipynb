{
  "nbformat": 4,
  "nbformat_minor": 0,
  "metadata": {
    "colab": {
      "provenance": [],
      "collapsed_sections": []
    },
    "kernelspec": {
      "name": "python3",
      "display_name": "Python 3"
    },
    "language_info": {
      "name": "python"
    }
  },
  "cells": [
    {
      "cell_type": "markdown",
      "source": [
        "### 1. Write a Python Program to Add Two Matrices?\n"
      ],
      "metadata": {
        "id": "8UduYGEGtNsm"
      }
    },
    {
      "cell_type": "code",
      "execution_count": 25,
      "metadata": {
        "colab": {
          "base_uri": "https://localhost:8080/"
        },
        "id": "M8peFytBtMfB",
        "outputId": "42b0f1b1-9bea-4450-f5e9-b6fe674445b8"
      },
      "outputs": [
        {
          "output_type": "stream",
          "name": "stdout",
          "text": [
            "Program to Add two Matrices\n",
            "---------------------------\n",
            "Matrix 1 : [[10, 20], [40, 50]]\n",
            "Matrix 2 : [[1, 2], [3, 4]]\n",
            "Adding Matrix 1 & Matrix 2 results in [[11, 22], [43, 54]]\n"
          ]
        }
      ],
      "source": [
        "## Program to Add Two matrices\n",
        "\n",
        "def add_matrix(mat_1, mat_2):\n",
        "  result = mat_1[:][:]\n",
        "\n",
        "  for i in range(len(matrix_1)):\n",
        "    for j in range(len(matrix_1[0])):\n",
        "      result[i][j] = matrix_1[i][j] + matrix_2[i][j]\n",
        "\n",
        "  return result\n",
        "\n",
        "matrix_1 = [[10,20],\n",
        "      [40,50]]\n",
        "matrix_2 = [[1,2],\n",
        "      [3,4]]\n",
        "\n",
        "print(\"Program to Add two Matrices\")\n",
        "print(\"---------------------------\")\n",
        "\n",
        "print(f\"Matrix 1 : {matrix_1}\")\n",
        "print(f\"Matrix 2 : {matrix_2}\")\n",
        "print(f\"Adding Matrix 1 & Matrix 2 results in {add_matrix(matrix_1, matrix_2)}\")\n"
      ]
    },
    {
      "cell_type": "markdown",
      "source": [
        "### 2. Write a Python Program to Multiply Two Matrices?\n"
      ],
      "metadata": {
        "id": "Uv9revMFtUbp"
      }
    },
    {
      "cell_type": "code",
      "source": [
        "## Program to Multiply Two matrices\n",
        "\n",
        "def mul_matrix(mat_1, mat_2):\n",
        "\n",
        "  result = mat_1[:][:]\n",
        "\n",
        "  for i in range(len(mat_1)):\n",
        "    for j in range(len(mat_2[0])):\n",
        "      res = 0\n",
        "      for k in range(len(mat_2)):\n",
        "        res = res + (mat_1[i][k] * mat_2[k][j])\n",
        "      result[i][j] = res\n",
        "  return result\n",
        "\n",
        "matrix_1 = [[10,20],\n",
        "      [40,50]]\n",
        "matrix_2 = [[1,2],\n",
        "      [3,4]]\n",
        "\n",
        "print(\"Program to Multiply two Matrices\")\n",
        "print(\"---------------------------\")\n",
        "\n",
        "print(f\"Matrix 1 : {matrix_1}\")\n",
        "print(f\"Matrix 2 : {matrix_2}\")\n",
        "print(f\"Multiplying Matrix 1 & Matrix 2 results in {mul_matrix(matrix_1, matrix_2)}\")\n"
      ],
      "metadata": {
        "colab": {
          "base_uri": "https://localhost:8080/"
        },
        "id": "awD0XOD0tUkS",
        "outputId": "43dabfe0-4c71-4bb6-efb0-9ce063362359"
      },
      "execution_count": 24,
      "outputs": [
        {
          "output_type": "stream",
          "name": "stdout",
          "text": [
            "Program to Multiply two Matrices\n",
            "---------------------------\n",
            "Matrix 1 : [[10, 20], [40, 50]]\n",
            "Matrix 2 : [[1, 2], [3, 4]]\n",
            "Multiplying Matrix 1 & Matrix 2 results in [[70, 220], [190, 580]]\n"
          ]
        }
      ]
    },
    {
      "cell_type": "markdown",
      "source": [
        "### 3. Write a Python Program to Transpose a Matrix?\n"
      ],
      "metadata": {
        "id": "MB6UO801tUtZ"
      }
    },
    {
      "cell_type": "code",
      "source": [
        "## Program to Transpose a Matrix\n",
        "\n",
        "def transpose(X):\n",
        "  transposed_matrix = X[:][:]\n",
        "  N = len(X)\n",
        "\n",
        "  for i in range(N):\n",
        "    for j in range(N):\n",
        "      transposed_matrix[i][j] = X[j][i]\n",
        "  return transposed_matrix\n",
        "\n",
        "orig_matrix = [[1,2,3],[4,5,6],[7,8,9]]\n",
        "\n",
        "print(\"Program to Multiply two Matrices\")\n",
        "print(\"--------------------------------\")\n",
        "\n",
        "print(f\"Original Matrix: {orig_matrix}\")\n",
        "print(f\"Transposed Matrix: {transpose(orig_matrix)}\")\n"
      ],
      "metadata": {
        "colab": {
          "base_uri": "https://localhost:8080/"
        },
        "id": "g4ZHMwCotU2R",
        "outputId": "3f900435-a4f1-49f6-fb09-dcb561f69ad2"
      },
      "execution_count": 29,
      "outputs": [
        {
          "output_type": "stream",
          "name": "stdout",
          "text": [
            "Program to Multiply two Matrices\n",
            "--------------------------------\n",
            "Original Matrix: [[1, 2, 3], [4, 5, 6], [7, 8, 9]]\n",
            "Transposed Matrix: [[1, 4, 7], [4, 5, 8], [7, 8, 9]]\n"
          ]
        }
      ]
    },
    {
      "cell_type": "markdown",
      "source": [
        "### 4. Write a Python Program to Sort Words in Alphabetic Order?\n"
      ],
      "metadata": {
        "id": "SLu0K1WxtU-6"
      }
    },
    {
      "cell_type": "code",
      "source": [
        "## Program to sort words in Alphabetic order\n",
        "\n",
        "def sort_words(words):\n",
        "  words.sort()\n",
        "  print(\"Words in Alphabetically sorted order:\")\n",
        "  for word in words:\n",
        "    print(word)\n",
        "\n",
        "print(\"Program to sort words in Alphabetic order\")\n",
        "print(\"-----------------------------------------\")\n",
        "\n",
        "user_str = input(\"Enter a string: \")\n",
        "words_str = user_str.split()\n",
        "print(words_str)\n",
        "sort_words(words_str)\n",
        "\n"
      ],
      "metadata": {
        "colab": {
          "base_uri": "https://localhost:8080/"
        },
        "id": "84aNggAvtVIC",
        "outputId": "4be07bcc-de0c-4b06-bf4d-2d2da9b9b97e"
      },
      "execution_count": 46,
      "outputs": [
        {
          "output_type": "stream",
          "name": "stdout",
          "text": [
            "Program to sort words in Alphabetic order\n",
            "-----------------------------------------\n",
            "Enter a string: this is amazing and looks good\n",
            "['this', 'is', 'amazing', 'and', 'looks', 'good']\n",
            "Words in Alphabetically sorted order:\n",
            "amazing\n",
            "and\n",
            "good\n",
            "is\n",
            "looks\n",
            "this\n"
          ]
        }
      ]
    },
    {
      "cell_type": "markdown",
      "source": [
        "### 5. Write a Python Program to Remove Punctuation From a String?"
      ],
      "metadata": {
        "id": "x5xQNDeqtVQg"
      }
    },
    {
      "cell_type": "code",
      "source": [
        "from string import punctuation\n",
        "## Program to remove Punctuation from a string\n",
        "\n",
        "def remove_punc(user_string):\n",
        "  punctuation_list = '''!@#()*&^%$~[]{}./,.\\|;:<>\"'''\n",
        "  print(f\"User String: {user_string}\")\n",
        "  \n",
        "  new_string = \"\"\n",
        "  for char in user_string:\n",
        "    if char not in punctuation_list:\n",
        "      new_string = new_string + char\n",
        "  print(f\"New String: {new_string}\")\n",
        "\n",
        "print(\"Program to remove Punctuation from a string\")\n",
        "print(\"-----------------------------------------\")\n",
        "\n",
        "user_str = input(\"Enter a string: \")\n",
        "\n",
        "remove_punc(user_str)"
      ],
      "metadata": {
        "colab": {
          "base_uri": "https://localhost:8080/"
        },
        "id": "uKv65H1btVe1",
        "outputId": "6e8fdba7-73f4-44ab-e8e6-8e2fda3d0f5e"
      },
      "execution_count": 51,
      "outputs": [
        {
          "output_type": "stream",
          "name": "stdout",
          "text": [
            "Program to remove Punctuation from a string\n",
            "-----------------------------------------\n",
            "Enter a string: this .one! works but\\ might not\n",
            "User String: this .one! works but\\ might not\n",
            "New String: this one works but might not\n"
          ]
        }
      ]
    },
    {
      "cell_type": "code",
      "source": [],
      "metadata": {
        "id": "AA65r988VUIf"
      },
      "execution_count": null,
      "outputs": []
    }
  ]
}