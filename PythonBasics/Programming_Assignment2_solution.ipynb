{
  "nbformat": 4,
  "nbformat_minor": 0,
  "metadata": {
    "colab": {
      "provenance": []
    },
    "kernelspec": {
      "name": "python3",
      "display_name": "Python 3"
    },
    "language_info": {
      "name": "python"
    }
  },
  "cells": [
    {
      "cell_type": "markdown",
      "source": [
        "### 1. Write a Python program to convert kilometers to miles?\n"
      ],
      "metadata": {
        "id": "luERIMIuKgNB"
      }
    },
    {
      "cell_type": "code",
      "source": [
        "## Program to convert kilometers to miles\n",
        "\n",
        "def convert_km_to_miles(dist):\n",
        "  dist_in_miles = 0.62137119 * dist\n",
        "  print(f\"{dist} km is same as {dist_in_miles} miles\")\n",
        "\n",
        "print(\"Program to convert kilometers to miles\")\n",
        "print(\"--------------------------------------\")\n",
        "\n",
        "dist_in_km = int(input(\"Enter distance in km: \"))\n",
        "\n",
        "convert_km_to_miles(dist_in_km)"
      ],
      "metadata": {
        "colab": {
          "base_uri": "https://localhost:8080/"
        },
        "id": "cWHSWjuIKv1Q",
        "outputId": "006b1312-d8be-4369-b49c-6a86eb0af344"
      },
      "execution_count": 3,
      "outputs": [
        {
          "output_type": "stream",
          "name": "stdout",
          "text": [
            "Program to convert kilometers to miles\n",
            "--------------------------------------\n",
            "Enter distance in km: 15\n",
            "15 km is same as 9.32056785 miles\n"
          ]
        }
      ]
    },
    {
      "cell_type": "markdown",
      "source": [
        "### 2. Write a Python program to convert Celsius to Fahrenheit?\n"
      ],
      "metadata": {
        "id": "OXK7RrihKlGI"
      }
    },
    {
      "cell_type": "code",
      "source": [
        "## Program to convert Celsius to Fahernheit\n",
        "\n",
        "def cel_to_fah(temp_cel):\n",
        "  temp_in_fah = temp_cel * 1.8 + 32\n",
        "  print(f\"{temp_cel} degree Celsius is same as {temp_in_fah} Fahrenheit\")\n",
        "\n",
        "print(\"Program to convert Celsius to Fahernheit\")\n",
        "print(\"--------------------------------------\")\n",
        "\n",
        "temp_in_cel = int(input(\"Enter temperature in Celsius: \"))\n",
        "\n",
        "cel_to_fah(temp_in_cel)"
      ],
      "metadata": {
        "colab": {
          "base_uri": "https://localhost:8080/"
        },
        "id": "w18znazEMBqn",
        "outputId": "82c88c9f-7172-44a5-9f9b-21ab281133cf"
      },
      "execution_count": 5,
      "outputs": [
        {
          "output_type": "stream",
          "name": "stdout",
          "text": [
            "Program to convert Celsius to Fahernheit\n",
            "--------------------------------------\n",
            "Enter temperature in Celsius: 30\n",
            "30 degree Celsius is same as 86.0 Fahrenheit\n"
          ]
        }
      ]
    },
    {
      "cell_type": "markdown",
      "source": [
        "### 3. Write a Python program to display calendar?\n"
      ],
      "metadata": {
        "id": "6ETVZPK-KlJf"
      }
    },
    {
      "cell_type": "code",
      "source": [
        "## Program to display calendar\n",
        "\n",
        "import calendar\n",
        "\n",
        "def show_calendar(yy, mm):\n",
        "  print(f\"Calendar for month {mm} of year {yy}\")\n",
        "  print(calendar.month(yy, mm))\n",
        "\n",
        "print(\"Program to display Calendar\")\n",
        "print(\"---------------------------\")\n",
        "\n",
        "user_year = int(input(\"Enter year in format (yyyy): \"))\n",
        "user_month = int(input(\"Enter month in format (mm) :\"))\n",
        "\n",
        "show_calendar(user_year, user_month)"
      ],
      "metadata": {
        "colab": {
          "base_uri": "https://localhost:8080/"
        },
        "id": "Oah1c_mVShU6",
        "outputId": "6a0939e5-8859-4d3d-e143-b296d58a4ad4"
      },
      "execution_count": 15,
      "outputs": [
        {
          "output_type": "stream",
          "name": "stdout",
          "text": [
            "Program to display Calendar\n",
            "---------------------------\n",
            "Enter year in format (yyyy): 2005\n",
            "Enter month in format (mm) :5\n",
            "Calendar for month 5 of year 2005\n",
            "      May 2005\n",
            "Mo Tu We Th Fr Sa Su\n",
            "                   1\n",
            " 2  3  4  5  6  7  8\n",
            " 9 10 11 12 13 14 15\n",
            "16 17 18 19 20 21 22\n",
            "23 24 25 26 27 28 29\n",
            "30 31\n",
            "\n"
          ]
        }
      ]
    },
    {
      "cell_type": "markdown",
      "source": [
        "### 4. Write a Python program to solve quadratic equation?\n"
      ],
      "metadata": {
        "id": "hio3QRnnKlM1"
      }
    },
    {
      "cell_type": "code",
      "source": [
        "## Program to solve quadratic equation\n",
        "import cmath\n",
        "\n",
        "def solve_quad(a, b, c):\n",
        "  # compute discriminant\n",
        "  dis = (b**2) - (4 * a * c)\n",
        "\n",
        "  result_1 = (-b - cmath.sqrt(dis)) / (2*a)\n",
        "  result_2 = (-b + cmath.sqrt(dis)) / (2*a)\n",
        "\n",
        "  print(\"Solutions are:\")\n",
        "  print(result_1)\n",
        "  print(result_2)\n",
        "\n",
        "print(\"Program to solve quadratice equation\")\n",
        "print(\"------------------------------------\")\n",
        "\n",
        "a = float(input(\"Enter value for a: \"))\n",
        "b = float(input(\"Enter value for b :\"))\n",
        "c = float(input(\"Enter value for c :\"))\n",
        "\n",
        "solve_quad(a, b, c)\n",
        "\n"
      ],
      "metadata": {
        "colab": {
          "base_uri": "https://localhost:8080/"
        },
        "id": "3a4Q0LA7UDD7",
        "outputId": "4815ca1c-f706-4d1e-b3b3-8a8311e10599"
      },
      "execution_count": 17,
      "outputs": [
        {
          "output_type": "stream",
          "name": "stdout",
          "text": [
            "Program to solve quadratice equation\n",
            "------------------------------------\n",
            "Enter value for a: 2\n",
            "Enter value for b :3\n",
            "Enter value for c :1\n",
            "Solutions are:\n",
            "(-1+0j)\n",
            "(-0.5+0j)\n"
          ]
        }
      ]
    },
    {
      "cell_type": "markdown",
      "source": [
        "### 5. Write a Python program to swap two variables without temp variable?\n"
      ],
      "metadata": {
        "id": "WHUKNmCBKlW8"
      }
    },
    {
      "cell_type": "code",
      "execution_count": 8,
      "metadata": {
        "colab": {
          "base_uri": "https://localhost:8080/"
        },
        "id": "gzeiTJVfJobM",
        "outputId": "26228a22-0b3a-420e-aa7a-34b631c9f5e1"
      },
      "outputs": [
        {
          "output_type": "stream",
          "name": "stdout",
          "text": [
            "Program to swap two variables without temp variable\n",
            "---------------------------------------------------\n",
            "Enter value for X: 33\n",
            "Enter value for Y: 98\n",
            "Before Swap X: 33 Y: 98\n",
            "After Swap X: 98 Y: 33\n"
          ]
        }
      ],
      "source": [
        "## Program to swap two variables without temp variable\n",
        "\n",
        "def swap_variables(x, y):\n",
        "  print(f\"Before Swap X: {x} Y: {y}\")\n",
        "  x, y = y, x % y\n",
        "  print(f\"After Swap X: {x} Y: {y}\")\n",
        "\n",
        "print(\"Program to swap two variables without temp variable\")\n",
        "print(\"---------------------------------------------------\")\n",
        "\n",
        "user_num1 = int(input(\"Enter value for X: \"))\n",
        "user_num2 = int(input(\"Enter value for Y: \"))\n",
        "\n",
        "swap_variables(user_num1, user_num2)"
      ]
    },
    {
      "cell_type": "code",
      "source": [],
      "metadata": {
        "id": "KxAQuhsmN6ty"
      },
      "execution_count": null,
      "outputs": []
    }
  ]
}