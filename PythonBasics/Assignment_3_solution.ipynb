{
  "nbformat": 4,
  "nbformat_minor": 0,
  "metadata": {
    "colab": {
      "provenance": [],
      "collapsed_sections": []
    },
    "kernelspec": {
      "name": "python3",
      "display_name": "Python 3"
    },
    "language_info": {
      "name": "python"
    }
  },
  "cells": [
    {
      "cell_type": "markdown",
      "source": [
        "### 1. Why are functions advantageous to have in your programs?\n"
      ],
      "metadata": {
        "id": "O1QJJz2bthix"
      }
    },
    {
      "cell_type": "markdown",
      "source": [
        "##### Ans--> Functions are advantageous as:\n",
        "* it helps in writing reusable code.\n",
        "* programs are east to maintain i.e. they are easy to read and make changes to the code in future.\n",
        "* programs are less in size."
      ],
      "metadata": {
        "id": "95Blq9jFt9tr"
      }
    },
    {
      "cell_type": "markdown",
      "source": [
        "### 2. When does the code in a function run: when it&#39;s specified or when it&#39;s called?\n"
      ],
      "metadata": {
        "id": "dBp6MPXhthgS"
      }
    },
    {
      "cell_type": "markdown",
      "source": [
        "##### Ans--> The code that is written inside function executes when it is called in the program."
      ],
      "metadata": {
        "id": "swaruSrIvj0F"
      }
    },
    {
      "cell_type": "markdown",
      "source": [
        "### 3. What statement creates a function?\n"
      ],
      "metadata": {
        "id": "ULxcFMjpthd7"
      }
    },
    {
      "cell_type": "markdown",
      "source": [
        "##### And--> We create function by using the \"def\" keyword followed by the program name.\n",
        "Example: \n",
        "\n",
        "\n",
        "```\n",
        "def my_program_name:\n",
        "```\n",
        "\n"
      ],
      "metadata": {
        "id": "yz-zGsaZvw20"
      }
    },
    {
      "cell_type": "markdown",
      "source": [
        "### 4. What is the difference between a function and a function call?\n"
      ],
      "metadata": {
        "id": "CDvkDx_Cthbl"
      }
    },
    {
      "cell_type": "markdown",
      "source": [
        "##### Ans--> Function is where we define/write the code statements within the def section whereas function call is when the code defined within the function actually executes. The function call evalutes to the functions return value if defined."
      ],
      "metadata": {
        "id": "m-e17a5LwJ8O"
      }
    },
    {
      "cell_type": "markdown",
      "source": [
        "### 5. How many global scopes are there in a Python program? How many local scopes?\n"
      ],
      "metadata": {
        "id": "46JhYZQwthZR"
      }
    },
    {
      "cell_type": "markdown",
      "source": [
        "##### Ans--> There is one global scope and local scope is created whenever function is called."
      ],
      "metadata": {
        "id": "0Ba03DnPxaho"
      }
    },
    {
      "cell_type": "markdown",
      "source": [
        "### 6. What happens to variables in a local scope when the function call returns?\n"
      ],
      "metadata": {
        "id": "fZe_MiQJthWX"
      }
    },
    {
      "cell_type": "markdown",
      "source": [
        "##### Ans--> When the function call returns all the local scope variables are destroyed."
      ],
      "metadata": {
        "id": "DL5iMvHq4Azu"
      }
    },
    {
      "cell_type": "markdown",
      "source": [
        "### 7. What is the concept of a return value? Is it possible to have a return value in an expression?\n"
      ],
      "metadata": {
        "id": "egIdyshTthIc"
      }
    },
    {
      "cell_type": "markdown",
      "source": [
        "##### Ans--> A return value is the the value returned to the function call. The return value can be used in an expression."
      ],
      "metadata": {
        "id": "o1_MwBZ24N3Q"
      }
    },
    {
      "cell_type": "markdown",
      "source": [
        "### 8. If a function does not have a return statement, what is the return value of a call to that function?\n"
      ],
      "metadata": {
        "id": "xna0SwmuttX-"
      }
    },
    {
      "cell_type": "markdown",
      "source": [
        "##### Ans--> The function returns None if there is no return value of a call to the function."
      ],
      "metadata": {
        "id": "G3RzHWuc4fxU"
      }
    },
    {
      "cell_type": "markdown",
      "source": [
        "### 9. How do you make a function variable refer to the global variable?\n"
      ],
      "metadata": {
        "id": "49DbnVTzttbL"
      }
    },
    {
      "cell_type": "markdown",
      "source": [
        "##### Ans--> We can used global statement to make function variable as global variable."
      ],
      "metadata": {
        "id": "_4w8LNA74qA_"
      }
    },
    {
      "cell_type": "markdown",
      "source": [
        "### 10. What is the data type of None?\n"
      ],
      "metadata": {
        "id": "1tUQEFvYttdt"
      }
    },
    {
      "cell_type": "markdown",
      "source": [
        "##### Ans--> The data type of None is NoneType"
      ],
      "metadata": {
        "id": "CDpOTXit47KP"
      }
    },
    {
      "cell_type": "code",
      "source": [
        "print(type(None))"
      ],
      "metadata": {
        "colab": {
          "base_uri": "https://localhost:8080/"
        },
        "id": "ACQ3z5xw5B_Q",
        "outputId": "387cb76e-d10c-4bdb-cd70-2c2055d52e80"
      },
      "execution_count": 1,
      "outputs": [
        {
          "output_type": "stream",
          "name": "stdout",
          "text": [
            "<class 'NoneType'>\n"
          ]
        }
      ]
    },
    {
      "cell_type": "markdown",
      "source": [
        "### 11. What does the sentence import areallyourpetsnamederic do?\n"
      ],
      "metadata": {
        "id": "v65AnLSFtthC"
      }
    },
    {
      "cell_type": "markdown",
      "source": [
        "##### Ans--> The import statemend will import module name areallyourpetsnamederic into our program."
      ],
      "metadata": {
        "id": "0lzMu-4Z5Nvj"
      }
    },
    {
      "cell_type": "markdown",
      "source": [
        "### 12. If you had a bacon() feature in a spam module, what would you call it after importing spam?\n"
      ],
      "metadata": {
        "id": "unZWBAOdt1Xi"
      }
    },
    {
      "cell_type": "markdown",
      "source": [
        "##### Ans--> We can call this feature by using spam.bacon()"
      ],
      "metadata": {
        "id": "_HNe1HmT5aL0"
      }
    },
    {
      "cell_type": "markdown",
      "source": [
        "### 13. What can you do to save a programme from crashing if it encounters an error?\n"
      ],
      "metadata": {
        "id": "ONx3o2hkt1cu"
      }
    },
    {
      "cell_type": "markdown",
      "source": [
        "##### Ans--> We can use try clause in the part of the program that is more likely to cause an error."
      ],
      "metadata": {
        "id": "xQeDXYgB5uOD"
      }
    },
    {
      "cell_type": "markdown",
      "source": [
        "### 14. What is the purpose of the try clause? What is the purpose of the except clause?"
      ],
      "metadata": {
        "id": "cS4GNHR0t1hc"
      }
    },
    {
      "cell_type": "markdown",
      "source": [
        "##### Ans--> We put the code that is more likely to cause an error in the try clause. The except clause contains code that is executed in case an error occurs."
      ],
      "metadata": {
        "id": "R76wUEN652YM"
      }
    },
    {
      "cell_type": "code",
      "execution_count": null,
      "metadata": {
        "id": "L8RZWQc1WnHu"
      },
      "outputs": [],
      "source": []
    }
  ]
}