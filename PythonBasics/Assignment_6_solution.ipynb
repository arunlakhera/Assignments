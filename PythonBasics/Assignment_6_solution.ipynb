{
  "nbformat": 4,
  "nbformat_minor": 0,
  "metadata": {
    "colab": {
      "provenance": []
    },
    "kernelspec": {
      "name": "python3",
      "display_name": "Python 3"
    },
    "language_info": {
      "name": "python"
    }
  },
  "cells": [
    {
      "cell_type": "markdown",
      "source": [
        "### 1. What are escape characters, and how do you use them?\n"
      ],
      "metadata": {
        "id": "LrDqcmIKChRo"
      }
    },
    {
      "cell_type": "markdown",
      "source": [
        "##### Ans--> Escape characters are used to insert those characters in string value that are otherwise difficult to write into code. An escape character is a backslash (\\\\) followed by the character we want to insert into the code.\n",
        "\n",
        "example: txt = \"we are \\\\\"GREATFUL\\\\\" to you.\""
      ],
      "metadata": {
        "id": "X40lxzHQEKXr"
      }
    },
    {
      "cell_type": "markdown",
      "source": [
        "### 2. What do the escape characters n and t stand for?\n"
      ],
      "metadata": {
        "id": "b3H0d13kCmqV"
      }
    },
    {
      "cell_type": "markdown",
      "source": [
        "##### Ans--> \\n stands for new line character and \\t stands for tab character"
      ],
      "metadata": {
        "id": "-oVqgm3THi_z"
      }
    },
    {
      "cell_type": "markdown",
      "source": [
        "### 3. What is the way to include backslash characters in a string?\n"
      ],
      "metadata": {
        "id": "koTukrCrCgcE"
      }
    },
    {
      "cell_type": "markdown",
      "source": [
        "##### Ans--> The backslash character can be included in a string by using double backslash characters (\\\\\\\\)\n"
      ],
      "metadata": {
        "id": "U_mCSQNVHzfE"
      }
    },
    {
      "cell_type": "markdown",
      "source": [
        "### 4. The string \"Howl's Moving Castle\" is a correct value. Why isn't the single quote character in the word Howl's not escaped a problem?\n"
      ],
      "metadata": {
        "id": "8RVe_yaHCoW1"
      }
    },
    {
      "cell_type": "markdown",
      "source": [
        "##### Ans--> It is correct as we have used double quotes \" \" to enclose the complete string."
      ],
      "metadata": {
        "id": "waG3Ql7GJCEa"
      }
    },
    {
      "cell_type": "markdown",
      "source": [
        "### 5. How do you write a string of newlines if you don&#39;t want to use the n character?\n"
      ],
      "metadata": {
        "id": "K9n7z48KCoeI"
      }
    },
    {
      "cell_type": "markdown",
      "source": [
        "##### Ans--> We can use multiline strings to write newlines if we dont want to use the n character. We can do so by enclosing our string by three single or double quotes.\n",
        "\n",
        "\n",
        "\n",
        "```\n",
        "t = '''\n",
        "this is line1\n",
        "this is line 2\n",
        "this is line 3\n",
        "'''\n",
        "```\n",
        "\n"
      ],
      "metadata": {
        "id": "PM9QukgMJnD3"
      }
    },
    {
      "cell_type": "markdown",
      "source": [
        "### 6. What are the values of the given expressions?\n",
        "\n",
        "\n",
        "```\n",
        "'Hello, world!'[1]\n",
        "'Hello, world!'[0:5]\n",
        "'Hello, world!'[:5]\n",
        "'Hello, world!'[3:]\n",
        "```\n",
        "\n",
        "\n",
        "\n"
      ],
      "metadata": {
        "id": "CR-lTT-CCol3"
      }
    },
    {
      "cell_type": "markdown",
      "source": [
        "##### Ans-->\n",
        "\n",
        "\n",
        "```\n",
        "'Hello, world!'[1] \n",
        "\n",
        "--> results in 'e'\n",
        "\n",
        "```\n",
        "\n",
        "```\n",
        "'Hello, world!'[0:5]\n",
        "\n",
        "--> results in 'Hello'\n",
        "```\n",
        "\n",
        "```\n",
        "'Hello, world!'[:5]\n",
        "\n",
        "--> results in 'Hello'\n",
        "```\n",
        "\n",
        "```\n",
        "'Hello, world!'[3:]\n",
        "\n",
        "--> results in 'lo, world!'\n",
        "```\n",
        "\n",
        "\n",
        "\n",
        "\n",
        "\n",
        "\n",
        "\n"
      ],
      "metadata": {
        "id": "w_ubR6SDKpdc"
      }
    },
    {
      "cell_type": "markdown",
      "source": [
        "### 7. What are the values of the following expressions?\n",
        "\n",
        "\n",
        "```\n",
        "'Hello'.upper()\n",
        "'Hello'.upper().isupper()\n",
        "'Hello'.upper().lower()\n",
        "```\n",
        "\n",
        "\n"
      ],
      "metadata": {
        "id": "8nHLVQw4Cotz"
      }
    },
    {
      "cell_type": "markdown",
      "source": [
        "#####Ans-->\n",
        "\n",
        "\n",
        "```\n",
        "'Hello'.upper()\n",
        "\n",
        "--> results in 'HELLO'\n",
        "```\n",
        "\n",
        "\n",
        "```\n",
        "'Hello'.upper().isupper()\n",
        "\n",
        "--> results in True\n",
        "```\n",
        "\n",
        "\n",
        "```\n",
        "'Hello'.upper().lower()\n",
        "\n",
        "--> results in 'hello'\n",
        "```\n",
        "\n",
        "\n",
        "\n",
        "\n"
      ],
      "metadata": {
        "id": "w0X-9R3-L9aS"
      }
    },
    {
      "cell_type": "markdown",
      "source": [
        "### 8. What are the values of the following expressions?\n",
        "\n",
        "\n",
        "```\n",
        "'Remember, remember, the fifth of July.'.split()\n",
        "'-'.join('There can only one.'.split())\n",
        "```\n",
        "\n",
        "\n"
      ],
      "metadata": {
        "id": "rsFTQ2a6Co2b"
      }
    },
    {
      "cell_type": "code",
      "source": [
        "'Remember, remember, the fifth of July.'.split()"
      ],
      "metadata": {
        "colab": {
          "base_uri": "https://localhost:8080/"
        },
        "id": "En9D6oI-NU7J",
        "outputId": "3274fba5-102e-4d2b-f327-1a643d2f9eef"
      },
      "execution_count": 18,
      "outputs": [
        {
          "output_type": "execute_result",
          "data": {
            "text/plain": [
              "['Remember,', 'remember,', 'the', 'fifth', 'of', 'July.']"
            ]
          },
          "metadata": {},
          "execution_count": 18
        }
      ]
    },
    {
      "cell_type": "markdown",
      "source": [
        "##### Ans->>\n",
        "\n",
        "\n",
        "\n",
        "```\n",
        "'Remember, remember, the fifth of July.'.split()\n",
        "\n",
        "--> results in\n",
        "['Remember,', 'remember,', 'the', 'fifth', 'of',' July.']\n",
        "\n",
        "```\n",
        "\n",
        "\n",
        "\n",
        "```\n",
        "'-'.join('There can only one.'.split())\n",
        "\n",
        "--> results in \n",
        "\n",
        "'There-can-only-one.'\n",
        "```\n",
        "\n",
        "\n"
      ],
      "metadata": {
        "id": "EDMQgrR7M5Th"
      }
    },
    {
      "cell_type": "markdown",
      "source": [
        "### 9. What are the methods for right-justifying, left-justifying, and centering a string?\n"
      ],
      "metadata": {
        "id": "0Gul2SCECpJf"
      }
    },
    {
      "cell_type": "markdown",
      "source": [
        "##### Ans--> The methods are below:\n",
        "\n",
        "* rjust() is used for right justifying.\n",
        "* ljust() is used for left justifying.\n",
        "* center() is used for centering a string."
      ],
      "metadata": {
        "id": "WnIaMRKFSiri"
      }
    },
    {
      "cell_type": "markdown",
      "source": [
        "### 10. What is the best way to remove whitespace characters from the start or end?"
      ],
      "metadata": {
        "id": "t36KY8osCpSG"
      }
    },
    {
      "cell_type": "markdown",
      "source": [
        "##### Ans--> The best way to remove whitespace characters from the start or end is using lstrip() and rstrip() functions."
      ],
      "metadata": {
        "id": "FKd4O1GEUP6J"
      }
    },
    {
      "cell_type": "code",
      "source": [],
      "metadata": {
        "id": "qdK4o_8TUgfk"
      },
      "execution_count": null,
      "outputs": []
    }
  ]
}