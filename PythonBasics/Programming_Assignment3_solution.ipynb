{
  "nbformat": 4,
  "nbformat_minor": 0,
  "metadata": {
    "colab": {
      "provenance": []
    },
    "kernelspec": {
      "name": "python3",
      "display_name": "Python 3"
    },
    "language_info": {
      "name": "python"
    }
  },
  "cells": [
    {
      "cell_type": "markdown",
      "source": [
        "### 1. Write a Python Program to Check if a Number is Positive, Negative or Zero?\n"
      ],
      "metadata": {
        "id": "yxbU9gWzWCYw"
      }
    },
    {
      "cell_type": "code",
      "source": [
        "## Program to check if a number is Positive, Negrative or Zero\n",
        "\n",
        "def check_number(n):\n",
        "  if n > 1:\n",
        "    print(f\"{n} is a Positive Number.\")\n",
        "  elif n < 0:\n",
        "    print(f\"{n} is a Negative Number.\")\n",
        "  else:\n",
        "    print(f\"{n} is a Zero Number.\")\n",
        "\n",
        "user_num = int(input(\"Enter a Number:\"))\n",
        "\n",
        "check_number(user_num)"
      ],
      "metadata": {
        "colab": {
          "base_uri": "https://localhost:8080/"
        },
        "id": "smy3nN5aWROy",
        "outputId": "ce1f150e-ce4a-4119-e86d-67f75a352ebe"
      },
      "execution_count": 10,
      "outputs": [
        {
          "output_type": "stream",
          "name": "stdout",
          "text": [
            "Enter a Number:-2\n",
            "-2 is a Negative Number.\n"
          ]
        }
      ]
    },
    {
      "cell_type": "markdown",
      "source": [
        "### 2. Write a Python Program to Check if a Number is Odd or Even?\n"
      ],
      "metadata": {
        "id": "HzyXr31-WFEW"
      }
    },
    {
      "cell_type": "code",
      "source": [
        "## Program to check if a number is Odd or Even\n",
        "\n",
        "def check_number(n):\n",
        "  if n % 2 == 0:\n",
        "    print(f\"{n} is a Even Number.\")\n",
        "  else:\n",
        "    print(f\"{n} is a Odd Number.\")\n",
        "\n",
        "user_num = int(input(\"Enter a Number:\"))\n",
        "\n",
        "check_number(user_num)"
      ],
      "metadata": {
        "colab": {
          "base_uri": "https://localhost:8080/"
        },
        "id": "1hu0VP5hW-vG",
        "outputId": "b4a338ed-cffd-4feb-9835-1605abe5a028"
      },
      "execution_count": 9,
      "outputs": [
        {
          "output_type": "stream",
          "name": "stdout",
          "text": [
            "Enter a Number:5\n",
            "5 is a Odd Number.\n"
          ]
        }
      ]
    },
    {
      "cell_type": "markdown",
      "source": [
        "### 3. Write a Python Program to Check Leap Year?\n",
        "\n"
      ],
      "metadata": {
        "id": "7Hs9N4wjWFHg"
      }
    },
    {
      "cell_type": "code",
      "source": [
        "## Program to check Leap year\n",
        "\n",
        "def check_leap_year(u_year):\n",
        "  if u_year % 100 == 0:\n",
        "    if u_year % 400 == 0:\n",
        "      print(f\"{u_year} is a Leap Year.\")\n",
        "    else:\n",
        "      print(f\"{u_year} is not a Leap Year.\")\n",
        "  else:\n",
        "    if u_year % 4 == 0:\n",
        "      print(f\"{u_year} is a Leap Year.\")\n",
        "    else:\n",
        "      print(f\"{u_year} is not a Leap Year.\")\n",
        "      \n",
        "user_year = int(input(\"Enter year: \"))\n",
        "\n",
        "check_leap_year(user_year)"
      ],
      "metadata": {
        "colab": {
          "base_uri": "https://localhost:8080/"
        },
        "id": "wi9s9JeIXhBS",
        "outputId": "dd3cb3e2-1a15-4946-9023-1364b0f61130"
      },
      "execution_count": 64,
      "outputs": [
        {
          "output_type": "stream",
          "name": "stdout",
          "text": [
            "Enter year: 2020\n",
            "2020 is a Leap Year.\n"
          ]
        }
      ]
    },
    {
      "cell_type": "markdown",
      "source": [
        "### 4. Write a Python Program to Check Prime Number?\n"
      ],
      "metadata": {
        "id": "gYpCfXKpWFKY"
      }
    },
    {
      "cell_type": "code",
      "source": [
        "## Program to check Prime Number\n",
        "\n",
        "def check_prime(num):\n",
        "  prime_flag = True\n",
        "\n",
        "  if num == 1:\n",
        "    prime_flag = False\n",
        "\n",
        "  for i in range(2, round(num / 2) + 1):\n",
        "    if num % i == 0:\n",
        "      prime_flag = False\n",
        "      break\n",
        "  \n",
        "  if prime_flag:\n",
        "    print(f\"{num} is a Prime Number.\")\n",
        "  else:\n",
        "    print(f\"{num} is not a Prime Number.\")\n",
        "\n",
        "user_num = int(input(\"Enter a number: \"))\n",
        "\n",
        "check_prime(user_num)"
      ],
      "metadata": {
        "colab": {
          "base_uri": "https://localhost:8080/"
        },
        "id": "kAtTELOlXghZ",
        "outputId": "af787f92-fa37-4d6e-b40a-d4555537ae9e"
      },
      "execution_count": 52,
      "outputs": [
        {
          "output_type": "stream",
          "name": "stdout",
          "text": [
            "Enter a number: 13\n",
            "13 is a Prime Number.\n"
          ]
        }
      ]
    },
    {
      "cell_type": "markdown",
      "source": [
        "### 5. Write a Python Program to Print all Prime Numbers in an Interval of 1-10000?"
      ],
      "metadata": {
        "id": "nF1SL3E2WFNc"
      }
    },
    {
      "cell_type": "code",
      "execution_count": 48,
      "metadata": {
        "colab": {
          "base_uri": "https://localhost:8080/"
        },
        "id": "CU2g3M64Vaa6",
        "outputId": "2befc84d-3163-47d0-9a55-e916ee8fad17"
      },
      "outputs": [
        {
          "output_type": "stream",
          "name": "stdout",
          "text": [
            "2,3,5,7,11,13,17,19,23,29,31,37,41,43,47,53,59,61,67,71,73,79,83,89,97,101,103,107,109,113,127,131,137,139,149,151,157,163,167,173,179,181,191,193,197,199,211,223,227,229,233,239,241,251,257,263,269,271,277,281,283,293,307,311,313,317,331,337,347,349,353,359,367,373,379,383,389,397,401,409,419,421,431,433,439,443,449,457,461,463,467,479,487,491,499,503,509,521,523,541,547,557,563,569,571,577,587,593,599,601,607,613,617,619,631,641,643,647,653,659,661,673,677,683,691,701,709,719,727,733,739,743,751,757,761,769,773,787,797,809,811,821,823,827,829,839,853,857,859,863,877,881,883,887,907,911,919,929,937,941,947,953,967,971,977,983,991,997,"
          ]
        }
      ],
      "source": [
        "## Program to print all Prime Numbers in interval to 1-10000\n",
        "\n",
        "for num in range(1,1000):\n",
        "\n",
        "  prime_flag = True\n",
        "\n",
        "  if num == 1:\n",
        "    prime_flag = False\n",
        "\n",
        "  for i in range(2, round(num / 2) + 1):\n",
        "    if num % i == 0:\n",
        "      prime_flag = False\n",
        "      break\n",
        "    \n",
        "  if prime_flag:\n",
        "    print(num, end=\",\")\n"
      ]
    },
    {
      "cell_type": "code",
      "source": [],
      "metadata": {
        "id": "bXJg_hc6x-kt"
      },
      "execution_count": null,
      "outputs": []
    }
  ]
}