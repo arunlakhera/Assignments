{
 "cells": [
  {
   "cell_type": "markdown",
   "id": "462d3de2",
   "metadata": {},
   "source": [
    "**Question 1**\n",
    "\n",
    "Given a string `s`, *find the first non-repeating character in it and return its index*. If it does not exist, return `-1`.\n"
   ]
  },
  {
   "cell_type": "code",
   "execution_count": 1,
   "id": "722721e5",
   "metadata": {},
   "outputs": [
    {
     "name": "stdout",
     "output_type": "stream",
     "text": [
      "Index of first non-repeating character: 0\n"
     ]
    }
   ],
   "source": [
    "def firstNonRepeatingCharacter(s):\n",
    "    freq = {}\n",
    "    for char in s:\n",
    "        freq[char] = freq.get(char, 0) + 1\n",
    "    for i in range(len(s)):\n",
    "        if freq[s[i]] == 1:\n",
    "            return i\n",
    "    return -1\n",
    "\n",
    "s = \"leetcode\"\n",
    "index = firstNonRepeatingCharacter(s)\n",
    "print(\"Index of first non-repeating character:\", index)"
   ]
  },
  {
   "cell_type": "markdown",
   "id": "11e6bf05",
   "metadata": {},
   "source": [
    "**Question 2**\n",
    "\n",
    "Given a **circular integer array** `nums` of length `n`, return *the maximum possible sum of a non-empty **subarray** of* `nums`.\n",
    "\n",
    "A **circular array** means the end of the array connects to the beginning of the array. Formally, the next element of `nums[i]` is `nums[(i + 1) % n]` and the previous element of `nums[i]` is `nums[(i - 1 + n) % n]`.\n",
    "\n",
    "A **subarray** may only include each element of the fixed buffer `nums` at most once. Formally, for a subarray `nums[i], nums[i + 1], ..., nums[j]`, there does not exist `i <= k1`, `k2 <= j` with `k1 % n == k2 % n`.\n"
   ]
  },
  {
   "cell_type": "code",
   "execution_count": 2,
   "id": "9327ccc1",
   "metadata": {},
   "outputs": [
    {
     "name": "stdout",
     "output_type": "stream",
     "text": [
      "Maximum possible sum of a non-empty subarray: 3\n"
     ]
    }
   ],
   "source": [
    "def kadane(nums):\n",
    "    maxSum = float('-inf')\n",
    "    currSum = 0\n",
    "    for num in nums:\n",
    "        currSum = max(num, currSum + num)\n",
    "        maxSum = max(maxSum, currSum)\n",
    "    return maxSum\n",
    "\n",
    "def maxSubarraySumCircular(nums):\n",
    "    n = len(nums)\n",
    "    maxSum = kadane(nums)\n",
    "    if maxSum < 0:\n",
    "        return maxSum\n",
    "    totalSum = sum(nums)\n",
    "    maxStartSum = kadane(nums[:n-1])\n",
    "    maxEndSum = kadane(nums[1:])\n",
    "    return max(maxSum, totalSum + maxStartSum, totalSum + maxEndSum)\n",
    "\n",
    "nums = [1, -2, 3, -2]\n",
    "maxSum = maxSubarraySumCircular(nums)\n",
    "print(\"Maximum possible sum of a non-empty subarray:\", maxSum)\n",
    "\n"
   ]
  },
  {
   "cell_type": "markdown",
   "id": "35643d5a",
   "metadata": {},
   "source": [
    "**Question 3**\n",
    "\n",
    "The school cafeteria offers circular and square sandwiches at lunch break, referred to by numbers `0` and `1` respectively. All students stand in a queue. Each student either prefers square or circular sandwiches.\n",
    "\n",
    "The number of sandwiches in the cafeteria is equal to the number of students. The sandwiches are placed in a **stack**. At each step:\n",
    "\n",
    "- If the student at the front of the queue **prefers** the sandwich on the top of the stack, they will **take it** and leave the queue.\n",
    "- Otherwise, they will **leave it** and go to the queue's end.\n",
    "\n",
    "This continues until none of the queue students want to take the top sandwich and are thus unable to eat.\n",
    "\n",
    "You are given two integer arrays `students` and `sandwiches` where `sandwiches[i]` is the type of the `ith` sandwich in the stack (`i = 0` is the top of the stack) and `students[j]` is the preference of the `jth` student in the initial queue (`j = 0` is the front of the queue). Return *the number of students that are unable to eat.*\n"
   ]
  },
  {
   "cell_type": "code",
   "execution_count": 3,
   "id": "e41ac8a6",
   "metadata": {},
   "outputs": [
    {
     "name": "stdout",
     "output_type": "stream",
     "text": [
      "Number of students unable to eat: 0\n"
     ]
    }
   ],
   "source": [
    "from collections import deque\n",
    "\n",
    "def countStudents(students, sandwiches):\n",
    "    queue = deque(students)\n",
    "    stack = sandwiches[::-1]\n",
    "    count = 0\n",
    "    while queue:\n",
    "        if queue[0] == stack[-1]:\n",
    "            queue.popleft()\n",
    "            stack.pop()\n",
    "            count = 0\n",
    "        else:\n",
    "            queue.append(queue.popleft())\n",
    "            count += 1\n",
    "        if count == len(queue):\n",
    "            break\n",
    "    return len(queue)\n",
    "\n",
    "students = [1,1,0,0]\n",
    "sandwiches = [0,1,0,1]\n",
    "unable_to_eat = countStudents(students, sandwiches)\n",
    "print(\"Number of students unable to eat:\", unable_to_eat)"
   ]
  },
  {
   "cell_type": "markdown",
   "id": "b1cf4103",
   "metadata": {},
   "source": [
    "**Question 4**\n",
    "\n",
    "You have a `RecentCounter` class which counts the number of recent requests within a certain time frame.\n",
    "\n",
    "Implement the `RecentCounter` class:\n",
    "\n",
    "- `RecentCounter()` Initializes the counter with zero recent requests.\n",
    "- `int ping(int t)` Adds a new request at time `t`, where `t` represents some time in milliseconds, and returns the number of requests that has happened in the past `3000` milliseconds (including the new request). Specifically, return the number of requests that have happened in the inclusive range `[t - 3000, t]`.\n",
    "\n",
    "It is **guaranteed** that every call to `ping` uses a strictly larger value of `t` than the previous call."
   ]
  },
  {
   "cell_type": "code",
   "execution_count": 5,
   "id": "8e133100",
   "metadata": {},
   "outputs": [
    {
     "name": "stdout",
     "output_type": "stream",
     "text": [
      "1\n",
      "2\n",
      "3\n",
      "3\n"
     ]
    }
   ],
   "source": [
    "from collections import deque\n",
    "\n",
    "class RecentCounter:\n",
    "    def __init__(self):\n",
    "        self.requests = deque()\n",
    "\n",
    "    def ping(self, t: int) -> int:\n",
    "        self.requests.append(t)\n",
    "        while self.requests[0] < t - 3000:\n",
    "            self.requests.popleft()\n",
    "        return len(self.requests)\n",
    "\n",
    "rc = RecentCounter()\n",
    "print(rc.ping(1)) # should return 1\n",
    "print(rc.ping(100)) # should return 2\n",
    "print(rc.ping(3001)) # should return 1\n",
    "print(rc.ping(3002)) # should return 2"
   ]
  },
  {
   "cell_type": "markdown",
   "id": "c347402e",
   "metadata": {},
   "source": [
    "**Question 5**\n",
    "\n",
    "There are `n` friends that are playing a game. The friends are sitting in a circle and are numbered from `1` to `n` in **clockwise order**. More formally, moving clockwise from the `ith` friend brings you to the `(i+1)th` friend for `1 <= i < n`, and moving clockwise from the `nth` friend brings you to the `1st` friend.\n",
    "\n",
    "The rules of the game are as follows:\n",
    "\n",
    "1. **Start** at the `1st` friend.\n",
    "2. Count the next `k` friends in the clockwise direction **including** the friend you started at. The counting wraps around the circle and may count some friends more than once.\n",
    "3. The last friend you counted leaves the circle and loses the game.\n",
    "4. If there is still more than one friend in the circle, go back to step `2` **starting** from the friend **immediately clockwise** of the friend who just lost and repeat.\n",
    "5. Else, the last friend in the circle wins the game.\n",
    "\n",
    "Given the number of friends, `n`, and an integer `k`, return *the winner of the game*."
   ]
  },
  {
   "cell_type": "code",
   "execution_count": 6,
   "id": "bc23c48e",
   "metadata": {},
   "outputs": [
    {
     "name": "stdout",
     "output_type": "stream",
     "text": [
      "Winner of the game: 3\n"
     ]
    }
   ],
   "source": [
    "def findTheWinner(n: int, k: int) -> int:\n",
    "    friends = list(range(1, n+1))\n",
    "    current = 0\n",
    "    while len(friends) > 1:\n",
    "        current = (current + k - 1) % len(friends)\n",
    "        friends.pop(current)\n",
    "    return friends[0]\n",
    "\n",
    "n = 5\n",
    "k = 2\n",
    "winner = findTheWinner(n, k)\n",
    "print(\"Winner of the game:\", winner)"
   ]
  },
  {
   "cell_type": "markdown",
   "id": "c52bc142",
   "metadata": {},
   "source": [
    "**Question 6**\n",
    "\n",
    "You are given an integer array `deck`. There is a deck of cards where every card has a unique integer. The integer on the `ith` card is `deck[i]`.\n",
    "\n",
    "You can order the deck in any order you want. Initially, all the cards start face down (unrevealed) in one deck.\n",
    "\n",
    "You will do the following steps repeatedly until all cards are revealed:\n",
    "\n",
    "1. Take the top card of the deck, reveal it, and take it out of the deck.\n",
    "2. If there are still cards in the deck then put the next top card of the deck at the bottom of the deck.\n",
    "3. If there are still unrevealed cards, go back to step 1. Otherwise, stop.\n",
    "\n",
    "Return *an ordering of the deck that would reveal the cards in increasing order*.\n",
    "\n",
    "**Note** that the first entry in the answer is considered to be the top of the deck."
   ]
  },
  {
   "cell_type": "code",
   "execution_count": 7,
   "id": "d7d39505",
   "metadata": {},
   "outputs": [
    {
     "name": "stdout",
     "output_type": "stream",
     "text": [
      "Ordering of the deck: [2, 13, 3, 11, 5, 17, 7]\n"
     ]
    }
   ],
   "source": [
    "def deckRevealedIncreasing(deck):\n",
    "    deck.sort()\n",
    "    result = []\n",
    "    for card in reversed(deck):\n",
    "        if not result:\n",
    "            result.append(card)\n",
    "        else:\n",
    "            result.insert(0, result.pop())\n",
    "            result.insert(0, card)\n",
    "    return result\n",
    "\n",
    "deck = [17,13,11,2,3,5,7]\n",
    "result = deckRevealedIncreasing(deck)\n",
    "print(\"Ordering of the deck:\", result)"
   ]
  },
  {
   "cell_type": "markdown",
   "id": "6e20f4ab",
   "metadata": {},
   "source": [
    "**Question 7**\n",
    "\n",
    "Design a queue that supports `push` and `pop` operations in the front, middle, and back.\n",
    "\n",
    "Implement the `FrontMiddleBack` class:\n",
    "\n",
    "- `FrontMiddleBack()` Initializes the queue.\n",
    "- `void pushFront(int val)` Adds `val` to the **front** of the queue.\n",
    "- `void pushMiddle(int val)` Adds `val` to the **middle** of the queue.\n",
    "- `void pushBack(int val)` Adds `val` to the **back** of the queue.\n",
    "- `int popFront()` Removes the **front** element of the queue and returns it. If the queue is empty, return `1`.\n",
    "- `int popMiddle()` Removes the **middle** element of the queue and returns it. If the queue is empty, return `1`.\n",
    "- `int popBack()` Removes the **back** element of the queue and returns it. If the queue is empty, return `1`.\n",
    "\n",
    "**Notice** that when there are **two** middle position choices, the operation is performed on the **frontmost** middle position choice. For example:\n",
    "\n",
    "- Pushing `6` into the middle of `[1, 2, 3, 4, 5]` results in `[1, 2, 6, 3, 4, 5]`.\n",
    "- Popping the middle from `[1, 2, 3, 4, 5, 6]` returns `3` and results in `[1, 2, 4, 5, 6]`."
   ]
  },
  {
   "cell_type": "code",
   "execution_count": 8,
   "id": "43dd2b57",
   "metadata": {},
   "outputs": [],
   "source": [
    "class FrontMiddleBack:\n",
    "    def __init__(self):\n",
    "        self.front = []\n",
    "        self.back = []\n",
    "        self.size = 0\n",
    "        self.middle = 0\n",
    "\n",
    "    def pushFront(self, val: int) -> None:\n",
    "        self.front.append(val)\n",
    "        self.size += 1\n",
    "        self.middle = (self.middle + 1) // 2\n",
    "\n",
    "    def pushMiddle(self, val: int) -> None:\n",
    "        if self.size % 2 == 0:\n",
    "            self.front.append(val)\n",
    "            self.middle += 1\n",
    "        else:\n",
    "            self.back.append(self.front.pop())\n",
    "            self.front.append(val)\n",
    "            self.middle -= 1\n",
    "        self.size += 1\n",
    "\n",
    "    def pushBack(self, val: int) -> None:\n",
    "        self.back.append(val)\n",
    "        self.size += 1\n",
    "        self.middle = self.size // 2\n",
    "\n",
    "    def popFront(self) -> int:\n",
    "        if self.size == 0:\n",
    "            return -1\n",
    "        self.size -= 1\n",
    "        if len(self.front) > self.middle:\n",
    "            return self.front.pop()\n",
    "        val = self.front.pop()\n",
    "        self.front.extend(reversed(self.back))\n",
    "        self.back = []\n",
    "        self.middle = self.size // 2\n",
    "        return val\n",
    "\n",
    "    def popMiddle(self) -> int:\n",
    "        if self.size == 0:\n",
    "            return -1\n",
    "        self.size -= 1\n",
    "        if self.size % 2 == 0:\n",
    "            val = self.front.pop(self.middle - 1)\n",
    "            self.middle -= 1\n",
    "        else:\n",
    "            val = self.front.pop()\n",
    "            self.front.extend(reversed(self.back))\n",
    "            self.back = []\n",
    "            self.middle = self.size // 2\n",
    "        return val\n",
    "\n",
    "    def popBack(self) -> int:\n",
    "        if self.size == 0:\n",
    "            return -1\n",
    "        self.size -= 1\n",
    "        if len(self.back) > self.middle:\n",
    "            return self.back.pop()\n",
    "        val = self.back.pop()\n",
    "        self.front.extend(reversed(self.back))\n",
    "        self.back = []\n",
    "        self.middle = (self.size - 1) // 2\n",
    "        return val"
   ]
  },
  {
   "cell_type": "code",
   "execution_count": 11,
   "id": "95bc1e6b",
   "metadata": {},
   "outputs": [
    {
     "name": "stdout",
     "output_type": "stream",
     "text": [
      "3\n",
      "2\n"
     ]
    }
   ],
   "source": [
    "obj = FrontMiddleBack()\n",
    "obj.pushFront(1)\n",
    "obj.pushBack(2)\n",
    "obj.pushMiddle(3)\n",
    "print(obj.popFront()) # should return 1\n",
    "print(obj.popMiddle()) # should return 3"
   ]
  },
  {
   "cell_type": "markdown",
   "id": "7184946d",
   "metadata": {},
   "source": [
    "**Question 8**\n",
    "\n",
    "Design a queue that supports `push` and `pop` operations in the front, middle, and back.\n",
    "\n",
    "Implement the `FrontMiddleBack` class:\n",
    "\n",
    "- `FrontMiddleBack()` Initializes the queue.\n",
    "- `void pushFront(int val)` Adds `val` to the **front** of the queue.\n",
    "- `void pushMiddle(int val)` Adds `val` to the **middle** of the queue.\n",
    "- `void pushBack(int val)` Adds `val` to the **back** of the queue.\n",
    "- `int popFront()` Removes the **front** element of the queue and returns it. If the queue is empty, return `1`.\n",
    "- `int popMiddle()` Removes the **middle** element of the queue and returns it. If the queue is empty, return `1`.\n",
    "- `int popBack()` Removes the **back** element of the queue and returns it. If the queue is empty, return `1`.\n",
    "\n",
    "**Notice** that when there are **two** middle position choices, the operation is performed on the **frontmost** middle position choice. For example:\n",
    "\n",
    "- Pushing `6` into the middle of `[1, 2, 3, 4, 5]` results in `[1, 2, 6, 3, 4, 5]`.\n",
    "- Popping the middle from `[1, 2, 3, 4, 5, 6]` returns `3` and results in `[1, 2, 4, 5, 6]`."
   ]
  },
  {
   "cell_type": "code",
   "execution_count": 16,
   "id": "e7a017ba",
   "metadata": {},
   "outputs": [],
   "source": [
    "class Node:\n",
    "    def __init__(self, val=0):\n",
    "        self.val = val\n",
    "        self.prev = None\n",
    "        self.next = None\n",
    "\n",
    "class FrontMiddleBack:\n",
    "    def __init__(self):\n",
    "        self.head = None\n",
    "        self.tail = None\n",
    "        self.size = 0\n",
    "        self.middle = None\n",
    "\n",
    "    def pushFront(self, val: int) -> None:\n",
    "        node = Node(val)\n",
    "        if self.size == 0:\n",
    "            self.head = self.tail = self.middle = node\n",
    "        else:\n",
    "            node.next = self.head\n",
    "            self.head.prev = node\n",
    "            self.head = node\n",
    "            if self.size % 2 == 1:\n",
    "                self.middle = self.middle.prev\n",
    "        self.size += 1\n",
    "\n",
    "    def pushMiddle(self, val: int) -> None:\n",
    "        if self.size == 0:\n",
    "            self.pushFront(val)\n",
    "        else:\n",
    "            node = Node(val)\n",
    "            if self.size % 2 == 0:\n",
    "                self.middle = self.middle.prev\n",
    "            node.prev = self.middle\n",
    "            node.next = self.middle.next\n",
    "            if self.middle.next:\n",
    "                self.middle.next.prev = node\n",
    "            self.middle.next = node\n",
    "            if self.size == 1:\n",
    "                self.tail = node\n",
    "            self.size += 1\n",
    "\n",
    "    def pushBack(self, val: int) -> None:\n",
    "        if self.size == 0:\n",
    "            self.pushFront(val)\n",
    "        else:\n",
    "            node = Node(val)\n",
    "            node.prev = self.tail\n",
    "            self.tail.next = node\n",
    "            self.tail = node\n",
    "            if self.size % 2 == 1:\n",
    "                self.middle = self.middle.next\n",
    "            self.size += 1\n",
    "\n",
    "    def popFront(self) -> int:\n",
    "        if self.size == 0:\n",
    "            return -1\n",
    "        val = self.head.val\n",
    "        if self.size == 1:\n",
    "            self.head = self.tail = self.middle = None\n",
    "        else:\n",
    "            self.head = self.head.next\n",
    "            self.head.prev = None\n",
    "            if self.size % 2 == 1:\n",
    "                self.middle = self.middle.next\n",
    "        self.size -= 1\n",
    "        return val\n",
    "\n",
    "    def popMiddle(self) -> int:\n",
    "        if self.size == 0:\n",
    "            return -1\n",
    "        val = self.middle.val\n",
    "        if self.size == 1:\n",
    "            self.head = self.tail = self.middle = None\n",
    "        else:\n",
    "            if self.size % 2 == 0:\n",
    "                self.middle = self.middle.prev\n",
    "            self.middle.prev.next = self.middle.next\n",
    "            if self.middle.next:\n",
    "                self.middle.next.prev = self.middle.prev\n",
    "            self.middle = self.middle.next\n",
    "            if self.size % 2 == 1:\n",
    "                self.middle = self.middle.prev\n",
    "        self.size -= 1\n",
    "        return val\n",
    "\n",
    "    def popBack(self) -> int:\n",
    "        if self.size == 0:\n",
    "            return -1\n",
    "        val = self.tail.val\n",
    "        if self.size == 1:\n",
    "            self.head = self.tail = self.middle = None\n",
    "        else:\n",
    "            self.tail = self.tail.prev\n",
    "            self.tail.next = None\n",
    "            if self.size % 2 == 0:\n",
    "                self.middle = self.middle.prev\n",
    "        self.size -= 1\n",
    "        return val"
   ]
  },
  {
   "cell_type": "code",
   "execution_count": 18,
   "id": "12f89367",
   "metadata": {},
   "outputs": [
    {
     "name": "stdout",
     "output_type": "stream",
     "text": [
      "1\n"
     ]
    }
   ],
   "source": [
    "obj = FrontMiddleBack()\n",
    "obj.pushFront(1)\n",
    "obj.pushBack(2)\n",
    "obj.pushMiddle(3)\n",
    "print(obj.popFront()) # should return 1"
   ]
  },
  {
   "cell_type": "code",
   "execution_count": null,
   "id": "40bd2574",
   "metadata": {},
   "outputs": [],
   "source": []
  }
 ],
 "metadata": {
  "kernelspec": {
   "display_name": "Python 3 (ipykernel)",
   "language": "python",
   "name": "python3"
  },
  "language_info": {
   "codemirror_mode": {
    "name": "ipython",
    "version": 3
   },
   "file_extension": ".py",
   "mimetype": "text/x-python",
   "name": "python",
   "nbconvert_exporter": "python",
   "pygments_lexer": "ipython3",
   "version": "3.10.9"
  }
 },
 "nbformat": 4,
 "nbformat_minor": 5
}
