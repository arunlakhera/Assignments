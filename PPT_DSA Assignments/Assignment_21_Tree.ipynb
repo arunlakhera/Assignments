{
 "cells": [
  {
   "cell_type": "markdown",
   "id": "8f36dd63",
   "metadata": {},
   "source": [
    "Question-1\n",
    "\n",
    "You are given a binary tree. The binary tree is represented using the TreeNode class. Each TreeNode has an integer value and left and right children, represented using the TreeNode class itself. Convert this binary tree into a binary search tree.\n"
   ]
  },
  {
   "cell_type": "code",
   "execution_count": 1,
   "id": "281aacda",
   "metadata": {},
   "outputs": [
    {
     "name": "stdout",
     "output_type": "stream",
     "text": [
      "2 3 4 5 6 7 8 "
     ]
    }
   ],
   "source": [
    "class TreeNode:\n",
    "    def __init__(self, val=0, left=None, right=None):\n",
    "        self.val = val\n",
    "        self.left = left\n",
    "        self.right = right\n",
    "\n",
    "def inorderTraversal(node):\n",
    "    if not node:\n",
    "        return []\n",
    "    return inorderTraversal(node.left) + [node.val] + inorderTraversal(node.right)\n",
    "\n",
    "def buildBST(nodes):\n",
    "    if not nodes:\n",
    "        return None\n",
    "    mid = len(nodes) // 2\n",
    "    root = TreeNode(nodes[mid])\n",
    "    root.left = buildBST(nodes[:mid])\n",
    "    root.right = buildBST(nodes[mid+1:])\n",
    "    return root\n",
    "\n",
    "def convertToBST(root):\n",
    "    nodes = inorderTraversal(root)\n",
    "    return buildBST(nodes)\n",
    "\n",
    "root = TreeNode(5, TreeNode(3, TreeNode(2), TreeNode(4)), TreeNode(7, TreeNode(6), TreeNode(8)))\n",
    "bst_root = convertToBST(root)\n",
    "\n",
    "def inorderTraversal(node):\n",
    "    if node:\n",
    "        inorderTraversal(node.left)\n",
    "        print(node.val, end=' ')\n",
    "        inorderTraversal(node.right)\n",
    "\n",
    "inorderTraversal(bst_root)"
   ]
  },
  {
   "cell_type": "markdown",
   "id": "5a83b1f9",
   "metadata": {},
   "source": [
    "Question-2:\n",
    "\n",
    "Given a Binary Search Tree with all unique values and two keys. Find the distance between two nodes in BST. The given keys always exist in BST.\n"
   ]
  },
  {
   "cell_type": "code",
   "execution_count": 2,
   "id": "9f7e7295",
   "metadata": {},
   "outputs": [
    {
     "name": "stdout",
     "output_type": "stream",
     "text": [
      "4\n"
     ]
    }
   ],
   "source": [
    "class TreeNode:\n",
    "    def __init__(self, val=0, left=None, right=None):\n",
    "        self.val = val\n",
    "        self.left = left\n",
    "        self.right = right\n",
    "\n",
    "def findLCA(root, p, q):\n",
    "    if not root:\n",
    "        return None\n",
    "    if root.val > p.val and root.val > q.val:\n",
    "        return findLCA(root.left, p, q)\n",
    "    elif root.val < p.val and root.val < q.val:\n",
    "        return findLCA(root.right, p, q)\n",
    "    else:\n",
    "        return root\n",
    "\n",
    "def findDistance(root, val):\n",
    "    if not root:\n",
    "        return float('inf')\n",
    "    if root.val == val:\n",
    "        return 0\n",
    "    if root.val > val:\n",
    "        return 1 + findDistance(root.left, val)\n",
    "    else:\n",
    "        return 1 + findDistance(root.right, val)\n",
    "\n",
    "def distanceBetweenNodes(root, p, q):\n",
    "    lca = findLCA(root, p, q)\n",
    "    dist_p = findDistance(lca, p.val)\n",
    "    dist_q = findDistance(lca, q.val)\n",
    "    return dist_p + dist_q\n",
    "\n",
    "root = TreeNode(5, TreeNode(3, TreeNode(2), TreeNode(4)), TreeNode(7, TreeNode(6), TreeNode(8)))\n",
    "p = TreeNode(2)\n",
    "q = TreeNode(8)\n",
    "print(distanceBetweenNodes(root, p, q))  # 4"
   ]
  },
  {
   "cell_type": "markdown",
   "id": "5c4de085",
   "metadata": {},
   "source": [
    " Question-3:\n",
    "\n",
    "Write a program to convert a binary tree to a doubly linked list.\n"
   ]
  },
  {
   "cell_type": "code",
   "execution_count": 6,
   "id": "ccde3f82",
   "metadata": {},
   "outputs": [],
   "source": [
    "class TreeNode:\n",
    "    def __init__(self, val=0, left=None, right=None, prev=None, next=None):\n",
    "        self.val = val\n",
    "        self.left = left\n",
    "        self.right = right\n",
    "        self.prev = prev\n",
    "        self.next = next\n",
    "\n",
    "def treeToDoublyList(root):\n",
    "    if not root:\n",
    "        return None\n",
    "\n",
    "    head, tail = inorderTraversal(root)\n",
    "\n",
    "    head.prev = tail\n",
    "    tail.next = head\n",
    "\n",
    "    return head\n",
    "\n",
    "def inorderTraversal(root):\n",
    "    if not root:\n",
    "        return None, None\n",
    "\n",
    "    left_head, left_tail = inorderTraversal(root.left)\n",
    "    right_head, right_tail = inorderTraversal(root.right)\n",
    "\n",
    "    node = TreeNode(root.val)\n",
    "    node.prev = left_tail\n",
    "    node.next = right_head\n",
    "\n",
    "    if left_tail:\n",
    "        left_tail.next = node\n",
    "    if right_head:\n",
    "        right_head.prev = node\n",
    "\n",
    "    head = left_head if left_head else node\n",
    "    tail = right_tail if right_tail else node\n",
    "\n",
    "    return head, tail"
   ]
  },
  {
   "cell_type": "markdown",
   "id": "4d7a6b39",
   "metadata": {},
   "source": [
    " Question-4:\n",
    "\n",
    "Write a program to connect nodes at the same level.\n"
   ]
  },
  {
   "cell_type": "code",
   "execution_count": 4,
   "id": "e3348905",
   "metadata": {},
   "outputs": [],
   "source": [
    "class TreeNode:\n",
    "    def __init__(self, val=0, left=None, right=None, next=None):\n",
    "        self.val = val\n",
    "        self.left = left\n",
    "        self.right = right\n",
    "        self.next = next\n",
    "\n",
    "def connect(root):\n",
    "    if not root:\n",
    "        return None\n",
    "\n",
    "    queue = [root]\n",
    "\n",
    "    while queue:\n",
    "        size = len(queue)\n",
    "\n",
    "        for i in range(size):\n",
    "            node = queue.pop(0)\n",
    "            if i < size - 1:\n",
    "                node.next = queue[0]\n",
    "\n",
    "            if node.left:\n",
    "                queue.append(node.left)\n",
    "            if node.right:\n",
    "                queue.append(node.right)\n",
    "\n",
    "    return root"
   ]
  },
  {
   "cell_type": "code",
   "execution_count": 5,
   "id": "d66d0bc3",
   "metadata": {},
   "outputs": [
    {
     "name": "stdout",
     "output_type": "stream",
     "text": [
      "1 None\n",
      "2 3 None\n",
      "4 5 6 <__main__.TreeNode object at 0x0000020125AE02B0>\n"
     ]
    }
   ],
   "source": [
    "root = TreeNode(1, TreeNode(2, TreeNode(4), TreeNode(5)), TreeNode(3, TreeNode(6), TreeNode(7)))\n",
    "connect(root)\n",
    "print(root.val, root.next)\n",
    "print(root.left.val, root.left.next.val, root.left.next.next)\n",
    "print(root.left.left.val, root.left.left.next.val, root.left.left.next.next.val, root.left.left.next.next.next)"
   ]
  },
  {
   "cell_type": "code",
   "execution_count": null,
   "id": "aaceec74",
   "metadata": {},
   "outputs": [],
   "source": []
  }
 ],
 "metadata": {
  "kernelspec": {
   "display_name": "Python 3 (ipykernel)",
   "language": "python",
   "name": "python3"
  },
  "language_info": {
   "codemirror_mode": {
    "name": "ipython",
    "version": 3
   },
   "file_extension": ".py",
   "mimetype": "text/x-python",
   "name": "python",
   "nbconvert_exporter": "python",
   "pygments_lexer": "ipython3",
   "version": "3.10.9"
  }
 },
 "nbformat": 4,
 "nbformat_minor": 5
}
