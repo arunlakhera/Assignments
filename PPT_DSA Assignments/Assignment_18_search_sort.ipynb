{
 "cells": [
  {
   "cell_type": "markdown",
   "id": "9b8506c1",
   "metadata": {},
   "source": [
    "1. **Merge Intervals**\n",
    "\n",
    "Given an array of `intervals` where `intervals[i] = [starti, endi]`, merge all overlapping intervals, and return *an array of the non-overlapping intervals that cover all the intervals in the input*.\n",
    "\n"
   ]
  },
  {
   "cell_type": "code",
   "execution_count": 2,
   "id": "219a3c85",
   "metadata": {},
   "outputs": [
    {
     "name": "stdout",
     "output_type": "stream",
     "text": [
      "[[1, 6], [8, 10], [15, 18]]\n"
     ]
    }
   ],
   "source": [
    "def merge(intervals):\n",
    "    intervals.sort(key=lambda x: x[0])\n",
    "    merged = []\n",
    "    for interval in intervals:\n",
    "        if not merged or merged[-1][1] < interval[0]:\n",
    "            merged.append(interval)\n",
    "        else:\n",
    "            merged[-1][1] = max(merged[-1][1], interval[1])\n",
    "    return merged\n",
    "\n",
    "intervals = [[1,3],[2,6],[8,10],[15,18]]\n",
    "merged_intervals = merge(intervals)\n",
    "print(merged_intervals) # should return [[1,6],[8,10],[15,18]]"
   ]
  },
  {
   "cell_type": "markdown",
   "id": "ca9866b3",
   "metadata": {},
   "source": [
    "2. **Sort Colors**\n",
    "\n",
    "Given an array `nums` with `n` objects colored red, white, or blue, sort them **[in-place](https://en.wikipedia.org/wiki/In-place_algorithm)** so that objects of the same color are adjacent, with the colors in the order red, white, and blue.\n",
    "\n",
    "We will use the integers `0`, `1`, and `2` to represent the color red, white, and blue, respectively.\n",
    "\n",
    "You must solve this problem without using the library's sort function\n"
   ]
  },
  {
   "cell_type": "code",
   "execution_count": 3,
   "id": "2dd49127",
   "metadata": {},
   "outputs": [
    {
     "name": "stdout",
     "output_type": "stream",
     "text": [
      "[0, 0, 1, 1, 2, 2]\n"
     ]
    }
   ],
   "source": [
    "def sortColors(nums):\n",
    "    left = 0\n",
    "    right = len(nums) - 1\n",
    "    current = 0\n",
    "    \n",
    "    while current <= right:\n",
    "        if nums[current] == 0:\n",
    "            nums[left], nums[current] = nums[current], nums[left]\n",
    "            left += 1\n",
    "            current += 1\n",
    "        elif nums[current] == 2:\n",
    "            nums[current], nums[right] = nums[right], nums[current]\n",
    "            right -= 1\n",
    "        else:\n",
    "            current += 1\n",
    "\n",
    "colors = [2,0,2,1,1,0]\n",
    "sortColors(colors)\n",
    "print(colors) # should return [0,0,1,1,2,2]"
   ]
  },
  {
   "cell_type": "markdown",
   "id": "c878c1c8",
   "metadata": {},
   "source": [
    "3. **First Bad Version Solution**\n",
    "\n",
    "You are a product manager and currently leading a team to develop a new product. Unfortunately, the latest version of your product fails the quality check. Since each version is developed based on the previous version, all the versions after a bad version are also bad.\n",
    "\n",
    "Suppose you have `n` versions `[1, 2, ..., n]` and you want to find out the first bad one, which causes all the following ones to be bad.\n",
    "\n",
    "You are given an API `bool isBadVersion(version)` which returns whether `version` is bad. Implement a function to find the first bad version. You should minimize the number of calls to the API.\n"
   ]
  },
  {
   "cell_type": "code",
   "execution_count": 4,
   "id": "b9bb4829",
   "metadata": {},
   "outputs": [
    {
     "name": "stdout",
     "output_type": "stream",
     "text": [
      "4\n"
     ]
    }
   ],
   "source": [
    "def firstBadVersion(n):\n",
    "    left = 1\n",
    "    right = n\n",
    "    \n",
    "    while left < right:\n",
    "        mid = (left + right) // 2\n",
    "        if isBadVersion(mid):\n",
    "            right = mid\n",
    "        else:\n",
    "            left = mid + 1\n",
    "    \n",
    "    return left\n",
    "\n",
    "def isBadVersion(version):\n",
    "    return version >= 4\n",
    "\n",
    "n = 5\n",
    "bad_version = firstBadVersion(n)\n",
    "print(bad_version) # should return 4"
   ]
  },
  {
   "cell_type": "markdown",
   "id": "65acb276",
   "metadata": {},
   "source": [
    "4. **Maximum Gap**\n",
    "\n",
    "Given an integer array `nums`, return *the maximum difference between two successive elements in its sorted form*. If the array contains less than two elements, return `0`.\n",
    "\n",
    "You must write an algorithm that runs in linear time and uses linear extra space.\n"
   ]
  },
  {
   "cell_type": "code",
   "execution_count": 5,
   "id": "467c7ac4",
   "metadata": {},
   "outputs": [
    {
     "name": "stdout",
     "output_type": "stream",
     "text": [
      "3\n"
     ]
    }
   ],
   "source": [
    "def maximumGap(nums):\n",
    "    if len(nums) < 2:\n",
    "        return 0\n",
    "\n",
    "    # find the maximum element in the array\n",
    "    max_num = max(nums)\n",
    "\n",
    "    # perform radix sort on the array\n",
    "    exp = 1\n",
    "    while max_num // exp > 0:\n",
    "        count = [0] * 10\n",
    "        for num in nums:\n",
    "            digit = (num // exp) % 10\n",
    "            count[digit] += 1\n",
    "        for i in range(1, 10):\n",
    "            count[i] += count[i-1]\n",
    "        sorted_nums = [0] * len(nums)\n",
    "        for i in range(len(nums)-1, -1, -1):\n",
    "            digit = (nums[i] // exp) % 10\n",
    "            sorted_nums[count[digit]-1] = nums[i]\n",
    "            count[digit] -= 1\n",
    "        nums = sorted_nums\n",
    "        exp *= 10\n",
    "\n",
    "    # find the maximum difference between two successive elements\n",
    "    max_diff = 0\n",
    "    for i in range(1, len(nums)):\n",
    "        diff = nums[i] - nums[i-1]\n",
    "        if diff > max_diff:\n",
    "            max_diff = diff\n",
    "\n",
    "    return max_diff\n",
    "\n",
    "nums = [3, 6, 9, 1]\n",
    "max_diff = maximumGap(nums)\n",
    "print(max_diff) # should return 3"
   ]
  },
  {
   "cell_type": "markdown",
   "id": "e8ed583f",
   "metadata": {},
   "source": [
    "5. **Contains Duplicate**\n",
    "\n",
    "Given an integer array `nums`, return `true` if any value appears **at least twice** in the array, and return `false` if every element is distinct.\n"
   ]
  },
  {
   "cell_type": "code",
   "execution_count": 6,
   "id": "9af2585f",
   "metadata": {},
   "outputs": [
    {
     "name": "stdout",
     "output_type": "stream",
     "text": [
      "True\n"
     ]
    }
   ],
   "source": [
    "def containsDuplicate(nums):\n",
    "    seen = set()\n",
    "    for num in nums:\n",
    "        if num in seen:\n",
    "            return True\n",
    "        else:\n",
    "            seen.add(num)\n",
    "    return False\n",
    "\n",
    "nums = [1, 2, 3, 1]\n",
    "contains_dup = containsDuplicate(nums)\n",
    "print(contains_dup) # should return True"
   ]
  },
  {
   "cell_type": "markdown",
   "id": "4852f40a",
   "metadata": {},
   "source": [
    "6. **Minimum Number of Arrows to Burst Balloons**\n",
    "\n",
    "There are some spherical balloons taped onto a flat wall that represents the XY-plane. The balloons are represented as a 2D integer array `points` where `points[i] = [xstart, xend]` denotes a balloon whose **horizontal diameter** stretches between `xstart` and `xend`. You do not know the exact y-coordinates of the balloons.\n",
    "\n",
    "Arrows can be shot up **directly vertically** (in the positive y-direction) from different points along the x-axis. A balloon with `xstart` and `xend` is **burst** by an arrow shot at `x` if `xstart <= x <= xend`. There is **no limit** to the number of arrows that can be shot. A shot arrow keeps traveling up infinitely, bursting any balloons in its path.\n",
    "\n",
    "Given the array `points`, return *the **minimum** number of arrows that must be shot to burst all balloons*.\n"
   ]
  },
  {
   "cell_type": "code",
   "execution_count": 7,
   "id": "5d7e77cd",
   "metadata": {},
   "outputs": [
    {
     "name": "stdout",
     "output_type": "stream",
     "text": [
      "2\n"
     ]
    }
   ],
   "source": [
    "def findMinArrowShots(points):\n",
    "    if not points:\n",
    "        return 0\n",
    "\n",
    "    # sort the balloons by their end position in ascending order\n",
    "    points.sort(key=lambda x: x[1])\n",
    "\n",
    "    end = points[0][1]\n",
    "    arrows = 1\n",
    "\n",
    "    # iterate through the balloons and shoot arrows\n",
    "    for i in range(1, len(points)):\n",
    "        if points[i][0] > end:\n",
    "            # need to shoot a new arrow\n",
    "            end = points[i][1]\n",
    "            arrows += 1\n",
    "        else:\n",
    "            # current balloon can be burst by the same arrow as the previous balloon\n",
    "            end = min(end, points[i][1])\n",
    "\n",
    "    return arrows\n",
    "\n",
    "points = [[10,16],[2,8],[1,6],[7,12]]\n",
    "min_arrows = findMinArrowShots(points)\n",
    "print(min_arrows) # should return 2"
   ]
  },
  {
   "cell_type": "markdown",
   "id": "d9c88108",
   "metadata": {},
   "source": [
    "7. **Longest Increasing Subsequence**\n",
    "\n",
    "Given an integer array `nums`, return *the length of the longest **strictly increasing***\n",
    "\n",
    "***subsequence***\n"
   ]
  },
  {
   "cell_type": "code",
   "execution_count": 8,
   "id": "8bba0b6d",
   "metadata": {},
   "outputs": [
    {
     "name": "stdout",
     "output_type": "stream",
     "text": [
      "4\n"
     ]
    }
   ],
   "source": [
    "def lengthOfLIS(nums):\n",
    "    if not nums:\n",
    "        return 0\n",
    "\n",
    "    n = len(nums)\n",
    "    dp = [1] * n\n",
    "\n",
    "    for i in range(1, n):\n",
    "        for j in range(i):\n",
    "            if nums[j] < nums[i]:\n",
    "                dp[i] = max(dp[i], dp[j] + 1)\n",
    "\n",
    "    return max(dp)\n",
    "\n",
    "nums = [10,9,2,5,3,7,101,18]\n",
    "length = lengthOfLIS(nums)\n",
    "print(length) # should return 4"
   ]
  },
  {
   "cell_type": "markdown",
   "id": "24662970",
   "metadata": {},
   "source": [
    "8. **132 Pattern**\n",
    "\n",
    "Given an array of `n` integers `nums`, a **132 pattern** is a subsequence of three integers `nums[i]`, `nums[j]` and `nums[k]` such that `i < j < k` and `nums[i] < nums[k] < nums[j]`.\n",
    "\n",
    "Return `true` *if there is a **132 pattern** in* `nums`*, otherwise, return* `false`*.*\n"
   ]
  },
  {
   "cell_type": "code",
   "execution_count": 9,
   "id": "1c777fff",
   "metadata": {},
   "outputs": [
    {
     "name": "stdout",
     "output_type": "stream",
     "text": [
      "True\n"
     ]
    }
   ],
   "source": [
    "def find132pattern(nums):\n",
    "    if len(nums) < 3:\n",
    "        return False\n",
    "\n",
    "    stack = []\n",
    "    max_val = float('-inf')\n",
    "\n",
    "    for i in range(len(nums)-1, -1, -1):\n",
    "        if nums[i] < max_val:\n",
    "            return True\n",
    "\n",
    "        while stack and stack[-1] < nums[i]:\n",
    "            max_val = stack.pop()\n",
    "\n",
    "        stack.append(nums[i])\n",
    "\n",
    "    return False\n",
    "\n",
    "nums = [3,1,4,2]\n",
    "contains_132 = find132pattern(nums)\n",
    "print(contains_132) # should return True"
   ]
  },
  {
   "cell_type": "code",
   "execution_count": null,
   "id": "e73e5dc2",
   "metadata": {},
   "outputs": [],
   "source": []
  }
 ],
 "metadata": {
  "kernelspec": {
   "display_name": "Python 3 (ipykernel)",
   "language": "python",
   "name": "python3"
  },
  "language_info": {
   "codemirror_mode": {
    "name": "ipython",
    "version": 3
   },
   "file_extension": ".py",
   "mimetype": "text/x-python",
   "name": "python",
   "nbconvert_exporter": "python",
   "pygments_lexer": "ipython3",
   "version": "3.10.9"
  }
 },
 "nbformat": 4,
 "nbformat_minor": 5
}
