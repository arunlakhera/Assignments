{
 "cells": [
  {
   "cell_type": "markdown",
   "id": "55ca4b64",
   "metadata": {},
   "source": [
    "## Question 1\n",
    "Given an integer array nums of length n and an integer target, find three integers\n",
    "in nums such that the sum is closest to the target.\n",
    "Return the sum of the three integers.\n",
    "\n",
    "You may assume that each input would have exactly one solution.\n",
    "\n",
    "Example 1:\n",
    "Input: nums = [-1,2,1,-4], target = 1\n",
    "Output: 2\n",
    "\n",
    "Explanation: The sum that is closest to the target is 2. (-1 + 2 + 1 = 2)."
   ]
  },
  {
   "cell_type": "code",
   "execution_count": 25,
   "id": "d8ed9479",
   "metadata": {},
   "outputs": [],
   "source": [
    "def threeSumClosest(nums, target):\n",
    "    nums.sort()\n",
    "    n = len(nums)\n",
    "    closest_sum = float('inf')\n",
    "    \n",
    "    for i in range(n-2):\n",
    "        left, right = i+1, n-1\n",
    "        while left < right:\n",
    "            s = nums[i] + nums[left] + nums[right]\n",
    "            if abs(s - target) < abs(closest_sum - target):\n",
    "                closest_sum = s\n",
    "            if s == target:\n",
    "                return s\n",
    "            elif s < target:\n",
    "                left += 1\n",
    "            else:\n",
    "                right -= 1\n",
    "    \n",
    "    return closest_sum"
   ]
  },
  {
   "cell_type": "code",
   "execution_count": 26,
   "id": "ac5d22ef",
   "metadata": {},
   "outputs": [
    {
     "data": {
      "text/plain": [
       "2"
      ]
     },
     "execution_count": 26,
     "metadata": {},
     "output_type": "execute_result"
    }
   ],
   "source": [
    "nums = [-1,2,1,-4]\n",
    "target = 1\n",
    "\n",
    "threeSumClosest(nums, target)"
   ]
  },
  {
   "cell_type": "markdown",
   "id": "a40be19a",
   "metadata": {},
   "source": [
    "## Question 2\n",
    "Given an array nums of n integers, return an array of all the unique quadruplets\n",
    "[nums[a], nums[b], nums[c], nums[d]] such that:\n",
    "           ● 0 <= a, b, c, d < n\n",
    "           ● a, b, c, and d are distinct.\n",
    "           ● nums[a] + nums[b] + nums[c] + nums[d] == target\n",
    "\n",
    "You may return the answer in any order.\n",
    "\n",
    "Example 1:\n",
    "Input: nums = [1,0,-1,0,-2,2], target = 0\n",
    "Output: [[-2,-1,1,2],[-2,0,0,2],[-1,0,0,1]]"
   ]
  },
  {
   "cell_type": "code",
   "execution_count": 22,
   "id": "f861e7b7",
   "metadata": {},
   "outputs": [],
   "source": [
    "def fourSum(nums, target):\n",
    "    nums.sort()\n",
    "    n = len(nums)\n",
    "    res = []\n",
    "    \n",
    "    for i in range(n-3):\n",
    "        if i > 0 and nums[i] == nums[i-1]:\n",
    "            continue\n",
    "        for j in range(i+1, n-2):\n",
    "            if j > i+1 and nums[j] == nums[j-1]:\n",
    "                continue\n",
    "            left, right = j+1, n-1\n",
    "            while left < right:\n",
    "                s = nums[i] + nums[j] + nums[left] + nums[right]\n",
    "                if s == target:\n",
    "                    res.append([nums[i], nums[j], nums[left], nums[right]])\n",
    "                    left += 1\n",
    "                    right -= 1\n",
    "                    while left < right and nums[left] == nums[left-1]:\n",
    "                        left += 1\n",
    "                    while left < right and nums[right] == nums[right+1]:\n",
    "                        right -= 1\n",
    "                elif s < target:\n",
    "                    left += 1\n",
    "                else:\n",
    "                    right -= 1\n",
    "    \n",
    "    return res"
   ]
  },
  {
   "cell_type": "code",
   "execution_count": 24,
   "id": "d2a545ec",
   "metadata": {},
   "outputs": [
    {
     "data": {
      "text/plain": [
       "[[-2, -1, 1, 2], [-2, 0, 0, 2], [-1, 0, 0, 1]]"
      ]
     },
     "execution_count": 24,
     "metadata": {},
     "output_type": "execute_result"
    }
   ],
   "source": [
    "nums = [1,0,-1,0,-2,2]\n",
    "target = 0\n",
    "fourSum(nums, target)"
   ]
  },
  {
   "cell_type": "markdown",
   "id": "5808a103",
   "metadata": {},
   "source": [
    "## Question 3\n",
    "A permutation of an array of integers is an arrangement of its members into a\n",
    "sequence or linear order.\n",
    "\n",
    "For example, for arr = [1,2,3], the following are all the permutations of arr:\n",
    "[1,2,3], [1,3,2], [2, 1, 3], [2, 3, 1], [3,1,2], [3,2,1].\n",
    "\n",
    "The next permutation of an array of integers is the next lexicographically greater\n",
    "permutation of its integer. More formally, if all the permutations of the array are\n",
    "sorted in one container according to their lexicographical order, then the next\n",
    "permutation of that array is the permutation that follows it in the sorted container.\n",
    "\n",
    "If such an arrangement is not possible, the array must be rearranged as the\n",
    "lowest possible order (i.e., sorted in ascending order).\n",
    "\n",
    "● For example, the next permutation of arr = [1,2,3] is [1,3,2].\n",
    "● Similarly, the next permutation of arr = [2,3,1] is [3,1,2].\n",
    "● While the next permutation of arr = [3,2,1] is [1,2,3] because [3,2,1] does not\n",
    "have a lexicographical larger rearrangement.\n",
    "\n",
    "Given an array of integers nums, find the next permutation of nums.\n",
    "The replacement must be in place and use only constant extra memory.\n",
    "\n",
    "**Example 1:**\n",
    "Input: nums = [1,2,3]\n",
    "Output: [1,3,2]\n",
    "\n"
   ]
  },
  {
   "cell_type": "code",
   "execution_count": 20,
   "id": "771d1375",
   "metadata": {},
   "outputs": [],
   "source": [
    "def nextPermutation(nums):\n",
    "    # Find the index of the first element that is smaller than the element to its right\n",
    "    i = len(nums) - 2\n",
    "    while i >= 0 and nums[i] >= nums[i+1]:\n",
    "        i -= 1\n",
    "    \n",
    "    # If no such element is found, reverse the entire list\n",
    "    if i < 0:\n",
    "        nums.reverse()\n",
    "        return nums\n",
    "    \n",
    "    # Find the index j such that nums[j] is the smallest element greater than nums[i]\n",
    "    j = len(nums) - 1\n",
    "    while j >= 0 and nums[j] <= nums[i]:\n",
    "        j -= 1\n",
    "    \n",
    "    # Swap nums[i] and nums[j]\n",
    "    nums[i], nums[j] = nums[j], nums[i]\n",
    "    \n",
    "    # Reverse the sublist from nums[i+1:] to get the next permutation\n",
    "    nums[i+1:] = reversed(nums[i+1:])\n",
    "    \n",
    "    return nums\n"
   ]
  },
  {
   "cell_type": "code",
   "execution_count": 21,
   "id": "f5bae5d5",
   "metadata": {},
   "outputs": [
    {
     "data": {
      "text/plain": [
       "[1, 3, 2]"
      ]
     },
     "execution_count": 21,
     "metadata": {},
     "output_type": "execute_result"
    }
   ],
   "source": [
    "nums = [1,2,3]\n",
    "nextPermutation(nums)"
   ]
  },
  {
   "cell_type": "markdown",
   "id": "f5adc915",
   "metadata": {},
   "source": [
    "## Question 4\n",
    "Given a sorted array of distinct integers and a target value, return the index if the\n",
    "target is found. If not, return the index where it would be if it were inserted in\n",
    "order.\n",
    "\n",
    "You must write an algorithm with O(log n) runtime complexity.\n",
    "\n",
    "Example 1:\n",
    "Input: nums = [1,3,5,6], target = 5\n",
    "Output: 2"
   ]
  },
  {
   "cell_type": "code",
   "execution_count": 17,
   "id": "b7c0ef6b",
   "metadata": {},
   "outputs": [],
   "source": [
    "def searchInsert(nums, target):\n",
    "    # Initialize left and right pointers\n",
    "    left, right = 0, len(nums) - 1\n",
    "    \n",
    "    # Binary search algorithm\n",
    "    while left <= right:\n",
    "        mid = (left + right) // 2\n",
    "        if nums[mid] == target:\n",
    "            return mid\n",
    "        elif nums[mid] < target:\n",
    "            left = mid + 1\n",
    "        else:\n",
    "            right = mid - 1\n",
    "    \n",
    "    # If the target is not found, return the index where it should be inserted\n",
    "    return left"
   ]
  },
  {
   "cell_type": "code",
   "execution_count": 19,
   "id": "c0f057b4",
   "metadata": {},
   "outputs": [
    {
     "data": {
      "text/plain": [
       "2"
      ]
     },
     "execution_count": 19,
     "metadata": {},
     "output_type": "execute_result"
    }
   ],
   "source": [
    "nums = [1,3,5,6]\n",
    "target = 5\n",
    "searchInsert(nums, target)"
   ]
  },
  {
   "cell_type": "markdown",
   "id": "4814307c",
   "metadata": {},
   "source": [
    "## Question 5\n",
    "You are given a large integer represented as an integer array digits, where each\n",
    "digits[i] is the ith digit of the integer. The digits are ordered from most significant\n",
    "to least significant in left-to-right order. The large integer does not contain any\n",
    "leading 0's.\n",
    "\n",
    "Increment the large integer by one and return the resulting array of digits.\n",
    "\n",
    "**Example 1:**\n",
    "Input: digits = [1,2,3]\n",
    "Output: [1,2,4]\n",
    "\n",
    "**Explanation:** The array represents the integer 123.\n",
    "Incrementing by one gives 123 + 1 = 124.\n",
    "Thus, the result should be [1,2,4].\n"
   ]
  },
  {
   "cell_type": "code",
   "execution_count": 15,
   "id": "90109d69",
   "metadata": {},
   "outputs": [],
   "source": [
    "def plusOne(digits):\n",
    "    # Start with the least significant digit\n",
    "    i = len(digits) - 1\n",
    "    \n",
    "    # Iterate over the digits from right to left\n",
    "    while i >= 0:\n",
    "        # If the digit is less than 9, increment it and return the result\n",
    "        if digits[i] < 9:\n",
    "            digits[i] += 1\n",
    "            return digits\n",
    "        # If the digit is 9, set it to 0 and carry over to the next digit\n",
    "        else:\n",
    "            digits[i] = 0\n",
    "            i -= 1\n",
    "    \n",
    "    # If we've reached the leftmost digit and it's 9, add a new digit 1 to the left\n",
    "    if i < 0:\n",
    "        digits.insert(0, 1)\n",
    "    \n",
    "    return digits"
   ]
  },
  {
   "cell_type": "code",
   "execution_count": 16,
   "id": "57bb9f54",
   "metadata": {},
   "outputs": [
    {
     "data": {
      "text/plain": [
       "[1, 2, 4]"
      ]
     },
     "execution_count": 16,
     "metadata": {},
     "output_type": "execute_result"
    }
   ],
   "source": [
    "digits = [1,2,3]\n",
    "plusOne(digits)"
   ]
  },
  {
   "cell_type": "markdown",
   "id": "9b7dde23",
   "metadata": {},
   "source": [
    "## Question 6\n",
    "Given a non-empty array of integers nums, every element appears twice except\n",
    "for one. Find that single one.\n",
    "\n",
    "You must implement a solution with a linear runtime complexity and use only\n",
    "constant extra space.\n",
    "\n",
    "Example 1:\n",
    "Input: nums = [2,2,1]\n",
    "Output: 1"
   ]
  },
  {
   "cell_type": "code",
   "execution_count": 13,
   "id": "f7ca6d2e",
   "metadata": {},
   "outputs": [],
   "source": [
    "def singleNumber(nums):\n",
    "    # Initialize the result to 0\n",
    "    result = 0\n",
    "    \n",
    "    # Iterate over the elements of nums and use XOR to find the one that appears only once\n",
    "    for num in nums:\n",
    "        result ^= num\n",
    "    \n",
    "    return result\n"
   ]
  },
  {
   "cell_type": "code",
   "execution_count": 14,
   "id": "a3c26ac0",
   "metadata": {},
   "outputs": [
    {
     "data": {
      "text/plain": [
       "1"
      ]
     },
     "execution_count": 14,
     "metadata": {},
     "output_type": "execute_result"
    }
   ],
   "source": [
    "nums = [2,2,1] \n",
    "singleNumber(nums)"
   ]
  },
  {
   "cell_type": "markdown",
   "id": "ac88dc37",
   "metadata": {},
   "source": [
    "## Question 7\n",
    "You are given an inclusive range [lower, upper] and a sorted unique integer array\n",
    "nums, where all elements are within the inclusive range.\n",
    "\n",
    "A number x is considered missing if x is in the range [lower, upper] and x is not in\n",
    "nums.\n",
    "\n",
    "Return the shortest sorted list of ranges that exactly covers all the missing\n",
    "numbers. That is, no element of nums is included in any of the ranges, and each\n",
    "missing number is covered by one of the ranges.\n",
    "\n",
    "Example 1:\n",
    "Input: nums = [0,1,3,50,75], lower = 0, upper = 99\n",
    "Output: [[2,2],[4,49],[51,74],[76,99]]\n",
    "\n",
    "Explanation: The ranges are:\n",
    "[2,2]\n",
    "[4,49]\n",
    "[51,74]\n",
    "[76,99]"
   ]
  },
  {
   "cell_type": "code",
   "execution_count": 11,
   "id": "1383aba4",
   "metadata": {},
   "outputs": [],
   "source": [
    "def findMissingRanges(nums, lower, upper):\n",
    "    # Initialize the result list\n",
    "    result = []\n",
    "    \n",
    "    # Handle the case where there are no missing numbers\n",
    "    if not nums:\n",
    "        result.append(makeRange(lower, upper))\n",
    "        return result\n",
    "    \n",
    "    # Handle the case where the first element of nums is greater than lower\n",
    "    if nums[0] > lower:\n",
    "        result.append(makeRange(lower, nums[0]-1))\n",
    "    \n",
    "    # Iterate over the elements of nums and find the missing ranges\n",
    "    for i in range(1, len(nums)):\n",
    "        if nums[i] > nums[i-1]+1:\n",
    "            result.append(makeRange(nums[i-1]+1, nums[i]-1))\n",
    "    \n",
    "    # Handle the case where the last element of nums is less than upper\n",
    "    if nums[-1] < upper:\n",
    "        result.append(makeRange(nums[-1]+1, upper))\n",
    "    \n",
    "    return result\n",
    "\n",
    "def makeRange(lower, upper):\n",
    "    if lower == upper:\n",
    "        return str(lower)\n",
    "    else:\n",
    "        return str(lower) + \",\" + str(upper)"
   ]
  },
  {
   "cell_type": "code",
   "execution_count": 12,
   "id": "4e5c9508",
   "metadata": {},
   "outputs": [
    {
     "data": {
      "text/plain": [
       "['2', '4,49', '51,74', '76,99']"
      ]
     },
     "execution_count": 12,
     "metadata": {},
     "output_type": "execute_result"
    }
   ],
   "source": [
    "nums = [0,1,3,50,75]\n",
    "lower = 0\n",
    "upper = 99\n",
    "\n",
    "findMissingRanges(nums, lower, upper)"
   ]
  },
  {
   "cell_type": "markdown",
   "id": "8fabed60",
   "metadata": {},
   "source": [
    "## Question 8\n",
    "Given an array of meeting time intervals where intervals[i] = [starti, endi],\n",
    "determine if a person could attend all meetings.\n",
    "\n",
    "Example 1:\n",
    "Input: intervals = [[0,30],[5,10],[15,20]]\n",
    "Output: false"
   ]
  },
  {
   "cell_type": "code",
   "execution_count": 5,
   "id": "c9a7c654",
   "metadata": {},
   "outputs": [],
   "source": [
    "def canAttendAllMeetings(intervals):\n",
    "    # Sort the intervals by start time\n",
    "    intervals.sort(key=lambda x: x[0])\n",
    "    \n",
    "    # Iterate over the intervals and check for overlaps\n",
    "    for i in range(len(intervals) - 1):\n",
    "        if intervals[i][1] > intervals[i+1][0]:\n",
    "            return False\n",
    "    \n",
    "    # If there are no overlaps, return True\n",
    "    return True"
   ]
  },
  {
   "cell_type": "code",
   "execution_count": 6,
   "id": "94fd9217",
   "metadata": {},
   "outputs": [
    {
     "data": {
      "text/plain": [
       "False"
      ]
     },
     "execution_count": 6,
     "metadata": {},
     "output_type": "execute_result"
    }
   ],
   "source": [
    "intervals = [[0,30],[5,10],[15,20]]\n",
    "canAttendAllMeetings(intervals)"
   ]
  },
  {
   "cell_type": "code",
   "execution_count": null,
   "id": "9e6b5fed",
   "metadata": {},
   "outputs": [],
   "source": []
  }
 ],
 "metadata": {
  "kernelspec": {
   "display_name": "Python 3 (ipykernel)",
   "language": "python",
   "name": "python3"
  },
  "language_info": {
   "codemirror_mode": {
    "name": "ipython",
    "version": 3
   },
   "file_extension": ".py",
   "mimetype": "text/x-python",
   "name": "python",
   "nbconvert_exporter": "python",
   "pygments_lexer": "ipython3",
   "version": "3.10.9"
  }
 },
 "nbformat": 4,
 "nbformat_minor": 5
}
