{
 "cells": [
  {
   "cell_type": "markdown",
   "id": "d3e956be",
   "metadata": {},
   "source": [
    "**Q1.** Given an array of integers nums and an integer target, return indices of the two numbers such that they add up to target.\n",
    "\n",
    "You may assume that each input would have exactly one solution, and you may not use the same element twice.\n",
    "\n",
    "You can return the answer in any order.\n",
    "\n",
    "**Example:**\n",
    "Input: nums = [2,7,11,15], target = 9\n",
    "Output0 [0,1]\n",
    "\n",
    "**Explanation:** Because nums[0] + nums[1] == 9, we return [0, 1][\n",
    "\n"
   ]
  },
  {
   "cell_type": "code",
   "execution_count": 1,
   "id": "d8583a28",
   "metadata": {},
   "outputs": [],
   "source": [
    "def two_sum(nums, target):\n",
    "    # Create a dictionary to store the complement of each number seen so far\n",
    "    complement_dict = {}\n",
    "    \n",
    "    # Iterate over each number in the input array\n",
    "    for i in range(len(nums)):\n",
    "        # Check if the complement of the current number exists in the dictionary\n",
    "        complement = target - nums[i]\n",
    "        if complement in complement_dict:\n",
    "            # If the complement exists, return the indices of the two numbers\n",
    "            return [complement_dict[complement], i]\n",
    "        else:\n",
    "            # Otherwise, store the current number and its index in the dictionary\n",
    "            complement_dict[nums[i]] = i"
   ]
  },
  {
   "cell_type": "code",
   "execution_count": 2,
   "id": "94e94b3e",
   "metadata": {},
   "outputs": [
    {
     "data": {
      "text/plain": [
       "[0, 1]"
      ]
     },
     "execution_count": 2,
     "metadata": {},
     "output_type": "execute_result"
    }
   ],
   "source": [
    "nums = [2,7,11,15]\n",
    "target = 9\n",
    "two_sum(nums, target)"
   ]
  },
  {
   "cell_type": "markdown",
   "id": "414f4e38",
   "metadata": {},
   "source": [
    "**Q2.** Given an integer array nums and an integer val, remove all occurrences of val in nums in-place. The order of the elements may be changed. Then return the number of elements in nums which are not equal to val.\n",
    "\n",
    "Consider the number of elements in nums which are not equal to val be k, to get accepted, you need to do the following things:\n",
    "\n",
    "- Change the array nums such that the first k elements of nums contain the elements which are not equal to val. The remaining elements of nums are not important as well as the size of nums.\n",
    "- Return k.\n",
    "\n",
    "**Example :**\n",
    "Input: nums = [3,2,2,3], val = 3\n",
    "Output: 2, nums = [2,2,_*,_*]\n",
    "\n",
    "**Explanation:** Your function should return k = 2, with the first two elements of nums being 2. It does not matter what you leave beyond the returned k (hence they are underscores\n"
   ]
  },
  {
   "cell_type": "code",
   "execution_count": 4,
   "id": "20ba60f3",
   "metadata": {},
   "outputs": [],
   "source": [
    "def remove_element(nums, val):\n",
    "    # Initialize a pointer to the start of the list\n",
    "    i = 0\n",
    "    \n",
    "    # Iterate over each element in the list using a for loop\n",
    "    for j in range(len(nums)):\n",
    "        # If the current element is not equal to val, copy it to the start of the list\n",
    "        if nums[j] != val:\n",
    "            nums[i] = nums[j]\n",
    "            i += 1\n",
    "    \n",
    "    # Return the number of elements in the list that are not equal to val\n",
    "    return i\n"
   ]
  },
  {
   "cell_type": "code",
   "execution_count": 5,
   "id": "b41a8c0d",
   "metadata": {},
   "outputs": [
    {
     "data": {
      "text/plain": [
       "2"
      ]
     },
     "execution_count": 5,
     "metadata": {},
     "output_type": "execute_result"
    }
   ],
   "source": [
    "nums = [3,2,2,3] \n",
    "val = 3\n",
    "\n",
    "remove_element(nums, val)"
   ]
  },
  {
   "cell_type": "markdown",
   "id": "d9c8087b",
   "metadata": {},
   "source": [
    "**Q3.** Given a sorted array of distinct integers and a target value, return the index if the target is found. If not, return the index where it would be if it were inserted in order.\n",
    "\n",
    "You must write an algorithm with O(log n) runtime complexity.\n",
    "\n",
    "**Example 1:**\n",
    "Input: nums = [1,3,5,6], target = 5\n",
    "\n",
    "Output: 2\n",
    "\n"
   ]
  },
  {
   "cell_type": "code",
   "execution_count": 8,
   "id": "7138efd0",
   "metadata": {},
   "outputs": [],
   "source": [
    "def search_insert(nums, target):\n",
    "    # Initialize the left and right pointers\n",
    "    left, right = 0, len(nums) - 1\n",
    "    \n",
    "    # Binary search loop\n",
    "    while left <= right:\n",
    "        mid = (left + right) // 2\n",
    "        if nums[mid] == target:\n",
    "            return mid\n",
    "        elif nums[mid] < target:\n",
    "            left = mid + 1\n",
    "        else:\n",
    "            right = mid - 1\n",
    "    \n",
    "    # If the target is not found, return the index where it would be inserted\n",
    "    return left"
   ]
  },
  {
   "cell_type": "code",
   "execution_count": 9,
   "id": "a813880d",
   "metadata": {},
   "outputs": [
    {
     "data": {
      "text/plain": [
       "2"
      ]
     },
     "execution_count": 9,
     "metadata": {},
     "output_type": "execute_result"
    }
   ],
   "source": [
    "nums = [1,3,5,6]\n",
    "target = 5\n",
    "search_insert(nums, target)"
   ]
  },
  {
   "cell_type": "markdown",
   "id": "5562fb5f",
   "metadata": {},
   "source": [
    "**Q4.** You are given a large integer represented as an integer array digits, where each digits[i] is the ith digit of the integer. The digits are ordered from most significant to least significant in left-to-right order. The large integer does not contain any leading 0's.\n",
    "\n",
    "Increment the large integer by one and return the resulting array of digits.\n",
    "\n",
    "**Example 1:**\n",
    "Input: digits = [1,2,3]\n",
    "Output: [1,2,4]\n",
    "\n",
    "**Explanation:** The array represents the integer 123.\n",
    "\n",
    "Incrementing by one gives 123 + 1 = 124.\n",
    "Thus, the result should be [1,2,4].\n",
    "\n"
   ]
  },
  {
   "cell_type": "code",
   "execution_count": 10,
   "id": "b917bf25",
   "metadata": {},
   "outputs": [],
   "source": [
    "def plus_one(digits):\n",
    "    # Start with a carry of 1\n",
    "    carry = 1\n",
    "    # Iterate over the digits in reverse order\n",
    "    for i in range(len(digits)-1, -1, -1):\n",
    "        # Add the carry to the current digit\n",
    "        digits[i] += carry\n",
    "        # If the sum is less than 10, no further carrying is needed\n",
    "        if digits[i] < 10:\n",
    "            return digits\n",
    "        # Otherwise, set the current digit to 0 and carry the 1 to the next digit\n",
    "        else:\n",
    "            digits[i] = 0\n",
    "    # If the loop completes, there is still a carry of 1\n",
    "    # Add a new digit 1 to the front of the list\n",
    "    digits.insert(0, 1)\n",
    "    return digits"
   ]
  },
  {
   "cell_type": "code",
   "execution_count": 11,
   "id": "7a213ed3",
   "metadata": {},
   "outputs": [
    {
     "data": {
      "text/plain": [
       "[1, 2, 4]"
      ]
     },
     "execution_count": 11,
     "metadata": {},
     "output_type": "execute_result"
    }
   ],
   "source": [
    "digits = [1,2,3]\n",
    "\n",
    "plus_one(digits)"
   ]
  },
  {
   "cell_type": "markdown",
   "id": "2c5353ee",
   "metadata": {},
   "source": [
    "**Q5.** You are given two integer arrays nums1 and nums2, sorted in non-decreasing order, and two integers m and n, representing the number of elements in nums1 and nums2 respectively.\n",
    "\n",
    "Merge nums1 and nums2 into a single array sorted in non-decreasing order.\n",
    "\n",
    "The final sorted array should not be returned by the function, but instead be stored inside the array nums1. To accommodate this, nums1 has a length of m + n, where the first m elements denote the elements that should be merged, and the last n elements are set to 0 and should be ignored. nums2 has a length of n.\n",
    "\n",
    "**Example 1:**\n",
    "Input: nums1 = [1,2,3,0,0,0], m = 3, nums2 = [2,5,6], n = 3\n",
    "Output: [1,2,2,3,5,6]\n",
    "\n",
    "**Explanation:** The arrays we are merging are [1,2,3] and [2,5,6].\n",
    "The result of the merge is [1,2,2,3,5,6] with the underlined elements coming from nums1.\n"
   ]
  },
  {
   "cell_type": "code",
   "execution_count": 12,
   "id": "3fc40120",
   "metadata": {},
   "outputs": [],
   "source": [
    "def merge(nums1, m, nums2, n):\n",
    "    # Initialize two pointers to the end of nums1 and nums2\n",
    "    p1, p2 = m - 1, n - 1\n",
    "    # Initialize a pointer to the end of the merged array\n",
    "    p = m + n - 1\n",
    "    \n",
    "    # Merge the arrays in reverse order\n",
    "    while p1 >= 0 and p2 >= 0:\n",
    "        if nums1[p1] > nums2[p2]:\n",
    "            nums1[p] = nums1[p1]\n",
    "            p1 -= 1\n",
    "        else:\n",
    "            nums1[p] = nums2[p2]\n",
    "            p2 -= 1\n",
    "        p -= 1\n",
    "    \n",
    "    # Copy any remaining elements from nums2 to nums1\n",
    "    nums1[:p2+1] = nums2[:p2+1]"
   ]
  },
  {
   "cell_type": "code",
   "execution_count": 17,
   "id": "9999d581",
   "metadata": {},
   "outputs": [
    {
     "name": "stdout",
     "output_type": "stream",
     "text": [
      "[1, 2, 2, 3, 5, 6]\n"
     ]
    }
   ],
   "source": [
    "nums1 = [1,2,3,0,0,0]\n",
    "m = 3\n",
    "nums2 = [2,5,6]\n",
    "n = 3\n",
    "\n",
    "merge(nums1, m, nums2, n)\n",
    "print(nums1)"
   ]
  },
  {
   "cell_type": "markdown",
   "id": "4823b752",
   "metadata": {},
   "source": [
    "**Q6.** Given an integer array nums, return true if any value appears at least twice in the array, and return false if every element is distinct.\n",
    "\n",
    "**Example 1:**\n",
    "Input: nums = [1,2,3,1]\n",
    "\n",
    "Output: true\n",
    "\n",
    "\n"
   ]
  },
  {
   "cell_type": "code",
   "execution_count": 18,
   "id": "1645da51",
   "metadata": {},
   "outputs": [
    {
     "data": {
      "text/plain": [
       "True"
      ]
     },
     "execution_count": 18,
     "metadata": {},
     "output_type": "execute_result"
    }
   ],
   "source": [
    "def contains_duplicate(nums):\n",
    "    # Create a set to store the unique elements in nums\n",
    "    unique_nums = set()\n",
    "    # Iterate over the elements in nums\n",
    "    for num in nums:\n",
    "        # If the current element is already in the set, it is a duplicate\n",
    "        if num in unique_nums:\n",
    "            return True\n",
    "        # Otherwise, add it to the set\n",
    "        else:\n",
    "            unique_nums.add(num)\n",
    "    # If the loop completes, there are no duplicates\n",
    "    return False\n",
    "\n",
    "nums = [1,2,3,1]\n",
    "contains_duplicate(nums)"
   ]
  },
  {
   "cell_type": "markdown",
   "id": "49170fc2",
   "metadata": {},
   "source": [
    " **Q7.** Given an integer array nums, move all 0's to the end of it while maintaining the relative order of the nonzero elements.\n",
    "\n",
    "Note that you must do this in-place without making a copy of the array.\n",
    "\n",
    "**Example 1:**\n",
    "Input: nums = [0,1,0,3,12]\n",
    "Output: [1,3,12,0,0]\n",
    "\n",
    "\n"
   ]
  },
  {
   "cell_type": "code",
   "execution_count": 19,
   "id": "cda43180",
   "metadata": {},
   "outputs": [],
   "source": [
    "def move_zeros(nums):\n",
    "    \"\"\"\n",
    "    Move all zeros in the array to the end while maintaining the relative order of the\n",
    "    nonzero elements.\n",
    "    \"\"\"\n",
    "    # Initialize a pointer to the first zero in the array\n",
    "    zero_ptr = 0\n",
    "    \n",
    "    # Iterate over the elements in the array\n",
    "    for i in range(len(nums)):\n",
    "        # If the current element is not zero, swap it with the first zero\n",
    "        if nums[i] != 0:\n",
    "            nums[i], nums[zero_ptr] = nums[zero_ptr], nums[i]\n",
    "            # Increment the zero pointer to the next position\n",
    "            zero_ptr += 1"
   ]
  },
  {
   "cell_type": "code",
   "execution_count": 21,
   "id": "2ef77887",
   "metadata": {},
   "outputs": [
    {
     "name": "stdout",
     "output_type": "stream",
     "text": [
      "[1, 3, 12, 0, 0]\n"
     ]
    }
   ],
   "source": [
    "nums = [0,1,0,3,12]\n",
    "move_zeros(nums)\n",
    "print(nums)"
   ]
  },
  {
   "cell_type": "markdown",
   "id": "ce7dbac0",
   "metadata": {},
   "source": [
    "**Q8.** You have a set of integers s, which originally contains all the numbers from 1 to n. Unfortunately, due to some error, one of the numbers in s got duplicated to another number in the set, which results in repetition of one number and loss of another number.\n",
    "\n",
    "You are given an integer array nums representing the data status of this set after the error.\n",
    "\n",
    "Find the number that occurs twice and the number that is missing and return them in the form of an array.\n",
    "\n",
    "**Example 1:**\n",
    "Input: nums = [1,2,2,4]\n",
    "Output: [2,3]\n"
   ]
  },
  {
   "cell_type": "code",
   "execution_count": 22,
   "id": "38fa01de",
   "metadata": {},
   "outputs": [],
   "source": [
    "def find_error_nums(nums):\n",
    "    # Compute the sum of the integers from 1 to n\n",
    "    n = len(nums)\n",
    "    sum_nums = n * (n + 1) // 2\n",
    "    \n",
    "    # Compute the sum of the elements in nums and the sum of their squares\n",
    "    sum_nums_array = sum(nums)\n",
    "    sum_squares = sum(num * num for num in nums)\n",
    "    \n",
    "    # Compute the difference between the expected sum and the actual sum, and between the\n",
    "    # expected sum of squares and the actual sum of squares\n",
    "    diff = sum_nums_array - sum_nums\n",
    "    diff_squares = sum_squares - sum(num * num for num in range(1, n + 1))\n",
    "    \n",
    "    # Compute the missing and duplicate numbers\n",
    "    missing_num = (diff + diff_squares // diff) // 2\n",
    "    duplicate_num = missing_num + diff\n",
    "    \n",
    "    return [duplicate_num, missing_num]"
   ]
  },
  {
   "cell_type": "code",
   "execution_count": 23,
   "id": "5b27f421",
   "metadata": {},
   "outputs": [
    {
     "name": "stdout",
     "output_type": "stream",
     "text": [
      "[1, 2]\n"
     ]
    }
   ],
   "source": [
    "nums = [1,2,2,4]\n",
    "e = find_error_nums(nums)\n",
    "print(e)"
   ]
  },
  {
   "cell_type": "code",
   "execution_count": null,
   "id": "8e853efc",
   "metadata": {},
   "outputs": [],
   "source": []
  }
 ],
 "metadata": {
  "kernelspec": {
   "display_name": "Python 3 (ipykernel)",
   "language": "python",
   "name": "python3"
  },
  "language_info": {
   "codemirror_mode": {
    "name": "ipython",
    "version": 3
   },
   "file_extension": ".py",
   "mimetype": "text/x-python",
   "name": "python",
   "nbconvert_exporter": "python",
   "pygments_lexer": "ipython3",
   "version": "3.10.9"
  }
 },
 "nbformat": 4,
 "nbformat_minor": 5
}
