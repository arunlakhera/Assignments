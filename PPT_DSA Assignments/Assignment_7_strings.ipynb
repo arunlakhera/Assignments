{
 "cells": [
  {
   "cell_type": "markdown",
   "id": "5df7cc60",
   "metadata": {},
   "source": [
    "**Question 1**\n",
    "\n",
    "Given two strings s and t, *determine if they are isomorphic*.\n",
    "\n",
    "Two strings s and t are isomorphic if the characters in s can be replaced to get t.\n",
    "\n",
    "All occurrences of a character must be replaced with another character while preserving the order of characters. No two characters may map to the same character, but a character may map to itself.\n",
    "\n",
    "**Example 1:**\n",
    "\n",
    "**Input:** s = \"egg\", t = \"add\"\n",
    "\n",
    "**Output:** true"
   ]
  },
  {
   "cell_type": "code",
   "execution_count": 2,
   "id": "47fffdc6",
   "metadata": {},
   "outputs": [],
   "source": [
    "def is_isomorphic(s, t):\n",
    "    if len(s) != len(t):\n",
    "        return False\n",
    "\n",
    "    mapping = {}\n",
    "    used_chars = set()\n",
    "\n",
    "    for i in range(len(s)):\n",
    "        if s[i] in mapping:\n",
    "            if mapping[s[i]] != t[i]:\n",
    "                return False\n",
    "        else:\n",
    "            if t[i] in used_chars:\n",
    "                return False\n",
    "            mapping[s[i]] = t[i]\n",
    "            used_chars.add(t[i])\n",
    "\n",
    "    return True"
   ]
  },
  {
   "cell_type": "code",
   "execution_count": 3,
   "id": "5be4e6c3",
   "metadata": {},
   "outputs": [
    {
     "data": {
      "text/plain": [
       "True"
      ]
     },
     "execution_count": 3,
     "metadata": {},
     "output_type": "execute_result"
    }
   ],
   "source": [
    "s = \"egg\"\n",
    "t = \"add\"\n",
    "is_isomorphic(s, t)"
   ]
  },
  {
   "cell_type": "markdown",
   "id": "cdb7a287",
   "metadata": {},
   "source": [
    "**Question 2**\n",
    "\n",
    "Given a string num which represents an integer, return true *if* num *is a **strobogrammatic number***.\n",
    "\n",
    "A **strobogrammatic number** is a number that looks the same when rotated 180 degrees (looked at upside down).\n",
    "\n",
    "**Example 1:**\n",
    "\n",
    "**Input:** num = \"69\"\n",
    "\n",
    "**Output:**\n",
    "\n",
    "true\n"
   ]
  },
  {
   "cell_type": "code",
   "execution_count": 4,
   "id": "6bb294a8",
   "metadata": {},
   "outputs": [],
   "source": [
    "def is_strobogrammatic(num):\n",
    "    strobogrammatic_pairs = {'0': '0', '1': '1', '6': '9', '8': '8', '9': '6'}\n",
    "    \n",
    "    n = len(num)\n",
    "    for i in range((n+1)//2):\n",
    "        if num[i] not in strobogrammatic_pairs or strobogrammatic_pairs[num[i]] != num[n-i-1]:\n",
    "            return False\n",
    "    \n",
    "    return True\n"
   ]
  },
  {
   "cell_type": "code",
   "execution_count": 5,
   "id": "b1d8288f",
   "metadata": {},
   "outputs": [
    {
     "data": {
      "text/plain": [
       "True"
      ]
     },
     "execution_count": 5,
     "metadata": {},
     "output_type": "execute_result"
    }
   ],
   "source": [
    "num = \"69\"\n",
    "is_strobogrammatic(num)"
   ]
  },
  {
   "cell_type": "markdown",
   "id": "adb52880",
   "metadata": {},
   "source": [
    " **Question 3**\n",
    "\n",
    "Given two non-negative integers, num1 and num2 represented as string, return *the sum of* num1 *and* num2 *as a string*.\n",
    "\n",
    "You must solve the problem without using any built-in library for handling large integers (such as BigInteger). You must also not convert the inputs to integers directly.\n",
    "\n",
    "**Example 1:**\n",
    "\n",
    "**Input:** num1 = \"11\", num2 = \"123\"\n",
    "\n",
    "**Output:**\n",
    "\n",
    "\"134\"\n"
   ]
  },
  {
   "cell_type": "code",
   "execution_count": 6,
   "id": "4c41b0a2",
   "metadata": {},
   "outputs": [],
   "source": [
    "def add_strings(num1, num2):\n",
    "    result = []\n",
    "    carry = 0\n",
    "    i, j = len(num1) - 1, len(num2) - 1\n",
    "    \n",
    "    while i >= 0 or j >= 0 or carry > 0:\n",
    "        digit1 = int(num1[i]) if i >= 0 else 0\n",
    "        digit2 = int(num2[j]) if j >= 0 else 0\n",
    "        digit_sum = digit1 + digit2 + carry\n",
    "        carry = digit_sum // 10\n",
    "        digit_sum %= 10\n",
    "        result.append(str(digit_sum))\n",
    "        i -= 1\n",
    "        j -= 1\n",
    "    \n",
    "    return ''.join(result[::-1])"
   ]
  },
  {
   "cell_type": "code",
   "execution_count": 7,
   "id": "27e44a40",
   "metadata": {},
   "outputs": [
    {
     "data": {
      "text/plain": [
       "'134'"
      ]
     },
     "execution_count": 7,
     "metadata": {},
     "output_type": "execute_result"
    }
   ],
   "source": [
    "num1 = \"11\"\n",
    "num2 = \"123\"\n",
    "add_strings(num1, num2)"
   ]
  },
  {
   "cell_type": "markdown",
   "id": "bbb4f337",
   "metadata": {},
   "source": [
    "**Question 4**\n",
    "\n",
    "Given a string s, reverse the order of characters in each word within a sentence while still preserving whitespace and initial word order.\n",
    "\n",
    "**Example 1:**\n",
    "\n",
    "**Input:** s = \"Let's take LeetCode contest\"\n",
    "\n",
    "**Output:** \"s'teL ekat edoCteeL tsetnoc\"\n"
   ]
  },
  {
   "cell_type": "code",
   "execution_count": 8,
   "id": "cddd75dc",
   "metadata": {},
   "outputs": [],
   "source": [
    "def reverse_words(s):\n",
    "    words = s.split()\n",
    "    reversed_words = [word[::-1] for word in words]\n",
    "    return ' '.join(reversed_words)"
   ]
  },
  {
   "cell_type": "code",
   "execution_count": 9,
   "id": "54c55000",
   "metadata": {},
   "outputs": [
    {
     "data": {
      "text/plain": [
       "\"s'teL ekat edoCteeL tsetnoc\""
      ]
     },
     "execution_count": 9,
     "metadata": {},
     "output_type": "execute_result"
    }
   ],
   "source": [
    "s = \"Let's take LeetCode contest\"\n",
    "reverse_words(s)"
   ]
  },
  {
   "cell_type": "markdown",
   "id": "c88b0d86",
   "metadata": {},
   "source": [
    "**Question 5**\n",
    "\n",
    "Given a string s and an integer k, reverse the first k characters for every 2k characters counting from the start of the string.\n",
    "\n",
    "If there are fewer than k characters left, reverse all of them. If there are less than 2k but greater than or equal to k characters, then reverse the first k characters and leave the other as original.\n",
    "\n",
    "**Example 1:**\n",
    "\n",
    "**Input:** s = \"abcdefg\", k = 2\n",
    "\n",
    "**Output:**\n",
    "\n",
    "\"bacdfeg\"\n"
   ]
  },
  {
   "cell_type": "code",
   "execution_count": 10,
   "id": "82f68ae0",
   "metadata": {},
   "outputs": [],
   "source": [
    "def reverse_string(s, k):\n",
    "    result = []\n",
    "    for i in range(0, len(s), 2*k):\n",
    "        chunk = s[i:i+2*k]\n",
    "        result.append(chunk[:k][::-1] + chunk[k:])\n",
    "    return ''.join(result)"
   ]
  },
  {
   "cell_type": "code",
   "execution_count": 11,
   "id": "dda1a725",
   "metadata": {},
   "outputs": [
    {
     "data": {
      "text/plain": [
       "'bacdfeg'"
      ]
     },
     "execution_count": 11,
     "metadata": {},
     "output_type": "execute_result"
    }
   ],
   "source": [
    "s = \"abcdefg\" \n",
    "k = 2\n",
    "reverse_string(s, k)"
   ]
  },
  {
   "cell_type": "markdown",
   "id": "282dee6a",
   "metadata": {},
   "source": [
    "**Question 6**\n",
    "\n",
    "Given two strings s and goal, return true *if and only if* s *can become* goal *after some number of **shifts** on* s.\n",
    "\n",
    "A **shift** on s consists of moving the leftmost character of s to the rightmost position.\n",
    "\n",
    "- For example, if s = \"abcde\", then it will be \"bcdea\" after one shift.\n",
    "\n",
    "**Example 1:**\n",
    "\n",
    "**Input:** s = \"abcde\", goal = \"cdeab\"\n",
    "\n",
    "**Output:**\n",
    "\n",
    "true\n"
   ]
  },
  {
   "cell_type": "code",
   "execution_count": 12,
   "id": "8a02b03b",
   "metadata": {},
   "outputs": [],
   "source": [
    "def can_shift(s, goal):\n",
    "    if len(s) != len(goal):\n",
    "        return False\n",
    "\n",
    "    s2 = s + s\n",
    "    return goal in s2"
   ]
  },
  {
   "cell_type": "code",
   "execution_count": 13,
   "id": "3ffd2a1b",
   "metadata": {},
   "outputs": [
    {
     "data": {
      "text/plain": [
       "True"
      ]
     },
     "execution_count": 13,
     "metadata": {},
     "output_type": "execute_result"
    }
   ],
   "source": [
    "s = \"abcde\"\n",
    "goal = \"cdeab\"\n",
    "can_shift(s, goal)"
   ]
  },
  {
   "cell_type": "markdown",
   "id": "0c9b2a20",
   "metadata": {},
   "source": [
    "**Question 7**\n",
    "\n",
    "Given two strings s and t, return true *if they are equal when both are typed into empty text editors*. '#' means a backspace character.\n",
    "\n",
    "Note that after backspacing an empty text, the text will continue empty.\n",
    "\n",
    "**Example 1:**\n",
    "\n",
    "**Input:** s = \"ab#c\", t = \"ad#c\"\n",
    "\n",
    "**Output:** true\n",
    "\n",
    "**Explanation:**\n",
    "\n",
    "Both s and t become \"ac\".\n"
   ]
  },
  {
   "cell_type": "code",
   "execution_count": 14,
   "id": "fedccead",
   "metadata": {},
   "outputs": [],
   "source": [
    "def backspace_compare(s, t):\n",
    "    stack_s = []\n",
    "    stack_t = []\n",
    "    \n",
    "    for char in s:\n",
    "        if char == '#':\n",
    "            if stack_s:\n",
    "                stack_s.pop()\n",
    "        else:\n",
    "            stack_s.append(char)\n",
    "    \n",
    "    for char in t:\n",
    "        if char == '#':\n",
    "            if stack_t:\n",
    "                stack_t.pop()\n",
    "        else:\n",
    "            stack_t.append(char)\n",
    "    \n",
    "    return stack_s == stack_t"
   ]
  },
  {
   "cell_type": "code",
   "execution_count": 15,
   "id": "73c3ca89",
   "metadata": {},
   "outputs": [
    {
     "data": {
      "text/plain": [
       "True"
      ]
     },
     "execution_count": 15,
     "metadata": {},
     "output_type": "execute_result"
    }
   ],
   "source": [
    "s = \"ab#c\"\n",
    "t = \"ad#c\"\n",
    "backspace_compare(s, t)"
   ]
  },
  {
   "cell_type": "markdown",
   "id": "538ab293",
   "metadata": {},
   "source": [
    "**Question 8**\n",
    "\n",
    "You are given an array coordinates, coordinates[i] = [x, y], where [x, y] represents the coordinate of a point. Check if these points make a straight line in the XY plane.\n",
    "\n",
    "**Example 1:**\n",
    "\n",
    "![Screenshot 2023-05-29 010117.png](https://s3-us-west-2.amazonaws.com/secure.notion-static.com/012b0a97-4e4b-49b6-bc95-0531fc712978/Screenshot_2023-05-29_010117.png)\n",
    "\n",
    "\n",
    "**Input:** coordinates = [[1,2],[2,3],[3,4],[4,5],[5,6],[6,7]]\n",
    "\n",
    "**Output:** true\n",
    "\n",
    "</aside>"
   ]
  },
  {
   "cell_type": "code",
   "execution_count": 16,
   "id": "25151400",
   "metadata": {},
   "outputs": [],
   "source": [
    "def check_straight_line(coordinates):\n",
    "    if len(coordinates) == 2:\n",
    "        return True\n",
    "    \n",
    "    x1, y1 = coordinates[0]\n",
    "    x2, y2 = coordinates[1]\n",
    "    \n",
    "    if x2 - x1 == 0:\n",
    "        slope = float('inf')\n",
    "    else:\n",
    "        slope = (y2 - y1) / (x2 - x1)\n",
    "    \n",
    "    for i in range(2, len(coordinates)):\n",
    "        x1, y1 = coordinates[i-1]\n",
    "        x2, y2 = coordinates[i]\n",
    "        \n",
    "        if x2 - x1 == 0:\n",
    "            new_slope = float('inf')\n",
    "        else:\n",
    "            new_slope = (y2 - y1) / (x2 - x1)\n",
    "        \n",
    "        if new_slope != slope:\n",
    "            return False\n",
    "    \n",
    "    return True"
   ]
  },
  {
   "cell_type": "code",
   "execution_count": 17,
   "id": "99767d61",
   "metadata": {},
   "outputs": [
    {
     "data": {
      "text/plain": [
       "True"
      ]
     },
     "execution_count": 17,
     "metadata": {},
     "output_type": "execute_result"
    }
   ],
   "source": [
    "coordinates = [[1,2],[2,3],[3,4],[4,5],[5,6],[6,7]]\n",
    "check_straight_line(coordinates)"
   ]
  },
  {
   "cell_type": "code",
   "execution_count": null,
   "id": "bdcd629c",
   "metadata": {},
   "outputs": [],
   "source": []
  }
 ],
 "metadata": {
  "kernelspec": {
   "display_name": "Python 3 (ipykernel)",
   "language": "python",
   "name": "python3"
  },
  "language_info": {
   "codemirror_mode": {
    "name": "ipython",
    "version": 3
   },
   "file_extension": ".py",
   "mimetype": "text/x-python",
   "name": "python",
   "nbconvert_exporter": "python",
   "pygments_lexer": "ipython3",
   "version": "3.10.9"
  }
 },
 "nbformat": 4,
 "nbformat_minor": 5
}
