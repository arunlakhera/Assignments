{
 "cells": [
  {
   "cell_type": "markdown",
   "id": "6f3f7606",
   "metadata": {},
   "source": [
    "Question 1**\n",
    "Given an integer array nums of 2n integers, group these integers into n pairs (a1, b1), (a2, b2),..., (an, bn) such that the sum of min(ai, bi) for all i is maximized. Return the maximized sum.\n",
    "\n",
    "**Example 1:**\n",
    "Input: nums = [1,4,3,2]\n",
    "Output: 4\n",
    "\n",
    "**Explanation:** All possible pairings (ignoring the ordering of elements) are:\n",
    "\n",
    "1. (1, 4), (2, 3) -> min(1, 4) + min(2, 3) = 1 + 2 = 3\n",
    "2. (1, 3), (2, 4) -> min(1, 3) + min(2, 4) = 1 + 2 = 3\n",
    "3. (1, 2), (3, 4) -> min(1, 2) + min(3, 4) = 1 + 3 = 4\n",
    "So the maximum possible sum is 4\n",
    "\n"
   ]
  },
  {
   "cell_type": "code",
   "execution_count": 1,
   "id": "49eaa6cc",
   "metadata": {},
   "outputs": [],
   "source": [
    "def array_pair_sum(nums):\n",
    "    # Sort the array in ascending order\n",
    "    nums.sort()\n",
    "    \n",
    "    # Initialize the sum to zero\n",
    "    pair_sum = 0\n",
    "    \n",
    "    # Iterate over the array in steps of 2\n",
    "    for i in range(0, len(nums), 2):\n",
    "        # Add the minimum value in each pair to the sum\n",
    "        pair_sum += min(nums[i], nums[i+1])\n",
    "    \n",
    "    return pair_sum"
   ]
  },
  {
   "cell_type": "code",
   "execution_count": 2,
   "id": "a288df0a",
   "metadata": {},
   "outputs": [
    {
     "data": {
      "text/plain": [
       "4"
      ]
     },
     "execution_count": 2,
     "metadata": {},
     "output_type": "execute_result"
    }
   ],
   "source": [
    "nums = [1,4,3,2]\n",
    "array_pair_sum(nums)"
   ]
  },
  {
   "cell_type": "markdown",
   "id": "6c4b2e37",
   "metadata": {},
   "source": [
    "Question 2**\n",
    "Alice has n candies, where the ith candy is of type candyType[i]. Alice noticed that she started to gain weight, so she visited a doctor. \n",
    "\n",
    "The doctor advised Alice to only eat n / 2 of the candies she has (n is always even). Alice likes her candies very much, and she wants to eat the maximum number of different types of candies while still following the doctor's advice. \n",
    "\n",
    "Given the integer array candyType of length n, return the maximum number of different types of candies she can eat if she only eats n / 2 of them.\n",
    "\n",
    "**Example 1:**\n",
    "Input: candyType = [1,1,2,2,3,3]\n",
    "Output: 3\n",
    "\n",
    "**Explanation**: Alice can only eat 6 / 2 = 3 candies. Since there are only 3 types, she can eat one of each type.\n"
   ]
  },
  {
   "cell_type": "code",
   "execution_count": 4,
   "id": "8729e29e",
   "metadata": {},
   "outputs": [],
   "source": [
    "def distribute_candies(candyType):\n",
    "    # Compute the maximum number of different types of candies Alice can eat\n",
    "    max_candies = len(set(candyType))\n",
    "    half_candies = len(candyType) // 2\n",
    "    \n",
    "    # If the maximum number of different types of candies is greater than half the total number\n",
    "    # of candies Alice has, she can only eat half of the types of candies she has\n",
    "    if max_candies > half_candies:\n",
    "        return half_candies\n",
    "    \n",
    "    # Otherwise, she can eat all the different types of candies she has\n",
    "    else:\n",
    "        return max_candies\n",
    "    "
   ]
  },
  {
   "cell_type": "code",
   "execution_count": 5,
   "id": "59f14cd0",
   "metadata": {},
   "outputs": [
    {
     "data": {
      "text/plain": [
       "3"
      ]
     },
     "execution_count": 5,
     "metadata": {},
     "output_type": "execute_result"
    }
   ],
   "source": [
    "candyType = [1,1,2,2,3,3]\n",
    "distribute_candies(candyType)"
   ]
  },
  {
   "cell_type": "markdown",
   "id": "65bf1787",
   "metadata": {},
   "source": [
    "Question 3**\n",
    "We define a harmonious array as an array where the difference between its maximum value\n",
    "and its minimum value is exactly 1.\n",
    "\n",
    "Given an integer array nums, return the length of its longest harmonious subsequence\n",
    "among all its possible subsequences.\n",
    "\n",
    "A subsequence of an array is a sequence that can be derived from the array by deleting some or no elements without changing the order of the remaining elements.\n",
    "\n",
    "**Example 1:**\n",
    "Input: nums = [1,3,2,2,5,2,3,7]\n",
    "Output: 5\n",
    "\n",
    "**Explanation:** The longest harmonious subsequence is [3,2,2,2,3].\n"
   ]
  },
  {
   "cell_type": "code",
   "execution_count": 6,
   "id": "d941ddc3",
   "metadata": {},
   "outputs": [],
   "source": [
    "def findLHS(nums):\n",
    "    # Create a dictionary to count the frequency of each element in nums\n",
    "    freq = {}\n",
    "    for num in nums:\n",
    "        freq[num] = freq.get(num, 0) + 1\n",
    "    \n",
    "    # Initialize the maximum length to zero\n",
    "    max_len = 0\n",
    "    \n",
    "    # Iterate over the keys in the dictionary\n",
    "    for key in freq.keys():\n",
    "        # If key + 1 is also in the dictionary, compute the length of the harmonious subsequence\n",
    "        if key + 1 in freq:\n",
    "            length = freq[key] + freq[key+1]\n",
    "            max_len = max(max_len, length)\n",
    "    \n",
    "    return max_len\n"
   ]
  },
  {
   "cell_type": "code",
   "execution_count": 7,
   "id": "8b4c5091",
   "metadata": {},
   "outputs": [
    {
     "data": {
      "text/plain": [
       "5"
      ]
     },
     "execution_count": 7,
     "metadata": {},
     "output_type": "execute_result"
    }
   ],
   "source": [
    "nums = [1,3,2,2,5,2,3,7]\n",
    "findLHS(nums)"
   ]
  },
  {
   "cell_type": "markdown",
   "id": "0aa41b03",
   "metadata": {},
   "source": [
    "Question 4**\n",
    "You have a long flowerbed in which some of the plots are planted, and some are not.\n",
    "However, flowers cannot be planted in adjacent plots.\n",
    "Given an integer array flowerbed containing 0's and 1's, where 0 means empty and 1 means not empty, and an integer n, return true if n new flowers can be planted in the flowerbed without violating the no-adjacent-flowers rule and false otherwise.\n",
    "\n",
    "**Example 1:**\n",
    "Input: flowerbed = [1,0,0,0,1], n = 1\n",
    "Output: true\n"
   ]
  },
  {
   "cell_type": "code",
   "execution_count": 8,
   "id": "fb27e642",
   "metadata": {},
   "outputs": [],
   "source": [
    "def canPlaceFlowers(flowerbed, n):\n",
    "    # Initialize a variable to keep track of the number of flowers that can be planted\n",
    "    count = 0\n",
    "    \n",
    "    # Iterate over the elements in the flowerbed\n",
    "    for i in range(len(flowerbed)):\n",
    "        # If the current element is 0 and its neighbors are also 0 or\n",
    "        # it is the first or last element and its neighbor is 0, plant a flower\n",
    "        if flowerbed[i] == 0 and (i == 0 or flowerbed[i-1] == 0) and (i == len(flowerbed)-1 or flowerbed[i+1] == 0):\n",
    "            flowerbed[i] = 1\n",
    "            count += 1\n",
    "        \n",
    "        # If the number of flowers that can be planted is equal to or greater than n, return True\n",
    "        if count >= n:\n",
    "            return True\n",
    "    \n",
    "    # If the loop completes and the number of flowers that can be planted is less than n, return False\n",
    "    return False"
   ]
  },
  {
   "cell_type": "code",
   "execution_count": 9,
   "id": "09148f6a",
   "metadata": {},
   "outputs": [
    {
     "data": {
      "text/plain": [
       "True"
      ]
     },
     "execution_count": 9,
     "metadata": {},
     "output_type": "execute_result"
    }
   ],
   "source": [
    "flowerbed = [1,0,0,0,1]\n",
    "n = 1\n",
    "canPlaceFlowers(flowerbed, n)"
   ]
  },
  {
   "cell_type": "markdown",
   "id": "bbe7fb66",
   "metadata": {},
   "source": [
    "Question 5**\n",
    "Given an integer array nums, find three numbers whose product is maximum and return the maximum product.\n",
    "\n",
    "**Example 1:**\n",
    "Input: nums = [1,2,3]\n",
    "Output: 6\n",
    "\n"
   ]
  },
  {
   "cell_type": "code",
   "execution_count": 10,
   "id": "8a4cd785",
   "metadata": {},
   "outputs": [],
   "source": [
    "def maximumProduct(nums):\n",
    "    # Sort the array in ascending order\n",
    "    nums.sort()\n",
    "    \n",
    "    # Get the product of the three largest numbers and the two smallest numbers and the largest number\n",
    "    max_product = max(nums[-1] * nums[-2] * nums[-3], nums[0] * nums[1] * nums[-1])\n",
    "    \n",
    "    return max_product"
   ]
  },
  {
   "cell_type": "code",
   "execution_count": 11,
   "id": "30114f22",
   "metadata": {},
   "outputs": [
    {
     "data": {
      "text/plain": [
       "6"
      ]
     },
     "execution_count": 11,
     "metadata": {},
     "output_type": "execute_result"
    }
   ],
   "source": [
    "nums = [1,2,3]\n",
    "maximumProduct(nums)"
   ]
  },
  {
   "cell_type": "markdown",
   "id": "2d6b1604",
   "metadata": {},
   "source": [
    "Question 6**\n",
    "Given an array of integers nums which is sorted in ascending order, and an integer target,\n",
    "write a function to search target in nums. If target exists, then return its index. Otherwise,\n",
    "return -1.\n",
    "\n",
    "You must write an algorithm with O(log n) runtime complexity.\n",
    "\n",
    "Input: nums = [-1,0,3,5,9,12], target = 9\n",
    "Output: 4\n",
    "\n",
    "**Explanation:** 9 exists in nums and its index is 4\n",
    "\n"
   ]
  },
  {
   "cell_type": "code",
   "execution_count": 12,
   "id": "4b800e8b",
   "metadata": {},
   "outputs": [],
   "source": [
    "def search(nums, target):\n",
    "    # Initialize the left and right pointers for binary search\n",
    "    left = 0\n",
    "    right = len(nums) - 1\n",
    "    \n",
    "    # Perform binary search until left and right pointers meet or cross\n",
    "    while left <= right:\n",
    "        # Compute the midpoint index\n",
    "        mid = (left + right) // 2\n",
    "        \n",
    "        # If the midpoint element is the target, return its index\n",
    "        if nums[mid] == target:\n",
    "            return mid\n",
    "        \n",
    "        # If the midpoint element is greater than the target, search the left half of the array\n",
    "        elif nums[mid] > target:\n",
    "            right = mid - 1\n",
    "        \n",
    "        # If the midpoint element is less than the target, search the right half of the array\n",
    "        else:\n",
    "            left = mid + 1\n",
    "    \n",
    "    # If target is not found, return -1\n",
    "    return -1"
   ]
  },
  {
   "cell_type": "code",
   "execution_count": 13,
   "id": "6ff325cd",
   "metadata": {},
   "outputs": [
    {
     "data": {
      "text/plain": [
       "4"
      ]
     },
     "execution_count": 13,
     "metadata": {},
     "output_type": "execute_result"
    }
   ],
   "source": [
    "nums = [-1,0,3,5,9,12]\n",
    "target = 9\n",
    "search(nums, target)"
   ]
  },
  {
   "cell_type": "markdown",
   "id": "461c9798",
   "metadata": {},
   "source": [
    "Question 7**\n",
    "An array is monotonic if it is either monotone increasing or monotone decreasing.\n",
    "\n",
    "An array nums is monotone increasing if for all i <= j, nums[i] <= nums[j]. An array nums is\n",
    "monotone decreasing if for all i <= j, nums[i] >= nums[j].\n",
    "\n",
    "Given an integer array nums, return true if the given array is monotonic, or false otherwise.\n",
    "\n",
    "**Example 1:**\n",
    "Input: nums = [1,2,2,3]\n",
    "Output: true\n"
   ]
  },
  {
   "cell_type": "code",
   "execution_count": 14,
   "id": "b51eb6ba",
   "metadata": {},
   "outputs": [],
   "source": [
    "def isMonotonic(nums):\n",
    "    # Initialize variables to keep track of whether the array is monotone increasing or decreasing\n",
    "    increasing = True\n",
    "    decreasing = True\n",
    "    \n",
    "    # Iterate over the elements of the array starting from the second element\n",
    "    for i in range(1, len(nums)):\n",
    "        # If the current element is greater than the previous element, the array is not monotone decreasing\n",
    "        if nums[i] > nums[i-1]:\n",
    "            decreasing = False\n",
    "        \n",
    "        # If the current element is less than the previous element, the array is not monotone increasing\n",
    "        if nums[i] < nums[i-1]:\n",
    "            increasing = False\n",
    "        \n",
    "        # If both increasing and decreasing are False, the array is not monotone\n",
    "        if not increasing and not decreasing:\n",
    "            return False\n",
    "    \n",
    "    # If the loop completes and either increasing or decreasing is True, the array is monotone\n",
    "    return True"
   ]
  },
  {
   "cell_type": "code",
   "execution_count": 15,
   "id": "c89daa39",
   "metadata": {},
   "outputs": [
    {
     "data": {
      "text/plain": [
       "True"
      ]
     },
     "execution_count": 15,
     "metadata": {},
     "output_type": "execute_result"
    }
   ],
   "source": [
    "nums = [1,2,2,3]\n",
    "isMonotonic(nums)"
   ]
  },
  {
   "cell_type": "markdown",
   "id": "4200c16f",
   "metadata": {},
   "source": [
    "Question 8**\n",
    "You are given an integer array nums and an integer k.\n",
    "\n",
    "In one operation, you can choose any index i where 0 <= i < nums.length and change nums[i] to nums[i] + x where x is an integer from the range [-k, k]. You can apply this operation at most once for each index i.\n",
    "\n",
    "The score of nums is the difference between the maximum and minimum elements in nums.\n",
    "\n",
    "Return the minimum score of nums after applying the mentioned operation at most once for each index in it.\n",
    "\n",
    "**Example 1:**\n",
    "Input: nums = [1], k = 0\n",
    "Output: 0\n",
    "\n",
    "**Explanation:** The score is max(nums) - min(nums) = 1 - 1 = 0.\n"
   ]
  },
  {
   "cell_type": "code",
   "execution_count": 16,
   "id": "b76cf396",
   "metadata": {},
   "outputs": [],
   "source": [
    "def minimumScore(nums, k):\n",
    "    # Sort the array in ascending order\n",
    "    nums.sort()\n",
    "    \n",
    "    # Initialize the minimum and maximum values to the first and last elements of the sorted array\n",
    "    min_val = nums[0]\n",
    "    max_val = nums[-1]\n",
    "    \n",
    "    # Iterate over the elements of the array except the first and last elements\n",
    "    for i in range(1, len(nums)-1):\n",
    "        # Compute the minimum and maximum values that can be obtained by adding or subtracting k to nums[i]\n",
    "        min_val_i = min(nums[i+1]-k, min_val+k)\n",
    "        max_val_i = max(nums[i]+k, max_val-k)\n",
    "        \n",
    "        # Update the minimum and maximum values\n",
    "        min_val = min(min_val_i, min_val)\n",
    "        max_val = max(max_val_i, max_val)\n",
    "\n",
    "    # Compute and return the score\n",
    "    return max_val - min_val"
   ]
  },
  {
   "cell_type": "code",
   "execution_count": 17,
   "id": "769f6947",
   "metadata": {},
   "outputs": [
    {
     "data": {
      "text/plain": [
       "0"
      ]
     },
     "execution_count": 17,
     "metadata": {},
     "output_type": "execute_result"
    }
   ],
   "source": [
    "nums = [1]\n",
    "k = 0\n",
    "minimumScore(nums, k)"
   ]
  },
  {
   "cell_type": "code",
   "execution_count": null,
   "id": "ce18d917",
   "metadata": {},
   "outputs": [],
   "source": []
  }
 ],
 "metadata": {
  "kernelspec": {
   "display_name": "Python 3 (ipykernel)",
   "language": "python",
   "name": "python3"
  },
  "language_info": {
   "codemirror_mode": {
    "name": "ipython",
    "version": 3
   },
   "file_extension": ".py",
   "mimetype": "text/x-python",
   "name": "python",
   "nbconvert_exporter": "python",
   "pygments_lexer": "ipython3",
   "version": "3.10.9"
  }
 },
 "nbformat": 4,
 "nbformat_minor": 5
}
