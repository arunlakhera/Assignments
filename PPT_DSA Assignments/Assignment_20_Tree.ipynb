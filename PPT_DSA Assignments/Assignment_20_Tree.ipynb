{
 "cells": [
  {
   "cell_type": "markdown",
   "id": "74c0a4b5",
   "metadata": {},
   "source": [
    " Question-1\n",
    "\n",
    "Given a binary tree, your task is to find subtree with maximum sum in tree.\n"
   ]
  },
  {
   "cell_type": "code",
   "execution_count": 1,
   "id": "a92dcadd",
   "metadata": {},
   "outputs": [
    {
     "name": "stdout",
     "output_type": "stream",
     "text": [
      "3 3\n"
     ]
    }
   ],
   "source": [
    "class TreeNode:\n",
    "    def __init__(self, val=0, left=None, right=None):\n",
    "        self.val = val\n",
    "        self.left = left\n",
    "        self.right = right\n",
    "\n",
    "def maxSubtreeSum(root):\n",
    "    max_sum = float('-inf')\n",
    "    max_sum_root = None\n",
    "    def subtreeSum(node):\n",
    "        nonlocal max_sum, max_sum_root\n",
    "        if not node:\n",
    "            return 0\n",
    "        left_sum = subtreeSum(node.left)\n",
    "        right_sum = subtreeSum(node.right)\n",
    "        subtree_sum = node.val + left_sum + right_sum\n",
    "        if subtree_sum > max_sum:\n",
    "            max_sum = subtree_sum\n",
    "            max_sum_root = node\n",
    "        return subtree_sum\n",
    "    subtreeSum(root)\n",
    "    return max_sum, max_sum_root\n",
    "\n",
    "root = TreeNode(1, TreeNode(-2), TreeNode(3))\n",
    "max_sum, max_sum_root = maxSubtreeSum(root)\n",
    "print(max_sum, max_sum_root.val)"
   ]
  },
  {
   "cell_type": "markdown",
   "id": "3cb19272",
   "metadata": {},
   "source": [
    "Question-2\n",
    "\n",
    "Construct the BST (Binary Search Tree) from its given level order traversal.\n",
    "\n"
   ]
  },
  {
   "cell_type": "code",
   "execution_count": 2,
   "id": "fb99b6b7",
   "metadata": {},
   "outputs": [
    {
     "name": "stdout",
     "output_type": "stream",
     "text": [
      "1 2 3 4 5 6 7 "
     ]
    }
   ],
   "source": [
    "class TreeNode:\n",
    "    def __init__(self, val=0, left=None, right=None):\n",
    "        self.val = val\n",
    "        self.left = left\n",
    "        self.right = right\n",
    "\n",
    "def buildBST(levelorder):\n",
    "    if not levelorder:\n",
    "        return None\n",
    "    root = TreeNode(levelorder[0])\n",
    "    queue = [root]\n",
    "    i = 1\n",
    "    while i < len(levelorder):\n",
    "        node = queue.pop(0)\n",
    "        if i < len(levelorder) and levelorder[i] is not None:\n",
    "            node.left = TreeNode(levelorder[i])\n",
    "            queue.append(node.left)\n",
    "        i += 1\n",
    "        if i < len(levelorder) and levelorder[i] is not None:\n",
    "            node.right = TreeNode(levelorder[i])\n",
    "            queue.append(node.right)\n",
    "        i += 1\n",
    "    return root\n",
    "\n",
    "levelorder = [4, 2, 6, 1, 3, 5, 7]\n",
    "root = buildBST(levelorder)\n",
    "\n",
    "def inorderTraversal(node):\n",
    "    if node:\n",
    "        inorderTraversal(node.left)\n",
    "        print(node.val, end=' ')\n",
    "        inorderTraversal(node.right)\n",
    "\n",
    "inorderTraversal(root)"
   ]
  },
  {
   "cell_type": "markdown",
   "id": "b858b774",
   "metadata": {},
   "source": [
    "Question-3\n",
    "\n",
    "Given an array of size n. The problem is to check whether the given array can represent the level order traversal of a Binary Search Tree or not.\n"
   ]
  },
  {
   "cell_type": "code",
   "execution_count": 3,
   "id": "45bddff1",
   "metadata": {},
   "outputs": [
    {
     "name": "stdout",
     "output_type": "stream",
     "text": [
      "True\n"
     ]
    }
   ],
   "source": [
    "class TreeNode:\n",
    "    def __init__(self, val=0, left=None, right=None):\n",
    "        self.val = val\n",
    "        self.left = left\n",
    "        self.right = right\n",
    "\n",
    "def levelOrderBST(arr):\n",
    "    if not arr:\n",
    "        return False\n",
    "    root = TreeNode(arr[0])\n",
    "    queue = [root]\n",
    "    i = 1\n",
    "    while i < len(arr):\n",
    "        node = queue.pop(0)\n",
    "        if i < len(arr) and arr[i] is not None:\n",
    "            node.left = TreeNode(arr[i])\n",
    "            queue.append(node.left)\n",
    "        i += 1\n",
    "        if i < len(arr) and arr[i] is not None:\n",
    "            node.right = TreeNode(arr[i])\n",
    "            queue.append(node.right)\n",
    "        i += 1\n",
    "    return inorderTraversal(root) == sorted(list(set(arr)))\n",
    "\n",
    "def inorderTraversal(node):\n",
    "    if not node:\n",
    "        return []\n",
    "    return inorderTraversal(node.left) + [node.val] + inorderTraversal(node.right)\n",
    "\n",
    "arr = [4, 2, 6, 1, 3, 5, 7]\n",
    "print(levelOrderBST(arr))  # True"
   ]
  },
  {
   "cell_type": "markdown",
   "id": "008c3ede",
   "metadata": {},
   "source": []
  },
  {
   "cell_type": "markdown",
   "id": "0ecfc4a3",
   "metadata": {},
   "source": []
  },
  {
   "cell_type": "markdown",
   "id": "6636a2fb",
   "metadata": {},
   "source": []
  },
  {
   "cell_type": "markdown",
   "id": "a1e834dc",
   "metadata": {},
   "source": []
  },
  {
   "cell_type": "markdown",
   "id": "87745c73",
   "metadata": {},
   "source": []
  },
  {
   "cell_type": "markdown",
   "id": "db9c38bd",
   "metadata": {},
   "source": []
  },
  {
   "cell_type": "markdown",
   "id": "44c1de3c",
   "metadata": {},
   "source": []
  }
 ],
 "metadata": {
  "kernelspec": {
   "display_name": "Python 3 (ipykernel)",
   "language": "python",
   "name": "python3"
  },
  "language_info": {
   "codemirror_mode": {
    "name": "ipython",
    "version": 3
   },
   "file_extension": ".py",
   "mimetype": "text/x-python",
   "name": "python",
   "nbconvert_exporter": "python",
   "pygments_lexer": "ipython3",
   "version": "3.10.9"
  }
 },
 "nbformat": 4,
 "nbformat_minor": 5
}
