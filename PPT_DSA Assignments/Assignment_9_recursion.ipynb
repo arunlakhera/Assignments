{
 "cells": [
  {
   "cell_type": "markdown",
   "id": "a88e91ee",
   "metadata": {},
   "source": [
    "**Question 1**\n",
    "\n",
    "Given an integer `n`, return *`true` if it is a power of two. Otherwise, return `false`*.\n",
    "\n",
    "An integer `n` is a power of two, if there exists an integer `x` such that `n == 2x`.\n",
    "\n",
    "**Example 1:**\n",
    "Input: n = 1 \n",
    "\n",
    "Output: true\n",
    "\n",
    "**Example 2:**\n",
    "Input: n = 16 \n",
    "\n",
    "Output: true\n",
    "\n",
    "**Example 3:**\n",
    "Input: n = 3 \n",
    "\n",
    "Output: false\n"
   ]
  },
  {
   "cell_type": "code",
   "execution_count": 1,
   "id": "61dbb08f",
   "metadata": {},
   "outputs": [],
   "source": [
    "def is_power_of_two(n):\n",
    "    \"\"\"\n",
    "    :type n: int\n",
    "    :rtype: bool\n",
    "    \"\"\"\n",
    "    return n > 0 and (n & (n - 1)) == 0"
   ]
  },
  {
   "cell_type": "code",
   "execution_count": 3,
   "id": "4b8d3587",
   "metadata": {},
   "outputs": [
    {
     "data": {
      "text/plain": [
       "True"
      ]
     },
     "execution_count": 3,
     "metadata": {},
     "output_type": "execute_result"
    }
   ],
   "source": [
    "n = 16\n",
    "is_power_of_two(n)"
   ]
  },
  {
   "cell_type": "markdown",
   "id": "98d3d245",
   "metadata": {},
   "source": [
    "**Question 2**\n",
    "\n",
    "Given a number n, find the sum of the first natural numbers.\n",
    "\n",
    "**Example 1:**\n",
    "\n",
    "Input: n = 3 \n",
    "\n",
    "Output: 6\n",
    "\n",
    "**Example 2:**\n",
    "\n",
    "Input  : 5 \n",
    "\n",
    "Output : 15\n"
   ]
  },
  {
   "cell_type": "code",
   "execution_count": 4,
   "id": "984b3d75",
   "metadata": {},
   "outputs": [],
   "source": [
    "def sum_of_first_n_numbers(n):\n",
    "    \"\"\"\n",
    "    :type n: int\n",
    "    :rtype: int\n",
    "    \"\"\"\n",
    "    return n * (n + 1) // 2"
   ]
  },
  {
   "cell_type": "code",
   "execution_count": 5,
   "id": "47ef2d6f",
   "metadata": {},
   "outputs": [
    {
     "data": {
      "text/plain": [
       "6"
      ]
     },
     "execution_count": 5,
     "metadata": {},
     "output_type": "execute_result"
    }
   ],
   "source": [
    "n=3\n",
    "sum_of_first_n_numbers(n)"
   ]
  },
  {
   "cell_type": "markdown",
   "id": "415b621b",
   "metadata": {},
   "source": [
    "**Question 3**\n",
    "\n",
    "****Given a positive integer, N. Find the factorial of N. \n",
    "\n",
    "**Example 1:**\n",
    "\n",
    "Input: N = 5 \n",
    "\n",
    "Output: 120\n",
    "\n",
    "**Example 2:**\n",
    "\n",
    "Input: N = 4\n",
    "\n",
    "Output: 24\n"
   ]
  },
  {
   "cell_type": "code",
   "execution_count": 6,
   "id": "ebbc3056",
   "metadata": {},
   "outputs": [],
   "source": [
    "def factorial(N):\n",
    "    \"\"\"\n",
    "    :type N: int\n",
    "    :rtype: int\n",
    "    \"\"\"\n",
    "    res = 1\n",
    "    for i in range(1, N+1):\n",
    "        res *= i\n",
    "    return res\n"
   ]
  },
  {
   "cell_type": "code",
   "execution_count": 7,
   "id": "5ea516ea",
   "metadata": {},
   "outputs": [
    {
     "data": {
      "text/plain": [
       "120"
      ]
     },
     "execution_count": 7,
     "metadata": {},
     "output_type": "execute_result"
    }
   ],
   "source": [
    "N = 5\n",
    "factorial(N)"
   ]
  },
  {
   "cell_type": "markdown",
   "id": "fa07fc63",
   "metadata": {},
   "source": [
    "**Question 4**\n",
    "\n",
    "Given a number N and a power P, the task is to find the exponent of this number raised to the given power, i.e. N^P.\n",
    "\n",
    "**Example 1 :** \n",
    "\n",
    "Input: N = 5, P = 2\n",
    "\n",
    "Output: 25\n",
    "\n",
    "**Example 2 :**\n",
    "Input: N = 2, P = 5\n",
    "\n",
    "Output: 32\n"
   ]
  },
  {
   "cell_type": "code",
   "execution_count": 8,
   "id": "275f98bf",
   "metadata": {},
   "outputs": [],
   "source": [
    "def exponent(N, P):\n",
    "    \"\"\"\n",
    "    :type N: int\n",
    "    :type P: int\n",
    "    :rtype: int\n",
    "    \"\"\"\n",
    "    res = 1\n",
    "    for i in range(P):\n",
    "        res *= N\n",
    "    return res\n"
   ]
  },
  {
   "cell_type": "code",
   "execution_count": 9,
   "id": "35683bf1",
   "metadata": {},
   "outputs": [
    {
     "data": {
      "text/plain": [
       "25"
      ]
     },
     "execution_count": 9,
     "metadata": {},
     "output_type": "execute_result"
    }
   ],
   "source": [
    "N = 5\n",
    "P = 2\n",
    "exponent(N, P)"
   ]
  },
  {
   "cell_type": "markdown",
   "id": "bf7c043f",
   "metadata": {},
   "source": [
    "**Question 5**\n",
    "\n",
    "Given an array of integers **arr**, the task is to find maximum element of that array using recursion.\n",
    "\n",
    "**Example 1:**\n",
    "\n",
    "Input: arr = {1, 4, 3, -5, -4, 8, 6};\n",
    "Output: 8\n",
    "\n",
    "**Example 2:**\n",
    "\n",
    "Input: arr = {1, 4, 45, 6, 10, -8};\n",
    "Output: 45\n"
   ]
  },
  {
   "cell_type": "code",
   "execution_count": 12,
   "id": "73ee4c0c",
   "metadata": {},
   "outputs": [],
   "source": [
    "def find_max(arr):\n",
    "    \"\"\"\n",
    "    :type arr: List[int]\n",
    "    :rtype: int\n",
    "    \"\"\"\n",
    "    n = len(arr)\n",
    "    \n",
    "    # base case\n",
    "    if n == 1:\n",
    "        return arr[0]\n",
    "    \n",
    "    # recursive case\n",
    "    mid = n // 2\n",
    "    left_max = find_max(arr[:mid])\n",
    "    right_max = find_max(arr[mid:])\n",
    "    \n",
    "    return max(left_max, right_max)\n"
   ]
  },
  {
   "cell_type": "code",
   "execution_count": 15,
   "id": "d26c4939",
   "metadata": {},
   "outputs": [
    {
     "data": {
      "text/plain": [
       "8"
      ]
     },
     "execution_count": 15,
     "metadata": {},
     "output_type": "execute_result"
    }
   ],
   "source": [
    "arr = [1, 4, 3, -5, -4, 8, 6]\n",
    "find_max(arr)"
   ]
  },
  {
   "cell_type": "markdown",
   "id": "32344bf1",
   "metadata": {},
   "source": [
    "**Question 6**\n",
    "\n",
    "Given first term (a), common difference (d) and a integer N of the Arithmetic Progression series, the task is to find Nth term of the series.\n",
    "\n",
    "**Example 1:**\n",
    "\n",
    "Input : a = 2 d = 1 N = 5\n",
    "Output : 6\n",
    "The 5th term of the series is : 6\n",
    "\n",
    "**Example 2:**\n",
    "\n",
    "Input : a = 5 d = 2 N = 10\n",
    "Output : 23\n",
    "The 10th term of the series is : 23\n"
   ]
  },
  {
   "cell_type": "code",
   "execution_count": 16,
   "id": "237b293d",
   "metadata": {},
   "outputs": [],
   "source": [
    "def nth_term_of_ap(a, d, N):\n",
    "    \"\"\"\n",
    "    :type a: int\n",
    "    :type d: int\n",
    "    :type N: int\n",
    "    :rtype: int\n",
    "    \"\"\"\n",
    "    return a + (N - 1) * d"
   ]
  },
  {
   "cell_type": "code",
   "execution_count": 17,
   "id": "1d5eecc2",
   "metadata": {},
   "outputs": [
    {
     "data": {
      "text/plain": [
       "6"
      ]
     },
     "execution_count": 17,
     "metadata": {},
     "output_type": "execute_result"
    }
   ],
   "source": [
    "a = 2\n",
    "d = 1 \n",
    "N = 5 \n",
    "nth_term_of_ap(a, d, N)"
   ]
  },
  {
   "cell_type": "markdown",
   "id": "2e7dfd44",
   "metadata": {},
   "source": [
    "**Question 7**\n",
    "\n",
    "Given a string S, the task is to write a program to print all permutations of a given string.\n",
    "\n",
    "**Example 1:**\n",
    "\n",
    "***Input:***\n",
    "\n",
    "*S = “ABC”*\n",
    "\n",
    "***Output:***\n",
    "\n",
    "*“ABC”, “ACB”, “BAC”, “BCA”, “CBA”, “CAB”*\n",
    "\n",
    "**Example 2:**\n",
    "\n",
    "***Input:***\n",
    "\n",
    "*S = “XY”*\n",
    "\n",
    "***Output:***\n",
    "\n",
    "*“XY”, “YX”*\n"
   ]
  },
  {
   "cell_type": "code",
   "execution_count": 19,
   "id": "8477c539",
   "metadata": {},
   "outputs": [],
   "source": [
    "def permute(s, l, r):\n",
    "    \"\"\"\n",
    "    :type s: str\n",
    "    :type l: int\n",
    "    :type r: int\n",
    "    :rtype: None\n",
    "    \"\"\"\n",
    "    if l == r:\n",
    "        print(s)\n",
    "    else:\n",
    "        for i in range(l, r+1):\n",
    "            s = swap(s, l, i)\n",
    "            permute(s, l+1, r)\n",
    "            s = swap(s, l, i)\n",
    "\n",
    "def swap(s, i, j):\n",
    "    \"\"\"\n",
    "    :type s: str\n",
    "    :type i: int\n",
    "    :type j: int\n",
    "    :rtype: str\n",
    "    \"\"\"\n",
    "    lst = list(s)\n",
    "    lst[i], lst[j] = lst[j], lst[i]\n",
    "    return ''.join(lst)\n"
   ]
  },
  {
   "cell_type": "code",
   "execution_count": 21,
   "id": "586cf6a7",
   "metadata": {},
   "outputs": [
    {
     "name": "stdout",
     "output_type": "stream",
     "text": [
      "ABC\n",
      "ACB\n",
      "BAC\n",
      "BCA\n",
      "CBA\n",
      "CAB\n"
     ]
    }
   ],
   "source": [
    "S = \"ABC\"\n",
    "n = len(s)\n",
    "permute(s, 0, n-1)"
   ]
  },
  {
   "cell_type": "markdown",
   "id": "a6bc71ba",
   "metadata": {},
   "source": [
    "**Question 8**\n",
    "\n",
    "Given an array, find a product of all array elements.\n",
    "\n",
    "**Example 1:**\n",
    "\n",
    "Input  : arr[] = {1, 2, 3, 4, 5}\n",
    "Output : 120\n",
    "**Example 2:**\n",
    "\n",
    "Input  : arr[] = {1, 6, 3}\n",
    "Output : 18\n"
   ]
  },
  {
   "cell_type": "code",
   "execution_count": 22,
   "id": "a3927f02",
   "metadata": {},
   "outputs": [],
   "source": [
    "def product_of_array(arr):\n",
    "    \"\"\"\n",
    "    :type arr: List[int]\n",
    "    :rtype: int\n",
    "    \"\"\"\n",
    "    product = 1\n",
    "    for num in arr:\n",
    "        product *= num\n",
    "    return product"
   ]
  },
  {
   "cell_type": "code",
   "execution_count": 23,
   "id": "dee64232",
   "metadata": {},
   "outputs": [
    {
     "data": {
      "text/plain": [
       "120"
      ]
     },
     "execution_count": 23,
     "metadata": {},
     "output_type": "execute_result"
    }
   ],
   "source": [
    "arr = [1, 2, 3, 4, 5]\n",
    "product_of_array(arr)"
   ]
  },
  {
   "cell_type": "markdown",
   "id": "6af69c8f",
   "metadata": {},
   "source": []
  },
  {
   "cell_type": "markdown",
   "id": "a4138dda",
   "metadata": {},
   "source": []
  },
  {
   "cell_type": "markdown",
   "id": "9b1c8af2",
   "metadata": {},
   "source": []
  }
 ],
 "metadata": {
  "kernelspec": {
   "display_name": "Python 3 (ipykernel)",
   "language": "python",
   "name": "python3"
  },
  "language_info": {
   "codemirror_mode": {
    "name": "ipython",
    "version": 3
   },
   "file_extension": ".py",
   "mimetype": "text/x-python",
   "name": "python",
   "nbconvert_exporter": "python",
   "pygments_lexer": "ipython3",
   "version": "3.10.9"
  }
 },
 "nbformat": 4,
 "nbformat_minor": 5
}
