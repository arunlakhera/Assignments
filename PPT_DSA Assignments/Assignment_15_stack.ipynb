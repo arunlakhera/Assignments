{
 "cells": [
  {
   "cell_type": "markdown",
   "id": "48d458d4",
   "metadata": {},
   "source": [
    "**Question 1**\n",
    "\n",
    "Given an array **arr[ ]** of size **N** having elements, the task is to find the next greater element for each element of the array in order of their appearance in the array.Next greater element of an element in the array is the nearest element on the right which is greater than the current element.If there does not exist next greater of current element, then next greater element for current element is -1. For example, next greater of the last element is always -1.\n",
    "\n",
    "**Example 1:**\n",
    "\n",
    "```\n",
    "Input:\n",
    "N = 4, arr[] = [1 3 2 4]\n",
    "Output:\n",
    "3 4 4 -1\n",
    "Explanation:\n",
    "In the array, the next larger element\n",
    "to 1 is 3 , 3 is 4 , 2 is 4 and for 4 ?\n",
    "since it doesn't exist, it is -1.\n",
    "\n",
    "```\n",
    "\n",
    "**Example 2:**\n",
    "\n",
    "```\n",
    "Input:\n",
    "N = 5, arr[] [6 8 0 1 3]\n",
    "Output:\n",
    "8 -1 1 3 -1\n",
    "Explanation:\n",
    "In the array, the next larger element to\n",
    "6 is 8, for 8 there is no larger elements\n",
    "hence it is -1, for 0 it is 1 , for 1 it\n",
    "is 3 and then for 3 there is no larger\n",
    "element on right and hence -1.\n",
    "```"
   ]
  },
  {
   "cell_type": "code",
   "execution_count": 1,
   "id": "7b251608",
   "metadata": {},
   "outputs": [
    {
     "name": "stdout",
     "output_type": "stream",
     "text": [
      "[5, 25, 25, -1]\n"
     ]
    }
   ],
   "source": [
    "def nextGreaterElement(arr):\n",
    "    # Initialize the answer array with -1\n",
    "    n = len(arr)\n",
    "    answer = [-1] * n\n",
    "\n",
    "    # Initialize the stack with the last element in the array\n",
    "    stack = [arr[-1]]\n",
    "\n",
    "    # Traverse the array from right to left\n",
    "    for i in range(n-2, -1, -1):\n",
    "        current = arr[i]\n",
    "\n",
    "        # Pop all the elements from the stack that have a value less than or equal to the current element's value\n",
    "        while len(stack) > 0 and stack[-1] <= current:\n",
    "            stack.pop()\n",
    "\n",
    "        # Set the next greater element of the popped elements to the current element's value\n",
    "        if len(stack) > 0:\n",
    "            answer[i] = stack[-1]\n",
    "\n",
    "        # Push the current element onto the stack\n",
    "        stack.append(current)\n",
    "\n",
    "    return answer\n",
    "\n",
    "# Test the function with an example array\n",
    "arr = [4, 5, 2, 25]\n",
    "answer = nextGreaterElement(arr)\n",
    "print(answer)"
   ]
  },
  {
   "cell_type": "markdown",
   "id": "1e55dd31",
   "metadata": {},
   "source": [
    " **Question 2**\n",
    "\n",
    "Given an array **a** of integers of length **n**, find the nearest smaller number for every element such that the smaller element is on left side.If no small element present on the left print -1.\n",
    "\n",
    "**Example 1:**\n",
    "\n",
    "```\n",
    "Input: n = 3\n",
    "a = {1, 6, 2}\n",
    "Output: -1 1 1\n",
    "Explaination: There is no number at the\n",
    "left of 1. Smaller number than 6 and 2 is 1.\n",
    "```\n",
    "\n",
    "**Example 2:**\n",
    "\n",
    "```\n",
    "Input: n = 6\n",
    "a = {1, 5, 0, 3, 4, 5}\n",
    "Output: -1 1 -1 0 3 4\n",
    "Explaination: Upto 3 it is easy to see\n",
    "the smaller numbers. But for 4 the smaller\n",
    "numbers are 1, 0 and 3. But among them 3\n",
    "is closest. Similary for 5 it is 4.\n",
    "```\n"
   ]
  },
  {
   "cell_type": "code",
   "execution_count": 2,
   "id": "1b712bd0",
   "metadata": {},
   "outputs": [
    {
     "name": "stdout",
     "output_type": "stream",
     "text": [
      "[-1, 1, -1, 0, 2]\n"
     ]
    }
   ],
   "source": [
    "def nearestSmallerNumber(arr):\n",
    "    # Initialize the answer array with -1\n",
    "    n = len(arr)\n",
    "    answer = [-1] * n\n",
    "\n",
    "    # Initialize the stack with the first element in the array\n",
    "    stack = [arr[0]]\n",
    "\n",
    "    # Traverse the array from left to right\n",
    "    for i in range(1, n):\n",
    "        current = arr[i]\n",
    "\n",
    "        # Pop all the elements from the stack that have a value greater than or equal to the current element's value\n",
    "        while len(stack) > 0 and stack[-1] >= current:\n",
    "            stack.pop()\n",
    "\n",
    "        # If the stack is not empty, the top element is the nearest smaller element\n",
    "        if len(stack) > 0:\n",
    "            answer[i] = stack[-1]\n",
    "\n",
    "        # Push the current element onto the stack\n",
    "        stack.append(current)\n",
    "\n",
    "    return answer\n",
    "\n",
    "# Test the function with an example array\n",
    "arr = [1, 3, 0, 2, 5]\n",
    "answer = nearestSmallerNumber(arr)\n",
    "print(answer)"
   ]
  },
  {
   "cell_type": "markdown",
   "id": "e5f40b0e",
   "metadata": {},
   "source": [
    "**Question 3**\n",
    "\n",
    "Implement a Stack using two queues **q1** and **q2**.\n",
    "\n",
    "**Example 1:**\n",
    "\n",
    "```\n",
    "Input:\n",
    "push(2)\n",
    "push(3)\n",
    "pop()\n",
    "push(4)\n",
    "pop()\n",
    "Output:3 4\n",
    "Explanation:\n",
    "push(2) the stack will be {2}\n",
    "push(3) the stack will be {2 3}\n",
    "pop()   poped element will be 3 the\n",
    "        stack will be {2}\n",
    "push(4) the stack will be {2 4}\n",
    "pop()   poped element will be 4\n",
    "\n",
    "```\n",
    "\n",
    "**Example 2:**\n",
    "\n",
    "```\n",
    "Input:\n",
    "push(2)\n",
    "pop()\n",
    "pop()\n",
    "push(3)\n",
    "Output:2 -1\n",
    "```"
   ]
  },
  {
   "cell_type": "code",
   "execution_count": 5,
   "id": "ebbf6709",
   "metadata": {},
   "outputs": [],
   "source": [
    "class Stack:\n",
    "    def __init__(self):\n",
    "        self.q1 = []\n",
    "        self.q2 = []\n",
    "\n",
    "    def push(self, x):\n",
    "        self.q1.append(x)\n",
    "\n",
    "    def pop(self):\n",
    "        n = len(self.q1) - 1\n",
    "        for i in range(n):\n",
    "            self.q2.append(self.q1.pop(0))\n",
    "        x = self.q1.pop(0)\n",
    "        self.q1, self.q2 = self.q2, self.q1\n",
    "        return x\n",
    "\n",
    "    def top(self):\n",
    "        n = len(self.q1) - 1\n",
    "        for i in range(n):\n",
    "            self.q2.append(self.q1.pop(0))\n",
    "        x = self.q1.pop(0)\n",
    "        self.q2.append(x)\n",
    "        self.q1, self.q2 = self.q2, self.q1\n",
    "        return x\n",
    "\n",
    "    def empty(self):\n",
    "        return len(self.q1) == 0"
   ]
  },
  {
   "cell_type": "code",
   "execution_count": 6,
   "id": "bf115cb6",
   "metadata": {},
   "outputs": [
    {
     "data": {
      "text/plain": [
       "4"
      ]
     },
     "execution_count": 6,
     "metadata": {},
     "output_type": "execute_result"
    }
   ],
   "source": [
    "s = Stack()\n",
    "s.push(2)\n",
    "s.push(3)\n",
    "s.pop()\n",
    "s.push(4)\n",
    "s.pop()"
   ]
  },
  {
   "cell_type": "markdown",
   "id": "8b92fde9",
   "metadata": {},
   "source": [
    "**Question 4**\n",
    "\n",
    "You are given a stack **St**. You have to reverse the stack using recursion.\n",
    "\n",
    "**Example 1:**\n",
    "\n",
    "```\n",
    "Input:St = {3,2,1,7,6}\n",
    "Output:{6,7,1,2,3}\n",
    "```\n",
    "\n",
    "**Example 2:**\n",
    "\n",
    "```\n",
    "Input:St = {4,3,9,6}\n",
    "Output:{6,9,3,4}\n",
    "```\n"
   ]
  },
  {
   "cell_type": "code",
   "execution_count": 10,
   "id": "f2dbcc8c",
   "metadata": {},
   "outputs": [],
   "source": [
    "def reverseStack(st):\n",
    "    if len(st) == 0:\n",
    "        return\n",
    "    x = st.pop()\n",
    "    reverseStack(st)\n",
    "    insertAtBottom(st, x)\n",
    "\n",
    "def insertAtBottom(st, x):\n",
    "    if len(st) == 0:\n",
    "        st.append(x)\n",
    "    else:\n",
    "        y = st.pop()\n",
    "        insertAtBottom(st, x)\n",
    "        st.append(y)"
   ]
  },
  {
   "cell_type": "code",
   "execution_count": 12,
   "id": "9bf54c41",
   "metadata": {},
   "outputs": [
    {
     "name": "stdout",
     "output_type": "stream",
     "text": [
      "Original stack: [3, 2, 1, 7, 6]\n",
      "Reversed stack: [6, 7, 1, 2, 3]\n"
     ]
    }
   ],
   "source": [
    "st = []\n",
    "st.append(3)\n",
    "st.append(2)\n",
    "st.append(1)\n",
    "st.append(7)\n",
    "st.append(6)\n",
    "print(\"Original stack:\", st)\n",
    "reverseStack(st)\n",
    "print(\"Reversed stack:\", st)"
   ]
  },
  {
   "cell_type": "markdown",
   "id": "1403de4a",
   "metadata": {},
   "source": [
    "**Question 5**\n",
    "\n",
    "You are given a string **S**, the task is to reverse the string using stack.\n",
    "\n",
    "**Example 1:**\n",
    "\n",
    "```\n",
    "Input: S=\"GeeksforGeeks\"\n",
    "Output: skeeGrofskeeG\n",
    "```"
   ]
  },
  {
   "cell_type": "code",
   "execution_count": 13,
   "id": "4fc28bad",
   "metadata": {},
   "outputs": [],
   "source": [
    "def reverseString(s):\n",
    "    stack = []\n",
    "    for c in s:\n",
    "        stack.append(c)\n",
    "    reversedString = \"\"\n",
    "    while len(stack) > 0:\n",
    "        reversedString += stack.pop()\n",
    "    return reversedString"
   ]
  },
  {
   "cell_type": "code",
   "execution_count": 14,
   "id": "66fc4fae",
   "metadata": {},
   "outputs": [
    {
     "name": "stdout",
     "output_type": "stream",
     "text": [
      "Reversed stack: skeeGrofskeeG\n"
     ]
    }
   ],
   "source": [
    "S=\"GeeksforGeeks\"\n",
    "st = reverseString(S)\n",
    "print(\"Reversed stack:\", st)"
   ]
  },
  {
   "cell_type": "markdown",
   "id": "0ace5aae",
   "metadata": {},
   "source": [
    "**Question 6**\n",
    "\n",
    "Given string **S** representing a postfix expression, the task is to evaluate the expression and find the final value. Operators will only include the basic arithmetic operators like ***, /, + and -**.\n",
    "\n",
    "**Example 1:**\n",
    "\n",
    "```\n",
    "Input: S = \"231*+9-\"\n",
    "Output: -4\n",
    "Explanation:\n",
    "After solving the given expression,\n",
    "we have -4 as result.\n",
    "\n",
    "```\n",
    "\n",
    "**Example 2:**\n",
    "\n",
    "```\n",
    "Input: S = \"123+*8-\"\n",
    "Output: -3\n",
    "Explanation:\n",
    "After solving the given postfix\n",
    "expression, we have -3 as result.\n",
    "```"
   ]
  },
  {
   "cell_type": "code",
   "execution_count": 15,
   "id": "5998efe1",
   "metadata": {},
   "outputs": [],
   "source": [
    "def evaluatePostfixExpression(S):\n",
    "    stack = []\n",
    "    for c in S:\n",
    "        if c.isdigit():\n",
    "            stack.append(int(c))\n",
    "        else:\n",
    "            operand2 = stack.pop()\n",
    "            operand1 = stack.pop()\n",
    "            if c == '+':\n",
    "                result = operand1 + operand2\n",
    "            elif c == '-':\n",
    "                result = operand1 - operand2\n",
    "            elif c == '*':\n",
    "                result = operand1 * operand2\n",
    "            elif c == '/':\n",
    "                result = operand1 / operand2\n",
    "            stack.append(result)\n",
    "    return stack.pop()"
   ]
  },
  {
   "cell_type": "code",
   "execution_count": 17,
   "id": "08679782",
   "metadata": {},
   "outputs": [
    {
     "data": {
      "text/plain": [
       "-4"
      ]
     },
     "execution_count": 17,
     "metadata": {},
     "output_type": "execute_result"
    }
   ],
   "source": [
    "S = \"231*+9-\"\n",
    "evaluatePostfixExpression(S)"
   ]
  },
  {
   "cell_type": "markdown",
   "id": "6f8ff88f",
   "metadata": {},
   "source": [
    "**Question 7**\n",
    "\n",
    "Design a stack that supports push, pop, top, and retrieving the minimum element in constant time.\n",
    "\n",
    "Implement the `MinStack` class:\n",
    "\n",
    "- `MinStack()` initializes the stack object.\n",
    "- `void push(int val)` pushes the element `val` onto the stack.\n",
    "- `void pop()` removes the element on the top of the stack.\n",
    "- `int top()` gets the top element of the stack.\n",
    "- `int getMin()` retrieves the minimum element in the stack.\n",
    "\n",
    "You must implement a solution with `O(1)` time complexity for each function.\n",
    "\n",
    "**Example 1:**\n",
    "\n",
    "```\n",
    "Input\n",
    "[\"MinStack\",\"push\",\"push\",\"push\",\"getMin\",\"pop\",\"top\",\"getMin\"]\n",
    "[[],[-2],[0],[-3],[],[],[],[]]\n",
    "\n",
    "Output\n",
    "[null,null,null,null,-3,null,0,-2]\n",
    "\n",
    "Explanation\n",
    "MinStack minStack = new MinStack();\n",
    "minStack.push(-2);\n",
    "minStack.push(0);\n",
    "minStack.push(-3);\n",
    "minStack.getMin(); // return -3\n",
    "minStack.pop();\n",
    "minStack.top();    // return 0\n",
    "minStack.getMin(); // return -2\n",
    "```\n"
   ]
  },
  {
   "cell_type": "code",
   "execution_count": 18,
   "id": "d85d28f4",
   "metadata": {},
   "outputs": [],
   "source": [
    "class MinStack:\n",
    "    def __init__(self):\n",
    "        self.stack = []\n",
    "        self.minStack = []\n",
    "\n",
    "    def push(self, val):\n",
    "        self.stack.append(val)\n",
    "        if len(self.minStack) == 0 or val <= self.minStack[-1]:\n",
    "            self.minStack.append(val)\n",
    "        else:\n",
    "            self.minStack.append(self.minStack[-1])\n",
    "\n",
    "    def pop(self):\n",
    "        if len(self.stack) > 0:\n",
    "            self.minStack.pop()\n",
    "            return self.stack.pop()\n",
    "\n",
    "    def top(self):\n",
    "        if len(self.stack) > 0:\n",
    "            return self.stack[-1]\n",
    "\n",
    "    def getMin(self):\n",
    "        if len(self.minStack) > 0:\n",
    "            return self.minStack[-1]"
   ]
  },
  {
   "cell_type": "code",
   "execution_count": 25,
   "id": "f7adafb1",
   "metadata": {},
   "outputs": [
    {
     "name": "stdout",
     "output_type": "stream",
     "text": [
      "Minimum element: -3\n",
      "Top element: -3\n",
      "Top element after pop: 0\n",
      "Minimum element after pop: -2\n"
     ]
    }
   ],
   "source": [
    "minStack = MinStack()\n",
    "minStack.push(-2)\n",
    "minStack.push(0)\n",
    "minStack.push(-3)\n",
    "print(\"Minimum element:\", minStack.getMin()) # output: -3\n",
    "print(\"Top element:\", minStack.top()) # output: -3\n",
    "minStack.pop()\n",
    "print(\"Top element after pop:\", minStack.top()) # output: 0\n",
    "print(\"Minimum element after pop:\", minStack.getMin()) # output: -2"
   ]
  },
  {
   "cell_type": "markdown",
   "id": "3bb3228f",
   "metadata": {},
   "source": [
    "💡 **Question 8**\n",
    "\n",
    "Given `n` non-negative integers representing an elevation map where the width of each bar is `1`, compute how much water it can trap after raining.\n",
    "\n",
    "**Example 1:**\n",
    "\n",
    "!https://assets.leetcode.com/uploads/2018/10/22/rainwatertrap.png\n",
    "\n",
    "```\n",
    "Input: height = [0,1,0,2,1,0,1,3,2,1,2,1]\n",
    "Output: 6\n",
    "Explanation: The above elevation map (black section) is represented by array [0,1,0,2,1,0,1,3,2,1,2,1]. In this case, 6 units of rain water (blue section) are being trapped.\n",
    "\n",
    "```\n",
    "\n",
    "**Example 2:**\n"
   ]
  },
  {
   "cell_type": "code",
   "execution_count": 23,
   "id": "2c4c6dfb",
   "metadata": {},
   "outputs": [],
   "source": [
    "def trap(height):\n",
    "    n = len(height)\n",
    "    leftMax = [0] * n\n",
    "    rightMax = [0] * n\n",
    "    leftMax[0] = height[0]\n",
    "    rightMax[n - 1] = height[n - 1]\n",
    "    for i in range(1, n):\n",
    "        leftMax[i] = max(leftMax[i - 1], height[i])\n",
    "    for i in range(n - 2, -1, -1):\n",
    "        rightMax[i] = max(rightMax[i + 1], height[i])\n",
    "    water = 0\n",
    "    for i in range(n):\n",
    "        water += min(leftMax[i], rightMax[i]) - height[i]\n",
    "    return water"
   ]
  },
  {
   "cell_type": "code",
   "execution_count": 24,
   "id": "21e32754",
   "metadata": {},
   "outputs": [
    {
     "name": "stdout",
     "output_type": "stream",
     "text": [
      "Elevation map: [0, 1, 0, 2, 1, 0, 1, 3, 2, 1, 2, 1]\n",
      "Amount of water trapped: 6\n"
     ]
    }
   ],
   "source": [
    "height = [0,1,0,2,1,0,1,3,2,1,2,1]\n",
    "water = trap(height)\n",
    "print(\"Elevation map:\", height)\n",
    "print(\"Amount of water trapped:\", water)"
   ]
  },
  {
   "cell_type": "code",
   "execution_count": null,
   "id": "33582934",
   "metadata": {},
   "outputs": [],
   "source": []
  }
 ],
 "metadata": {
  "kernelspec": {
   "display_name": "Python 3 (ipykernel)",
   "language": "python",
   "name": "python3"
  },
  "language_info": {
   "codemirror_mode": {
    "name": "ipython",
    "version": 3
   },
   "file_extension": ".py",
   "mimetype": "text/x-python",
   "name": "python",
   "nbconvert_exporter": "python",
   "pygments_lexer": "ipython3",
   "version": "3.10.9"
  }
 },
 "nbformat": 4,
 "nbformat_minor": 5
}
