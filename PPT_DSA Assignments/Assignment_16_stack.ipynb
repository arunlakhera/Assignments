{
 "cells": [
  {
   "cell_type": "markdown",
   "id": "04d28727",
   "metadata": {},
   "source": [
    "**Question 1**\n",
    "\n",
    "Given an array, for each element find the value of the nearest element to the right which is having a frequency greater than that of the current element. If there does not exist an answer for a position, then make the value ‘-1’.\n"
   ]
  },
  {
   "cell_type": "code",
   "execution_count": 1,
   "id": "501c1700",
   "metadata": {},
   "outputs": [],
   "source": [
    "def nearestGreaterFrequency(arr):\n",
    "    freq = {}\n",
    "    for element in arr:\n",
    "        if element in freq:\n",
    "            freq[element] += 1\n",
    "        else:\n",
    "            freq[element] = 1\n",
    "    n = len(arr)\n",
    "    result = [-1] * n\n",
    "    considered = set()\n",
    "    for i in range(n - 1, -1, -1):\n",
    "        if arr[i] in considered:\n",
    "            continue\n",
    "        for j in range(i + 1, n):\n",
    "            if freq[arr[j]] > freq[arr[i]]:\n",
    "                result[i] = arr[j]\n",
    "                considered.add(arr[i])\n",
    "                break\n",
    "    return result"
   ]
  },
  {
   "cell_type": "code",
   "execution_count": 2,
   "id": "845c900c",
   "metadata": {},
   "outputs": [
    {
     "name": "stdout",
     "output_type": "stream",
     "text": [
      "Input array: [1, 1, 2, 3, 4, 2, 1]\n",
      "Result array: [-1, -1, -1, 2, 2, 1, -1]\n"
     ]
    }
   ],
   "source": [
    "arr = [1, 1, 2, 3, 4, 2, 1]\n",
    "result = nearestGreaterFrequency(arr)\n",
    "print(\"Input array:\", arr)\n",
    "print(\"Result array:\", result)"
   ]
  },
  {
   "cell_type": "markdown",
   "id": "36787ded",
   "metadata": {},
   "source": [
    "**Question 2**\n",
    "\n",
    "Given a stack of integers, sort it in ascending order using another temporary stack.\n"
   ]
  },
  {
   "cell_type": "code",
   "execution_count": 3,
   "id": "902196b5",
   "metadata": {},
   "outputs": [],
   "source": [
    "def sortStack(stack):\n",
    "    tempStack = []\n",
    "    while len(stack) > 0:\n",
    "        temp = stack.pop()\n",
    "        while len(tempStack) > 0 and tempStack[-1] > temp:\n",
    "            stack.append(tempStack.pop())\n",
    "        tempStack.append(temp)\n",
    "    while len(tempStack) > 0:\n",
    "        stack.append(tempStack.pop())"
   ]
  },
  {
   "cell_type": "code",
   "execution_count": 4,
   "id": "d37aa3c3",
   "metadata": {},
   "outputs": [
    {
     "name": "stdout",
     "output_type": "stream",
     "text": [
      "Original stack: [34, 3, 31, 98, 92, 23]\n",
      "Sorted stack: [98, 92, 34, 31, 23, 3]\n"
     ]
    }
   ],
   "source": [
    "stack = [34, 3, 31, 98, 92, 23]\n",
    "print(\"Original stack:\", stack)\n",
    "sortStack(stack)\n",
    "print(\"Sorted stack:\", stack)\n"
   ]
  },
  {
   "cell_type": "markdown",
   "id": "6ec8d40e",
   "metadata": {},
   "source": [
    "**Question 3**\n",
    "\n",
    "Given a stack with **push()**, **pop()**, and **empty()** operations, The task is to delete the **middle** element ****of it without using any additional data structure.\n",
    "\n",
    "Input  : Stack[] = [1, 2, 3, 4, 5]\n",
    "\n",
    "Output : Stack[] = [1, 2, 4, 5]\n",
    "\n",
    "Input  : Stack[] = [1, 2, 3, 4, 5, 6]\n",
    "\n",
    "Output : Stack[] = [1, 2, 4, 5, 6]\n"
   ]
  },
  {
   "cell_type": "code",
   "execution_count": 38,
   "id": "dd19b108",
   "metadata": {},
   "outputs": [
    {
     "name": "stdout",
     "output_type": "stream",
     "text": [
      "Stack after deleting middle element: [1, 4, 5]\n"
     ]
    }
   ],
   "source": [
    "class List(list):\n",
    "    def push(self, x):\n",
    "        self.append(x)\n",
    "        \n",
    "def deleteMiddle(stack, n, curr=0):\n",
    "    if not stack or curr == n:\n",
    "        return\n",
    "    x = stack.pop()\n",
    "    deleteMiddle(stack, n, curr+1)\n",
    "    if curr != n//2:\n",
    "        stack.push(x)\n",
    "\n",
    "s = List()\n",
    "s.push(1)\n",
    "s.push(2)\n",
    "s.push(3)\n",
    "s.push(4)\n",
    "s.push(5)\n",
    "s.push(6)\n",
    "n = len(stack)\n",
    "deleteMiddle(stack, n)\n",
    "print(\"Stack after deleting middle element:\", stack)\n"
   ]
  },
  {
   "cell_type": "markdown",
   "id": "b4ffd151",
   "metadata": {},
   "source": [
    "**Question 4**\n",
    "\n",
    "Given a Queue consisting of first **n** natural numbers (in random order). The task is to check whether the given Queue elements can be arranged in increasing order in another Queue using a stack. The operation allowed are:\n",
    "\n",
    "1. Push and pop elements from the stack\n",
    "2. Pop (Or Dequeue) from the given Queue.\n",
    "3. Push (Or Enqueue) in the another Queue.\n"
   ]
  },
  {
   "cell_type": "code",
   "execution_count": 24,
   "id": "0aa34d9f",
   "metadata": {},
   "outputs": [
    {
     "name": "stdout",
     "output_type": "stream",
     "text": [
      "Original Queue:\n",
      "5 1 2 4 3 \n",
      "The given Queue elements cannot be arranged in increasing order in another Queue using a stack.\n"
     ]
    }
   ],
   "source": [
    "def checkQueue(queue):\n",
    "    stack = []\n",
    "    targetQueue = []\n",
    "    while not queue.isEmpty() or stack:\n",
    "        if targetQueue and targetQueue[0] == len(targetQueue) + 1:\n",
    "            targetQueue.pop(0)\n",
    "        elif stack and stack[-1] == len(targetQueue) + 1:\n",
    "            stack.pop()\n",
    "        elif not queue.isEmpty() and (not stack or stack[-1] > queue.peek()):\n",
    "            stack.append(queue.dequeue())\n",
    "        elif stack and targetQueue and stack[-1] == targetQueue[0] - 1:\n",
    "            targetQueue.insert(0, stack.pop())\n",
    "        else:\n",
    "            return False\n",
    "    while targetQueue and targetQueue[0] == len(targetQueue) + 1:\n",
    "        targetQueue.pop(0)\n",
    "    return not targetQueue\n",
    "\n",
    "class Node:\n",
    "    def __init__(self, data):\n",
    "        self.data = data\n",
    "        self.next = None\n",
    "\n",
    "class Queue:\n",
    "    def __init__(self):\n",
    "        self.front = None\n",
    "        self.rear = None\n",
    "\n",
    "    def isEmpty(self):\n",
    "        return self.front == None\n",
    "\n",
    "    def enqueue(self, data):\n",
    "        newNode = Node(data)\n",
    "        if self.rear:\n",
    "            self.rear.next = newNode\n",
    "        self.rear = newNode\n",
    "        if not self.front:\n",
    "            self.front = self.rear\n",
    "\n",
    "    def dequeue(self):\n",
    "        if self.front:\n",
    "            temp = self.front\n",
    "            self.front = self.front.next\n",
    "            if not self.front:\n",
    "                self.rear = None\n",
    "            return temp.data\n",
    "\n",
    "    def peek(self):\n",
    "        if self.front:\n",
    "            return self.front.data\n",
    "\n",
    "    def printQueue(self):\n",
    "        temp = self.front\n",
    "        while temp:\n",
    "            print(temp.data, end=' ')\n",
    "            temp = temp.next\n",
    "        print()\n",
    "\n",
    "queue = Queue()\n",
    "queue.enqueue(5)\n",
    "queue.enqueue(1)\n",
    "queue.enqueue(2)\n",
    "queue.enqueue(4)\n",
    "queue.enqueue(3)\n",
    "print(\"Original Queue:\")\n",
    "queue.printQueue()\n",
    "if checkQueue(queue):\n",
    "    print(\"The given Queue elements can be arranged in increasing order in another Queue using a stack.\")\n",
    "else:\n",
    "    print(\"The given Queue elements cannot be arranged in increasing order in another Queue using a stack.\")"
   ]
  },
  {
   "cell_type": "markdown",
   "id": "d0182462",
   "metadata": {},
   "source": [
    "**Question 5**\n",
    "\n",
    "Given a number , write a program to reverse this number using stack.\n"
   ]
  },
  {
   "cell_type": "code",
   "execution_count": 25,
   "id": "9ec92614",
   "metadata": {},
   "outputs": [
    {
     "name": "stdout",
     "output_type": "stream",
     "text": [
      "Original number: 12345\n",
      "Reversed number: 54321\n"
     ]
    }
   ],
   "source": [
    "def reverseNumber(n):\n",
    "    numStr = str(n)\n",
    "    stack = []\n",
    "    for i in range(len(numStr)):\n",
    "        stack.append(numStr[i])\n",
    "    reversedStr = ''\n",
    "    while stack:\n",
    "        reversedStr += stack.pop()\n",
    "    return int(reversedStr)\n",
    "\n",
    "n = 12345\n",
    "print(\"Original number:\", n)\n",
    "reversedNum = reverseNumber(n)\n",
    "print(\"Reversed number:\", reversedNum)"
   ]
  },
  {
   "cell_type": "markdown",
   "id": "f5ede1aa",
   "metadata": {},
   "source": [
    "**Question 6**\n",
    "\n",
    "Given an integer k and a **[queue](https://www.geeksforgeeks.org/queue-data-structure/)** of integers, The task is to reverse the order of the first **k** elements of the queue, leaving the other elements in the same relative order.\n",
    "\n",
    "Only following standard operations are allowed on queue.\n",
    "\n",
    "- **enqueue(x) :** Add an item x to rear of queue\n",
    "- **dequeue() :** Remove an item from front of queue\n",
    "- **size() :** Returns number of elements in queue.\n",
    "- **front() :** Finds front item.\n"
   ]
  },
  {
   "cell_type": "code",
   "execution_count": 26,
   "id": "1bf9a931",
   "metadata": {},
   "outputs": [
    {
     "name": "stdout",
     "output_type": "stream",
     "text": [
      "Original Queue:\n",
      "10 20 30 40 50 60 70 80 90 100 \n",
      "Queue after reversing first 5 elements:\n",
      "50 40 30 20 10 60 70 80 90 100 \n"
     ]
    }
   ],
   "source": [
    "def reverseQueue(queue, k):\n",
    "    stack = []\n",
    "    for i in range(k):\n",
    "        stack.append(queue.dequeue())\n",
    "    while stack:\n",
    "        queue.enqueue(stack.pop())\n",
    "    for i in range(queue.size() - k):\n",
    "        queue.enqueue(queue.dequeue())\n",
    "\n",
    "class Node:\n",
    "    def __init__(self, data):\n",
    "        self.data = data\n",
    "        self.next = None\n",
    "\n",
    "class Queue:\n",
    "    def __init__(self):\n",
    "        self.front = None\n",
    "        self.rear = None\n",
    "        self.count = 0\n",
    "\n",
    "    def isEmpty(self):\n",
    "        return self.front == None\n",
    "\n",
    "    def size(self):\n",
    "        return self.count\n",
    "\n",
    "    def enqueue(self, data):\n",
    "        newNode = Node(data)\n",
    "        if self.rear:\n",
    "            self.rear.next = newNode\n",
    "        self.rear = newNode\n",
    "        if not self.front:\n",
    "            self.front = self.rear\n",
    "        self.count += 1\n",
    "\n",
    "    def dequeue(self):\n",
    "        if self.front:\n",
    "            temp = self.front\n",
    "            self.front = self.front.next\n",
    "            if not self.front:\n",
    "                self.rear = None\n",
    "            self.count -= 1\n",
    "            return temp.data\n",
    "\n",
    "    def front(self):\n",
    "        if self.front:\n",
    "            return self.front.data\n",
    "\n",
    "    def printQueue(self):\n",
    "        temp = self.front\n",
    "        while temp:\n",
    "            print(temp.data, end=' ')\n",
    "            temp = temp.next\n",
    "        print()\n",
    "\n",
    "queue = Queue()\n",
    "queue.enqueue(10)\n",
    "queue.enqueue(20)\n",
    "queue.enqueue(30)\n",
    "queue.enqueue(40)\n",
    "queue.enqueue(50)\n",
    "queue.enqueue(60)\n",
    "queue.enqueue(70)\n",
    "queue.enqueue(80)\n",
    "queue.enqueue(90)\n",
    "queue.enqueue(100)\n",
    "print(\"Original Queue:\")\n",
    "queue.printQueue()\n",
    "k = 5\n",
    "reverseQueue(queue, k)\n",
    "print(\"Queue after reversing first\", k, \"elements:\")\n",
    "queue.printQueue()"
   ]
  },
  {
   "cell_type": "markdown",
   "id": "772567a7",
   "metadata": {},
   "source": [
    "**Question 7**\n",
    "\n",
    "Given a sequence of n strings, the task is to check if any two similar words come together and then destroy each other then print the number of words left in the sequence after this pairwise destruction.\n"
   ]
  },
  {
   "cell_type": "code",
   "execution_count": 27,
   "id": "8031528b",
   "metadata": {},
   "outputs": [
    {
     "name": "stdout",
     "output_type": "stream",
     "text": [
      "Number of words left after pairwise destruction: 4\n"
     ]
    }
   ],
   "source": [
    "def pairwiseDestruction(words):\n",
    "    stack = []\n",
    "    for word in words:\n",
    "        if stack and word == stack[-1]:\n",
    "            stack.pop()\n",
    "        else:\n",
    "            stack.append(word)\n",
    "    return len(stack)\n",
    "\n",
    "words = [\"apple\", \"banana\", \"mango\", \"banana\", \"cherry\", \"cherry\"]\n",
    "remainingWords = pairwiseDestruction(words)\n",
    "print(\"Number of words left after pairwise destruction:\", remainingWords)"
   ]
  },
  {
   "cell_type": "markdown",
   "id": "4ad7bb55",
   "metadata": {},
   "source": [
    "**Question 8**\n",
    "\n",
    "Given an array of integers, the task is to find the maximum absolute difference between the nearest left and the right smaller element of every element in the array.\n",
    "\n",
    "**Note:** If there is no smaller element on right side or left side of any element then we take zero as the smaller element. For example for the leftmost element, the nearest smaller element on the left side is considered as 0. Similarly, for rightmost elements, the smaller element on the right side is considered as 0.\n"
   ]
  },
  {
   "cell_type": "code",
   "execution_count": 28,
   "id": "176e459e",
   "metadata": {},
   "outputs": [
    {
     "name": "stdout",
     "output_type": "stream",
     "text": [
      "Maximum absolute difference between the nearest left and right smaller element: 6\n"
     ]
    }
   ],
   "source": [
    "def maxAbsoluteDifference(arr):\n",
    "    n = len(arr)\n",
    "    leftSmaller = [-1] * n\n",
    "    rightSmaller = [-1] * n\n",
    "\n",
    "    stack = []\n",
    "    for i in range(n):\n",
    "        while stack and arr[stack[-1]] > arr[i]:\n",
    "            stack.pop()\n",
    "        if stack:\n",
    "            leftSmaller[i] = stack[-1]\n",
    "        stack.append(i)\n",
    "\n",
    "    stack = []\n",
    "    for i in range(n-1, -1, -1):\n",
    "        while stack and arr[stack[-1]] > arr[i]:\n",
    "            stack.pop()\n",
    "        if stack:\n",
    "            rightSmaller[i] = stack[-1]\n",
    "        stack.append(i)\n",
    "\n",
    "    maxDiff = 0\n",
    "    for i in range(n):\n",
    "        diff = abs(arr[leftSmaller[i]] - arr[rightSmaller[i]])\n",
    "        maxDiff = max(maxDiff, diff)\n",
    "\n",
    "    return maxDiff\n",
    "\n",
    "arr = [2, 1, 8, 7, 6, 5]\n",
    "maxDiff = maxAbsoluteDifference(arr)\n",
    "print(\"Maximum absolute difference between the nearest left and right smaller element:\", maxDiff)"
   ]
  },
  {
   "cell_type": "code",
   "execution_count": null,
   "id": "afcee747",
   "metadata": {},
   "outputs": [],
   "source": []
  }
 ],
 "metadata": {
  "kernelspec": {
   "display_name": "Python 3 (ipykernel)",
   "language": "python",
   "name": "python3"
  },
  "language_info": {
   "codemirror_mode": {
    "name": "ipython",
    "version": 3
   },
   "file_extension": ".py",
   "mimetype": "text/x-python",
   "name": "python",
   "nbconvert_exporter": "python",
   "pygments_lexer": "ipython3",
   "version": "3.10.9"
  }
 },
 "nbformat": 4,
 "nbformat_minor": 5
}
