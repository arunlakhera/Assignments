{
 "cells": [
  {
   "cell_type": "markdown",
   "id": "21cfe09a",
   "metadata": {},
   "source": [
    "**1.Merge k Sorted Lists**\n",
    "\n",
    "You are given an array of `k` linked-lists `lists`, each linked-list is sorted in ascending order.\n"
   ]
  },
  {
   "cell_type": "code",
   "execution_count": 10,
   "id": "6e635510",
   "metadata": {},
   "outputs": [
    {
     "name": "stdout",
     "output_type": "stream",
     "text": [
      "1 1 2 3 4 4 5 6 "
     ]
    }
   ],
   "source": [
    "class ListNode:\n",
    "    def __init__(self, val=0, next=None):\n",
    "        self.val = val\n",
    "        self.next = next\n",
    "\n",
    "def mergeKLists(lists):\n",
    "    if not lists:\n",
    "        return None\n",
    "    n = len(lists)\n",
    "    if n == 1:\n",
    "        return lists[0]\n",
    "    mid = n // 2\n",
    "    left = mergeKLists(lists[:mid])\n",
    "    right = mergeKLists(lists[mid:])\n",
    "    return merge(left, right)\n",
    "\n",
    "def merge(l1, l2):\n",
    "    dummy = ListNode()\n",
    "    curr = dummy\n",
    "    while l1 and l2:\n",
    "        if l1.val < l2.val:\n",
    "            curr.next = l1\n",
    "            l1 = l1.next\n",
    "        else:\n",
    "            curr.next = l2\n",
    "            l2 = l2.next\n",
    "        curr = curr.next\n",
    "    if l1:\n",
    "        curr.next = l1\n",
    "    if l2:\n",
    "        curr.next = l2\n",
    "    return dummy.next\n",
    "\n",
    "list1 = ListNode(1, ListNode(4, ListNode(5)))\n",
    "list2 = ListNode(1, ListNode(3, ListNode(4)))\n",
    "list3 = ListNode(2, ListNode(6))\n",
    "lists = [list1, list2, list3]\n",
    "merged_list = mergeKLists(lists)\n",
    "while merged_list:\n",
    "    print(merged_list.val, end=' ')\n",
    "    merged_list = merged_list.next"
   ]
  },
  {
   "cell_type": "markdown",
   "id": "4f1533ca",
   "metadata": {},
   "source": [
    "2.**Count of Smaller Numbers After Self**\n",
    "\n",
    "Given an integer array `nums`, return *an integer array* `counts` *where* `counts[i]` *is the number of smaller elements to the right of* `nums[i]`.\n"
   ]
  },
  {
   "cell_type": "code",
   "execution_count": 2,
   "id": "43d36700",
   "metadata": {},
   "outputs": [
    {
     "name": "stdout",
     "output_type": "stream",
     "text": [
      "[1, 2, 1, 0]\n"
     ]
    }
   ],
   "source": [
    "def countSmaller(nums):\n",
    "    def merge_sort(enum):\n",
    "        mid = len(enum) // 2\n",
    "        if mid:\n",
    "            left, right = merge_sort(enum[:mid]), merge_sort(enum[mid:])\n",
    "            for i, (l, r) in enumerate(zip(left, right)):\n",
    "                if l[1] > r[1]:\n",
    "                    result[l[0]] += len(right) - i\n",
    "            return sorted(left + right, key=lambda x: x[1])\n",
    "        else:\n",
    "            return enum\n",
    "\n",
    "    result = [0] * len(nums)\n",
    "    merge_sort(list(enumerate(nums)))\n",
    "    return result\n",
    "\n",
    "nums = [5,2,6,1]\n",
    "counts = countSmaller(nums)\n",
    "print(counts) # should return [2, 1, 1, 0]"
   ]
  },
  {
   "cell_type": "markdown",
   "id": "0191b6d7",
   "metadata": {},
   "source": [
    "3. **Sort an Array**\n",
    "\n",
    "Given an array of integers `nums`, sort the array in ascending order and return it.\n",
    "\n",
    "You must solve the problem **without using any built-in** functions in `O(nlog(n))` time complexity and with the smallest space complexity possible.\n"
   ]
  },
  {
   "cell_type": "code",
   "execution_count": 3,
   "id": "dc0f3301",
   "metadata": {},
   "outputs": [
    {
     "name": "stdout",
     "output_type": "stream",
     "text": [
      "[1, 2, 3, 5]\n"
     ]
    }
   ],
   "source": [
    "def merge_sort(nums, left, right):\n",
    "    if left < right:\n",
    "        mid = (left + right) // 2\n",
    "        merge_sort(nums, left, mid)\n",
    "        merge_sort(nums, mid + 1, right)\n",
    "        merge(nums, left, mid, right)\n",
    "\n",
    "def merge(nums, left, mid, right):\n",
    "    temp = [0] * (right - left + 1)\n",
    "    i, j, k = left, mid + 1, 0\n",
    "    while i <= mid and j <= right:\n",
    "        if nums[i] <= nums[j]:\n",
    "            temp[k] = nums[i]\n",
    "            i += 1\n",
    "        else:\n",
    "            temp[k] = nums[j]\n",
    "            j += 1\n",
    "            # count the number of inversions\n",
    "            inversions[0] += mid - i + 1\n",
    "        k += 1\n",
    "\n",
    "    while i <= mid:\n",
    "        temp[k] = nums[i]\n",
    "        i += 1\n",
    "        k += 1\n",
    "\n",
    "    while j <= right:\n",
    "        temp[k] = nums[j]\n",
    "        j += 1\n",
    "        k += 1\n",
    "\n",
    "    for i in range(left, right + 1):\n",
    "        nums[i] = temp[i - left]\n",
    "\n",
    "def sortArray(nums):\n",
    "    global inversions\n",
    "    inversions = [0]\n",
    "    merge_sort(nums, 0, len(nums) - 1)\n",
    "    return nums\n",
    "nums = [5,2,3,1]\n",
    "sorted_nums = sortArray(nums)\n",
    "print(sorted_nums) # should return [1, 2, 3, 5]"
   ]
  },
  {
   "cell_type": "markdown",
   "id": "bc0b7cfd",
   "metadata": {},
   "source": [
    "4. **Move all zeroes to end of array**\n",
    "\n",
    "Given an array of random numbers, Push all the zero’s of a given array to the end of the array. For example, if the given arrays is {1, 9, 8, 4, 0, 0, 2, 7, 0, 6, 0}, it should be changed to {1, 9, 8, 4, 2, 7, 6, 0, 0, 0, 0}. The order of all other elements should be same. Expected time complexity is O(n) and extra space is O(1).\n"
   ]
  },
  {
   "cell_type": "code",
   "execution_count": 4,
   "id": "4d6ed56f",
   "metadata": {},
   "outputs": [
    {
     "name": "stdout",
     "output_type": "stream",
     "text": [
      "[1, 9, 8, 4, 2, 7, 6, 0, 0, 0, 0]\n"
     ]
    }
   ],
   "source": [
    "def moveZeroes(nums):\n",
    "    i, j = 0, 0\n",
    "    while i < len(nums):\n",
    "        if nums[i] != 0:\n",
    "            nums[i], nums[j] = nums[j], nums[i]\n",
    "            j += 1\n",
    "        i += 1\n",
    "    return nums\n",
    "nums = [1, 9, 8, 4, 0, 0, 2, 7, 0, 6, 0]\n",
    "modified_nums = moveZeroes(nums)\n",
    "print(modified_nums) # should return [1, 9, 8, 4, 2, 7, 6, 0, 0, 0, 0]"
   ]
  },
  {
   "cell_type": "markdown",
   "id": "f1f43cc3",
   "metadata": {},
   "source": [
    "5. **Rearrange array in alternating positive & negative items with O(1) extra space**\n",
    "\n",
    "Given an **array of positive** and **negative numbers**, arrange them in an **alternate** fashion such that every positive number is followed by a negative and vice-versa maintaining the **order of appearance**. The number of positive and negative numbers need not be equal. If there are more positive numbers they appear at the end of the array. If there are more negative numbers, they too appear at the end of the array.\n"
   ]
  },
  {
   "cell_type": "code",
   "execution_count": 5,
   "id": "7ba54daa",
   "metadata": {},
   "outputs": [
    {
     "name": "stdout",
     "output_type": "stream",
     "text": [
      "[1, 2, 3, 4, -1, -4]\n"
     ]
    }
   ],
   "source": [
    "def alternateSort(nums):\n",
    "    i, j = 0, 0\n",
    "    while i < len(nums):\n",
    "        if nums[i] > 0:\n",
    "            nums[i], nums[j] = nums[j], nums[i]\n",
    "            j += 1\n",
    "        i += 1\n",
    "\n",
    "    k = 1\n",
    "    while j < len(nums) and k < j and nums[k] < 0:\n",
    "        nums[k], nums[j] = nums[j], nums[k]\n",
    "        j += 1\n",
    "        k += 2\n",
    "\n",
    "    return nums\n",
    "nums = [1, 2, 3, -4, -1, 4]\n",
    "modified_nums = alternateSort(nums)\n",
    "print(modified_nums) # should return [1, -4, 2, -1, 3, 4]"
   ]
  },
  {
   "cell_type": "markdown",
   "id": "b03afa33",
   "metadata": {},
   "source": [
    "**6. Merge two sorted arrays**\n",
    "\n",
    "Given two sorted arrays, the task is to merge them in a sorted manner.\n"
   ]
  },
  {
   "cell_type": "code",
   "execution_count": 7,
   "id": "3130428b",
   "metadata": {},
   "outputs": [
    {
     "name": "stdout",
     "output_type": "stream",
     "text": [
      "[1, 2, 3, 4, 5, 6, 7, 8, 9, 10]\n"
     ]
    }
   ],
   "source": [
    "def mergeSortedArrays(arr1, arr2):\n",
    "    merged_arr = []\n",
    "    i, j = 0, 0\n",
    "    while i < len(arr1) and j < len(arr2):\n",
    "        if arr1[i] < arr2[j]:\n",
    "            merged_arr.append(arr1[i])\n",
    "            i += 1\n",
    "        else:\n",
    "            merged_arr.append(arr2[j])\n",
    "            j += 1\n",
    "\n",
    "    while i < len(arr1):\n",
    "        merged_arr.append(arr1[i])\n",
    "        i += 1\n",
    "\n",
    "    while j < len(arr2):\n",
    "        merged_arr.append(arr2[j])\n",
    "        j += 1\n",
    "\n",
    "    return merged_arr\n",
    "\n",
    "arr1 = [1, 3, 5, 7, 9]\n",
    "arr2 = [2, 4, 6, 8, 10]\n",
    "merged_arr = mergeSortedArrays(arr1, arr2)\n",
    "print(merged_arr) # should return [1, 2, 3, 4, 5, 6, 7, 8, 9, 10]"
   ]
  },
  {
   "cell_type": "markdown",
   "id": "2478016d",
   "metadata": {},
   "source": [
    "7. **Intersection of Two Arrays**\n",
    "\n",
    "Given two integer arrays `nums1` and `nums2`, return *an array of their intersection*. Each element in the result must be **unique** and you may return the result in **any order**.\n"
   ]
  },
  {
   "cell_type": "code",
   "execution_count": 8,
   "id": "33c8136a",
   "metadata": {},
   "outputs": [
    {
     "name": "stdout",
     "output_type": "stream",
     "text": [
      "[2]\n"
     ]
    }
   ],
   "source": [
    "def intersection(nums1, nums2):\n",
    "    set1 = set(nums1)\n",
    "    result = []\n",
    "    for num in nums2:\n",
    "        if num in set1:\n",
    "            result.append(num)\n",
    "            set1.remove(num)\n",
    "    return result\n",
    "\n",
    "nums1 = [1, 2, 2, 1]\n",
    "nums2 = [2, 2]\n",
    "result = intersection(nums1, nums2)\n",
    "print(result) # should return [2]"
   ]
  },
  {
   "cell_type": "markdown",
   "id": "d5997710",
   "metadata": {},
   "source": [
    "8. **Intersection of Two Arrays II**\n",
    "\n",
    "Given two integer arrays `nums1` and `nums2`, return *an array of their intersection*. Each element in the result must appear as many times as it shows in both arrays and you may return the result in **any order**.\n"
   ]
  },
  {
   "cell_type": "code",
   "execution_count": 9,
   "id": "128b065e",
   "metadata": {},
   "outputs": [
    {
     "name": "stdout",
     "output_type": "stream",
     "text": [
      "[2, 2]\n"
     ]
    }
   ],
   "source": [
    "def intersection(nums1, nums2):\n",
    "    freq = {}\n",
    "    for num in nums1:\n",
    "        freq[num] = freq.get(num, 0) + 1\n",
    "    result = []\n",
    "    for num in nums2:\n",
    "        if num in freq and freq[num] > 0:\n",
    "            result.append(num)\n",
    "            freq[num] -= 1\n",
    "    return result\n",
    "\n",
    "nums1 = [1, 2, 2, 1]\n",
    "nums2 = [2, 2]\n",
    "result = intersection(nums1, nums2)\n",
    "print(result) # should return [2, 2]"
   ]
  },
  {
   "cell_type": "markdown",
   "id": "50088af8",
   "metadata": {},
   "source": []
  },
  {
   "cell_type": "markdown",
   "id": "dafac1ea",
   "metadata": {},
   "source": []
  },
  {
   "cell_type": "markdown",
   "id": "ee051c92",
   "metadata": {},
   "source": []
  },
  {
   "cell_type": "markdown",
   "id": "7394b7f9",
   "metadata": {},
   "source": []
  }
 ],
 "metadata": {
  "kernelspec": {
   "display_name": "Python 3 (ipykernel)",
   "language": "python",
   "name": "python3"
  },
  "language_info": {
   "codemirror_mode": {
    "name": "ipython",
    "version": 3
   },
   "file_extension": ".py",
   "mimetype": "text/x-python",
   "name": "python",
   "nbconvert_exporter": "python",
   "pygments_lexer": "ipython3",
   "version": "3.10.9"
  }
 },
 "nbformat": 4,
 "nbformat_minor": 5
}
