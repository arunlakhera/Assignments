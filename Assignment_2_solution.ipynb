{
  "nbformat": 4,
  "nbformat_minor": 0,
  "metadata": {
    "colab": {
      "provenance": []
    },
    "kernelspec": {
      "name": "python3",
      "display_name": "Python 3"
    },
    "language_info": {
      "name": "python"
    }
  },
  "cells": [
    {
      "cell_type": "markdown",
      "source": [
        "1. What are the two values of the Boolean data type? How do you write them?\n",
        "\n",
        "\n",
        "> **Solution:** Boolean data types are either True or False. It is used to represent the truth values of expression example 10 > 9 would give True and 3 > 5 would give False.    \n",
        "\n"
      ],
      "metadata": {
        "id": "uu0vfc0OvcnU"
      }
    },
    {
      "cell_type": "code",
      "source": [
        "# Example\n",
        "print(10 > 9)\n",
        "print(3 > 5)"
      ],
      "metadata": {
        "colab": {
          "base_uri": "https://localhost:8080/"
        },
        "id": "ATNOmymdx3oz",
        "outputId": "afaef31b-5861-4a97-f5c0-497690f95825"
      },
      "execution_count": 3,
      "outputs": [
        {
          "output_type": "stream",
          "name": "stdout",
          "text": [
            "True\n",
            "False\n"
          ]
        }
      ]
    },
    {
      "cell_type": "markdown",
      "source": [
        "2. What are the three different types of Boolean operators?\n",
        "\n",
        "\n",
        "\n",
        "> **Solution:** The three commonly used boolean operators are:\n",
        "* and\n",
        "* or\n",
        "* not \n"
      ],
      "metadata": {
        "id": "wXxYp90Evemq"
      }
    },
    {
      "cell_type": "markdown",
      "source": [
        "3. Make a list of each Boolean operator&#39;s truth tables (i.e. every possible combination of Boolean values for the operator and what it evaluate).\n",
        "\n",
        "\n",
        "\n",
        "> **Solution:** Boolean AND operator\n",
        "\n",
        "A | B | A AND B\n",
        "- | - | -\n",
        "TRUE | TRUE | TRUE\n",
        "TRUE | FALSE | FALSE\n",
        "FALSE | TRUE | FALSE\n",
        "FALSE | FALSE | FALSE\n",
        "\n",
        "Boolean OR operator\n",
        "\n",
        "A | B | A OR B\n",
        "- | - | -\n",
        "TRUE | TRUE | TRUE\n",
        "TRUE | FALSE | TRUE\n",
        "FALSE | TRUE | TRUE\n",
        "FALSE | FALSE | FALSE\n",
        "\n",
        "Boolean NOT operator\n",
        "\n",
        "A | NOT A  \n",
        "- | - \n",
        "TRUE | FALSE \n",
        "FALSE | TRUE \n",
        "\n"
      ],
      "metadata": {
        "id": "UkjSkmvrvept"
      }
    },
    {
      "cell_type": "markdown",
      "source": [
        "4. What are the values of the following expressions?\n",
        "(5 &gt; 4) and (3 == 5)\n",
        "not (5 &gt; 4)\n",
        "(5 &gt; 4) or (3 == 5)\n",
        "not ((5 &gt; 4) or (3 == 5))\n",
        "(True and True) and (True == False)\n",
        "(not False) or (not True)\n",
        "\n",
        "\n",
        "\n",
        "> **Solution** The values of the expression are as follows:\n",
        "\n",
        "\n",
        "> (5 > 4) and (3 == 5) : False\n",
        "\n",
        "> not(5 > 4)           : False\n",
        "\n",
        "> (5 > 4) or (3 == 5). : True\n",
        "\n",
        "> not ((5 > 4) or (3 == 5)) : False\n",
        "\n",
        "> (True and True) and (True == False) : False\n",
        "\n",
        "> (not False) or (not True) : True\n",
        "\n"
      ],
      "metadata": {
        "id": "KyGGWGpwvesl"
      }
    },
    {
      "cell_type": "markdown",
      "source": [
        "5. What are the six comparison operators?\n",
        "\n",
        "> **Solution** The six comparision operators are : \n",
        "\n",
        "* &gt;   (greater than)\n",
        "* &lt;   (less than)\n",
        "* ==.    (equal to)\n",
        "* &gt;=. (greater than equal to)\n",
        "* &lt;=. (less than equal to)\n",
        "* !=.    (not equal to)\n",
        "\n",
        "\n"
      ],
      "metadata": {
        "id": "FLCzzOBtvevw"
      }
    },
    {
      "cell_type": "markdown",
      "source": [
        "6. How do you tell the difference between the equal to and assignment operators?Describe a condition and when you would use one.\n",
        "\n",
        "> **Solution**  The equal to operator is represented as \"==\" while assignment operator is represented as \"==\". The equal to (==) operator is used to compare the operand values whereas assignment (=) operator is used to give or assign a value on right to the variable on the left.\n",
        "\n"
      ],
      "metadata": {
        "id": "vlatClUNwATL"
      }
    },
    {
      "cell_type": "markdown",
      "source": [
        "7. Identify the three blocks in this code:\n",
        "spam = 0\n",
        "if spam == 10:\n",
        "print(&#39;eggs&#39;)\n",
        "if spam &gt; 5:\n",
        "print(&#39;bacon&#39;)\n",
        "else:\n",
        "print(&#39;ham&#39;)\n",
        "print(&#39;spam&#39;)\n",
        "print(&#39;spam&#39;)\n",
        "\n",
        "> **Solution** \n",
        "\n",
        "**The below block is Assignment operator**\n",
        "\n",
        "spam = 0 \n",
        "\n",
        "**The below block is Equal to operator**\n",
        "\n",
        "if spam == 10:\n",
        "print(&#39;eggs&#39;)\n",
        "\n",
        "**The below block is Greater than operator**\n",
        "\n",
        "if spam &gt; 5:\n",
        "print(&#39;bacon&#39;)\n",
        "else:\n",
        "print(&#39;ham&#39;)\n",
        "print(&#39;spam&#39;)\n",
        "print(&#39;spam&#39;)\n"
      ],
      "metadata": {
        "id": "O7OsuOBswAWI"
      }
    },
    {
      "cell_type": "markdown",
      "source": [
        "8. Write code that prints Hello if 1 is stored in spam, prints Howdy if 2 is stored in spam, and prints\n",
        "Greetings! if anything else is stored in spam.\n",
        "\n",
        "\n",
        "> **Solution**\n",
        "\n",
        "\n",
        "\n",
        "```\n",
        "# This is formatted as code\n",
        "spam = 2\n",
        "\n",
        "if spam == 1:\n",
        "  print(\"Hello\")\n",
        "elif spam == 2:\n",
        "  print(\"Howdy\")\n",
        "else:\n",
        "  print(\"Greetings!\")\n",
        "```\n",
        "\n",
        "\n",
        "\n"
      ],
      "metadata": {
        "id": "bE6XW--CwAZf"
      }
    },
    {
      "cell_type": "code",
      "source": [
        "# Solution \n",
        "spam = 2\n",
        "\n",
        "if spam == 1:\n",
        "  print(\"Hello\")\n",
        "elif spam == 2:\n",
        "  print(\"Howdy\")\n",
        "else:\n",
        "  print(\"Greetings!\")"
      ],
      "metadata": {
        "colab": {
          "base_uri": "https://localhost:8080/"
        },
        "id": "NjNCl6Lq_DHv",
        "outputId": "122295a6-55e7-4dc1-8003-bb743bbc7f30"
      },
      "execution_count": 13,
      "outputs": [
        {
          "output_type": "stream",
          "name": "stdout",
          "text": [
            "Howdy\n"
          ]
        }
      ]
    },
    {
      "cell_type": "markdown",
      "source": [
        "9. If your programme is stuck in an endless loop, what keys you’ll press?\n",
        "\n",
        "> **Solution** We need to press ctrl + C to break the infinite loop\n",
        "\n"
      ],
      "metadata": {
        "id": "qZDUJqM5wAcj"
      }
    },
    {
      "cell_type": "markdown",
      "source": [
        "10. How can you tell the difference between break and continue?\n",
        "\n",
        "\n",
        "> **Solution** The break statement is used to exit and end the iteration of the loop  whereas continue is used to skip the current iteration of the loop.\n",
        "\n"
      ],
      "metadata": {
        "id": "R7QpnCSSwKzY"
      }
    },
    {
      "cell_type": "markdown",
      "source": [
        "11. In a for loop, what is the difference between range(10), range(0, 10), and range(0, 10, 1)?\n",
        "\n",
        "> **Solution** \n",
        "\n",
        "When we use only one argument in range function i.e. range(10) then it is considered as value for stop srgument, in this case default values are used for start and step arguments i.e. start = 0 and step = 1. The loop starts from 0 executes till stop - 1 and values are incremented by 1.\n",
        "\n",
        "When we use two arguments in range function i.e. range(0,10) then they are considered as values for arguments start and stop, in this case default values is used for step argument which is 1. The loop starts from 0 and executes till stop - 1 ( i.e. 10 - 1 = 9).\n",
        "\n",
        "For range(0, 10, 1) we are using 3 arguments which are values for arguments start , stop and step. The loop starts from 0 executes till stop - 1 (i.e. 10 - 1 = 9) and steps by 1.\n",
        "\n",
        "\n"
      ],
      "metadata": {
        "id": "ezBurwu9wNtC"
      }
    },
    {
      "cell_type": "markdown",
      "source": [
        "12. Write a short program that prints the numbers 1 to 10 using a for loop. Then write an equivalent\n",
        "program that prints the numbers 1 to 10 using a while loop.\n",
        "\n",
        "> **Solution**\n",
        "\n",
        "\n",
        "```\n",
        "# Program to print numbers from 1 to 10 using for loop and while loop\n",
        "\n",
        "print(\"Using For Loop:\")\n",
        "for i in range(1,11,1):\n",
        "  print(i)\n",
        "\n",
        "print(\"Using While Loop:\")\n",
        "i = 1\n",
        "while(i < 11):\n",
        "  print(i)\n",
        "  i = i + 1\n",
        "```\n",
        "\n"
      ],
      "metadata": {
        "id": "kj5HiePtwNvf"
      }
    },
    {
      "cell_type": "code",
      "source": [
        "# Program to print numbers from 1 to 10 using for loop and while loop\n",
        "\n",
        "print(\"Using For Loop:\")\n",
        "for i in range(1,11,1):\n",
        "  print(i)\n",
        "\n",
        "print(\"Using While Loop:\")\n",
        "i = 1\n",
        "while(i < 11):\n",
        "  print(i)\n",
        "  i = i + 1"
      ],
      "metadata": {
        "colab": {
          "base_uri": "https://localhost:8080/"
        },
        "id": "Ilq-QzZFEGyG",
        "outputId": "be540e42-f357-4216-9834-c29b66646790"
      },
      "execution_count": 19,
      "outputs": [
        {
          "output_type": "stream",
          "name": "stdout",
          "text": [
            "Using For Loop:\n",
            "1\n",
            "2\n",
            "3\n",
            "4\n",
            "5\n",
            "6\n",
            "7\n",
            "8\n",
            "9\n",
            "10\n",
            "Using While Loop:\n",
            "1\n",
            "2\n",
            "3\n",
            "4\n",
            "5\n",
            "6\n",
            "7\n",
            "8\n",
            "9\n",
            "10\n"
          ]
        }
      ]
    },
    {
      "cell_type": "markdown",
      "source": [
        "13. If you had a function named bacon() inside a module named spam, how would you call it after\n",
        "importing spam?\n",
        "\n",
        "> **Solution**\n",
        "\n",
        "\n",
        "```\n",
        "import spam\n",
        "spam.bacon()\n",
        "```\n",
        "\n"
      ],
      "metadata": {
        "id": "36AHhi6XwNxk"
      }
    },
    {
      "cell_type": "code",
      "source": [],
      "metadata": {
        "id": "G3-UyUq4E7nR"
      },
      "execution_count": null,
      "outputs": []
    }
  ]
}