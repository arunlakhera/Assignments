{
  "nbformat": 4,
  "nbformat_minor": 0,
  "metadata": {
    "colab": {
      "provenance": [],
      "collapsed_sections": []
    },
    "kernelspec": {
      "name": "python3",
      "display_name": "Python 3"
    },
    "language_info": {
      "name": "python"
    }
  },
  "cells": [
    {
      "cell_type": "markdown",
      "source": [
        "### 1. Write a function which will try to find out length of a string without using an inbuilt length function\n"
      ],
      "metadata": {
        "id": "MijhO3LhMc09"
      }
    },
    {
      "cell_type": "code",
      "execution_count": 2,
      "metadata": {
        "colab": {
          "base_uri": "https://localhost:8080/"
        },
        "id": "iAlP53kUMaNX",
        "outputId": "100a1874-7f19-458f-fd19-122cc90fb7b0"
      },
      "outputs": [
        {
          "output_type": "stream",
          "name": "stdout",
          "text": [
            "Program to find length of string without using inbuilt function\n",
            "---------------------------------------------------------------\n",
            "Length of a: this is good is 12\n",
            "Length of b: ['a', 2, 3, 4, 12, 'g'] is 6\n"
          ]
        }
      ],
      "source": [
        "def find_len(x):\n",
        "  '''\n",
        "  Function to find the length of string without using inbuilt len() function\n",
        "  '''\n",
        "  cnt = 0\n",
        "  for i in x:\n",
        "    cnt += 1\n",
        "  return cnt\n",
        "\n",
        "print(\"Program to find length of string without using inbuilt function\")\n",
        "print(\"---------------------------------------------------------------\")\n",
        "\n",
        "a = \"this is good\"\n",
        "b = [\"a\",2,3,4,12,\"g\"]\n",
        "len_a = find_len(a)\n",
        "len_b = find_len(b)\n",
        "print(f\"Length of a: {a} is {len_a}\")\n",
        "print(f\"Length of b: {b} is {len_b}\")"
      ]
    },
    {
      "cell_type": "markdown",
      "source": [
        "### 2. Write a function which will be able to print and index of list element without using index function\n"
      ],
      "metadata": {
        "id": "sNJzxnT2MbKZ"
      }
    },
    {
      "cell_type": "code",
      "source": [
        "def print_index(user_list):\n",
        "  '''\n",
        "  Function to pring index of elements in a list without using index function\n",
        "  '''\n",
        "  print(f\"List is {user_list}\")\n",
        "  for i in range(len(user_list)):\n",
        "    print(f\"For element {user_list[i]} index is {i} \")\n",
        "\n",
        "print(\"Program to print index of list elements without using index function\")\n",
        "print(\"--------------------------------------------------------------------\")\n",
        "\n",
        "l = [1,2,4,\"hello\",4.5,67]\n",
        "print_index(l)"
      ],
      "metadata": {
        "colab": {
          "base_uri": "https://localhost:8080/"
        },
        "id": "quT4rv8wMrWr",
        "outputId": "d81a55a1-2545-495a-c1a4-139550c3a5cf"
      },
      "execution_count": 3,
      "outputs": [
        {
          "output_type": "stream",
          "name": "stdout",
          "text": [
            "Program to print index of list elements without using index function\n",
            "--------------------------------------------------------------------\n",
            "List is [1, 2, 4, 'hello', 4.5, 67]\n",
            "For element 1 index is 0 \n",
            "For element 2 index is 1 \n",
            "For element 4 index is 2 \n",
            "For element hello index is 3 \n",
            "For element 4.5 index is 4 \n",
            "For element 67 index is 5 \n"
          ]
        }
      ]
    },
    {
      "cell_type": "markdown",
      "source": [
        "### 3. Write a function which will be able to print an ip address of your system"
      ],
      "metadata": {
        "id": "Fb7PV7t8Mbor"
      }
    },
    {
      "cell_type": "code",
      "source": [
        "\n",
        "import socket\n",
        "def print_ip():\n",
        "  '''\n",
        "  Function to print ip address of the system\n",
        "  '''\n",
        "  user_hostname = socket.gethostname()\n",
        "  ip_address = socket.gethostbyname(user_hostname)\n",
        "  print(f\"Your IP Address is : {ip_address}\")\n",
        "\n",
        "print(\"Program to print an ip address of your system\")\n",
        "print(\"---------------------------------------------\")\n",
        "\n",
        "print_ip()"
      ],
      "metadata": {
        "colab": {
          "base_uri": "https://localhost:8080/"
        },
        "id": "QBMStS3RMudm",
        "outputId": "740bdfc8-3d3e-4ec0-b3cb-fccc70f6fb5a"
      },
      "execution_count": 4,
      "outputs": [
        {
          "output_type": "stream",
          "name": "stdout",
          "text": [
            "Program to print an ip address of your system\n",
            "---------------------------------------------\n",
            "Your IP Address is : 172.28.0.2\n"
          ]
        }
      ]
    },
    {
      "cell_type": "markdown",
      "source": [
        "### 4. Write a function which will shutdown the system"
      ],
      "metadata": {
        "id": "dSXhFMSXMbtp"
      }
    },
    {
      "cell_type": "code",
      "source": [
        "\n",
        "import os\n",
        "\n",
        "def shutdown_system(user_input):\n",
        "  '''\n",
        "  Function to shutdown the system\n",
        "  '''\n",
        "  if user_input == 1:\n",
        "    os.system(\"shutdown /s /t 0\")\n",
        "    \n",
        "print(\"Program to Shutdown your system\")\n",
        "print(\"-------------------------------\")\n",
        "\n",
        "print(\"Kindly save your work before writing 1...\")\n",
        "user_choice = int(input(\"To Shutdown your system write 1 else write 0: \"))\n",
        "\n",
        "shutdown_system(user_choice)\n"
      ],
      "metadata": {
        "colab": {
          "base_uri": "https://localhost:8080/"
        },
        "id": "VQgCZyJLMzz7",
        "outputId": "b5d005bf-810b-4a70-d4ec-573b186779c7"
      },
      "execution_count": 9,
      "outputs": [
        {
          "name": "stdout",
          "output_type": "stream",
          "text": [
            "Program to Shutdown your system\n",
            "-------------------------------\n",
            "Kindly save your work before writing 1...\n",
            "To Shutdown your system write 1 else write 0: 1\n"
          ]
        }
      ]
    },
    {
      "cell_type": "markdown",
      "source": [
        "### 5. Write a function which will take input as a list with any kind of numeric value and give an output as a multiplication of all the numeric data l = [3.5,6.56, \"sudh\", \"ineuron\", \"fsda bootcamp 2.0\"]"
      ],
      "metadata": {
        "id": "sBpxXl53MbxV"
      }
    },
    {
      "cell_type": "code",
      "source": [
        "\n",
        "def prod_list(user_list):\n",
        "  '''\n",
        "  Function to print product of numeric values in the list\n",
        "  '''\n",
        "  prod = 1\n",
        "  for item in user_list:\n",
        "    if type(item) in (int, float):\n",
        "      prod = prod * item\n",
        "  return prod\n",
        "\n",
        "print(\"Program to print multiplication of numeric list items \")\n",
        "print(\"------------------------------------------------------\")\n",
        "\n",
        "l = [3.5,6.56, \"sudh\", \"ineuron\", \"fsda bootcamp 2.0\"]\n",
        "item_products = prod_list(l)\n",
        "\n",
        "print(f\"List : {l}\")\n",
        "print(f\"Product of all elments of list is {item_products}\")"
      ],
      "metadata": {
        "colab": {
          "base_uri": "https://localhost:8080/"
        },
        "id": "cVqGGIENM0UB",
        "outputId": "4dc27d0d-ab77-4dae-bb30-0f58153feb91"
      },
      "execution_count": null,
      "outputs": [
        {
          "output_type": "stream",
          "name": "stdout",
          "text": [
            "Program to print multiplication of numeric list items \n",
            "------------------------------------------------------\n",
            "List : [3.5, 6.56, 'sudh', 'ineuron', 'fsda bootcamp 2.0']\n",
            "Product of all elments of list is 22.959999999999997\n"
          ]
        }
      ]
    },
    {
      "cell_type": "markdown",
      "source": [
        "### 6. Write a function which will be able to read all the mails\n"
      ],
      "metadata": {
        "id": "Lq3cRJt6Mb1A"
      }
    },
    {
      "cell_type": "code",
      "source": [],
      "metadata": {
        "id": "guCIRP5BM1Dl"
      },
      "execution_count": null,
      "outputs": []
    },
    {
      "cell_type": "markdown",
      "source": [
        "### 7. Write a function will be able to send a mail to anyone"
      ],
      "metadata": {
        "id": "HqyQF4ulM1QY"
      }
    },
    {
      "cell_type": "markdown",
      "source": [
        "### 8. Write a function which will be able to read a doc / word file from your system\n"
      ],
      "metadata": {
        "id": "4u7tIa_kNGHU"
      }
    },
    {
      "cell_type": "code",
      "source": [
        "\n",
        "## Install the python-docx package required to read the file\n",
        "!pip install python-docx\n",
        "\n",
        "import docx\n",
        "from docx import Document\n",
        "\n",
        "def create_doc_file(filename):\n",
        "  doc = docx.Document()\n",
        "  doc.add_heading('This is Test File Header', 0)\n",
        "  doc_para = doc.add_paragraph('You will see this text in the body of the Test Doc/Word File.')\n",
        "  doc.save('my_test_file.docx')\n",
        "  print(f\"Doc File Created Successfully..[{filename}]\")\n",
        "\n",
        "\n",
        "def read_doc_file(filename):\n",
        "  print(f\"FileName: {filename}\")\n",
        "  doc_file_to_read = Document(filename)\n",
        "  for para in doc_file_to_read.paragraphs:\n",
        "    print(para.text)\n",
        "\n",
        "doc_filename = \"my_test_file.docx\"\n",
        "\n",
        "print(\"Creating doc/word file...\")\n",
        "create_doc_file(doc_filename)\n",
        "\n",
        "print(\"Reading Doc File...\")\n",
        "print(\"*******************\")\n",
        "read_doc_file(doc_filename)\n",
        "print(\"*******************\")"
      ],
      "metadata": {
        "colab": {
          "base_uri": "https://localhost:8080/"
        },
        "id": "wV4mjj95NGQn",
        "outputId": "ded20fa0-0ca2-42a3-9016-a297bccfc946"
      },
      "execution_count": null,
      "outputs": [
        {
          "output_type": "stream",
          "name": "stdout",
          "text": [
            "Looking in indexes: https://pypi.org/simple, https://us-python.pkg.dev/colab-wheels/public/simple/\n",
            "Collecting python-docx\n",
            "  Downloading python-docx-0.8.11.tar.gz (5.6 MB)\n",
            "\u001b[K     |████████████████████████████████| 5.6 MB 5.7 MB/s \n",
            "\u001b[?25hRequirement already satisfied: lxml>=2.3.2 in /usr/local/lib/python3.7/dist-packages (from python-docx) (4.9.1)\n",
            "Building wheels for collected packages: python-docx\n",
            "  Building wheel for python-docx (setup.py) ... \u001b[?25l\u001b[?25hdone\n",
            "  Created wheel for python-docx: filename=python_docx-0.8.11-py3-none-any.whl size=184507 sha256=e51420e7cd9b29062e8c9544eb1d29fb179720d9b1c33fb2095cb2735c7b0549\n",
            "  Stored in directory: /root/.cache/pip/wheels/f6/6f/b9/d798122a8b55b74ad30b5f52b01482169b445fbb84a11797a6\n",
            "Successfully built python-docx\n",
            "Installing collected packages: python-docx\n",
            "Successfully installed python-docx-0.8.11\n",
            "Creating doc/word file...\n",
            "Doc File Created Successfully..[my_test_file.docx]\n",
            "Reading Doc File...\n",
            "*******************\n",
            "FileName: my_test_file.docx\n",
            "This is Test File Header\n",
            "You will see this text in the body of the Test Doc/Word File.\n",
            "*******************\n"
          ]
        }
      ]
    },
    {
      "cell_type": "code",
      "source": [],
      "metadata": {
        "id": "Y99mtA-xmBbw"
      },
      "execution_count": null,
      "outputs": []
    },
    {
      "cell_type": "code",
      "source": [
        "!pip install beautifulsoup4"
      ],
      "metadata": {
        "id": "RsiBJ7tZnqzE",
        "outputId": "6e51ab60-4e3c-4d28-bf8b-67f81c839936",
        "colab": {
          "base_uri": "https://localhost:8080/"
        }
      },
      "execution_count": null,
      "outputs": [
        {
          "output_type": "stream",
          "name": "stdout",
          "text": [
            "Looking in indexes: https://pypi.org/simple, https://us-python.pkg.dev/colab-wheels/public/simple/\n",
            "Requirement already satisfied: beautifulsoup4 in /usr/local/lib/python3.7/dist-packages (4.6.3)\n"
          ]
        }
      ]
    },
    {
      "cell_type": "code",
      "source": [],
      "metadata": {
        "id": "N1HCzFvjnq7h"
      },
      "execution_count": null,
      "outputs": []
    }
  ]
}