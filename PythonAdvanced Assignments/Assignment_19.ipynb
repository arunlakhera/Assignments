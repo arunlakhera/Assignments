{
 "cells": [
  {
   "cell_type": "markdown",
   "id": "c94d703d",
   "metadata": {},
   "source": [
    "## Q1. Define the relationship between a class and its instances. Is it a one-to-one or a one-to-many partnership, for example?"
   ]
  },
  {
   "cell_type": "markdown",
   "id": "4e7c9109",
   "metadata": {},
   "source": [
    "In object-oriented programming, a class is a blueprint or template for creating objects, while an instance is a specific object created from that class. The relationship between a class and its instances is a one-to-many partnership, where a single class can be used to create multiple instances"
   ]
  },
  {
   "cell_type": "markdown",
   "id": "fe7ecda3",
   "metadata": {},
   "source": [
    "## Q2. What kind of data is held only in an instance?"
   ]
  },
  {
   "cell_type": "markdown",
   "id": "65dcad19",
   "metadata": {},
   "source": [
    "In object-oriented programming, instance variables are variables that are specific to an instance of a class and are not shared with other instances or the class itself. Instance variables hold data that is unique to each instance and cannot be accessed or modified by other instances or the class."
   ]
  },
  {
   "cell_type": "markdown",
   "id": "e7c5d867",
   "metadata": {},
   "source": [
    "## Q3. What kind of knowledge is stored in a class?"
   ]
  },
  {
   "cell_type": "markdown",
   "id": "7ad5321a",
   "metadata": {},
   "source": [
    "In object-oriented programming, a class is a blueprint or template for creating objects, and it can store both data and behavior related to those objects. The knowledge stored in a class can be broadly categorized into two types: attributes and methods."
   ]
  },
  {
   "cell_type": "markdown",
   "id": "164e48e9",
   "metadata": {},
   "source": [
    "## Q4. What exactly is a method, and how is it different from a regular function?"
   ]
  },
  {
   "cell_type": "markdown",
   "id": "9b8920bb",
   "metadata": {},
   "source": [
    "A method in object-oriented programming is a function that is associated with an object or class, and has access to the state of the object or class. Methods are defined within a class definition and are invoked on instances of the class, using the dot notation. Methods are similar to regular functions in Python, but they have some key differences that make them specific to object-oriented programming."
   ]
  },
  {
   "cell_type": "markdown",
   "id": "b0f134bb",
   "metadata": {},
   "source": [
    "## Q5. Is inheritance supported in Python, and if so, what is the syntax?"
   ]
  },
  {
   "cell_type": "markdown",
   "id": "814eaa5d",
   "metadata": {},
   "source": [
    "Yes inheritance is supported in Python, and it allows us to create new classes that are a modified version of an existing class. In Python, inheritance is implemented using the syntax class ChildClass(ParentClass):, where ChildClass is the new class and ParentClass is the existing class to inherit from.\n",
    "\n",
    "Syntax\n",
    "\n",
    "class ChildClass(ParentClass):\n",
    " \n",
    "     # ChildClass definition here"
   ]
  },
  {
   "cell_type": "markdown",
   "id": "09ed4fb5",
   "metadata": {},
   "source": [
    "## Q6. How much encapsulation (making instance or class variables private) does Python support?"
   ]
  },
  {
   "cell_type": "markdown",
   "id": "511fe1a3",
   "metadata": {},
   "source": [
    "Python supports encapsulation through the use of naming conventions, by prefixing the name of an attribute or method with a double underscore to indicate that it should be treated as private. While Python does not enforce strict encapsulation like some other languages, it is still important to follow the naming conventions to communicate the intended use of the class and reduce the risk of naming conflicts."
   ]
  },
  {
   "cell_type": "markdown",
   "id": "a9b9b4a6",
   "metadata": {},
   "source": [
    "## Q7. How do you distinguish between a class variable and an instance variable?"
   ]
  },
  {
   "cell_type": "markdown",
   "id": "f402d6fa",
   "metadata": {},
   "source": [
    "To distinguish between a class variable and an instance variable in Python, we can look at where the variable is defined and how it is accessed. A class variable is defined within the class definition, but outside of any method, and is accessed using the class name. An instance variable is defined within a method of the class, typically the __init__ method, and is accessed using the self keyword within instance methods."
   ]
  },
  {
   "cell_type": "markdown",
   "id": "819d3760",
   "metadata": {},
   "source": [
    "## Q8. When, if ever, can self be included in a class's method definitions?"
   ]
  },
  {
   "cell_type": "markdown",
   "id": "31995bb7",
   "metadata": {},
   "source": [
    "self should be included in every instance method definition of a class, except for class methods and static methods. The self parameter is used to indicate that the method operates on a specific instance of the class, and it allows the method to access and modify the instance's attributes."
   ]
  },
  {
   "cell_type": "markdown",
   "id": "b078c8e3",
   "metadata": {},
   "source": [
    "## Q9. What is the difference between the _ _add_ _ and the _ _radd_ _ methods?"
   ]
  },
  {
   "cell_type": "markdown",
   "id": "d6de967f",
   "metadata": {},
   "source": [
    "The main difference between the __add__ and __radd__ methods in Python is the order in which they are called when the + operator is used. __add__ is called when the left operand implements __add__, and __radd__ is called when the left operand does not implement __add__."
   ]
  },
  {
   "cell_type": "markdown",
   "id": "242c9b09",
   "metadata": {},
   "source": [
    "## Q10. When is it necessary to use a reflection method? When do you not need it, even though you support the operation in question?"
   ]
  },
  {
   "cell_type": "markdown",
   "id": "bf48b077",
   "metadata": {},
   "source": [
    "We need to use reflection methods in Python when we want to customize the behavior of attribute access, setting, or deletion on an object. If we are satisfied with the default behavior provided by Python, we do not need to use reflection methods, even if we support the operation in question."
   ]
  },
  {
   "cell_type": "markdown",
   "id": "19120133",
   "metadata": {},
   "source": [
    "## Q11. What is the _ _iadd_ _ method called?"
   ]
  },
  {
   "cell_type": "markdown",
   "id": "ae66ed6e",
   "metadata": {},
   "source": [
    "The __iadd__ method is called magic method. The __iadd__ method in Python is called when the += operator is used on an object of a class, and it is used to define the behavior of the += operator for the class. The __iadd__ method modifies the left operand in place and should return self to allow for chaining of += operations."
   ]
  },
  {
   "cell_type": "markdown",
   "id": "7f870a08",
   "metadata": {},
   "source": [
    "## Q12. Is the _ _init_ _ method inherited by subclasses? What do you do if you need to customize its behavior within a subclass?\n"
   ]
  },
  {
   "cell_type": "markdown",
   "id": "254b51a8",
   "metadata": {},
   "source": [
    "The __init__ method is inherited by subclasses in Python, and we can customize its behavior within a subclass by defining a new __init__ method that overrides the parent class's __init__ method. In the new __init__ method, we can call the parent class's __init__ method using super().__init__() to initialize any attributes defined in the parent class, and we can also define new attributes specific to the subclass."
   ]
  },
  {
   "cell_type": "code",
   "execution_count": null,
   "id": "4b2ef90f",
   "metadata": {},
   "outputs": [],
   "source": []
  }
 ],
 "metadata": {
  "kernelspec": {
   "display_name": "Python 3 (ipykernel)",
   "language": "python",
   "name": "python3"
  },
  "language_info": {
   "codemirror_mode": {
    "name": "ipython",
    "version": 3
   },
   "file_extension": ".py",
   "mimetype": "text/x-python",
   "name": "python",
   "nbconvert_exporter": "python",
   "pygments_lexer": "ipython3",
   "version": "3.10.9"
  }
 },
 "nbformat": 4,
 "nbformat_minor": 5
}
