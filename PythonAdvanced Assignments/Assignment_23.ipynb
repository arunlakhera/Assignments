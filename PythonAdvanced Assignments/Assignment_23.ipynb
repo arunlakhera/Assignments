{
 "cells": [
  {
   "cell_type": "markdown",
   "id": "f8638bc9",
   "metadata": {},
   "source": [
    "## Q1. If you have any, what are your choices for increasing the comparison between different figures on the same graph?"
   ]
  },
  {
   "cell_type": "markdown",
   "id": "3be58504",
   "metadata": {},
   "source": [
    "There are several choices for increasing the comparison between different figures on the same graph:\n",
    "\n",
    "Increase the contrast: One way to increase the comparison between different figures is to increase the contrast of the graph. This can be done by adjusting the color scheme or by using a different type of plot that emphasizes the differences between the data.\n",
    "\n",
    "Use a log scale: If the data covers a wide range of values, using a log scale can make it easier to compare different figures. This is because a log scale compresses the range of values, making it easier to see the differences between them.\n",
    "\n",
    "Use different markers or line styles: Using different markers or line styles for different figures can make it easier to distinguish between them. For example, you could use solid lines for one figure and dashed lines for another, or use circles for one figure and triangles for another.\n",
    "\n",
    "Use labels and legends: Adding labels and legends to the graph can help to identify the different figures and make it easier to compare them. This can include adding titles, axis labels, and a legend that explains the meaning of each line or marker.\n",
    "\n",
    "Normalize the data: If the data is measured in different units or has different scales, normalizing the data can make it easier to compare the figures. This involves scaling the data so that it has a common range or unit, such as scaling all values to be between 0 and 1."
   ]
  },
  {
   "cell_type": "markdown",
   "id": "0255a4c6",
   "metadata": {},
   "source": [
    "## Q2. Can you explain the benefit of compound interest over a higher rate of interest that does not compound after reading this chapter?"
   ]
  },
  {
   "cell_type": "markdown",
   "id": "365fb101",
   "metadata": {},
   "source": [
    "Compound interest is a type of interest that is calculated not only on the initial principal amount, but also on any interest earned in previous periods. In other words, it is interest on interest. The benefit of compound interest over a higher rate of interest that does not compound is that it allows your money to grow faster over time."
   ]
  },
  {
   "cell_type": "markdown",
   "id": "c262685f",
   "metadata": {},
   "source": [
    "## Q3. What is a histogram, exactly? Name a numpy method for creating such a graph."
   ]
  },
  {
   "cell_type": "markdown",
   "id": "172369a2",
   "metadata": {},
   "source": [
    "A histogram is a graphical representation of the distribution of a dataset that displays the frequency or relative frequency of each value or range of values. NumPy provides a method for creating histograms called numpy.histogram, which can be used with matplotlib to create and plot histograms in Python."
   ]
  },
  {
   "cell_type": "markdown",
   "id": "7550d801",
   "metadata": {},
   "source": [
    "## Q4. If necessary, how do you change the aspect ratios between the X and Y axes?"
   ]
  },
  {
   "cell_type": "markdown",
   "id": "9ef9d7a3",
   "metadata": {},
   "source": [
    "In Matplotlib, you can change the aspect ratios between the X and Y axes using the ax.set_aspect method. This method takes a single argument that specifies the aspect ratio, which can be specified in several ways:\n",
    "\n",
    "\"equal\": This sets the aspect ratio to 1, so that one unit on the X-axis is equal to one unit on the Y-axis.\n",
    "\n",
    "A float or a tuple of floats: This sets the aspect ratio to the specified value or values. For example, ax.set_aspect(2) would set the aspect ratio to 2, while ax.set_aspect((1, 2)) would set the aspect ratio to 1 on the X-axis and 2 on the Y-axis.\n",
    "\n",
    "\"auto\": This sets the aspect ratio to \"auto\", which means that Matplotlib will try to choose an aspect ratio that best fits the data.\n",
    "\n"
   ]
  },
  {
   "cell_type": "markdown",
   "id": "f8a28dfc",
   "metadata": {},
   "source": [
    "## Q5. Compare and contrast the three types of array multiplication between two numpy arrays: dot product, outer product, and regular multiplication of two numpy arrays."
   ]
  },
  {
   "cell_type": "markdown",
   "id": "8bcee252",
   "metadata": {},
   "source": [
    "Comparison and contrast of these three operations:\n",
    "\n",
    "Dot product and outer product are both linear algebra operations, while regular multiplication is an element-wise operation.\n",
    "\n",
    "Dot product and outer product both generate new arrays with different shapes than the input arrays, while regular multiplication generates an array with the same shape as the input arrays.\n",
    "\n",
    "Dot product and outer product are both commutative operations, meaning that the order of the input arrays does not matter. Regular multiplication is also commutative.\n",
    "\n",
    "Dot product and outer product are both associative operations, meaning that the grouping of the input arrays does not matter. Regular multiplication is also associative.\n",
    "\n",
    "Dot product and outer product both involve summing over some dimensions of the input arrays, while regular multiplication does not."
   ]
  },
  {
   "cell_type": "markdown",
   "id": "859116e2",
   "metadata": {},
   "source": [
    "## Q6. Before you buy a home, which numpy function will you use to measure your monthly mortgage payment?"
   ]
  },
  {
   "cell_type": "markdown",
   "id": "732726b3",
   "metadata": {},
   "source": [
    "To calculate the monthly mortgage payment before buying a home, you can use the NumPy financial function numpy.pmt. This function calculates the payment for a loan based on constant payments and a constant interest rate.\n",
    "\n",
    "The numpy.pmt function takes three arguments:\n",
    "\n",
    "rate: the interest rate per period (as a decimal)\n",
    "nper: the total number of payments (i.e. the length of the loan term, in periods)\n",
    "pv: the present value, or the total amount of the loan"
   ]
  },
  {
   "cell_type": "markdown",
   "id": "55300fe1",
   "metadata": {},
   "source": [
    "## Q7. Can string data be stored in numpy arrays? If so, list at least one restriction that applies to \n"
   ]
  },
  {
   "cell_type": "markdown",
   "id": "8f9f4dbb",
   "metadata": {},
   "source": [
    "Yes, NumPy arrays can store string data. In fact, NumPy provides a specific data type for string data, called numpy.string_ \n",
    "\n",
    "Fixed-length: Unlike other data types in NumPy, string data is fixed-length, which means that each element of the array must have the same length. This can lead to some inefficiencies when working with strings of varying lengths, since the array needs to be padded with extra characters to ensure that all elements have the same length."
   ]
  },
  {
   "cell_type": "markdown",
   "id": "a44d11c9",
   "metadata": {},
   "source": []
  },
  {
   "cell_type": "markdown",
   "id": "22f961b4",
   "metadata": {},
   "source": []
  },
  {
   "cell_type": "markdown",
   "id": "3bc84db2",
   "metadata": {},
   "source": []
  }
 ],
 "metadata": {
  "kernelspec": {
   "display_name": "Python 3 (ipykernel)",
   "language": "python",
   "name": "python3"
  },
  "language_info": {
   "codemirror_mode": {
    "name": "ipython",
    "version": 3
   },
   "file_extension": ".py",
   "mimetype": "text/x-python",
   "name": "python",
   "nbconvert_exporter": "python",
   "pygments_lexer": "ipython3",
   "version": "3.10.9"
  }
 },
 "nbformat": 4,
 "nbformat_minor": 5
}
