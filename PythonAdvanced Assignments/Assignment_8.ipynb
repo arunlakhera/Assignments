{
 "cells": [
  {
   "cell_type": "markdown",
   "id": "62583135",
   "metadata": {},
   "source": [
    "## Q1. What are the two latest user-defined exception constraints in Python 3.X?"
   ]
  },
  {
   "cell_type": "markdown",
   "id": "b67eb0b3",
   "metadata": {},
   "source": [
    "The __cause__ attribute: The __cause__ attribute is used to link exceptions together in a chain of causality. It allows you to specify that one exception was caused by another exception. This can be useful when you want to provide more information about why an exception occurred.\n",
    "\n",
    "try:\n",
    "    # code that may raise an exception\n",
    "except SomeException as e:\n",
    "    raise MyException(\"An error occurred\") from e\n",
    "\n",
    "The __context__ attribute: The __context__ attribute is used to provide additional context about an exception. It allows you to specify that one exception is related to another exception, but not necessarily caused by it. This can be useful when you want to provide more information about the context in which an exception occurred. \n",
    "\n",
    "try:\n",
    "    # code that may raise an exception\n",
    "except SomeException as e:\n",
    "    raise MyException(\"An error occurred\") from None"
   ]
  },
  {
   "cell_type": "markdown",
   "id": "60e9302b",
   "metadata": {},
   "source": [
    "## Q2. How are class-based exceptions that have been raised matched to handlers?"
   ]
  },
  {
   "cell_type": "markdown",
   "id": "bc7b6f25",
   "metadata": {},
   "source": [
    "When a class-based exception is raised, the interpreter searches for an appropriate exception handler to handle the exception. The search process for a matching exception handler follows these steps:\n",
    "\n",
    "The interpreter looks for an except block that matches the raised exception's class or a superclass of the raised exception's class. If a matching except block is found, the code within that block is executed to handle the exception.\n",
    "\n",
    "If no matching except block is found, the interpreter looks for an except block that handles a superclass of the raised exception's class. If a matching except block is found, the code within that block is executed to handle the exception.\n",
    "\n",
    "If no matching except block is found, the interpreter continues to search up the call stack for a matching except block. If a matching except block is found, the code within that block is executed to handle the exception.\n",
    "\n",
    "If no matching except block is found, the interpreter terminates the program and prints a traceback that shows where the exception was raised.\n",
    "\n",
    "\n",
    "class CustomException(Exception):\n",
    "    pass\n",
    "\n",
    "try:\n",
    "    raise CustomException(\"An error occurred\")\n",
    "except CustomException:\n",
    "    print(\"CustomException caught\")\n",
    "except Exception:\n",
    "    print(\"Exception caught\")"
   ]
  },
  {
   "cell_type": "markdown",
   "id": "bc8a71c9",
   "metadata": {},
   "source": [
    "## Q3. Describe two methods for attaching context information to exception artefacts."
   ]
  },
  {
   "cell_type": "markdown",
   "id": "0bec4305",
   "metadata": {},
   "source": [
    "Using the raise ... from ... syntax: The raise ... from ... syntax can be used to attach a \"cause\" or \"context\" exception to a new exception that is being raised. This can be useful when you want to provide additional information about why the new exception occurred.\n",
    "\n",
    "try:\n",
    "    # some code that may raise an exception\n",
    "except SomeException as e:\n",
    "    raise NewException(\"Something went wrong\") from e\n",
    "    \n",
    "\n",
    "Using the __context__ attribute: The __context__ attribute can be used to attach a related exception to an exception that is being raised. This can be useful when you want to provide additional information about the context in which the new exception occurred. \n",
    "\n",
    "try:\n",
    "    # some code that may raise an exception\n",
    "except SomeException as e:\n",
    "    new_e = NewException(\"Something went wrong\")\n",
    "    new_e.__context__ = e\n",
    "    raise new_e\n",
    "    \n"
   ]
  },
  {
   "cell_type": "markdown",
   "id": "1eb78068",
   "metadata": {},
   "source": [
    "## Q4. Describe two methods for specifying the text of an exception object's error message."
   ]
  },
  {
   "cell_type": "markdown",
   "id": "2d4b6b67",
   "metadata": {},
   "source": [
    "Passing an error message as an argument to the exception constructor: Many built-in Python exceptions, such as ValueError and TypeError, allow you to pass an error message as an argument to the exception constructor. This error message will be stored as an attribute of the exception object and can be accessed later if needed.\n",
    "\n",
    "x = -1\n",
    "if x < 0:\n",
    "    raise ValueError(\"x must be non-negative\")\n",
    "    \n",
    "\n",
    "Defining a custom exception class with an error message attribute: If you need to define your own custom exception class, you can define a class attribute to store the error message. This attribute can then be accessed later if needed.\n",
    "\n",
    "class MyException(Exception):\n",
    "    def __init__(self, message):\n",
    "        self.message = message\n",
    "\n",
    "try:\n",
    "    raise MyException(\"Something went wrong\")\n",
    "except MyException as e:\n",
    "    print(e.message)"
   ]
  },
  {
   "cell_type": "markdown",
   "id": "ff9782f4",
   "metadata": {},
   "source": [
    "## Q5. Why do you no longer use string-based exceptions?"
   ]
  },
  {
   "cell_type": "markdown",
   "id": "44c7a5ef",
   "metadata": {},
   "source": [
    "String-based exceptions have several drawbacks compared to class-based exceptions:\n",
    "\n",
    "Limited information: String-based exceptions provide limited information about the cause of the exception and the context in which it occurred. Class-based exceptions, on the other hand, can store additional information in instance variables and can be subclassed to provide more specific information about the type of exception.\n",
    "\n",
    "No structured handling: String-based exceptions cannot be easily handled using except blocks, as there is no way to distinguish between different types of string-based exceptions. Class-based exceptions, on the other hand, can be handled using except blocks that match the exception class or a superclass of the exception class.\n",
    "\n",
    "Difficulty in debugging: String-based exceptions can be difficult to debug, as they provide limited information about the cause of the exception. Class-based exceptions, on the other hand, can include a traceback that shows the call stack leading up to the exception, making it easier to diagnose the cause of the exception."
   ]
  },
  {
   "cell_type": "code",
   "execution_count": null,
   "id": "67dca0f5",
   "metadata": {},
   "outputs": [],
   "source": []
  }
 ],
 "metadata": {
  "kernelspec": {
   "display_name": "Python 3 (ipykernel)",
   "language": "python",
   "name": "python3"
  },
  "language_info": {
   "codemirror_mode": {
    "name": "ipython",
    "version": 3
   },
   "file_extension": ".py",
   "mimetype": "text/x-python",
   "name": "python",
   "nbconvert_exporter": "python",
   "pygments_lexer": "ipython3",
   "version": "3.10.9"
  }
 },
 "nbformat": 4,
 "nbformat_minor": 5
}
