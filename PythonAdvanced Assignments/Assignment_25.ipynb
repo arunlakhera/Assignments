{
 "cells": [
  {
   "cell_type": "markdown",
   "id": "4d086d20",
   "metadata": {},
   "source": [
    "## Q1. What is the distinction between a numpy array and a pandas data frame? Is there a way to convert between the two if there is?"
   ]
  },
  {
   "cell_type": "markdown",
   "id": "0cad6a01",
   "metadata": {},
   "source": [
    "A NumPy array is a multi-dimensional container for homogeneous data, meaning that all of the elements in the array must be of the same data type. NumPy arrays can be created with a fixed size and shape, and can be indexed and sliced using integer-based indices. NumPy arrays are highly optimized for numerical operations and are often used in scientific computing and numerical analysis.\n",
    "\n",
    "On the other hand, a Pandas DataFrame is a two-dimensional container for heterogeneous data, meaning that the columns in a DataFrame can have different data types. DataFrames can be created from a variety of data sources, such as CSV files, SQL databases, and Excel spreadsheets. DataFrames are highly optimized for data manipulation and analysis, and offer powerful features for data grouping, aggregation, and filtering.\n",
    "\n",
    "One way to convert a NumPy array to a Pandas DataFrame is to use the pd.DataFrame() function, which takes a NumPy array as input and returns a DataFrame with the same data.\n",
    "\n",
    "We can convert a Pandas DataFrame to a NumPy array using the values attribute of the DataFrame."
   ]
  },
  {
   "cell_type": "markdown",
   "id": "637571cc",
   "metadata": {},
   "source": [
    "## Q2. What can go wrong when an user enters in a stock-ticker symbol, and how do you handle it?"
   ]
  },
  {
   "cell_type": "markdown",
   "id": "f30c9d27",
   "metadata": {},
   "source": [
    "Invalid symbol: The user may enter an invalid symbol that does not correspond to a valid stock or asset. This could be due to a typo, a misunderstanding of the symbol format, or an outdated or incorrect symbol.\n",
    "\n",
    "Ambiguous symbol: Some symbols may be ambiguous and could refer to multiple stocks or assets. For example, the symbol \"AAPL\" could refer to Apple Inc. or AppFolio Inc.\n",
    "\n",
    "Incomplete or missing data: The data associated with a stock or asset may be incomplete or missing, making it difficult to provide accurate information to the user."
   ]
  },
  {
   "cell_type": "markdown",
   "id": "34c84feb",
   "metadata": {},
   "source": [
    "## Q3. Identify some of the plotting techniques that are used to produce a stock-market chart."
   ]
  },
  {
   "cell_type": "markdown",
   "id": "4fb539a0",
   "metadata": {},
   "source": [
    "There are several plotting techniques that can be used to produce a stock market chart, including line charts, candlestick charts, bar charts, area charts, and scatter plots. The choice of chart type will depend on the specific data being displayed and the insights that the chart is intended to convey."
   ]
  },
  {
   "cell_type": "markdown",
   "id": "bea66589",
   "metadata": {},
   "source": [
    "## Q4. Why is it essential to print a legend on a stock market chart?"
   ]
  },
  {
   "cell_type": "markdown",
   "id": "9c331179",
   "metadata": {},
   "source": [
    "A legend is essential in a stock market chart because it provides context and clarity for the data being displayed. By explaining the meaning of the various elements in the chart, a legend can help the viewer understand, compare, and interpret the data more effectively."
   ]
  },
  {
   "cell_type": "markdown",
   "id": "47fa3864",
   "metadata": {},
   "source": [
    "## Q5. What is the best way to limit the length of a pandas data frame to less than a year?"
   ]
  },
  {
   "cell_type": "markdown",
   "id": "cd81b5fa",
   "metadata": {},
   "source": [
    "To limit the length of a Pandas DataFrame to less than a year, we can filter the data based on the date column using a Boolean mask. This approach allows us to keep only the data that we need, while discarding any data that is outside of the desired date range."
   ]
  },
  {
   "cell_type": "markdown",
   "id": "b880784c",
   "metadata": {},
   "source": [
    "## Q6. What is the definition of a 180-day moving average?"
   ]
  },
  {
   "cell_type": "markdown",
   "id": "274f7b37",
   "metadata": {},
   "source": [
    "A 180-day moving average is a technical analysis indicator that calculates the average price of a security over a period of 180 days. It is used by traders and investors to identify trends and potential buy or sell signals in the market."
   ]
  },
  {
   "cell_type": "markdown",
   "id": "c9847003",
   "metadata": {},
   "source": [
    "## Q7. Did the chapter's final example use \"indirect\" importing? If so, how exactly do you do it?"
   ]
  },
  {
   "cell_type": "markdown",
   "id": "2f186252",
   "metadata": {},
   "source": [
    "Indirect importing is a way to import modules indirectly through another module. It can be useful for keeping our code organized and reducing clutter in our main script."
   ]
  },
  {
   "cell_type": "markdown",
   "id": "493a5c0f",
   "metadata": {},
   "source": []
  },
  {
   "cell_type": "markdown",
   "id": "42f10817",
   "metadata": {},
   "source": []
  },
  {
   "cell_type": "markdown",
   "id": "2894685e",
   "metadata": {},
   "source": []
  },
  {
   "cell_type": "markdown",
   "id": "8427f4f6",
   "metadata": {},
   "source": []
  }
 ],
 "metadata": {
  "kernelspec": {
   "display_name": "Python 3 (ipykernel)",
   "language": "python",
   "name": "python3"
  },
  "language_info": {
   "codemirror_mode": {
    "name": "ipython",
    "version": 3
   },
   "file_extension": ".py",
   "mimetype": "text/x-python",
   "name": "python",
   "nbconvert_exporter": "python",
   "pygments_lexer": "ipython3",
   "version": "3.10.9"
  }
 },
 "nbformat": 4,
 "nbformat_minor": 5
}
