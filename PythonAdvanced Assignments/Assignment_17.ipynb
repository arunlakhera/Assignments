{
 "cells": [
  {
   "cell_type": "markdown",
   "id": "b8a0a14b",
   "metadata": {},
   "source": [
    "## Q1. Explain the difference between greedy and non-greedy syntax with visual terms in as few words as possible. What is the bare minimum effort required to transform a greedy pattern into a non-greedy one? What characters or characters can you introduce or change?"
   ]
  },
  {
   "cell_type": "markdown",
   "id": "9cd68c56",
   "metadata": {},
   "source": [
    "Greedy syntax matches as much text as possible, while non-greedy syntax matches as little text as possible. To transform a greedy pattern into a non-greedy one, you can add a question mark after the quantifier. The ? can be added after any quantifier to make it non-greedy.\n",
    "\n",
    "To understand the difference visually, imagine a regular expression pattern that matches text between two tags: <tag>text</tag>. A greedy pattern would match the entire string between the first <tag> and the last </tag>, while a non-greedy pattern would only match the text between the first <tag> and the first </tag>.\n"
   ]
  },
  {
   "cell_type": "markdown",
   "id": "ef22c35b",
   "metadata": {},
   "source": [
    "## Q2. When exactly does greedy versus non-greedy make a difference?  What if you're looking for a non-greedy match but the only one available is greedy?"
   ]
  },
  {
   "cell_type": "markdown",
   "id": "4cfccd12",
   "metadata": {},
   "source": [
    "Greedy versus non-greedy matching makes a difference when there are multiple possible matches for a given regular expression pattern. If you're looking for a non-greedy match but the only one available is greedy, you can use a workaround such as a lookahead assertion or a negative character set to get the desired result."
   ]
  },
  {
   "cell_type": "markdown",
   "id": "2ff8a848",
   "metadata": {},
   "source": [
    "## Q3. In a simple match of a string, which looks only for one match and does not do any replacement, is the use of a nontagged group likely to make any practical difference?"
   ]
  },
  {
   "cell_type": "markdown",
   "id": "8f7e4c02",
   "metadata": {},
   "source": [
    "When doing a simple match of a string that looks only for one match and does not do any replacement, the use of a non-tagged group is unlikely to make any practical difference."
   ]
  },
  {
   "cell_type": "markdown",
   "id": "c8cc83cc",
   "metadata": {},
   "source": [
    "## Q4. Describe a scenario in which using a nontagged category would have a significant impact on the program's outcomes."
   ]
  },
  {
   "cell_type": "markdown",
   "id": "35f0c7f8",
   "metadata": {},
   "source": [
    "Using a non-tagged category can have a significant impact on the program's outcomes when you are using the regular expression pattern to capture matched text for further processing or analysis. By using non-tagged groups, you can exclude certain parts of the matched text from the captured groups, and ensure that only the desired information is captured."
   ]
  },
  {
   "cell_type": "markdown",
   "id": "07eff3a9",
   "metadata": {},
   "source": [
    "## Q5. Unlike a normal regex pattern, a look-ahead condition does not consume the characters it examines. Describe a situation in which this could make a difference in the results of your programme."
   ]
  },
  {
   "cell_type": "markdown",
   "id": "5f22ba5c",
   "metadata": {},
   "source": [
    "The non-consuming nature of a look-ahead condition can make a difference in the results of a program when we are matching multiple patterns in a target string, and one pattern depends on the absence or presence of another pattern. By using a look-ahead condition, we can check for the presence or absence of a pattern without consuming any characters, and ensure that the correct matches are found.\n",
    "\n",
    "For example, consider a program that extracts information from HTML files, including the titles of web pages and the URLs of links in those pages. You could use regular expression patterns to match the title tags and link tags in the HTML code."
   ]
  },
  {
   "cell_type": "markdown",
   "id": "a087a747",
   "metadata": {},
   "source": [
    "## Q6. In standard expressions, what is the difference between positive look-ahead and negative look-ahead?"
   ]
  },
  {
   "cell_type": "markdown",
   "id": "84bcb559",
   "metadata": {},
   "source": [
    "The difference between positive look-ahead and negative look-ahead is the condition that needs to be satisfied for the match to occur. Positive look-ahead matches only if the pattern is followed by another pattern, while negative look-ahead matches only if the pattern is not followed by another pattern."
   ]
  },
  {
   "cell_type": "markdown",
   "id": "d30fad35",
   "metadata": {},
   "source": [
    "## Q7. What is the benefit of referring to groups by name rather than by number in a standard expression?"
   ]
  },
  {
   "cell_type": "markdown",
   "id": "3df04592",
   "metadata": {},
   "source": [
    "Referring to groups by name rather than by number in a regular expression makes the expression more readable, maintainable, and less error-prone. It makes the meaning of the groups clear from the pattern itself, and makes it easier to use the captured values of the groups in your code."
   ]
  },
  {
   "cell_type": "markdown",
   "id": "264157f5",
   "metadata": {},
   "source": [
    "## Q8. Can you identify repeated items within a target string using named groups, as in \"The cow jumped over the moon\"?"
   ]
  },
  {
   "cell_type": "markdown",
   "id": "dd673804",
   "metadata": {},
   "source": [
    "import re\n",
    "\n",
    "target_string = \"The cow jumped over the moon\"\n",
    "\n",
    "pattern = r'\\b(?P<word>\\w+)\\b(?:\\W+\\b(?P=word)\\b)+'\n",
    "    \n",
    "repeated_words = re.findall(pattern, target_string)\n",
    "\n",
    "print(repeated_words)"
   ]
  },
  {
   "cell_type": "markdown",
   "id": "e28fe927",
   "metadata": {},
   "source": [
    "## Q9. When parsing a string, what is at least one thing that the Scanner interface does for you that the re.findall feature does not?"
   ]
  },
  {
   "cell_type": "markdown",
   "id": "b0035d17",
   "metadata": {},
   "source": [
    "The Scanner interface in Java provides a way to parse a string using a set of delimiters and retrieve individual tokens one at a time. This functionality is not provided by the re.findall() feature in Python.\n",
    "\n",
    "In Python, the re.findall() function returns all non-overlapping matches of a regular expression pattern in a string as a list, without providing a way to parse the string based on delimiters and retrieve individual tokens one at a time."
   ]
  },
  {
   "cell_type": "markdown",
   "id": "1a69f736",
   "metadata": {},
   "source": [
    "## Q10. Does a scanner object have to be named scanner?"
   ]
  },
  {
   "cell_type": "markdown",
   "id": "b84cf464",
   "metadata": {},
   "source": [
    "No, a Scanner object does not have to be named \"scanner\". The name of the object is just a variable name and can be chosen freely as long as it follows the naming conventions of the programming language being used."
   ]
  },
  {
   "cell_type": "code",
   "execution_count": null,
   "id": "140cc23c",
   "metadata": {},
   "outputs": [],
   "source": []
  }
 ],
 "metadata": {
  "kernelspec": {
   "display_name": "Python 3 (ipykernel)",
   "language": "python",
   "name": "python3"
  },
  "language_info": {
   "codemirror_mode": {
    "name": "ipython",
    "version": 3
   },
   "file_extension": ".py",
   "mimetype": "text/x-python",
   "name": "python",
   "nbconvert_exporter": "python",
   "pygments_lexer": "ipython3",
   "version": "3.10.9"
  }
 },
 "nbformat": 4,
 "nbformat_minor": 5
}
