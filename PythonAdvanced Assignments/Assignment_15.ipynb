{
 "cells": [
  {
   "cell_type": "markdown",
   "id": "01189cec",
   "metadata": {},
   "source": [
    "## 1.\tWhat are the new features added in Python 3.8 version?"
   ]
  },
  {
   "cell_type": "markdown",
   "id": "9e325eec",
   "metadata": {},
   "source": [
    "Python 3.8 introduced several new features and improvements. Some of the major new features are:\n",
    "\n",
    "Assignment expressions (the \"walrus operator\", :=): This new operator allows you to assign values to variables as part of an expression. For example, you can use it to simplify code that needs to compute a value and then check if it meets a condition. \n",
    "\n",
    "Positional-only parameters: This feature allows you to specify function parameters that can only be passed by position, not by keyword. This can be useful for functions with complex or overloaded parameters. \n",
    "\n",
    "f-strings support = for self-documenting expressions and debugging: This feature allows you to include expressions in f-strings that are evaluated and displayed in the output, for debugging or documentation purposes. \n",
    "\n",
    "Improved syntax and errors for debugging and readability: This release includes several improvements to the syntax and error messages to make code more readable and easier to debug. For example, syntax errors now show the line and column of the error, and the TypeError message for calling a function with the wrong number of arguments now includes the expected number of arguments.\n",
    "\n",
    "Performance improvements: Python 3.8 includes several performance improvements, such as faster pickle serialization, faster method calls, and faster asyncio event loops."
   ]
  },
  {
   "cell_type": "markdown",
   "id": "b6db8736",
   "metadata": {},
   "source": [
    "## 2.\tWhat is monkey patching in Python?"
   ]
  },
  {
   "cell_type": "markdown",
   "id": "883a1871",
   "metadata": {},
   "source": [
    "Monkey patching is a technique in Python that allows you to modify the behavior of a module, class, or object at runtime, without changing its source code. It involves dynamically replacing, adding, or removing attributes or methods of an object, to achieve a specific goal. For example, you might use monkey patching to fix a bug in a third-party library, or to add a feature to an existing class that you don't control. "
   ]
  },
  {
   "cell_type": "markdown",
   "id": "186c55d9",
   "metadata": {},
   "source": [
    "## 3.\tWhat is the difference between a shallow copy and deep copy?"
   ]
  },
  {
   "cell_type": "markdown",
   "id": "5d37cfe1",
   "metadata": {},
   "source": [
    "A shallow copy creates a new object, but the contents of the object are still references to the same objects as in the original object. In other words, a shallow copy only copies the top-level elements of the object, not the nested elements. Any changes made to a nested object in the copy will also affect the original object.\n",
    "\n",
    "A deep copy, on the other hand, creates a completely new object with completely new contents. In other words, a deep copy creates a new object and recursively copies all the nested objects as well. Any changes made to a nested object in the copy will not affect the original object."
   ]
  },
  {
   "cell_type": "markdown",
   "id": "664655aa",
   "metadata": {},
   "source": [
    "## 4.\tWhat is the maximum possible length of an identifier?"
   ]
  },
  {
   "cell_type": "markdown",
   "id": "d0b94bc2",
   "metadata": {},
   "source": [
    "The maximum possible length of an identifier is implementation-dependent. The Python Language Reference states that \"the maximum length of an identifier is 79 characters\" but this is not a hard limit and can vary depending on the implementation. However, it is generally a good practice to keep identifier names reasonably short and descriptive, to make the code easier to read and understand."
   ]
  },
  {
   "cell_type": "markdown",
   "id": "d05dad51",
   "metadata": {},
   "source": [
    "## 5.\tWhat is generator comprehension?"
   ]
  },
  {
   "cell_type": "markdown",
   "id": "09551c95",
   "metadata": {},
   "source": [
    "Generator comprehension is a concise and memory-efficient way to create a generator object in Python. It is similar to list comprehension, but instead of creating a list, it generates the values on the fly, as they are requested."
   ]
  },
  {
   "cell_type": "code",
   "execution_count": null,
   "id": "0d3725ab",
   "metadata": {},
   "outputs": [],
   "source": []
  }
 ],
 "metadata": {
  "kernelspec": {
   "display_name": "Python 3 (ipykernel)",
   "language": "python",
   "name": "python3"
  },
  "language_info": {
   "codemirror_mode": {
    "name": "ipython",
    "version": 3
   },
   "file_extension": ".py",
   "mimetype": "text/x-python",
   "name": "python",
   "nbconvert_exporter": "python",
   "pygments_lexer": "ipython3",
   "version": "3.10.9"
  }
 },
 "nbformat": 4,
 "nbformat_minor": 5
}
