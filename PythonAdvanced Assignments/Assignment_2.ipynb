{
 "cells": [
  {
   "attachments": {},
   "cell_type": "markdown",
   "id": "23fdd78f",
   "metadata": {},
   "source": [
    "## Q1. What is the relationship between classes and modules?"
   ]
  },
  {
   "attachments": {},
   "cell_type": "markdown",
   "id": "14891916",
   "metadata": {},
   "source": [
    "Class is a set of properties and methods that are shared by all the instances of that class. We can have any number of instances of class and each instance has its own set of values for properties defined in the class.\n",
    "Module on the other hand is a way of organizing code and data in a reusable and maintainable way. It can be imported into other files and modules to be used. A module can contain one or more classes, as well as functions & variables."
   ]
  },
  {
   "attachments": {},
   "cell_type": "markdown",
   "id": "6d2b6512",
   "metadata": {},
   "source": [
    "## Q2. How do you make instances and classes?"
   ]
  },
  {
   "attachments": {},
   "cell_type": "markdown",
   "id": "b6809598",
   "metadata": {},
   "source": [
    "We can create instances of a class by calling the class constructor, which is a special method that creates a new instance of the class. The constructor method is usually named __init__() in Python.\n",
    "To define a class we use class keyword in python example: \n",
    "\n",
    "class Vehicle:\n",
    "    # definition\n",
    "\n",
    "Inside the class we can define properties and methods that are shared by all instances of the class examples:\n",
    "\n",
    "class Vehicle:\n",
    "    def __init__(self, name, fuel_type):\n",
    "        self.name = name\n",
    "        self.fuel_type = fuel_type\n",
    "\n",
    "    def show(self):\n",
    "        print(f\"{name} is of fuel type {fuel_type}\")"
   ]
  },
  {
   "attachments": {},
   "cell_type": "markdown",
   "id": "1cf37442",
   "metadata": {},
   "source": [
    "## Q3. Where and how should be class attributes created?"
   ]
  },
  {
   "attachments": {},
   "cell_type": "markdown",
   "id": "f37d8d23",
   "metadata": {},
   "source": [
    "They are defined inside the class definition, but outside of any method or constructor definition.\n",
    "\n",
    "\n",
    "class Dog:\n",
    "    species = \"Canis lupus familiaris\"\n",
    "\n",
    "    def __init__(self, name, breed):\n",
    "        self.name = name\n",
    "        self.breed = breed"
   ]
  },
  {
   "attachments": {},
   "cell_type": "markdown",
   "id": "f3c4be4f",
   "metadata": {},
   "source": [
    "## Q4. Where and how are instance attributes created?"
   ]
  },
  {
   "cell_type": "markdown",
   "id": "aba40da4",
   "metadata": {},
   "source": [
    "Instance attributes are variables that are specific to each instance of a class. They are created and initialized inside the class constructor (__init__() method) using the self keyword, which refers to the instance being created.\n",
    "\n",
    "class Dog:\n",
    "    def __init__(self, name, breed):\n",
    "        self.name = name\n",
    "        self.breed = breed\n",
    "        self.age = 0"
   ]
  },
  {
   "attachments": {},
   "cell_type": "markdown",
   "id": "b00afc74",
   "metadata": {},
   "source": [
    "## Q5. What does the term \"self\" in a Python class mean?"
   ]
  },
  {
   "cell_type": "markdown",
   "id": "6b1e7cc2",
   "metadata": {},
   "source": [
    "self is a special keyword that refers to the instance of a class. It is used inside a class definition to access instance attributes and methods."
   ]
  },
  {
   "attachments": {},
   "cell_type": "markdown",
   "id": "f8118ffc",
   "metadata": {},
   "source": [
    "## Q6. How does a Python class handle operator overloading?"
   ]
  },
  {
   "cell_type": "markdown",
   "id": "64b9f62e",
   "metadata": {},
   "source": [
    "Python provides special function that is automatically invoked when it is associated with that particular operator. For example, when we use + operator, the method __add__ is automatically invoked in which the operation for + operator is defined.\n",
    "\n",
    "class A:\n",
    "    def __init__(self, a):\n",
    "        self.a = a\n",
    "    \n",
    "    def __add__(self, o):\n",
    "        return self.a + o.a\n",
    "\n",
    "o1 = A(1)\n",
    "o2 = A(2)\n",
    "o3 = A(\"Hello\")\n",
    "\n",
    "print( o1 + o2 + o3)"
   ]
  },
  {
   "attachments": {},
   "cell_type": "markdown",
   "id": "152e5502",
   "metadata": {},
   "source": [
    "## Q7. When do you consider allowing operator overloading of your classes?"
   ]
  },
  {
   "cell_type": "markdown",
   "id": "0964e275",
   "metadata": {},
   "source": [
    "When the class represents a mathematical object or operation, such as a matrix or a vector, and overloading mathematical operators such as +, -, *, and / would make the code more intuitive and readable.\n",
    "\n",
    "When the class represents a container or collection, such as a list or a set, and overloading operators such as [], <, >, <=, >=, ==, and != would make the code more concise and readable.\n",
    "\n",
    "When the class represents a custom data type that is similar to a built-in type, such as a custom string or a custom number, and overloading operators such as +, -, and * would make the code more intuitive and familiar to users of the built-in type.\n",
    "\n",
    "When the class represents a custom iterator or generator, and overloading the in operator would allow the class to be used in for loops and other iterable contexts."
   ]
  },
  {
   "attachments": {},
   "cell_type": "markdown",
   "id": "b1325d79",
   "metadata": {},
   "source": [
    "## Q8. What is the most popular form of operator overloading?"
   ]
  },
  {
   "cell_type": "markdown",
   "id": "e21d53df",
   "metadata": {},
   "source": [
    "A very popular is the Addition (+) operator.The '+' operator operates on two numbers and performs “Addition” on numbers whereas when the same operator operates on two stringsit performs “Concatenation” on strings."
   ]
  },
  {
   "attachments": {},
   "cell_type": "markdown",
   "id": "e5b30485",
   "metadata": {},
   "source": [
    "## Q9. What are the two most important concepts to grasp in order to comprehend Python OOP code?"
   ]
  },
  {
   "cell_type": "markdown",
   "id": "38c6c2aa",
   "metadata": {},
   "source": [
    "The 2 most important concepts are Classes and Inheritance. Class is a blueprint for creating objects that have certain attributes and methods and Inheritance is a mechanism that allows you to create a new class that is a modified version of an existing class, inheriting all the attributes and methods of the original class and adding new ones or modifying existing ones."
   ]
  }
 ],
 "metadata": {
  "kernelspec": {
   "display_name": "Python 3 (ipykernel)",
   "language": "python",
   "name": "python3"
  },
  "language_info": {
   "codemirror_mode": {
    "name": "ipython",
    "version": 3
   },
   "file_extension": ".py",
   "mimetype": "text/x-python",
   "name": "python",
   "nbconvert_exporter": "python",
   "pygments_lexer": "ipython3",
   "version": "3.10.9"
  }
 },
 "nbformat": 4,
 "nbformat_minor": 5
}
