{
 "cells": [
  {
   "cell_type": "markdown",
   "id": "13fd5108",
   "metadata": {},
   "source": [
    "## Q1. What is the purpose of the try statement?"
   ]
  },
  {
   "cell_type": "markdown",
   "id": "42b1aa23",
   "metadata": {},
   "source": [
    "The try statement in Python is used to enclose a block of code that may raise an exception during execution. The purpose of the try statement is to provide a way to handle exceptions and prevent them from causing the program to terminate abruptly.\n",
    "\n",
    "The try statement works by attempting to execute the code within the try block. If an exception is raised during the execution of the try block, the program will immediately jump to the except block, skipping any remaining code in the try block. The except block is then executed, allowing the program to catch and handle the exception."
   ]
  },
  {
   "cell_type": "markdown",
   "id": "5e159af4",
   "metadata": {},
   "source": [
    "## Q2. What are the two most popular try statement variations?"
   ]
  },
  {
   "cell_type": "markdown",
   "id": "f90ac35c",
   "metadata": {},
   "source": [
    "try/except statement: The try/except statement is used to catch and handle specific exceptions that may occur during the execution of a block of code. It consists of a try block that contains the code that may raise an exception, followed by one or more except blocks that specify the type of exception to catch and the code to handle the exception.\n",
    "\n",
    "try:\n",
    "    # code that may raise an exception\n",
    "except SomeException:\n",
    "    # code to handle the SomeException\n",
    "except AnotherException:\n",
    "    # code to handle the AnotherException\n",
    "    \n",
    "try/finally statement: The try/finally statement is used to ensure that a block of code is always executed, regardless of whether or not an exception is raised during its execution. It consists of a try block that contains the code that may raise an exception, followed by a finally block that contains the code that should be executed regardless of whether or not an exception is raised. \n",
    "\n",
    "try:\n",
    "    # code that may raise an exception\n",
    "finally:\n",
    "    # code that will always be executed"
   ]
  },
  {
   "cell_type": "markdown",
   "id": "102e3480",
   "metadata": {},
   "source": [
    "## Q3. What is the purpose of the raise statement?"
   ]
  },
  {
   "cell_type": "markdown",
   "id": "56702759",
   "metadata": {},
   "source": [
    "The raise statement in Python is used to raise an exception explicitly during the execution of a program. The purpose of the raise statement is to signal that an error or exceptional condition has occurred, and to provide information about the error to the program and/or the user.\n",
    "\n",
    "try:\n",
    "    # code that may raise an exception\n",
    "except SomeException as e:\n",
    "    # code to handle the exception\n",
    "    raise"
   ]
  },
  {
   "cell_type": "markdown",
   "id": "324cbf34",
   "metadata": {},
   "source": [
    "## Q4. What does the assert statement do, and what other statement is it like?"
   ]
  },
  {
   "cell_type": "markdown",
   "id": "5ad6ddd2",
   "metadata": {},
   "source": [
    "The assert statement in Python is used to check whether a condition is true during the execution of a program. If the condition is true, the program continues to execute normally. If the condition is false, the assert statement raises an AssertionError exception with an optional error message.\n",
    "\n",
    "assert condition, error_message\n",
    "\n",
    "x = 5\n",
    "assert x == 5, \"x is not equal to 5\""
   ]
  },
  {
   "cell_type": "markdown",
   "id": "5abc7e73",
   "metadata": {},
   "source": [
    "## Q5. What is the purpose of the with/as argument, and what other statement is it like?"
   ]
  },
  {
   "cell_type": "markdown",
   "id": "7a9114ac",
   "metadata": {},
   "source": [
    "The purpose of the with/as statement is to ensure that a resource is properly acquired and released, even if an exception is raised during the execution of the program.\n",
    "\n",
    "with open(\"example.txt\", \"r\") as file:\n",
    "    # code that uses the file"
   ]
  },
  {
   "cell_type": "code",
   "execution_count": null,
   "id": "48342ad4",
   "metadata": {},
   "outputs": [],
   "source": []
  }
 ],
 "metadata": {
  "kernelspec": {
   "display_name": "Python 3 (ipykernel)",
   "language": "python",
   "name": "python3"
  },
  "language_info": {
   "codemirror_mode": {
    "name": "ipython",
    "version": 3
   },
   "file_extension": ".py",
   "mimetype": "text/x-python",
   "name": "python",
   "nbconvert_exporter": "python",
   "pygments_lexer": "ipython3",
   "version": "3.10.9"
  }
 },
 "nbformat": 4,
 "nbformat_minor": 5
}
