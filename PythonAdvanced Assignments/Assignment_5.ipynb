{
 "cells": [
  {
   "cell_type": "markdown",
   "id": "06516cc5",
   "metadata": {},
   "source": [
    "## Q1. What is the meaning of multiple inheritance"
   ]
  },
  {
   "cell_type": "markdown",
   "id": "b27bcb79",
   "metadata": {},
   "source": [
    "Multiple inheritance is a feature that allows a subclass to inherit from more than one parent class. This means that the subclass will have access to the attributes and methods of all of its parent classes, allowing for more flexible and modular code design."
   ]
  },
  {
   "cell_type": "markdown",
   "id": "fe9db27e",
   "metadata": {},
   "source": [
    "## Q2. What is the concept of delegation?"
   ]
  },
  {
   "cell_type": "markdown",
   "id": "2c82f2fd",
   "metadata": {},
   "source": [
    "Delegation is a design pattern where an object forwards or delegates a method call to another object. This allows the object to use the functionality of another object without having to implement the functionality itself."
   ]
  },
  {
   "cell_type": "markdown",
   "id": "4b988118",
   "metadata": {},
   "source": [
    "## Q3. What is the concept of composition?"
   ]
  },
  {
   "cell_type": "markdown",
   "id": "25f976d2",
   "metadata": {},
   "source": [
    "Composition is a design pattern where an object is made up of one or more other objects. Composition allows for objects to be composed of smaller, more specialized objects, rather than inheriting behavior from a parent class."
   ]
  },
  {
   "cell_type": "markdown",
   "id": "9104e4f3",
   "metadata": {},
   "source": [
    "## Q4. What are bound methods and how do we use them?"
   ]
  },
  {
   "cell_type": "markdown",
   "id": "af17e75e",
   "metadata": {},
   "source": [
    "A bound method is a method that is bound to an instance of a class. When a method is called on an instance of a class, it is automatically passed the instance as its first argument. This binding of the method to the instance is what makes it a bound method.\n",
    "\n",
    "\n",
    "class MyClass:\n",
    "    def __init__(self, value):\n",
    "        self.value = value\n",
    "\n",
    "    def add_value(self, other):\n",
    "        return self.value + other\n",
    "        \n",
    "my_instance = MyClass(10)\n",
    "result = my_instance.add_value(5)\n",
    "print(result)  # Output: 15"
   ]
  },
  {
   "cell_type": "markdown",
   "id": "0fa85bc2",
   "metadata": {},
   "source": [
    "## Q5. What is the purpose of pseudoprivate attributes?"
   ]
  },
  {
   "cell_type": "markdown",
   "id": "b082814f",
   "metadata": {},
   "source": [
    "Pseudoprivate attributes are designated by using double leading underscores (e.g., __attribute_name). These attributes are not truly private, as they can still be accessed and modified from outside the class using the name mangling feature of Python. However, the purpose of pseudoprivate attributes is to provide a way to avoid naming collisions with attributes defined in subclasses or by other modules.\n"
   ]
  },
  {
   "cell_type": "code",
   "execution_count": null,
   "id": "5cc8b472",
   "metadata": {},
   "outputs": [],
   "source": []
  },
  {
   "cell_type": "code",
   "execution_count": null,
   "id": "474ba2a4",
   "metadata": {},
   "outputs": [],
   "source": []
  }
 ],
 "metadata": {
  "kernelspec": {
   "display_name": "Python 3 (ipykernel)",
   "language": "python",
   "name": "python3"
  },
  "language_info": {
   "codemirror_mode": {
    "name": "ipython",
    "version": 3
   },
   "file_extension": ".py",
   "mimetype": "text/x-python",
   "name": "python",
   "nbconvert_exporter": "python",
   "pygments_lexer": "ipython3",
   "version": "3.10.9"
  }
 },
 "nbformat": 4,
 "nbformat_minor": 5
}
