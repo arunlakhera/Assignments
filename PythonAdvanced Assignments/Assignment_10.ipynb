{
 "cells": [
  {
   "cell_type": "markdown",
   "id": "e0f6d514",
   "metadata": {},
   "source": [
    "## Q1. What is the difference between __getattr__ and __getattribute__?"
   ]
  },
  {
   "cell_type": "markdown",
   "id": "257e24e4",
   "metadata": {},
   "source": [
    "getattr is used to retrieve the value of an attribute of an object given its name as a string. If the attribute does not exist, we can specify a default value to return instead. \n",
    "\n",
    "class MyClass:\n",
    "    def __init__(self, x):\n",
    "        self.x = x\n",
    "\n",
    "my_object = MyClass(42)\n",
    "attr_value = getattr(my_object, 'x', None)\n",
    "\n",
    "getattribute is called for every attribute access on an object, providing a way to customize the behavior of attribute access. It is typically used for implementing advanced attribute access patterns, such as lazy evaluation or caching of attribute values\n",
    "\n",
    "class MyClass:\n",
    "    def __init__(self, x):\n",
    "        self.x = x\n",
    "    \n",
    "    def __getattribute__(self, name):\n",
    "        if name == 'x':\n",
    "            print('Getting x attribute')\n",
    "        return object.__getattribute__(self, name)\n",
    "\n",
    "my_object = MyClass(42)\n",
    "attr_value = my_object.x"
   ]
  },
  {
   "cell_type": "markdown",
   "id": "59a41e96",
   "metadata": {},
   "source": [
    "## Q2. What is the difference between properties and descriptors?"
   ]
  },
  {
   "cell_type": "markdown",
   "id": "2aad867d",
   "metadata": {},
   "source": [
    "Properties are a high-level language feature that allows you to define methods that are accessed like attributes. They are implemented using the @property decorator and can be used to customize attribute access by defining getter, setter, and deleter methods for an attribute. \n",
    "\n",
    "class MyClass:\n",
    "    def __init__(self, x):\n",
    "        self._x = x\n",
    "    \n",
    "    @property\n",
    "    def x(self):\n",
    "        return self._x\n",
    "    \n",
    "    @x.setter\n",
    "    def x(self, value):\n",
    "        self._x = value * 2\n",
    "\n",
    "my_object = MyClass(42)\n",
    "attr_value = my_object.x  # calls the getter method\n",
    "my_object.x = 21  # calls the setter method\n",
    "\n",
    "Descriptors, on the other hand, are a lower-level language feature that allows you to customize attribute access by defining specialized objects that can be used as attributes. They are implemented using the descriptor protocol, which involves defining __get__, __set__, and __delete__ methods for a descriptor object. \n",
    "\n",
    "class DoubleValue:\n",
    "    def __get__(self, instance, owner):\n",
    "        return instance._x * 2\n",
    "    \n",
    "    def __set__(self, instance, value):\n",
    "        instance._x = value / 2\n",
    "\n",
    "class MyClass:\n",
    "    def __init__(self, x):\n",
    "        self._x = x\n",
    "        self.x = DoubleValue()\n",
    "\n",
    "my_object = MyClass(42)\n",
    "attr_value = my_object.x  # calls the __get__ method\n",
    "my_object.x = 21  # calls the __set__ method"
   ]
  },
  {
   "cell_type": "markdown",
   "id": "125c01bf",
   "metadata": {},
   "source": [
    "## Q3. What are the key differences in functionality between __getattr__ and __getattribute__, as well as properties and descriptors?"
   ]
  },
  {
   "cell_type": "markdown",
   "id": "1f7677b9",
   "metadata": {},
   "source": [
    "In terms of functionality, getattr is simpler and is used to retrieve the value of an attribute by name, whereas getattribute provides a way to customize the behavior of attribute access for every attribute access on an object.\n",
    "\n",
    "In terms of functionality, properties are simpler and more limited than descriptors. They provide a way to define getter, setter, and deleter methods for an attribute using a simple syntax, whereas descriptors provide more control over attribute access by defining specialized objects that can be used as attributes."
   ]
  },
  {
   "cell_type": "code",
   "execution_count": null,
   "id": "c4bdcdb1",
   "metadata": {},
   "outputs": [],
   "source": []
  }
 ],
 "metadata": {
  "kernelspec": {
   "display_name": "Python 3 (ipykernel)",
   "language": "python",
   "name": "python3"
  },
  "language_info": {
   "codemirror_mode": {
    "name": "ipython",
    "version": 3
   },
   "file_extension": ".py",
   "mimetype": "text/x-python",
   "name": "python",
   "nbconvert_exporter": "python",
   "pygments_lexer": "ipython3",
   "version": "3.10.9"
  }
 },
 "nbformat": 4,
 "nbformat_minor": 5
}
