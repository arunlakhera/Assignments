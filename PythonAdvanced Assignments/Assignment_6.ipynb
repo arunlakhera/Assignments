{
 "cells": [
  {
   "cell_type": "markdown",
   "id": "d0b74f06",
   "metadata": {},
   "source": [
    "## Q1. Describe three applications for exception processing."
   ]
  },
  {
   "cell_type": "markdown",
   "id": "956656d4",
   "metadata": {},
   "source": [
    "The three applications for exception processing in Python are:\n",
    "\n",
    "Error handling: When a program encounters an error, it can raise an exception to signal an error condition. The exception can then be caught and handled by the program, allowing it to recover gracefully from the error. For example, if a program needs to open a file, it can use exception handling to catch and handle any file I/O errors that may occur.\n",
    "\n",
    "Resource management: Another application of exception processing is resource management. When a program uses external resources such as files, network connections, or database connections, it needs to ensure that these resources are properly managed and released when they are no longer needed. Exception handling can be used to catch and handle errors that may occur during resource allocation or deallocation, ensuring that resources are properly managed and released.\n",
    "\n",
    "Program flow control: A third application of exception processing is program flow control. Exceptions can be used to change the flow of a program when certain conditions are met. For example, a program may use exceptions to implement a retry mechanism when a network operation fails, or to exit a loop when a particular condition is met."
   ]
  },
  {
   "cell_type": "markdown",
   "id": "b29d5840",
   "metadata": {},
   "source": [
    "## Q2. What happens if you don't do something extra to treat an exception?"
   ]
  },
  {
   "cell_type": "markdown",
   "id": "c4f3eb23",
   "metadata": {},
   "source": [
    "It will result in an error message being printed to the console, and the program will terminate with a traceback. The traceback will show the location in the code where the exception occurred, as well as the type of the exception and any additional information that may be available about the error."
   ]
  },
  {
   "cell_type": "markdown",
   "id": "31bc7c95",
   "metadata": {},
   "source": [
    "## Q3. What are your options for recovering from an exception in your script?"
   ]
  },
  {
   "cell_type": "markdown",
   "id": "af68029c",
   "metadata": {},
   "source": [
    "Catch and handle the exception: One option for recovering from an exception is to catch and handle the exception in the code. This can be done using a try/except block, where the code that may raise an exception is placed in the try block, and the code to handle the exception is placed in the except block.\n",
    "\n",
    "try:\n",
    "    # code that may raise an exception\n",
    "except SomeException:\n",
    "    # code to handle the exception\n",
    "    \n",
    "\n",
    "Gracefully exit the program: In some cases, it may not be possible or desirable to recover from an exception. In these cases, it may be better to gracefully exit the program and provide an informative error message to the user. This can be done using the sys.exit() function, which terminates the program with a specified exit code. \n",
    "\n",
    "import sys\n",
    "\n",
    "try:\n",
    "    # code that may raise an exception\n",
    "except SomeException:\n",
    "    print(\"An error occurred: \", sys.exc_info()[1])\n",
    "    sys.exit(1)\n",
    "    \n",
    "\n",
    "Retry the operation: In some cases, it may be possible to recover from an exception by retrying the operation that caused the exception. For example, if a network operation fails due to a temporary network error, the program may be able to retry the operation after a short delay. This can be implemented using a while loop that retries the operation until it succeeds or a maximum number of retries is reached.\n",
    "\n",
    "import time\n",
    "\n",
    "retry_count = 0\n",
    "while retry_count < 3:\n",
    "    try:\n",
    "        # code that may raise an exception\n",
    "        break\n",
    "    except SomeException:\n",
    "        retry_count += 1\n",
    "        time.sleep(1)\n",
    "else:\n",
    "    print(\"Maximum number of retries reached.\")"
   ]
  },
  {
   "cell_type": "markdown",
   "id": "f640159b",
   "metadata": {},
   "source": [
    "## Q4. Describe two methods for triggering exceptions in your script."
   ]
  },
  {
   "cell_type": "markdown",
   "id": "e2612408",
   "metadata": {},
   "source": [
    "Using the raise statement: The simplest way to raise an exception in Python is to use the raise statement. The raise statement can be used to raise any exception object, including built-in exceptions like ValueError, TypeError, and AssertionError, or custom exceptions that you define yourself. \n",
    "\n",
    "def divide(a, b):\n",
    "    if b == 0:\n",
    "        raise ValueError(\"Cannot divide by zero\")\n",
    "    return a / b\n",
    "\n",
    "result = divide(10, 0)\n",
    "\n",
    "Using built-in functions or methods that raise exceptions: Another common way to trigger exceptions in Python is to use built-in functions or methods that raise exceptions under certain conditions. For example, the built-in open() function raises a FileNotFoundError exception if the specified file cannot be found, and the int() function raises a ValueError exception if the specified string cannot be converted to an integer. \n",
    "\n",
    "try:\n",
    "    file = open(\"nonexistent_file.txt\", \"r\")\n",
    "except FileNotFoundError:\n",
    "    print(\"The specified file could not be found.\")"
   ]
  },
  {
   "cell_type": "markdown",
   "id": "7a7d7ac2",
   "metadata": {},
   "source": [
    "## Q5. Identify two methods for specifying actions to be executed at termination time, regardless of whether or not an exception exists."
   ]
  },
  {
   "cell_type": "markdown",
   "id": "d2466326",
   "metadata": {},
   "source": [
    "Using a finally block: One way to specify cleanup actions in Python is to use a finally block. A finally block is a block of code that is executed regardless of whether or not an exception is raised in a try block. This makes it a useful tool for performing cleanup actions, such as releasing resources or closing files, that need to be done regardless of whether or not an exception occurs. \n",
    "\n",
    "try:\n",
    "    # code that may raise an exception\n",
    "finally:\n",
    "    # cleanup code that will always be executed\n",
    "\n",
    "Using the atexit module: Another way to specify cleanup actions in Python is to use the atexit module. The atexit module provides a way to register functions that should be called when the program exits normally, either by reaching the end of the program or by being terminated by a signal. This makes it a useful tool for performing cleanup actions that need to be done when the program exits, regardless of whether or not an exception occurs.\n",
    "\n",
    "import atexit\n",
    "\n",
    "def cleanup():\n",
    "    # cleanup code that will always be executed\n",
    "\n",
    "atexit.register(cleanup)"
   ]
  },
  {
   "cell_type": "code",
   "execution_count": null,
   "id": "5f4355e4",
   "metadata": {},
   "outputs": [],
   "source": []
  }
 ],
 "metadata": {
  "kernelspec": {
   "display_name": "Python 3 (ipykernel)",
   "language": "python",
   "name": "python3"
  },
  "language_info": {
   "codemirror_mode": {
    "name": "ipython",
    "version": 3
   },
   "file_extension": ".py",
   "mimetype": "text/x-python",
   "name": "python",
   "nbconvert_exporter": "python",
   "pygments_lexer": "ipython3",
   "version": "3.10.9"
  }
 },
 "nbformat": 4,
 "nbformat_minor": 5
}
