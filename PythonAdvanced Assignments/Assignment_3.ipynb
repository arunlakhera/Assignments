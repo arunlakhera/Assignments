{
 "cells": [
  {
   "cell_type": "markdown",
   "id": "b851f8a6",
   "metadata": {},
   "source": [
    "## 1. What is the concept of an abstract superclass?"
   ]
  },
  {
   "cell_type": "markdown",
   "id": "c161a8f0",
   "metadata": {},
   "source": [
    "An abstract superclass is a class that is defined to provide a common interface and behavior for a group of related classes, but is not intended to be instantiated on its own. Instead, it serves as a template or blueprint for its subclasses, which are expected to provide their own implementation of its abstract methods.\n",
    "\n",
    "In Python, abstract superclasses are typically defined using the abc module, which provides the ABC class and the abstractmethod decorator. The ABC class is a special class that is used as a base class for abstract superclasses, and the abstractmethod decorator is used to mark methods as abstract, indicating that they must be implemented by the subclasses."
   ]
  },
  {
   "cell_type": "markdown",
   "id": "e55b037d",
   "metadata": {},
   "source": [
    "## 2. What happens when a class statement's top level contains a basic assignment statement?"
   ]
  },
  {
   "cell_type": "markdown",
   "id": "a2f5fadf",
   "metadata": {},
   "source": [
    "When a class statement's top level contains a basic assignment statement, the assignment creates a class-level attribute.\n",
    "\n",
    "In Python, class attributes are attributes that are shared by all instances of a class. They are defined at the class level, outside of any method, and can be accessed using the class name or any instance of the class.\n",
    "\n",
    "class MyClass: \n",
    "    x = 10\n",
    "\n",
    "    def __init__(self, y):\n",
    "        self.y = y"
   ]
  },
  {
   "cell_type": "markdown",
   "id": "c8302efe",
   "metadata": {},
   "source": [
    "## 3. Why does a class need to manually call a superclass's __init__ method?"
   ]
  },
  {
   "cell_type": "markdown",
   "id": "643d7f1c",
   "metadata": {},
   "source": [
    "In Python, a class needs to manually call a superclass's __init__() method in order to initialize the superclass's attributes and any other behavior that is defined in the superclass's __init__() method."
   ]
  },
  {
   "cell_type": "markdown",
   "id": "3e305cd7",
   "metadata": {},
   "source": [
    "## 4. How can you augment, instead of completely replacing, an inherited method?"
   ]
  },
  {
   "cell_type": "markdown",
   "id": "325ab8a8",
   "metadata": {},
   "source": [
    "We can augment, or extend, an inherited method by calling the superclass's implementation of the method using the super() function and then adding your own code to modify or extend the behavior.\n",
    "\n",
    "class Animal:\n",
    "    def speak(self):\n",
    "        print(\"The animal speaks.\")\n",
    "\n",
    "class Dog(Animal):\n",
    "    def speak(self):\n",
    "        super().speak()\n",
    "        print(\"The dog barks.\")"
   ]
  },
  {
   "cell_type": "code",
   "execution_count": null,
   "id": "88f9aef8",
   "metadata": {},
   "outputs": [],
   "source": [
    "## 5. How is the local scope of a class different from that of a function?"
   ]
  },
  {
   "cell_type": "code",
   "execution_count": null,
   "id": "38bee73d",
   "metadata": {},
   "outputs": [],
   "source": []
  },
  {
   "cell_type": "code",
   "execution_count": null,
   "id": "69f645be",
   "metadata": {},
   "outputs": [],
   "source": []
  },
  {
   "cell_type": "code",
   "execution_count": null,
   "id": "cda82862",
   "metadata": {},
   "outputs": [],
   "source": []
  }
 ],
 "metadata": {
  "kernelspec": {
   "display_name": "Python 3 (ipykernel)",
   "language": "python",
   "name": "python3"
  },
  "language_info": {
   "codemirror_mode": {
    "name": "ipython",
    "version": 3
   },
   "file_extension": ".py",
   "mimetype": "text/x-python",
   "name": "python",
   "nbconvert_exporter": "python",
   "pygments_lexer": "ipython3",
   "version": "3.10.9"
  }
 },
 "nbformat": 4,
 "nbformat_minor": 5
}
