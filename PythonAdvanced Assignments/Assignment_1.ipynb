{
 "cells": [
  {
   "cell_type": "markdown",
   "id": "c98d2471",
   "metadata": {},
   "source": [
    "## Q1. What is the purpose of Python's OOP?"
   ]
  },
  {
   "cell_type": "markdown",
   "id": "302d3453",
   "metadata": {},
   "source": [
    "- Object Oriented Programming (OOP) provides a way for developers to organize and structure their code in modules that can be reused.\n",
    "- It follows the concept of classes and objects.\n",
    "- Classes contains attributes and methods.\n",
    "- Objects are instances of classes that encapsulate data and behavior."
   ]
  },
  {
   "cell_type": "markdown",
   "id": "e7165541",
   "metadata": {},
   "source": [
    "## Q2. Where does an inheritance search look for an attribute?"
   ]
  },
  {
   "cell_type": "markdown",
   "id": "7e5004df",
   "metadata": {},
   "source": [
    "First in the instance object then in the class the instance was created from, then in all the higher superclasses"
   ]
  },
  {
   "cell_type": "markdown",
   "id": "10c70fd1",
   "metadata": {},
   "source": [
    "## Q3. How do you distinguish between a class object and an instance object?"
   ]
  },
  {
   "cell_type": "markdown",
   "id": "3eff34a9",
   "metadata": {},
   "source": [
    "Class objects represent the class itself, while instance objects represent individual instances of the class."
   ]
  },
  {
   "cell_type": "markdown",
   "id": "ab377559",
   "metadata": {},
   "source": [
    "## Q4. What makes the first argument in a class’s method function special?"
   ]
  },
  {
   "cell_type": "markdown",
   "id": "520d63f9",
   "metadata": {},
   "source": [
    "The calling process is automatic while the receiving process is not. This is the reason the first parameter of a function in class must be the object iteself."
   ]
  },
  {
   "cell_type": "markdown",
   "id": "9ccb82ea",
   "metadata": {},
   "source": [
    "## Q5. What is the purpose of the __init__ method?"
   ]
  },
  {
   "cell_type": "markdown",
   "id": "f8492539",
   "metadata": {},
   "source": [
    "The init method lets the class initialize the objects attributes."
   ]
  },
  {
   "cell_type": "markdown",
   "id": "8fbe334e",
   "metadata": {},
   "source": [
    "## Q6. What is the process for creating a class instance?"
   ]
  },
  {
   "cell_type": "markdown",
   "id": "40c915cf",
   "metadata": {},
   "source": [
    "To create instances of a class, we call the class using class name and pass in the arguments its __init__ method accepts."
   ]
  },
  {
   "cell_type": "markdown",
   "id": "560334b0",
   "metadata": {},
   "source": [
    "## Q7. What is the process for creating a class?"
   ]
  },
  {
   "cell_type": "markdown",
   "id": "205bb455",
   "metadata": {},
   "source": [
    "- Classes are created using class keyword.\n",
    "- A colon (:) is used after the class name.\n",
    "- The class can contain attributes and methods.\n",
    "- Attributes that apply to the whole classes are defined first and are called attributes.\n",
    "- Attributes can be accessed using the dot(.)"
   ]
  },
  {
   "cell_type": "markdown",
   "id": "33073a4e",
   "metadata": {},
   "source": [
    "## Q8. How would you define the superclasses of a class?"
   ]
  },
  {
   "cell_type": "markdown",
   "id": "ca9c8365",
   "metadata": {},
   "source": [
    "The class from which the subclass is derived is called a superclass(parent class) and the class that is derived from another class is called subclass. The superclasses is also known as the parent class or base class.\n",
    "\n",
    "example Vehicle is the Superclass and its subclasses are Car, Truck and Motorcycle."
   ]
  },
  {
   "cell_type": "code",
   "execution_count": null,
   "id": "690b525f",
   "metadata": {},
   "outputs": [],
   "source": []
  }
 ],
 "metadata": {
  "kernelspec": {
   "display_name": "Python 3 (ipykernel)",
   "language": "python",
   "name": "python3"
  },
  "language_info": {
   "codemirror_mode": {
    "name": "ipython",
    "version": 3
   },
   "file_extension": ".py",
   "mimetype": "text/x-python",
   "name": "python",
   "nbconvert_exporter": "python",
   "pygments_lexer": "ipython3",
   "version": "3.10.9"
  }
 },
 "nbformat": 4,
 "nbformat_minor": 5
}
