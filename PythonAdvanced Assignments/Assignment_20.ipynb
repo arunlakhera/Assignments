{
 "cells": [
  {
   "cell_type": "markdown",
   "id": "b7b0dc8e",
   "metadata": {},
   "source": [
    "## 1. Compare and contrast the float and Decimal classes' benefits and drawbacks."
   ]
  },
  {
   "cell_type": "markdown",
   "id": "dc7ae8d4",
   "metadata": {},
   "source": [
    "The float class is fast and convenient for general-purpose programming, while the Decimal class provides high precision and accuracy for decimal calculations at the expense of performance and convenience."
   ]
  },
  {
   "cell_type": "markdown",
   "id": "4f3ca8fc",
   "metadata": {},
   "source": [
    "## 2. Decimal('1.200') and Decimal('1.2') are two objects to consider. In what sense are these the same object? Are these just two ways of representing the exact same value, or do they correspond to different internal states?"
   ]
  },
  {
   "cell_type": "markdown",
   "id": "59526857",
   "metadata": {},
   "source": [
    "Decimal('1.200') and Decimal('1.2') are different Decimal objects that represent the same value with the same internal state, but they have different string representations. When comparing their values, they are considered the same. These two objects are not the same object in memory, but they correspond to the same internal state and have the same value when compared using the == operator."
   ]
  },
  {
   "cell_type": "markdown",
   "id": "3f516826",
   "metadata": {},
   "source": [
    "## 3. What happens if the equality of Decimal('1.200') and Decimal('1.2') is checked?"
   ]
  },
  {
   "cell_type": "markdown",
   "id": "5bc1da3e",
   "metadata": {},
   "source": [
    "If the equality of Decimal('1.200') and Decimal('1.2') is checked using the == operator, the result will be True. This is because the Decimal class compares objects based on their values, not their string representations."
   ]
  },
  {
   "cell_type": "markdown",
   "id": "44d12e13",
   "metadata": {},
   "source": [
    "## 4. Why is it preferable to start a Decimal object with a string rather than a floating-point value?"
   ]
  },
  {
   "cell_type": "markdown",
   "id": "5f025075",
   "metadata": {},
   "source": [
    "It is preferable to start a Decimal object with a string rather than a floating-point value because floating-point values can suffer from rounding errors and imprecisions, while Decimal objects provide exact decimal calculations with high precision and accuracy."
   ]
  },
  {
   "cell_type": "markdown",
   "id": "005f58a1",
   "metadata": {},
   "source": [
    "## 5. In an arithmetic phrase, how simple is it to combine Decimal objects with integers?"
   ]
  },
  {
   "cell_type": "markdown",
   "id": "e83abe90",
   "metadata": {},
   "source": [
    "Combining Decimal objects with integers in arithmetic operations is simple and can be done using the same arithmetic operators that are used with integers or floating-point numbers. The result of the arithmetic expression will be a Decimal object."
   ]
  },
  {
   "cell_type": "markdown",
   "id": "ee7c3271",
   "metadata": {},
   "source": [
    "## 6. Can Decimal objects and floating-point values be combined easily?"
   ]
  },
  {
   "cell_type": "markdown",
   "id": "f7603bac",
   "metadata": {},
   "source": [
    "Combining Decimal objects and floating-point values in arithmetic operations is possible, but it requires some care to avoid rounding errors and inaccuracies. It is recommended to create the Decimal object from a string representation of the floating-point value to ensure accuracy and precision in the calculation."
   ]
  },
  {
   "cell_type": "markdown",
   "id": "d637d03b",
   "metadata": {},
   "source": [
    "## 7. Using the Fraction class but not the Decimal class, give an example of a quantity that can be expressed with absolute precision."
   ]
  },
  {
   "cell_type": "markdown",
   "id": "b4755a35",
   "metadata": {},
   "source": [
    "The Fraction class in Python allows for exact rational arithmetic, and can be used to represent quantities with absolute precision that can be expressed as a ratio of two integers."
   ]
  },
  {
   "cell_type": "markdown",
   "id": "a253462f",
   "metadata": {},
   "source": [
    "## 8. Describe a quantity that can be accurately expressed by the Decimal or Fraction classes but not by a floating-point value."
   ]
  },
  {
   "cell_type": "markdown",
   "id": "366d2959",
   "metadata": {},
   "source": [
    "The Decimal and Fraction classes can accurately represent quantities that cannot be represented exactly by a floating-point value, such as recurring decimals or exact rational numbers, making them more suitable for applications that require exact calculations and precision.\n",
    "\n",
    "from decimal import Decimal\n",
    "\n",
    "from fractions import Fraction\n",
    "\n",
    "# using floating-point numbers\n",
    "x = 1 / 3\n",
    "\n",
    "print(x)   # Output: 0.3333333333333333\n",
    "\n",
    "# using Decimal\n",
    "y = Decimal('1') / Decimal('3')\n",
    "\n",
    "print(y)   # Output: 0.3333333333333333333333333333\n",
    "\n",
    "# using Fraction\n",
    "z = Fraction(1, 3)\n",
    "\n",
    "print(z)   # Output: 1/3"
   ]
  },
  {
   "cell_type": "markdown",
   "id": "c46dd5cc",
   "metadata": {},
   "source": [
    "## Q9.Consider the following two fraction objects: Fraction(1, 2) and Fraction(1, 2). (5, 10). Is the internal state of these two objects the same? Why do you think that is?"
   ]
  },
  {
   "cell_type": "markdown",
   "id": "f9d91e1a",
   "metadata": {},
   "source": [
    "The Fraction objects Fraction(1, 2) and Fraction(5, 10) represent the same fraction, and their internal state should be the same, as they both store the same numerator and denominator."
   ]
  },
  {
   "cell_type": "markdown",
   "id": "a1286605",
   "metadata": {},
   "source": [
    "## Q10. How do the Fraction class and the integer type (int) relate to each other? Containment or inheritance?\n"
   ]
  },
  {
   "cell_type": "markdown",
   "id": "7d529e9a",
   "metadata": {},
   "source": [
    "The Fraction class and the int type are not related through inheritance or containment, but Fraction objects can be created from int objects by defining the denominator as 1."
   ]
  }
 ],
 "metadata": {
  "kernelspec": {
   "display_name": "Python 3 (ipykernel)",
   "language": "python",
   "name": "python3"
  },
  "language_info": {
   "codemirror_mode": {
    "name": "ipython",
    "version": 3
   },
   "file_extension": ".py",
   "mimetype": "text/x-python",
   "name": "python",
   "nbconvert_exporter": "python",
   "pygments_lexer": "ipython3",
   "version": "3.10.9"
  }
 },
 "nbformat": 4,
 "nbformat_minor": 5
}
